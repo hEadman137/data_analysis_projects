{
 "cells": [
  {
   "cell_type": "markdown",
   "id": "5d0142e7",
   "metadata": {},
   "source": [
    "# Исследование данных сервиса аренды самокатов GoFast."
   ]
  },
  {
   "cell_type": "markdown",
   "id": "d7dd616e",
   "metadata": {},
   "source": [
    "В нашем распоряжении данные сервиса GoFast, а именно информация о некоторых пользователях из нескольких городов, а также об их поездках. В ходе исследования, в первую очередь необходимо будет предобработать данные, исследовать основные факторы в данных и проверить несколько гипотез, которые серьезно могут повлиять на качество сервиса GoFast.\n",
    "\n",
    "**Цель исследования:**\n",
    "1. Определить:\n",
    "- Частоту встречаемости городов. \n",
    "- Соотношение пользователей с подпиской и без подписки. \n",
    "- Возраст пользователей.\n",
    "- Расстояние, которое пользователь преодолевает за одну поездку.\n",
    "- Продолжительность поездок.\n",
    "\n",
    "2. Подсчитать выручки с одного пользователя ежемесячно.\n",
    "\n",
    "\n",
    "3. Проверить гипотезы:\n",
    "- Тратят ли пользователи с подпиской больше времени на поездки? \n",
    "- Можно ли сказать, что расстояние, которое проезжают пользователи с подпиской за одну поездку, не превышает 3130 метров?\n",
    "- Будет ли помесячная выручка от пользователей с подпиской по месяцам выше, чем выручка от пользователей без подписки?\n",
    "\n",
    "\n",
    "4. Выяснить на основе экспериментов, проведенных отделом маркетинга, важную информацию:\n",
    "- Какое минимальное количество промокодов нужно разослать, чтобы вероятность не выполнить план (10%+ продления подписки) была примерно 5%?\n",
    "- Вероятность того, что уведомление откроют не более 399,5 тыс. из 1 млн. пользователей?\n",
    "\n",
    "\n",
    "\n",
    "**Ход исследования:**\n",
    "\n",
    "1. В первую очередь, необходимо выгрузить все данные. Нам предоставляется три датафрейма: data_users - основная информация о пользователях, data_rides - информация о поездках и data_subs - основные данные о подписках.\n",
    "\n",
    "\n",
    "2. Вторым действием, необходимо предобработать данные - проверка наличия пропущенных значений и дубликатов в датафреймах. Также, нужно привести столбец date к типу данных 'datetime64' и создать новый столбец с номером месяца на основе столбца date. Все предобработанные данные пригодятся в дальнейшем для исследования.\n",
    "\n",
    "\n",
    "3. Третьим действием, на основе предобработанных данных, мы исследуем основную информацию о пользователях и поездках (Цель исследования, пункт №1).\n",
    "\n",
    "\n",
    "4. Четвертым действием, нам необходимо объединить данные о пользователях, поездках и подписках в один датафрейм. Также, стоит создать ещё два датафрейма, в которых будут хранится данные о пользователях с подпиской и без, на основе этих датафреймов визуализировать информацию о расстоянии и времени поездок для пользователей обеих категорий.\n",
    "\n",
    "\n",
    "5. Пятым действием, на основе объединенных данных из пункта №4 - подсчитать выручку.\n",
    "\n",
    "\n",
    "6. Шестым действием, с помощью Python проверим основные гипотезы, влияющие на качество и прибыльность продукта (На основе цели исследования - пункт №3).\n",
    "\n",
    "\n",
    "7. Седьмым действиейм, с помощью аппроксимации построим примерный график распределения и оценим вероятность того, что уведомление откроют не более \n",
    "399,5 тыс. из 1 млн. пользователей.\n"
   ]
  },
  {
   "cell_type": "markdown",
   "id": "c42cbe00",
   "metadata": {},
   "source": [
    "## Шаг 1. Загрузка данных"
   ]
  },
  {
   "cell_type": "markdown",
   "id": "776ffa0e",
   "metadata": {},
   "source": [
    "### Загрузка датафреймов."
   ]
  },
  {
   "cell_type": "markdown",
   "id": "8ce96e4b",
   "metadata": {},
   "source": [
    "1. Для того, чтобы в дальнейшем взаимодействовать с данными, выгрузим модули."
   ]
  },
  {
   "cell_type": "code",
   "execution_count": 1,
   "id": "21633609",
   "metadata": {},
   "outputs": [],
   "source": [
    "import pandas as pd\n",
    "import seaborn as sns\n",
    "import matplotlib.pyplot as plt\n",
    "import numpy as np\n",
    "from scipy import stats as st"
   ]
  },
  {
   "cell_type": "markdown",
   "id": "d03c91ec",
   "metadata": {},
   "source": [
    "2. С помощью метода read_csv() выгрузим все нужные данные."
   ]
  },
  {
   "cell_type": "code",
   "execution_count": 2,
   "id": "eff9f206",
   "metadata": {},
   "outputs": [],
   "source": [
    "data_users = pd.read_csv('/datasets/users_go.csv')\n",
    "data_rides = pd.read_csv('/datasets/rides_go.csv')\n",
    "data_subs = pd.read_csv('/datasets/subscriptions_go.csv')"
   ]
  },
  {
   "cell_type": "markdown",
   "id": "798fc45a",
   "metadata": {},
   "source": [
    "#### Документация о данных из датафреймов."
   ]
  },
  {
   "cell_type": "markdown",
   "id": "6e30c9af",
   "metadata": {},
   "source": [
    "1. Датафрейм **data_users** - основная информация о пользователях.\n",
    "- **user_id** -\tуникальный идентификатор пользователя.\n",
    "- **name** -\tимя пользователя.\n",
    "- **age** -\tвозраст.\n",
    "- **city** - город.\n",
    "- **subscription_type** - тип подписки (free, ultra).\n",
    "\n",
    "\n",
    "2. Датафрейм **data_rides** - основная информация о поездках пользователя.\n",
    "- **user_id** - уникальный идентификатор пользователя.\n",
    "- **distance** -\tрасстояние, которое пользователь проехал в текущей сессии (в метрах).\n",
    "- **duration** - продолжительность сессии (в минутах) — время с того момента, как пользователь нажал кнопку «Начать поездку» до момента, как он нажал кнопку «Завершить поездку».\n",
    "- **date** - дата совершения поездки.\n",
    "\n",
    "\n",
    "3. Датафрейм **data_subs** - основная информация о видах подписки.\n",
    "- **subscription_type** -\tтип подписки.\n",
    "- **minute_price** -\tстоимость одной минуты поездки по данной подписке&\n",
    "- **start_ride_price** - стоимость начала поездки.\n",
    "- **subscription_fee** - стоимость ежемесячного платежа"
   ]
  },
  {
   "cell_type": "markdown",
   "id": "4978a22a",
   "metadata": {},
   "source": [
    "#### Основная информация о датафрейме 'data_users'."
   ]
  },
  {
   "cell_type": "markdown",
   "id": "2d1c3ed9",
   "metadata": {},
   "source": [
    "1. Выведем первые пять и последние пять строк данного датафрейма."
   ]
  },
  {
   "cell_type": "code",
   "execution_count": 3,
   "id": "a179005d",
   "metadata": {
    "scrolled": true
   },
   "outputs": [
    {
     "data": {
      "text/html": [
       "<div>\n",
       "<style scoped>\n",
       "    .dataframe tbody tr th:only-of-type {\n",
       "        vertical-align: middle;\n",
       "    }\n",
       "\n",
       "    .dataframe tbody tr th {\n",
       "        vertical-align: top;\n",
       "    }\n",
       "\n",
       "    .dataframe thead th {\n",
       "        text-align: right;\n",
       "    }\n",
       "</style>\n",
       "<table border=\"1\" class=\"dataframe\">\n",
       "  <thead>\n",
       "    <tr style=\"text-align: right;\">\n",
       "      <th></th>\n",
       "      <th>user_id</th>\n",
       "      <th>name</th>\n",
       "      <th>age</th>\n",
       "      <th>city</th>\n",
       "      <th>subscription_type</th>\n",
       "    </tr>\n",
       "  </thead>\n",
       "  <tbody>\n",
       "    <tr>\n",
       "      <th>0</th>\n",
       "      <td>1</td>\n",
       "      <td>Кира</td>\n",
       "      <td>22</td>\n",
       "      <td>Тюмень</td>\n",
       "      <td>ultra</td>\n",
       "    </tr>\n",
       "    <tr>\n",
       "      <th>1</th>\n",
       "      <td>2</td>\n",
       "      <td>Станислав</td>\n",
       "      <td>31</td>\n",
       "      <td>Омск</td>\n",
       "      <td>ultra</td>\n",
       "    </tr>\n",
       "    <tr>\n",
       "      <th>2</th>\n",
       "      <td>3</td>\n",
       "      <td>Алексей</td>\n",
       "      <td>20</td>\n",
       "      <td>Москва</td>\n",
       "      <td>ultra</td>\n",
       "    </tr>\n",
       "    <tr>\n",
       "      <th>3</th>\n",
       "      <td>4</td>\n",
       "      <td>Константин</td>\n",
       "      <td>26</td>\n",
       "      <td>Ростов-на-Дону</td>\n",
       "      <td>ultra</td>\n",
       "    </tr>\n",
       "    <tr>\n",
       "      <th>4</th>\n",
       "      <td>5</td>\n",
       "      <td>Адель</td>\n",
       "      <td>28</td>\n",
       "      <td>Омск</td>\n",
       "      <td>ultra</td>\n",
       "    </tr>\n",
       "  </tbody>\n",
       "</table>\n",
       "</div>"
      ],
      "text/plain": [
       "   user_id        name  age            city subscription_type\n",
       "0        1        Кира   22          Тюмень             ultra\n",
       "1        2   Станислав   31            Омск             ultra\n",
       "2        3     Алексей   20          Москва             ultra\n",
       "3        4  Константин   26  Ростов-на-Дону             ultra\n",
       "4        5       Адель   28            Омск             ultra"
      ]
     },
     "execution_count": 3,
     "metadata": {},
     "output_type": "execute_result"
    }
   ],
   "source": [
    "data_users.head(5)"
   ]
  },
  {
   "cell_type": "code",
   "execution_count": 4,
   "id": "a51109b3",
   "metadata": {},
   "outputs": [
    {
     "data": {
      "text/html": [
       "<div>\n",
       "<style scoped>\n",
       "    .dataframe tbody tr th:only-of-type {\n",
       "        vertical-align: middle;\n",
       "    }\n",
       "\n",
       "    .dataframe tbody tr th {\n",
       "        vertical-align: top;\n",
       "    }\n",
       "\n",
       "    .dataframe thead th {\n",
       "        text-align: right;\n",
       "    }\n",
       "</style>\n",
       "<table border=\"1\" class=\"dataframe\">\n",
       "  <thead>\n",
       "    <tr style=\"text-align: right;\">\n",
       "      <th></th>\n",
       "      <th>user_id</th>\n",
       "      <th>name</th>\n",
       "      <th>age</th>\n",
       "      <th>city</th>\n",
       "      <th>subscription_type</th>\n",
       "    </tr>\n",
       "  </thead>\n",
       "  <tbody>\n",
       "    <tr>\n",
       "      <th>1560</th>\n",
       "      <td>829</td>\n",
       "      <td>Федор</td>\n",
       "      <td>29</td>\n",
       "      <td>Пятигорск</td>\n",
       "      <td>free</td>\n",
       "    </tr>\n",
       "    <tr>\n",
       "      <th>1561</th>\n",
       "      <td>809</td>\n",
       "      <td>Юрий</td>\n",
       "      <td>26</td>\n",
       "      <td>Сочи</td>\n",
       "      <td>free</td>\n",
       "    </tr>\n",
       "    <tr>\n",
       "      <th>1562</th>\n",
       "      <td>307</td>\n",
       "      <td>Ясмина</td>\n",
       "      <td>19</td>\n",
       "      <td>Краснодар</td>\n",
       "      <td>ultra</td>\n",
       "    </tr>\n",
       "    <tr>\n",
       "      <th>1563</th>\n",
       "      <td>47</td>\n",
       "      <td>Юрий</td>\n",
       "      <td>28</td>\n",
       "      <td>Тюмень</td>\n",
       "      <td>ultra</td>\n",
       "    </tr>\n",
       "    <tr>\n",
       "      <th>1564</th>\n",
       "      <td>1045</td>\n",
       "      <td>Артемий</td>\n",
       "      <td>28</td>\n",
       "      <td>Ростов-на-Дону</td>\n",
       "      <td>free</td>\n",
       "    </tr>\n",
       "  </tbody>\n",
       "</table>\n",
       "</div>"
      ],
      "text/plain": [
       "      user_id     name  age            city subscription_type\n",
       "1560      829    Федор   29       Пятигорск              free\n",
       "1561      809     Юрий   26            Сочи              free\n",
       "1562      307   Ясмина   19       Краснодар             ultra\n",
       "1563       47     Юрий   28          Тюмень             ultra\n",
       "1564     1045  Артемий   28  Ростов-на-Дону              free"
      ]
     },
     "execution_count": 4,
     "metadata": {},
     "output_type": "execute_result"
    }
   ],
   "source": [
    "data_users.tail(5)"
   ]
  },
  {
   "cell_type": "markdown",
   "id": "215125d8",
   "metadata": {},
   "source": [
    "2. С помощью метода describe() выведем основную информацию, связанную с числами вида 'int64'."
   ]
  },
  {
   "cell_type": "code",
   "execution_count": 5,
   "id": "41a5d7b9",
   "metadata": {},
   "outputs": [
    {
     "data": {
      "text/html": [
       "<div>\n",
       "<style scoped>\n",
       "    .dataframe tbody tr th:only-of-type {\n",
       "        vertical-align: middle;\n",
       "    }\n",
       "\n",
       "    .dataframe tbody tr th {\n",
       "        vertical-align: top;\n",
       "    }\n",
       "\n",
       "    .dataframe thead th {\n",
       "        text-align: right;\n",
       "    }\n",
       "</style>\n",
       "<table border=\"1\" class=\"dataframe\">\n",
       "  <thead>\n",
       "    <tr style=\"text-align: right;\">\n",
       "      <th></th>\n",
       "      <th>user_id</th>\n",
       "      <th>age</th>\n",
       "    </tr>\n",
       "  </thead>\n",
       "  <tbody>\n",
       "    <tr>\n",
       "      <th>count</th>\n",
       "      <td>1565</td>\n",
       "      <td>1565</td>\n",
       "    </tr>\n",
       "    <tr>\n",
       "      <th>mean</th>\n",
       "      <td>762</td>\n",
       "      <td>24</td>\n",
       "    </tr>\n",
       "    <tr>\n",
       "      <th>std</th>\n",
       "      <td>443</td>\n",
       "      <td>4</td>\n",
       "    </tr>\n",
       "    <tr>\n",
       "      <th>min</th>\n",
       "      <td>1</td>\n",
       "      <td>12</td>\n",
       "    </tr>\n",
       "    <tr>\n",
       "      <th>25%</th>\n",
       "      <td>378</td>\n",
       "      <td>22</td>\n",
       "    </tr>\n",
       "    <tr>\n",
       "      <th>50%</th>\n",
       "      <td>762</td>\n",
       "      <td>25</td>\n",
       "    </tr>\n",
       "    <tr>\n",
       "      <th>75%</th>\n",
       "      <td>1146</td>\n",
       "      <td>28</td>\n",
       "    </tr>\n",
       "    <tr>\n",
       "      <th>max</th>\n",
       "      <td>1534</td>\n",
       "      <td>43</td>\n",
       "    </tr>\n",
       "  </tbody>\n",
       "</table>\n",
       "</div>"
      ],
      "text/plain": [
       "       user_id   age\n",
       "count     1565  1565\n",
       "mean       762    24\n",
       "std        443     4\n",
       "min          1    12\n",
       "25%        378    22\n",
       "50%        762    25\n",
       "75%       1146    28\n",
       "max       1534    43"
      ]
     },
     "execution_count": 5,
     "metadata": {},
     "output_type": "execute_result"
    }
   ],
   "source": [
    "data_users.describe().astype('int64')"
   ]
  },
  {
   "cell_type": "markdown",
   "id": "a81d6ad1",
   "metadata": {},
   "source": [
    "3. C помощью метода info() выведем всю основную информацию о данном датафрейме."
   ]
  },
  {
   "cell_type": "code",
   "execution_count": 6,
   "id": "02c17fde",
   "metadata": {},
   "outputs": [
    {
     "name": "stdout",
     "output_type": "stream",
     "text": [
      "<class 'pandas.core.frame.DataFrame'>\n",
      "RangeIndex: 1565 entries, 0 to 1564\n",
      "Data columns (total 5 columns):\n",
      " #   Column             Non-Null Count  Dtype \n",
      "---  ------             --------------  ----- \n",
      " 0   user_id            1565 non-null   int64 \n",
      " 1   name               1565 non-null   object\n",
      " 2   age                1565 non-null   int64 \n",
      " 3   city               1565 non-null   object\n",
      " 4   subscription_type  1565 non-null   object\n",
      "dtypes: int64(2), object(3)\n",
      "memory usage: 61.3+ KB\n"
     ]
    }
   ],
   "source": [
    "data_users.info()"
   ]
  },
  {
   "cell_type": "markdown",
   "id": "321dcbe9",
   "metadata": {},
   "source": [
    "**Вывод:** датафрейм представляет из себя таблицу из 5 столбцов (id, имя, возраст, город, тип подписки), которая отражает основную информацию о пользователе. Мы видим, что пропусков в таблице нет (точнее мы их по этим данным не увидели, но будем проверять), типы данных выбраны правильно."
   ]
  },
  {
   "cell_type": "markdown",
   "id": "ecb59d9f",
   "metadata": {},
   "source": [
    "#### Основная информация о датафрейме 'data_rides'."
   ]
  },
  {
   "cell_type": "markdown",
   "id": "88b40f2d",
   "metadata": {},
   "source": [
    "1. Выведем первые пять и последние пять строк данного датафрейма."
   ]
  },
  {
   "cell_type": "code",
   "execution_count": 7,
   "id": "7caa4184",
   "metadata": {},
   "outputs": [
    {
     "data": {
      "text/html": [
       "<div>\n",
       "<style scoped>\n",
       "    .dataframe tbody tr th:only-of-type {\n",
       "        vertical-align: middle;\n",
       "    }\n",
       "\n",
       "    .dataframe tbody tr th {\n",
       "        vertical-align: top;\n",
       "    }\n",
       "\n",
       "    .dataframe thead th {\n",
       "        text-align: right;\n",
       "    }\n",
       "</style>\n",
       "<table border=\"1\" class=\"dataframe\">\n",
       "  <thead>\n",
       "    <tr style=\"text-align: right;\">\n",
       "      <th></th>\n",
       "      <th>user_id</th>\n",
       "      <th>distance</th>\n",
       "      <th>duration</th>\n",
       "      <th>date</th>\n",
       "    </tr>\n",
       "  </thead>\n",
       "  <tbody>\n",
       "    <tr>\n",
       "      <th>0</th>\n",
       "      <td>1</td>\n",
       "      <td>4409.919140</td>\n",
       "      <td>25.599769</td>\n",
       "      <td>2021-01-01</td>\n",
       "    </tr>\n",
       "    <tr>\n",
       "      <th>1</th>\n",
       "      <td>1</td>\n",
       "      <td>2617.592153</td>\n",
       "      <td>15.816871</td>\n",
       "      <td>2021-01-18</td>\n",
       "    </tr>\n",
       "    <tr>\n",
       "      <th>2</th>\n",
       "      <td>1</td>\n",
       "      <td>754.159807</td>\n",
       "      <td>6.232113</td>\n",
       "      <td>2021-04-20</td>\n",
       "    </tr>\n",
       "    <tr>\n",
       "      <th>3</th>\n",
       "      <td>1</td>\n",
       "      <td>2694.783254</td>\n",
       "      <td>18.511000</td>\n",
       "      <td>2021-08-11</td>\n",
       "    </tr>\n",
       "    <tr>\n",
       "      <th>4</th>\n",
       "      <td>1</td>\n",
       "      <td>4028.687306</td>\n",
       "      <td>26.265803</td>\n",
       "      <td>2021-08-28</td>\n",
       "    </tr>\n",
       "  </tbody>\n",
       "</table>\n",
       "</div>"
      ],
      "text/plain": [
       "   user_id     distance   duration        date\n",
       "0        1  4409.919140  25.599769  2021-01-01\n",
       "1        1  2617.592153  15.816871  2021-01-18\n",
       "2        1   754.159807   6.232113  2021-04-20\n",
       "3        1  2694.783254  18.511000  2021-08-11\n",
       "4        1  4028.687306  26.265803  2021-08-28"
      ]
     },
     "execution_count": 7,
     "metadata": {},
     "output_type": "execute_result"
    }
   ],
   "source": [
    "data_rides.head(5)"
   ]
  },
  {
   "cell_type": "code",
   "execution_count": 8,
   "id": "9becf0c4",
   "metadata": {},
   "outputs": [
    {
     "data": {
      "text/html": [
       "<div>\n",
       "<style scoped>\n",
       "    .dataframe tbody tr th:only-of-type {\n",
       "        vertical-align: middle;\n",
       "    }\n",
       "\n",
       "    .dataframe tbody tr th {\n",
       "        vertical-align: top;\n",
       "    }\n",
       "\n",
       "    .dataframe thead th {\n",
       "        text-align: right;\n",
       "    }\n",
       "</style>\n",
       "<table border=\"1\" class=\"dataframe\">\n",
       "  <thead>\n",
       "    <tr style=\"text-align: right;\">\n",
       "      <th></th>\n",
       "      <th>user_id</th>\n",
       "      <th>distance</th>\n",
       "      <th>duration</th>\n",
       "      <th>date</th>\n",
       "    </tr>\n",
       "  </thead>\n",
       "  <tbody>\n",
       "    <tr>\n",
       "      <th>18063</th>\n",
       "      <td>1534</td>\n",
       "      <td>3781.098080</td>\n",
       "      <td>19.822962</td>\n",
       "      <td>2021-11-04</td>\n",
       "    </tr>\n",
       "    <tr>\n",
       "      <th>18064</th>\n",
       "      <td>1534</td>\n",
       "      <td>2840.423057</td>\n",
       "      <td>21.409799</td>\n",
       "      <td>2021-11-16</td>\n",
       "    </tr>\n",
       "    <tr>\n",
       "      <th>18065</th>\n",
       "      <td>1534</td>\n",
       "      <td>3826.185507</td>\n",
       "      <td>18.435051</td>\n",
       "      <td>2021-11-18</td>\n",
       "    </tr>\n",
       "    <tr>\n",
       "      <th>18066</th>\n",
       "      <td>1534</td>\n",
       "      <td>2902.308661</td>\n",
       "      <td>16.674362</td>\n",
       "      <td>2021-11-27</td>\n",
       "    </tr>\n",
       "    <tr>\n",
       "      <th>18067</th>\n",
       "      <td>1534</td>\n",
       "      <td>2371.711192</td>\n",
       "      <td>15.893917</td>\n",
       "      <td>2021-12-29</td>\n",
       "    </tr>\n",
       "  </tbody>\n",
       "</table>\n",
       "</div>"
      ],
      "text/plain": [
       "       user_id     distance   duration        date\n",
       "18063     1534  3781.098080  19.822962  2021-11-04\n",
       "18064     1534  2840.423057  21.409799  2021-11-16\n",
       "18065     1534  3826.185507  18.435051  2021-11-18\n",
       "18066     1534  2902.308661  16.674362  2021-11-27\n",
       "18067     1534  2371.711192  15.893917  2021-12-29"
      ]
     },
     "execution_count": 8,
     "metadata": {},
     "output_type": "execute_result"
    }
   ],
   "source": [
    "data_rides.tail(5)"
   ]
  },
  {
   "cell_type": "markdown",
   "id": "b8fbc2c6",
   "metadata": {},
   "source": [
    "2. С помощью метода describe() выведем основную информацию, связанную с числами вида 'int64'."
   ]
  },
  {
   "cell_type": "code",
   "execution_count": 9,
   "id": "d4cb16ee",
   "metadata": {},
   "outputs": [
    {
     "data": {
      "text/html": [
       "<div>\n",
       "<style scoped>\n",
       "    .dataframe tbody tr th:only-of-type {\n",
       "        vertical-align: middle;\n",
       "    }\n",
       "\n",
       "    .dataframe tbody tr th {\n",
       "        vertical-align: top;\n",
       "    }\n",
       "\n",
       "    .dataframe thead th {\n",
       "        text-align: right;\n",
       "    }\n",
       "</style>\n",
       "<table border=\"1\" class=\"dataframe\">\n",
       "  <thead>\n",
       "    <tr style=\"text-align: right;\">\n",
       "      <th></th>\n",
       "      <th>user_id</th>\n",
       "      <th>distance</th>\n",
       "      <th>duration</th>\n",
       "    </tr>\n",
       "  </thead>\n",
       "  <tbody>\n",
       "    <tr>\n",
       "      <th>count</th>\n",
       "      <td>18068</td>\n",
       "      <td>18068</td>\n",
       "      <td>18068</td>\n",
       "    </tr>\n",
       "    <tr>\n",
       "      <th>mean</th>\n",
       "      <td>842</td>\n",
       "      <td>3070</td>\n",
       "      <td>17</td>\n",
       "    </tr>\n",
       "    <tr>\n",
       "      <th>std</th>\n",
       "      <td>434</td>\n",
       "      <td>1116</td>\n",
       "      <td>6</td>\n",
       "    </tr>\n",
       "    <tr>\n",
       "      <th>min</th>\n",
       "      <td>1</td>\n",
       "      <td>0</td>\n",
       "      <td>0</td>\n",
       "    </tr>\n",
       "    <tr>\n",
       "      <th>25%</th>\n",
       "      <td>487</td>\n",
       "      <td>2543</td>\n",
       "      <td>13</td>\n",
       "    </tr>\n",
       "    <tr>\n",
       "      <th>50%</th>\n",
       "      <td>889</td>\n",
       "      <td>3133</td>\n",
       "      <td>17</td>\n",
       "    </tr>\n",
       "    <tr>\n",
       "      <th>75%</th>\n",
       "      <td>1213</td>\n",
       "      <td>3776</td>\n",
       "      <td>21</td>\n",
       "    </tr>\n",
       "    <tr>\n",
       "      <th>max</th>\n",
       "      <td>1534</td>\n",
       "      <td>7211</td>\n",
       "      <td>40</td>\n",
       "    </tr>\n",
       "  </tbody>\n",
       "</table>\n",
       "</div>"
      ],
      "text/plain": [
       "       user_id  distance  duration\n",
       "count    18068     18068     18068\n",
       "mean       842      3070        17\n",
       "std        434      1116         6\n",
       "min          1         0         0\n",
       "25%        487      2543        13\n",
       "50%        889      3133        17\n",
       "75%       1213      3776        21\n",
       "max       1534      7211        40"
      ]
     },
     "execution_count": 9,
     "metadata": {},
     "output_type": "execute_result"
    }
   ],
   "source": [
    "data_rides.describe().astype('int64')"
   ]
  },
  {
   "cell_type": "markdown",
   "id": "b56db655",
   "metadata": {},
   "source": [
    "3. C помощью метода info() выведем всю основную информацию о данном датафрейме."
   ]
  },
  {
   "cell_type": "code",
   "execution_count": 10,
   "id": "d27a72a9",
   "metadata": {},
   "outputs": [
    {
     "name": "stdout",
     "output_type": "stream",
     "text": [
      "<class 'pandas.core.frame.DataFrame'>\n",
      "RangeIndex: 18068 entries, 0 to 18067\n",
      "Data columns (total 4 columns):\n",
      " #   Column    Non-Null Count  Dtype  \n",
      "---  ------    --------------  -----  \n",
      " 0   user_id   18068 non-null  int64  \n",
      " 1   distance  18068 non-null  float64\n",
      " 2   duration  18068 non-null  float64\n",
      " 3   date      18068 non-null  object \n",
      "dtypes: float64(2), int64(1), object(1)\n",
      "memory usage: 564.8+ KB\n"
     ]
    }
   ],
   "source": [
    "data_rides.info()"
   ]
  },
  {
   "cell_type": "markdown",
   "id": "787c58ed",
   "metadata": {},
   "source": [
    "**Вывод:** датафрейм представляет из себя таблицу из 4 столбцов (id, дистанция поездки, длительность поездки, дата), которая отражает основную информацию о поездках. Мы видим, что пропусков в таблице нет (точнее мы их по этим данным не увидели, но будем проверять), типы данных выбраны правильно."
   ]
  },
  {
   "cell_type": "markdown",
   "id": "c9c698f5",
   "metadata": {},
   "source": [
    "#### Основная информация о датафрейме 'data_subs'."
   ]
  },
  {
   "cell_type": "code",
   "execution_count": 11,
   "id": "df8bb83d",
   "metadata": {},
   "outputs": [
    {
     "data": {
      "text/html": [
       "<div>\n",
       "<style scoped>\n",
       "    .dataframe tbody tr th:only-of-type {\n",
       "        vertical-align: middle;\n",
       "    }\n",
       "\n",
       "    .dataframe tbody tr th {\n",
       "        vertical-align: top;\n",
       "    }\n",
       "\n",
       "    .dataframe thead th {\n",
       "        text-align: right;\n",
       "    }\n",
       "</style>\n",
       "<table border=\"1\" class=\"dataframe\">\n",
       "  <thead>\n",
       "    <tr style=\"text-align: right;\">\n",
       "      <th></th>\n",
       "      <th>subscription_type</th>\n",
       "      <th>minute_price</th>\n",
       "      <th>start_ride_price</th>\n",
       "      <th>subscription_fee</th>\n",
       "    </tr>\n",
       "  </thead>\n",
       "  <tbody>\n",
       "    <tr>\n",
       "      <th>0</th>\n",
       "      <td>free</td>\n",
       "      <td>8</td>\n",
       "      <td>50</td>\n",
       "      <td>0</td>\n",
       "    </tr>\n",
       "    <tr>\n",
       "      <th>1</th>\n",
       "      <td>ultra</td>\n",
       "      <td>6</td>\n",
       "      <td>0</td>\n",
       "      <td>199</td>\n",
       "    </tr>\n",
       "  </tbody>\n",
       "</table>\n",
       "</div>"
      ],
      "text/plain": [
       "  subscription_type  minute_price  start_ride_price  subscription_fee\n",
       "0              free             8                50                 0\n",
       "1             ultra             6                 0               199"
      ]
     },
     "execution_count": 11,
     "metadata": {},
     "output_type": "execute_result"
    }
   ],
   "source": [
    "data_subs.head()"
   ]
  },
  {
   "cell_type": "markdown",
   "id": "61b33078",
   "metadata": {},
   "source": [
    "**Вывод:** датафрейм представляет из себя таблицу из 4 столбцов (вид подписки, цена за минуту, стоимость начала поездки, плата за подписку) и двух строк, которые отражают два вида подписки - 'free' и 'ultra'."
   ]
  },
  {
   "cell_type": "markdown",
   "id": "e95ebca7",
   "metadata": {},
   "source": [
    "## Шаг 2. Предобработка данных"
   ]
  },
  {
   "cell_type": "markdown",
   "id": "b50d2ce6",
   "metadata": {},
   "source": [
    "### Предобработка данных в датафрейме 'data_users'. "
   ]
  },
  {
   "cell_type": "markdown",
   "id": "fff160d7",
   "metadata": {},
   "source": [
    "1. Выведем общую информацию о датафрейме."
   ]
  },
  {
   "cell_type": "code",
   "execution_count": 12,
   "id": "35dacb5d",
   "metadata": {},
   "outputs": [
    {
     "name": "stdout",
     "output_type": "stream",
     "text": [
      "<class 'pandas.core.frame.DataFrame'>\n",
      "RangeIndex: 1565 entries, 0 to 1564\n",
      "Data columns (total 5 columns):\n",
      " #   Column             Non-Null Count  Dtype \n",
      "---  ------             --------------  ----- \n",
      " 0   user_id            1565 non-null   int64 \n",
      " 1   name               1565 non-null   object\n",
      " 2   age                1565 non-null   int64 \n",
      " 3   city               1565 non-null   object\n",
      " 4   subscription_type  1565 non-null   object\n",
      "dtypes: int64(2), object(3)\n",
      "memory usage: 61.3+ KB\n"
     ]
    }
   ],
   "source": [
    "data_users.info()"
   ]
  },
  {
   "cell_type": "markdown",
   "id": "4e87b830",
   "metadata": {},
   "source": [
    "**2.Проведем предобработку данных столбца 'user_id'**"
   ]
  },
  {
   "cell_type": "markdown",
   "id": "fff98c68",
   "metadata": {},
   "source": [
    "2.1 Выведем основную информацию данного столбца."
   ]
  },
  {
   "cell_type": "code",
   "execution_count": 13,
   "id": "37ae82a3",
   "metadata": {},
   "outputs": [
    {
     "data": {
      "text/plain": [
       "count    1565.000000\n",
       "mean      762.633866\n",
       "std       443.260155\n",
       "min         1.000000\n",
       "25%       378.000000\n",
       "50%       762.000000\n",
       "75%      1146.000000\n",
       "max      1534.000000\n",
       "Name: user_id, dtype: float64"
      ]
     },
     "execution_count": 13,
     "metadata": {},
     "output_type": "execute_result"
    }
   ],
   "source": [
    "data_users['user_id'].describe()"
   ]
  },
  {
   "cell_type": "code",
   "execution_count": 14,
   "id": "7efce4c2",
   "metadata": {},
   "outputs": [
    {
     "data": {
      "text/plain": [
       "31"
      ]
     },
     "execution_count": 14,
     "metadata": {},
     "output_type": "execute_result"
    }
   ],
   "source": [
    "data_users['user_id'].duplicated().sum()"
   ]
  },
  {
   "cell_type": "markdown",
   "id": "b64912c6",
   "metadata": {},
   "source": [
    "**Вывод:** по выведенным данным, мы видим, что максимальное значение в столбце - 1534, хотя в столбце всего 1565 строк. Эта таблица отражает информацию по уникальным пользователям, поэтому в данном столбце не должно быть повторов (дубликатов). Также, стоит отметить, что выбросов нет, так как мы не наблюдаем 0 или отрицательные значения - всё в норме."
   ]
  },
  {
   "cell_type": "markdown",
   "id": "fa9b1c8f",
   "metadata": {},
   "source": [
    "2.2 Определим какие значения в столбце повторяются с помощью метода sort_values() и упорядочим по убыванию."
   ]
  },
  {
   "cell_type": "code",
   "execution_count": 15,
   "id": "6035baf8",
   "metadata": {},
   "outputs": [
    {
     "data": {
      "text/plain": [
       "209     2\n",
       "1237    2\n",
       "807     2\n",
       "204     2\n",
       "403     2\n",
       "422     2\n",
       "16      2\n",
       "809     2\n",
       "297     2\n",
       "108     2\n",
       "666     2\n",
       "121     2\n",
       "1245    2\n",
       "307     2\n",
       "659     2\n",
       "127     2\n",
       "293     2\n",
       "1045    2\n",
       "829     2\n",
       "611     2\n",
       "136     2\n",
       "43      2\n",
       "47      2\n",
       "1198    2\n",
       "737     2\n",
       "924     2\n",
       "153     2\n",
       "635     2\n",
       "72      2\n",
       "909     2\n",
       "908     2\n",
       "24      1\n",
       "11      1\n",
       "3       1\n",
       "4       1\n",
       "Name: user_id, dtype: int64"
      ]
     },
     "execution_count": 15,
     "metadata": {},
     "output_type": "execute_result"
    }
   ],
   "source": [
    "data_users['user_id'].value_counts().sort_values(ascending=False).head(35)"
   ]
  },
  {
   "cell_type": "markdown",
   "id": "06594a49",
   "metadata": {},
   "source": [
    "2.3 С помощью метода drop_duplicates() - удалим повторяющиеся значения."
   ]
  },
  {
   "cell_type": "code",
   "execution_count": 16,
   "id": "b37fdd93",
   "metadata": {},
   "outputs": [],
   "source": [
    "data_users = data_users.drop_duplicates(subset=['user_id'])"
   ]
  },
  {
   "cell_type": "code",
   "execution_count": 17,
   "id": "9a8a0f47",
   "metadata": {},
   "outputs": [
    {
     "name": "stdout",
     "output_type": "stream",
     "text": [
      "<class 'pandas.core.frame.DataFrame'>\n",
      "Int64Index: 1534 entries, 0 to 1533\n",
      "Data columns (total 5 columns):\n",
      " #   Column             Non-Null Count  Dtype \n",
      "---  ------             --------------  ----- \n",
      " 0   user_id            1534 non-null   int64 \n",
      " 1   name               1534 non-null   object\n",
      " 2   age                1534 non-null   int64 \n",
      " 3   city               1534 non-null   object\n",
      " 4   subscription_type  1534 non-null   object\n",
      "dtypes: int64(2), object(3)\n",
      "memory usage: 71.9+ KB\n"
     ]
    }
   ],
   "source": [
    "data_users.info()"
   ]
  },
  {
   "cell_type": "markdown",
   "id": "13b7f428",
   "metadata": {},
   "source": [
    "**Вывод:** данные предобработаны."
   ]
  },
  {
   "cell_type": "markdown",
   "id": "8d2d4d22",
   "metadata": {},
   "source": [
    "**3. Проведем предобработку данных столбца 'name'**."
   ]
  },
  {
   "cell_type": "markdown",
   "id": "5a233f3c",
   "metadata": {},
   "source": [
    "3.1 Столбце 'name' отражает имена пользователей. Выведем все уникальные значения этого столбца, для того, чтобы проверить нет ли неявных дубликатов."
   ]
  },
  {
   "cell_type": "code",
   "execution_count": 18,
   "id": "e2835440",
   "metadata": {},
   "outputs": [
    {
     "data": {
      "text/plain": [
       "array(['Кира', 'Станислав', 'Алексей', 'Константин', 'Адель', 'Регина',\n",
       "       'Игорь', 'Юрий', 'Ян', 'Валерий', 'Агата', 'Марк', 'Ева',\n",
       "       'Антонина', 'Валерия', 'Амалия', 'Даниил', 'Аделина', 'Святогор',\n",
       "       'Борис', 'Вероника', 'Ростислав', 'Назар', 'Эдуард', 'Василий',\n",
       "       'Денис', 'Тамара', 'Николай', 'Эвелина', 'Федор', 'Руслан', 'Иван',\n",
       "       'Любовь', 'Ярослава', 'Майя', 'Ильдар', 'Данила', 'Нина',\n",
       "       'Стефания', 'Ясмина', 'Дмитрий', 'Александр', 'Одиссей', 'Арсений',\n",
       "       'Алла', 'Таисия', 'Максим', 'Юлиана', 'Павел', 'Карина', 'Алиса',\n",
       "       'Лидия', 'Рамиль', 'Родион', 'Ника', 'Оксана', 'Анастасия',\n",
       "       'Маргарита', 'Вера', 'Тимур', 'Никита', 'Лев', 'Влад', 'Артур',\n",
       "       'Анна', 'Ольга', 'Вячеслав', 'Ксения', 'Виталина', 'Владислав',\n",
       "       'Тамерлан', 'Амина', 'Вадим', 'Олеся', 'Зарина', 'Егор', 'Гордей',\n",
       "       'Лилия', 'Святослав', 'Роберт', 'Амир', 'Влада', 'Богдан',\n",
       "       'Полина', 'Марат', 'Елисей', 'Макар', 'Алина', 'Глеб', 'Андрей',\n",
       "       'Альбина', 'Людмила', 'Марсель', 'Милена', 'Диана', 'Дарина',\n",
       "       'Данил', 'Артемий', 'Лиана', 'Альберт', 'Герман', 'Жанна', 'Нелли',\n",
       "       'Евгения', 'Ариана', 'Самира', 'Захар', 'Эльвира', 'Екатерина',\n",
       "       'Инна', 'Демид', 'Яна', 'Михаил', 'Татьяна', 'Степан', 'Мелания',\n",
       "       'Тимофей', 'Ирина', 'Анжелика', 'Владислава', 'Елизавета',\n",
       "       'Мадина', 'Снежана', 'Даниэль', 'Рустам', 'Каролина', 'Ангелина',\n",
       "       'Владимир', 'Виктория', 'Валентина', 'Семен', 'Арина', 'Лариса',\n",
       "       'Есения', 'Галина', 'Кирилл', 'Игнат', 'Виталий', 'Эмилия',\n",
       "       'Виолетта', 'Яромир', 'Софья', 'Мирослава', 'Евгений', 'Варвара',\n",
       "       'Платон', 'Наталия', 'Анатолий', 'Кристина', 'Всеволод', 'Дарья',\n",
       "       'Наташа', 'Мария', 'Марина', 'Василиса', 'Юлия', 'Илья', 'Злата',\n",
       "       'Роман', 'Наталья', 'Элина', 'Арсен', 'Айдар', 'Алия', 'Виктор',\n",
       "       'Мирон', 'Ульяна', 'Георгий', 'Петр', 'Эльмира', 'Олег', 'Дамир',\n",
       "       'Самир', 'Ярослав', 'Камилла', 'Сергей', 'Эмиль', 'Радмир',\n",
       "       'Савелий', 'Елена', 'Антон', 'Мирослав', 'София', 'Тихон', 'Артём',\n",
       "       'Давид', 'Григорий', 'Алёна', 'Светлана', 'Леонид', 'Александра',\n",
       "       'Василина', 'Милана', 'Матвей'], dtype=object)"
      ]
     },
     "execution_count": 18,
     "metadata": {},
     "output_type": "execute_result"
    }
   ],
   "source": [
    "data_users['name'].unique()"
   ]
  },
  {
   "cell_type": "markdown",
   "id": "0e3e3798",
   "metadata": {},
   "source": [
    "**Вывод:** из выведенных данных видно, что неявных дубликатов - нет. Столбец в полном порядке."
   ]
  },
  {
   "cell_type": "markdown",
   "id": "026becad",
   "metadata": {},
   "source": [
    "**4. Проведем предобработку данных столбца 'age'**."
   ]
  },
  {
   "cell_type": "markdown",
   "id": "491a8452",
   "metadata": {},
   "source": [
    "4.1 Выведем основную информацию о данном столбце с помощью метода describe()."
   ]
  },
  {
   "cell_type": "code",
   "execution_count": 19,
   "id": "1f93d587",
   "metadata": {},
   "outputs": [
    {
     "data": {
      "text/plain": [
       "count    1534.000000\n",
       "mean       24.903520\n",
       "std         4.572367\n",
       "min        12.000000\n",
       "25%        22.000000\n",
       "50%        25.000000\n",
       "75%        28.000000\n",
       "max        43.000000\n",
       "Name: age, dtype: float64"
      ]
     },
     "execution_count": 19,
     "metadata": {},
     "output_type": "execute_result"
    }
   ],
   "source": [
    "data_users['age'].describe()"
   ]
  },
  {
   "cell_type": "markdown",
   "id": "a022efbf",
   "metadata": {},
   "source": [
    "**Вывод:** по выведенным данным видно, что данные в порядке, в 12 лет можно уже арендовывать самокаты. Отрицательных или нулевых значений - нет."
   ]
  },
  {
   "cell_type": "markdown",
   "id": "a1992e4b",
   "metadata": {},
   "source": [
    "**5. Проведем предобработку данных столбца 'city'**."
   ]
  },
  {
   "cell_type": "markdown",
   "id": "bb828832",
   "metadata": {},
   "source": [
    "5.1 Проверим есть ли неявные дубликаты в данном столбце с помощью метода unique(). "
   ]
  },
  {
   "cell_type": "code",
   "execution_count": 20,
   "id": "4fcc9495",
   "metadata": {},
   "outputs": [
    {
     "data": {
      "text/plain": [
       "array(['Тюмень', 'Омск', 'Москва', 'Ростов-на-Дону', 'Краснодар',\n",
       "       'Пятигорск', 'Екатеринбург', 'Сочи'], dtype=object)"
      ]
     },
     "execution_count": 20,
     "metadata": {},
     "output_type": "execute_result"
    }
   ],
   "source": [
    "data_users['city'].unique()"
   ]
  },
  {
   "cell_type": "markdown",
   "id": "7d5351eb",
   "metadata": {},
   "source": [
    "**Вывод:** данные в порядке."
   ]
  },
  {
   "cell_type": "markdown",
   "id": "6cc9c880",
   "metadata": {},
   "source": [
    "### Предобработка данных в датафрейме 'data_rides'."
   ]
  },
  {
   "cell_type": "markdown",
   "id": "5f73cd95",
   "metadata": {},
   "source": [
    "**1. Выведем основную информацию о данном датафрейме.**"
   ]
  },
  {
   "cell_type": "code",
   "execution_count": 21,
   "id": "76ff8c49",
   "metadata": {},
   "outputs": [
    {
     "data": {
      "text/html": [
       "<div>\n",
       "<style scoped>\n",
       "    .dataframe tbody tr th:only-of-type {\n",
       "        vertical-align: middle;\n",
       "    }\n",
       "\n",
       "    .dataframe tbody tr th {\n",
       "        vertical-align: top;\n",
       "    }\n",
       "\n",
       "    .dataframe thead th {\n",
       "        text-align: right;\n",
       "    }\n",
       "</style>\n",
       "<table border=\"1\" class=\"dataframe\">\n",
       "  <thead>\n",
       "    <tr style=\"text-align: right;\">\n",
       "      <th></th>\n",
       "      <th>user_id</th>\n",
       "      <th>distance</th>\n",
       "      <th>duration</th>\n",
       "      <th>date</th>\n",
       "    </tr>\n",
       "  </thead>\n",
       "  <tbody>\n",
       "    <tr>\n",
       "      <th>0</th>\n",
       "      <td>1</td>\n",
       "      <td>4409.919140</td>\n",
       "      <td>25.599769</td>\n",
       "      <td>2021-01-01</td>\n",
       "    </tr>\n",
       "    <tr>\n",
       "      <th>1</th>\n",
       "      <td>1</td>\n",
       "      <td>2617.592153</td>\n",
       "      <td>15.816871</td>\n",
       "      <td>2021-01-18</td>\n",
       "    </tr>\n",
       "    <tr>\n",
       "      <th>2</th>\n",
       "      <td>1</td>\n",
       "      <td>754.159807</td>\n",
       "      <td>6.232113</td>\n",
       "      <td>2021-04-20</td>\n",
       "    </tr>\n",
       "    <tr>\n",
       "      <th>3</th>\n",
       "      <td>1</td>\n",
       "      <td>2694.783254</td>\n",
       "      <td>18.511000</td>\n",
       "      <td>2021-08-11</td>\n",
       "    </tr>\n",
       "    <tr>\n",
       "      <th>4</th>\n",
       "      <td>1</td>\n",
       "      <td>4028.687306</td>\n",
       "      <td>26.265803</td>\n",
       "      <td>2021-08-28</td>\n",
       "    </tr>\n",
       "    <tr>\n",
       "      <th>5</th>\n",
       "      <td>1</td>\n",
       "      <td>2770.890808</td>\n",
       "      <td>16.650138</td>\n",
       "      <td>2021-10-09</td>\n",
       "    </tr>\n",
       "    <tr>\n",
       "      <th>6</th>\n",
       "      <td>1</td>\n",
       "      <td>3039.020292</td>\n",
       "      <td>14.927879</td>\n",
       "      <td>2021-10-19</td>\n",
       "    </tr>\n",
       "    <tr>\n",
       "      <th>7</th>\n",
       "      <td>1</td>\n",
       "      <td>2842.118050</td>\n",
       "      <td>23.117468</td>\n",
       "      <td>2021-11-06</td>\n",
       "    </tr>\n",
       "    <tr>\n",
       "      <th>8</th>\n",
       "      <td>1</td>\n",
       "      <td>3412.690668</td>\n",
       "      <td>15.238072</td>\n",
       "      <td>2021-11-14</td>\n",
       "    </tr>\n",
       "    <tr>\n",
       "      <th>9</th>\n",
       "      <td>1</td>\n",
       "      <td>748.690645</td>\n",
       "      <td>15.041884</td>\n",
       "      <td>2021-11-22</td>\n",
       "    </tr>\n",
       "  </tbody>\n",
       "</table>\n",
       "</div>"
      ],
      "text/plain": [
       "   user_id     distance   duration        date\n",
       "0        1  4409.919140  25.599769  2021-01-01\n",
       "1        1  2617.592153  15.816871  2021-01-18\n",
       "2        1   754.159807   6.232113  2021-04-20\n",
       "3        1  2694.783254  18.511000  2021-08-11\n",
       "4        1  4028.687306  26.265803  2021-08-28\n",
       "5        1  2770.890808  16.650138  2021-10-09\n",
       "6        1  3039.020292  14.927879  2021-10-19\n",
       "7        1  2842.118050  23.117468  2021-11-06\n",
       "8        1  3412.690668  15.238072  2021-11-14\n",
       "9        1   748.690645  15.041884  2021-11-22"
      ]
     },
     "execution_count": 21,
     "metadata": {},
     "output_type": "execute_result"
    }
   ],
   "source": [
    "data_rides.head(10)"
   ]
  },
  {
   "cell_type": "code",
   "execution_count": 22,
   "id": "2ffeb7dc",
   "metadata": {},
   "outputs": [
    {
     "name": "stdout",
     "output_type": "stream",
     "text": [
      "<class 'pandas.core.frame.DataFrame'>\n",
      "RangeIndex: 18068 entries, 0 to 18067\n",
      "Data columns (total 4 columns):\n",
      " #   Column    Non-Null Count  Dtype  \n",
      "---  ------    --------------  -----  \n",
      " 0   user_id   18068 non-null  int64  \n",
      " 1   distance  18068 non-null  float64\n",
      " 2   duration  18068 non-null  float64\n",
      " 3   date      18068 non-null  object \n",
      "dtypes: float64(2), int64(1), object(1)\n",
      "memory usage: 564.8+ KB\n"
     ]
    }
   ],
   "source": [
    "data_rides.info()"
   ]
  },
  {
   "cell_type": "code",
   "execution_count": 23,
   "id": "42d6f147",
   "metadata": {},
   "outputs": [
    {
     "data": {
      "text/plain": [
       "0"
      ]
     },
     "execution_count": 23,
     "metadata": {},
     "output_type": "execute_result"
    }
   ],
   "source": [
    "data_rides.duplicated().sum()"
   ]
  },
  {
   "cell_type": "markdown",
   "id": "da3b6beb",
   "metadata": {},
   "source": [
    "**Вывод:** по выведенным данным мы можем заметить, что таблица отсортирована по 'user_id' сначала идут все поездки ИДа под номером 1, потом 2 и т.д. Дубликатов не наблюдается. Дата выбрана в неправильном формате данных."
   ]
  },
  {
   "cell_type": "markdown",
   "id": "9483e648",
   "metadata": {},
   "source": [
    "**2. Проведем предобработку данных столбца 'user_id'.**"
   ]
  },
  {
   "cell_type": "markdown",
   "id": "d55773f9",
   "metadata": {},
   "source": [
    "1. Выведем основную информацию о данном столбце."
   ]
  },
  {
   "cell_type": "code",
   "execution_count": 24,
   "id": "0e9fb986",
   "metadata": {},
   "outputs": [
    {
     "data": {
      "text/plain": [
       "0           1\n",
       "1           1\n",
       "2           1\n",
       "3           1\n",
       "4           1\n",
       "         ... \n",
       "18063    1534\n",
       "18064    1534\n",
       "18065    1534\n",
       "18066    1534\n",
       "18067    1534\n",
       "Name: user_id, Length: 18068, dtype: int64"
      ]
     },
     "execution_count": 24,
     "metadata": {},
     "output_type": "execute_result"
    }
   ],
   "source": [
    "data_rides['user_id']"
   ]
  },
  {
   "cell_type": "code",
   "execution_count": 25,
   "id": "648fcce0",
   "metadata": {},
   "outputs": [
    {
     "data": {
      "text/plain": [
       "count    18068\n",
       "mean       842\n",
       "std        434\n",
       "min          1\n",
       "25%        487\n",
       "50%        889\n",
       "75%       1213\n",
       "max       1534\n",
       "Name: user_id, dtype: int64"
      ]
     },
     "execution_count": 25,
     "metadata": {},
     "output_type": "execute_result"
    }
   ],
   "source": [
    "data_rides['user_id'].describe().astype('int64')"
   ]
  },
  {
   "cell_type": "markdown",
   "id": "95f19fb1",
   "metadata": {},
   "source": [
    "**Вывод:** данный столбец корректен. "
   ]
  },
  {
   "cell_type": "markdown",
   "id": "2ee35e1b",
   "metadata": {},
   "source": [
    "**3. Проведем предобработку данных столбца 'distance'**."
   ]
  },
  {
   "cell_type": "markdown",
   "id": "8f99c8a2",
   "metadata": {},
   "source": [
    "1. Выведем основную информацию данного столбца."
   ]
  },
  {
   "cell_type": "code",
   "execution_count": 26,
   "id": "1783746f",
   "metadata": {},
   "outputs": [
    {
     "data": {
      "text/plain": [
       "0        4409.919140\n",
       "1        2617.592153\n",
       "2         754.159807\n",
       "3        2694.783254\n",
       "4        4028.687306\n",
       "            ...     \n",
       "18063    3781.098080\n",
       "18064    2840.423057\n",
       "18065    3826.185507\n",
       "18066    2902.308661\n",
       "18067    2371.711192\n",
       "Name: distance, Length: 18068, dtype: float64"
      ]
     },
     "execution_count": 26,
     "metadata": {},
     "output_type": "execute_result"
    }
   ],
   "source": [
    "data_rides['distance']"
   ]
  },
  {
   "cell_type": "code",
   "execution_count": 27,
   "id": "65b3e025",
   "metadata": {},
   "outputs": [
    {
     "data": {
      "text/plain": [
       "count    18068.000000\n",
       "mean      3070.659976\n",
       "std       1116.831209\n",
       "min          0.855683\n",
       "25%       2543.226360\n",
       "50%       3133.609994\n",
       "75%       3776.222735\n",
       "max       7211.007745\n",
       "Name: distance, dtype: float64"
      ]
     },
     "execution_count": 27,
     "metadata": {},
     "output_type": "execute_result"
    }
   ],
   "source": [
    "data_rides['distance'].describe().astype('float64')"
   ]
  },
  {
   "cell_type": "markdown",
   "id": "69b69409",
   "metadata": {},
   "source": [
    "**Вывод:** по выведенным данным мы видим, что данные в порядке. Минимальное значение - ±0.85 может быть, как и максимальное - ±7211. Нулевых, пропущенных значений - нет."
   ]
  },
  {
   "cell_type": "markdown",
   "id": "6125e838",
   "metadata": {},
   "source": [
    "**4. Проведем предобработку данных столбца 'duration'**."
   ]
  },
  {
   "cell_type": "markdown",
   "id": "82eaf018",
   "metadata": {},
   "source": [
    "1. Выведем основную информацию данного столбца."
   ]
  },
  {
   "cell_type": "code",
   "execution_count": 28,
   "id": "34796ef6",
   "metadata": {},
   "outputs": [
    {
     "data": {
      "text/plain": [
       "0        25.599769\n",
       "1        15.816871\n",
       "2         6.232113\n",
       "3        18.511000\n",
       "4        26.265803\n",
       "           ...    \n",
       "18063    19.822962\n",
       "18064    21.409799\n",
       "18065    18.435051\n",
       "18066    16.674362\n",
       "18067    15.893917\n",
       "Name: duration, Length: 18068, dtype: float64"
      ]
     },
     "execution_count": 28,
     "metadata": {},
     "output_type": "execute_result"
    }
   ],
   "source": [
    "data_rides['duration']"
   ]
  },
  {
   "cell_type": "code",
   "execution_count": 29,
   "id": "150359f0",
   "metadata": {},
   "outputs": [
    {
     "data": {
      "text/plain": [
       "count    18068.000000\n",
       "mean        17.805011\n",
       "std          6.091051\n",
       "min          0.500000\n",
       "25%         13.597563\n",
       "50%         17.678395\n",
       "75%         21.724800\n",
       "max         40.823963\n",
       "Name: duration, dtype: float64"
      ]
     },
     "execution_count": 29,
     "metadata": {},
     "output_type": "execute_result"
    }
   ],
   "source": [
    "data_rides['duration'].describe().astype('float64')"
   ]
  },
  {
   "cell_type": "markdown",
   "id": "ed5d72d4",
   "metadata": {},
   "source": [
    "**Вывод:** по выведенным данным мы видим, что данные в порядке. Минимальное значение - ±0.5 минут может быть, как и максимальное - ±40 минут. Нулевых, пропущенных значений - нет."
   ]
  },
  {
   "cell_type": "markdown",
   "id": "f542f7b3",
   "metadata": {},
   "source": [
    "**5. Проведем предобработку данных столбца 'date'**."
   ]
  },
  {
   "cell_type": "markdown",
   "id": "8ff26b79",
   "metadata": {},
   "source": [
    "1. Выведем основную информацию данного столбца."
   ]
  },
  {
   "cell_type": "code",
   "execution_count": 30,
   "id": "55be95ee",
   "metadata": {},
   "outputs": [
    {
     "data": {
      "text/plain": [
       "0        2021-01-01\n",
       "1        2021-01-18\n",
       "2        2021-04-20\n",
       "3        2021-08-11\n",
       "4        2021-08-28\n",
       "            ...    \n",
       "18063    2021-11-04\n",
       "18064    2021-11-16\n",
       "18065    2021-11-18\n",
       "18066    2021-11-27\n",
       "18067    2021-12-29\n",
       "Name: date, Length: 18068, dtype: object"
      ]
     },
     "execution_count": 30,
     "metadata": {},
     "output_type": "execute_result"
    }
   ],
   "source": [
    "data_rides['date']"
   ]
  },
  {
   "cell_type": "markdown",
   "id": "6abe39ca",
   "metadata": {},
   "source": [
    "**Вывод:** по выведенным данным мы видим, что тип данных - object. Его нужно изменить на 'datetime64'."
   ]
  },
  {
   "cell_type": "markdown",
   "id": "cb0a7b9d",
   "metadata": {},
   "source": [
    "2. Изменение типа данных."
   ]
  },
  {
   "cell_type": "code",
   "execution_count": 31,
   "id": "9bcc4bc7",
   "metadata": {},
   "outputs": [],
   "source": [
    "data_rides['date'] = pd.to_datetime(data_rides['date'], format='%Y-%m-%d')"
   ]
  },
  {
   "cell_type": "code",
   "execution_count": 32,
   "id": "6c12b8d0",
   "metadata": {},
   "outputs": [
    {
     "data": {
      "text/plain": [
       "0       2021-01-01\n",
       "1       2021-01-18\n",
       "2       2021-04-20\n",
       "3       2021-08-11\n",
       "4       2021-08-28\n",
       "           ...    \n",
       "18063   2021-11-04\n",
       "18064   2021-11-16\n",
       "18065   2021-11-18\n",
       "18066   2021-11-27\n",
       "18067   2021-12-29\n",
       "Name: date, Length: 18068, dtype: datetime64[ns]"
      ]
     },
     "execution_count": 32,
     "metadata": {},
     "output_type": "execute_result"
    }
   ],
   "source": [
    "data_rides['date']"
   ]
  },
  {
   "cell_type": "markdown",
   "id": "04ae173f",
   "metadata": {},
   "source": [
    "3. Создадим еще один столбец в таблице с номером месяца, когда была поездка."
   ]
  },
  {
   "cell_type": "code",
   "execution_count": 33,
   "id": "637b89d1",
   "metadata": {},
   "outputs": [],
   "source": [
    "data_rides['date_month'] = data_rides['date'].dt.month"
   ]
  },
  {
   "cell_type": "code",
   "execution_count": 34,
   "id": "7bd5d2b7",
   "metadata": {},
   "outputs": [
    {
     "data": {
      "text/html": [
       "<div>\n",
       "<style scoped>\n",
       "    .dataframe tbody tr th:only-of-type {\n",
       "        vertical-align: middle;\n",
       "    }\n",
       "\n",
       "    .dataframe tbody tr th {\n",
       "        vertical-align: top;\n",
       "    }\n",
       "\n",
       "    .dataframe thead th {\n",
       "        text-align: right;\n",
       "    }\n",
       "</style>\n",
       "<table border=\"1\" class=\"dataframe\">\n",
       "  <thead>\n",
       "    <tr style=\"text-align: right;\">\n",
       "      <th></th>\n",
       "      <th>user_id</th>\n",
       "      <th>distance</th>\n",
       "      <th>duration</th>\n",
       "      <th>date</th>\n",
       "      <th>date_month</th>\n",
       "    </tr>\n",
       "  </thead>\n",
       "  <tbody>\n",
       "    <tr>\n",
       "      <th>0</th>\n",
       "      <td>1</td>\n",
       "      <td>4409.919140</td>\n",
       "      <td>25.599769</td>\n",
       "      <td>2021-01-01</td>\n",
       "      <td>1</td>\n",
       "    </tr>\n",
       "    <tr>\n",
       "      <th>1</th>\n",
       "      <td>1</td>\n",
       "      <td>2617.592153</td>\n",
       "      <td>15.816871</td>\n",
       "      <td>2021-01-18</td>\n",
       "      <td>1</td>\n",
       "    </tr>\n",
       "    <tr>\n",
       "      <th>2</th>\n",
       "      <td>1</td>\n",
       "      <td>754.159807</td>\n",
       "      <td>6.232113</td>\n",
       "      <td>2021-04-20</td>\n",
       "      <td>4</td>\n",
       "    </tr>\n",
       "    <tr>\n",
       "      <th>3</th>\n",
       "      <td>1</td>\n",
       "      <td>2694.783254</td>\n",
       "      <td>18.511000</td>\n",
       "      <td>2021-08-11</td>\n",
       "      <td>8</td>\n",
       "    </tr>\n",
       "    <tr>\n",
       "      <th>4</th>\n",
       "      <td>1</td>\n",
       "      <td>4028.687306</td>\n",
       "      <td>26.265803</td>\n",
       "      <td>2021-08-28</td>\n",
       "      <td>8</td>\n",
       "    </tr>\n",
       "    <tr>\n",
       "      <th>...</th>\n",
       "      <td>...</td>\n",
       "      <td>...</td>\n",
       "      <td>...</td>\n",
       "      <td>...</td>\n",
       "      <td>...</td>\n",
       "    </tr>\n",
       "    <tr>\n",
       "      <th>18063</th>\n",
       "      <td>1534</td>\n",
       "      <td>3781.098080</td>\n",
       "      <td>19.822962</td>\n",
       "      <td>2021-11-04</td>\n",
       "      <td>11</td>\n",
       "    </tr>\n",
       "    <tr>\n",
       "      <th>18064</th>\n",
       "      <td>1534</td>\n",
       "      <td>2840.423057</td>\n",
       "      <td>21.409799</td>\n",
       "      <td>2021-11-16</td>\n",
       "      <td>11</td>\n",
       "    </tr>\n",
       "    <tr>\n",
       "      <th>18065</th>\n",
       "      <td>1534</td>\n",
       "      <td>3826.185507</td>\n",
       "      <td>18.435051</td>\n",
       "      <td>2021-11-18</td>\n",
       "      <td>11</td>\n",
       "    </tr>\n",
       "    <tr>\n",
       "      <th>18066</th>\n",
       "      <td>1534</td>\n",
       "      <td>2902.308661</td>\n",
       "      <td>16.674362</td>\n",
       "      <td>2021-11-27</td>\n",
       "      <td>11</td>\n",
       "    </tr>\n",
       "    <tr>\n",
       "      <th>18067</th>\n",
       "      <td>1534</td>\n",
       "      <td>2371.711192</td>\n",
       "      <td>15.893917</td>\n",
       "      <td>2021-12-29</td>\n",
       "      <td>12</td>\n",
       "    </tr>\n",
       "  </tbody>\n",
       "</table>\n",
       "<p>18068 rows × 5 columns</p>\n",
       "</div>"
      ],
      "text/plain": [
       "       user_id     distance   duration       date  date_month\n",
       "0            1  4409.919140  25.599769 2021-01-01           1\n",
       "1            1  2617.592153  15.816871 2021-01-18           1\n",
       "2            1   754.159807   6.232113 2021-04-20           4\n",
       "3            1  2694.783254  18.511000 2021-08-11           8\n",
       "4            1  4028.687306  26.265803 2021-08-28           8\n",
       "...        ...          ...        ...        ...         ...\n",
       "18063     1534  3781.098080  19.822962 2021-11-04          11\n",
       "18064     1534  2840.423057  21.409799 2021-11-16          11\n",
       "18065     1534  3826.185507  18.435051 2021-11-18          11\n",
       "18066     1534  2902.308661  16.674362 2021-11-27          11\n",
       "18067     1534  2371.711192  15.893917 2021-12-29          12\n",
       "\n",
       "[18068 rows x 5 columns]"
      ]
     },
     "execution_count": 34,
     "metadata": {},
     "output_type": "execute_result"
    }
   ],
   "source": [
    "data_rides"
   ]
  },
  {
   "cell_type": "markdown",
   "id": "1d2dfdf7",
   "metadata": {},
   "source": [
    "**Вывод** в датафрейме data_rides указывается основная информация о всех поездках каждого пользователя. После предобработки данных в этой таблице все столбцы были приведены в правильный тип данных, был создан еще один столбце 'date_month' на основе столбца 'date', который показывает номер месяца, когда была совершена поездка. Все данные в датафрейме - корректны, их можно будет применять для дальнейшего анализа данных."
   ]
  },
  {
   "cell_type": "code",
   "execution_count": 35,
   "id": "ec6f84aa",
   "metadata": {},
   "outputs": [
    {
     "data": {
      "text/html": [
       "<div>\n",
       "<style scoped>\n",
       "    .dataframe tbody tr th:only-of-type {\n",
       "        vertical-align: middle;\n",
       "    }\n",
       "\n",
       "    .dataframe tbody tr th {\n",
       "        vertical-align: top;\n",
       "    }\n",
       "\n",
       "    .dataframe thead th {\n",
       "        text-align: right;\n",
       "    }\n",
       "</style>\n",
       "<table border=\"1\" class=\"dataframe\">\n",
       "  <thead>\n",
       "    <tr style=\"text-align: right;\">\n",
       "      <th></th>\n",
       "      <th>user_id</th>\n",
       "      <th>name</th>\n",
       "      <th>age</th>\n",
       "      <th>city</th>\n",
       "      <th>subscription_type</th>\n",
       "    </tr>\n",
       "  </thead>\n",
       "  <tbody>\n",
       "    <tr>\n",
       "      <th>0</th>\n",
       "      <td>1</td>\n",
       "      <td>Кира</td>\n",
       "      <td>22</td>\n",
       "      <td>Тюмень</td>\n",
       "      <td>ultra</td>\n",
       "    </tr>\n",
       "    <tr>\n",
       "      <th>1</th>\n",
       "      <td>2</td>\n",
       "      <td>Станислав</td>\n",
       "      <td>31</td>\n",
       "      <td>Омск</td>\n",
       "      <td>ultra</td>\n",
       "    </tr>\n",
       "    <tr>\n",
       "      <th>2</th>\n",
       "      <td>3</td>\n",
       "      <td>Алексей</td>\n",
       "      <td>20</td>\n",
       "      <td>Москва</td>\n",
       "      <td>ultra</td>\n",
       "    </tr>\n",
       "    <tr>\n",
       "      <th>3</th>\n",
       "      <td>4</td>\n",
       "      <td>Константин</td>\n",
       "      <td>26</td>\n",
       "      <td>Ростов-на-Дону</td>\n",
       "      <td>ultra</td>\n",
       "    </tr>\n",
       "    <tr>\n",
       "      <th>4</th>\n",
       "      <td>5</td>\n",
       "      <td>Адель</td>\n",
       "      <td>28</td>\n",
       "      <td>Омск</td>\n",
       "      <td>ultra</td>\n",
       "    </tr>\n",
       "    <tr>\n",
       "      <th>...</th>\n",
       "      <td>...</td>\n",
       "      <td>...</td>\n",
       "      <td>...</td>\n",
       "      <td>...</td>\n",
       "      <td>...</td>\n",
       "    </tr>\n",
       "    <tr>\n",
       "      <th>1529</th>\n",
       "      <td>1530</td>\n",
       "      <td>Ростислав</td>\n",
       "      <td>29</td>\n",
       "      <td>Сочи</td>\n",
       "      <td>free</td>\n",
       "    </tr>\n",
       "    <tr>\n",
       "      <th>1530</th>\n",
       "      <td>1531</td>\n",
       "      <td>Никита</td>\n",
       "      <td>25</td>\n",
       "      <td>Пятигорск</td>\n",
       "      <td>free</td>\n",
       "    </tr>\n",
       "    <tr>\n",
       "      <th>1531</th>\n",
       "      <td>1532</td>\n",
       "      <td>Алексей</td>\n",
       "      <td>26</td>\n",
       "      <td>Тюмень</td>\n",
       "      <td>free</td>\n",
       "    </tr>\n",
       "    <tr>\n",
       "      <th>1532</th>\n",
       "      <td>1533</td>\n",
       "      <td>Степан</td>\n",
       "      <td>22</td>\n",
       "      <td>Краснодар</td>\n",
       "      <td>free</td>\n",
       "    </tr>\n",
       "    <tr>\n",
       "      <th>1533</th>\n",
       "      <td>1534</td>\n",
       "      <td>Альберт</td>\n",
       "      <td>25</td>\n",
       "      <td>Краснодар</td>\n",
       "      <td>free</td>\n",
       "    </tr>\n",
       "  </tbody>\n",
       "</table>\n",
       "<p>1534 rows × 5 columns</p>\n",
       "</div>"
      ],
      "text/plain": [
       "      user_id        name  age            city subscription_type\n",
       "0           1        Кира   22          Тюмень             ultra\n",
       "1           2   Станислав   31            Омск             ultra\n",
       "2           3     Алексей   20          Москва             ultra\n",
       "3           4  Константин   26  Ростов-на-Дону             ultra\n",
       "4           5       Адель   28            Омск             ultra\n",
       "...       ...         ...  ...             ...               ...\n",
       "1529     1530   Ростислав   29            Сочи              free\n",
       "1530     1531      Никита   25       Пятигорск              free\n",
       "1531     1532     Алексей   26          Тюмень              free\n",
       "1532     1533      Степан   22       Краснодар              free\n",
       "1533     1534     Альберт   25       Краснодар              free\n",
       "\n",
       "[1534 rows x 5 columns]"
      ]
     },
     "execution_count": 35,
     "metadata": {},
     "output_type": "execute_result"
    }
   ],
   "source": [
    "data_users"
   ]
  },
  {
   "cell_type": "code",
   "execution_count": 36,
   "id": "265bcb29",
   "metadata": {},
   "outputs": [
    {
     "data": {
      "text/html": [
       "<div>\n",
       "<style scoped>\n",
       "    .dataframe tbody tr th:only-of-type {\n",
       "        vertical-align: middle;\n",
       "    }\n",
       "\n",
       "    .dataframe tbody tr th {\n",
       "        vertical-align: top;\n",
       "    }\n",
       "\n",
       "    .dataframe thead th {\n",
       "        text-align: right;\n",
       "    }\n",
       "</style>\n",
       "<table border=\"1\" class=\"dataframe\">\n",
       "  <thead>\n",
       "    <tr style=\"text-align: right;\">\n",
       "      <th></th>\n",
       "      <th>user_id</th>\n",
       "      <th>distance</th>\n",
       "      <th>duration</th>\n",
       "      <th>date</th>\n",
       "      <th>date_month</th>\n",
       "    </tr>\n",
       "  </thead>\n",
       "  <tbody>\n",
       "    <tr>\n",
       "      <th>0</th>\n",
       "      <td>1</td>\n",
       "      <td>4409.919140</td>\n",
       "      <td>25.599769</td>\n",
       "      <td>2021-01-01</td>\n",
       "      <td>1</td>\n",
       "    </tr>\n",
       "    <tr>\n",
       "      <th>1</th>\n",
       "      <td>1</td>\n",
       "      <td>2617.592153</td>\n",
       "      <td>15.816871</td>\n",
       "      <td>2021-01-18</td>\n",
       "      <td>1</td>\n",
       "    </tr>\n",
       "    <tr>\n",
       "      <th>2</th>\n",
       "      <td>1</td>\n",
       "      <td>754.159807</td>\n",
       "      <td>6.232113</td>\n",
       "      <td>2021-04-20</td>\n",
       "      <td>4</td>\n",
       "    </tr>\n",
       "    <tr>\n",
       "      <th>3</th>\n",
       "      <td>1</td>\n",
       "      <td>2694.783254</td>\n",
       "      <td>18.511000</td>\n",
       "      <td>2021-08-11</td>\n",
       "      <td>8</td>\n",
       "    </tr>\n",
       "    <tr>\n",
       "      <th>4</th>\n",
       "      <td>1</td>\n",
       "      <td>4028.687306</td>\n",
       "      <td>26.265803</td>\n",
       "      <td>2021-08-28</td>\n",
       "      <td>8</td>\n",
       "    </tr>\n",
       "    <tr>\n",
       "      <th>...</th>\n",
       "      <td>...</td>\n",
       "      <td>...</td>\n",
       "      <td>...</td>\n",
       "      <td>...</td>\n",
       "      <td>...</td>\n",
       "    </tr>\n",
       "    <tr>\n",
       "      <th>18063</th>\n",
       "      <td>1534</td>\n",
       "      <td>3781.098080</td>\n",
       "      <td>19.822962</td>\n",
       "      <td>2021-11-04</td>\n",
       "      <td>11</td>\n",
       "    </tr>\n",
       "    <tr>\n",
       "      <th>18064</th>\n",
       "      <td>1534</td>\n",
       "      <td>2840.423057</td>\n",
       "      <td>21.409799</td>\n",
       "      <td>2021-11-16</td>\n",
       "      <td>11</td>\n",
       "    </tr>\n",
       "    <tr>\n",
       "      <th>18065</th>\n",
       "      <td>1534</td>\n",
       "      <td>3826.185507</td>\n",
       "      <td>18.435051</td>\n",
       "      <td>2021-11-18</td>\n",
       "      <td>11</td>\n",
       "    </tr>\n",
       "    <tr>\n",
       "      <th>18066</th>\n",
       "      <td>1534</td>\n",
       "      <td>2902.308661</td>\n",
       "      <td>16.674362</td>\n",
       "      <td>2021-11-27</td>\n",
       "      <td>11</td>\n",
       "    </tr>\n",
       "    <tr>\n",
       "      <th>18067</th>\n",
       "      <td>1534</td>\n",
       "      <td>2371.711192</td>\n",
       "      <td>15.893917</td>\n",
       "      <td>2021-12-29</td>\n",
       "      <td>12</td>\n",
       "    </tr>\n",
       "  </tbody>\n",
       "</table>\n",
       "<p>18068 rows × 5 columns</p>\n",
       "</div>"
      ],
      "text/plain": [
       "       user_id     distance   duration       date  date_month\n",
       "0            1  4409.919140  25.599769 2021-01-01           1\n",
       "1            1  2617.592153  15.816871 2021-01-18           1\n",
       "2            1   754.159807   6.232113 2021-04-20           4\n",
       "3            1  2694.783254  18.511000 2021-08-11           8\n",
       "4            1  4028.687306  26.265803 2021-08-28           8\n",
       "...        ...          ...        ...        ...         ...\n",
       "18063     1534  3781.098080  19.822962 2021-11-04          11\n",
       "18064     1534  2840.423057  21.409799 2021-11-16          11\n",
       "18065     1534  3826.185507  18.435051 2021-11-18          11\n",
       "18066     1534  2902.308661  16.674362 2021-11-27          11\n",
       "18067     1534  2371.711192  15.893917 2021-12-29          12\n",
       "\n",
       "[18068 rows x 5 columns]"
      ]
     },
     "execution_count": 36,
     "metadata": {},
     "output_type": "execute_result"
    }
   ],
   "source": [
    "data_rides"
   ]
  },
  {
   "cell_type": "markdown",
   "id": "defb1f01",
   "metadata": {},
   "source": [
    "**Общий вывод по разделу:** в ходе предобработки данных всех трёх датафреймов были получены корректные данные. В датафрейме 'data_users' были удалены дубликаты из столбца 'user_id', так как в данном столбце указываются уникальные id пользователей - повторов не может быть. Столбцы name, age, city, subscription_type - были тоже проверены, но в них дубликатов, аномалий, пропусков не было обнаружено. В датафрейме 'data_rides' все столбцы были приведены в правильный тип данных, был создан еще один столбец 'date_month' на основе столбца 'date', который показывает номер месяца, когда была совершена поездка. А в датафрейме 'data_subs' - все данные были корректны, ничего не пришлось изменять."
   ]
  },
  {
   "cell_type": "markdown",
   "id": "212593c7",
   "metadata": {},
   "source": [
    "## Шаг 3. Исследовательский анализ данных"
   ]
  },
  {
   "cell_type": "markdown",
   "id": "e89edf99",
   "metadata": {},
   "source": [
    "### Исследование частоты встречаемости городов."
   ]
  },
  {
   "cell_type": "markdown",
   "id": "22e7774b",
   "metadata": {},
   "source": [
    "#### Исследование частоты встречаемости городов по количеству пользователей."
   ]
  },
  {
   "cell_type": "markdown",
   "id": "5d9982ff",
   "metadata": {},
   "source": [
    "1. Создадим сводную таблицу, в которой будет подсчитано количество пользователей из разных городов."
   ]
  },
  {
   "cell_type": "code",
   "execution_count": 37,
   "id": "a09f93d9",
   "metadata": {},
   "outputs": [
    {
     "data": {
      "text/html": [
       "<div>\n",
       "<style scoped>\n",
       "    .dataframe tbody tr th:only-of-type {\n",
       "        vertical-align: middle;\n",
       "    }\n",
       "\n",
       "    .dataframe tbody tr th {\n",
       "        vertical-align: top;\n",
       "    }\n",
       "\n",
       "    .dataframe thead th {\n",
       "        text-align: right;\n",
       "    }\n",
       "</style>\n",
       "<table border=\"1\" class=\"dataframe\">\n",
       "  <thead>\n",
       "    <tr style=\"text-align: right;\">\n",
       "      <th></th>\n",
       "      <th>user_id</th>\n",
       "    </tr>\n",
       "    <tr>\n",
       "      <th>city</th>\n",
       "      <th></th>\n",
       "    </tr>\n",
       "  </thead>\n",
       "  <tbody>\n",
       "    <tr>\n",
       "      <th>Пятигорск</th>\n",
       "      <td>219</td>\n",
       "    </tr>\n",
       "    <tr>\n",
       "      <th>Екатеринбург</th>\n",
       "      <td>204</td>\n",
       "    </tr>\n",
       "    <tr>\n",
       "      <th>Ростов-на-Дону</th>\n",
       "      <td>198</td>\n",
       "    </tr>\n",
       "    <tr>\n",
       "      <th>Краснодар</th>\n",
       "      <td>193</td>\n",
       "    </tr>\n",
       "    <tr>\n",
       "      <th>Сочи</th>\n",
       "      <td>189</td>\n",
       "    </tr>\n",
       "    <tr>\n",
       "      <th>Омск</th>\n",
       "      <td>183</td>\n",
       "    </tr>\n",
       "    <tr>\n",
       "      <th>Тюмень</th>\n",
       "      <td>180</td>\n",
       "    </tr>\n",
       "    <tr>\n",
       "      <th>Москва</th>\n",
       "      <td>168</td>\n",
       "    </tr>\n",
       "  </tbody>\n",
       "</table>\n",
       "</div>"
      ],
      "text/plain": [
       "                user_id\n",
       "city                   \n",
       "Пятигорск           219\n",
       "Екатеринбург        204\n",
       "Ростов-на-Дону      198\n",
       "Краснодар           193\n",
       "Сочи                189\n",
       "Омск                183\n",
       "Тюмень              180\n",
       "Москва              168"
      ]
     },
     "execution_count": 37,
     "metadata": {},
     "output_type": "execute_result"
    }
   ],
   "source": [
    "city_table = pd.pivot_table(data_users,\n",
    "                           index='city',\n",
    "                           values='user_id',\n",
    "                           aggfunc='count').sort_values(by='user_id', ascending=False)\n",
    "city_table"
   ]
  },
  {
   "cell_type": "markdown",
   "id": "26ffe95e",
   "metadata": {},
   "source": [
    "2. Создадим столбчатый график для изображения частоты количества пользователей по разным городам."
   ]
  },
  {
   "cell_type": "code",
   "execution_count": 38,
   "id": "d3de2fba",
   "metadata": {
    "scrolled": false
   },
   "outputs": [
    {
     "data": {
      "text/plain": [
       "Text(0.5, 1.0, 'График частоты количества пользователей по разным городам')"
      ]
     },
     "execution_count": 38,
     "metadata": {},
     "output_type": "execute_result"
    },
    {
     "data": {
      "image/png": "[encoded data removed]",
      "text/plain": [
       "<Figure size 864x360 with 1 Axes>"
      ]
     },
     "metadata": {
      "needs_background": "light"
     },
     "output_type": "display_data"
    }
   ],
   "source": [
    "city_table.plot(kind='bar', rot=45, figsize=(12,5), edgecolor='black')\n",
    "plt.xlabel('Города')\n",
    "plt.ylabel('Количество пользователей (частота)')\n",
    "plt.title('График частоты количества пользователей по разным городам')"
   ]
  },
  {
   "cell_type": "markdown",
   "id": "633716ed",
   "metadata": {},
   "source": [
    "**Вывод:** по выведенному графику видно, что большее количество пользователей в городе Пятигорск, потом идет Екатеринбург, Ростов-на-Дону. Последнее место занимает Москва."
   ]
  },
  {
   "cell_type": "markdown",
   "id": "54040ba8",
   "metadata": {},
   "source": [
    "#### Исследование частоты встречаемости городов по совершенным поездкам."
   ]
  },
  {
   "cell_type": "code",
   "execution_count": 39,
   "id": "836d7019",
   "metadata": {},
   "outputs": [],
   "source": [
    "merged_table = pd.merge(data_users, data_rides, on='user_id')\n",
    "pivot_merge_table = merged_table.pivot_table(index='city',\n",
    "                        values='user_id',\n",
    "                        aggfunc='count').sort_values(by='user_id', ascending=False)"
   ]
  },
  {
   "cell_type": "code",
   "execution_count": 40,
   "id": "7e2630d7",
   "metadata": {},
   "outputs": [
    {
     "data": {
      "text/plain": [
       "Text(0.5, 1.0, 'График частоты встречаемости городов по совершенным поездкам')"
      ]
     },
     "execution_count": 40,
     "metadata": {},
     "output_type": "execute_result"
    },
    {
     "data": {
      "image/png": "[encoded data removed]",
      "text/plain": [
       "<Figure size 864x360 with 1 Axes>"
      ]
     },
     "metadata": {
      "needs_background": "light"
     },
     "output_type": "display_data"
    }
   ],
   "source": [
    "pivot_merge_table.plot(kind='bar', rot=45, figsize=(12,5), edgecolor='black', color='darkgreen')\n",
    "plt.xlabel('Города')\n",
    "plt.ylabel('Количество поездок (частота)')\n",
    "plt.title('График частоты встречаемости городов по совершенным поездкам')"
   ]
  },
  {
   "cell_type": "markdown",
   "id": "149a9e03",
   "metadata": {},
   "source": [
    "**Вывод:** мы видим, что графические показатели частот количества уникальных пользователей и количества поездок приблизительно похожи, выглядят одинаково. Единственное различие по месту частоты - Тюмень опередила Омск по количеству поездок."
   ]
  },
  {
   "cell_type": "markdown",
   "id": "3aaefe70",
   "metadata": {},
   "source": [
    "### Исследование соотношения пользователей с подпиской и без подписки."
   ]
  },
  {
   "cell_type": "markdown",
   "id": "0f2228c7",
   "metadata": {},
   "source": [
    "1. Выведем таблицу, в которой расположены нужные данные."
   ]
  },
  {
   "cell_type": "code",
   "execution_count": 41,
   "id": "5c0b8993",
   "metadata": {},
   "outputs": [
    {
     "data": {
      "text/html": [
       "<div>\n",
       "<style scoped>\n",
       "    .dataframe tbody tr th:only-of-type {\n",
       "        vertical-align: middle;\n",
       "    }\n",
       "\n",
       "    .dataframe tbody tr th {\n",
       "        vertical-align: top;\n",
       "    }\n",
       "\n",
       "    .dataframe thead th {\n",
       "        text-align: right;\n",
       "    }\n",
       "</style>\n",
       "<table border=\"1\" class=\"dataframe\">\n",
       "  <thead>\n",
       "    <tr style=\"text-align: right;\">\n",
       "      <th></th>\n",
       "      <th>user_id</th>\n",
       "      <th>name</th>\n",
       "      <th>age</th>\n",
       "      <th>city</th>\n",
       "      <th>subscription_type</th>\n",
       "    </tr>\n",
       "  </thead>\n",
       "  <tbody>\n",
       "    <tr>\n",
       "      <th>0</th>\n",
       "      <td>1</td>\n",
       "      <td>Кира</td>\n",
       "      <td>22</td>\n",
       "      <td>Тюмень</td>\n",
       "      <td>ultra</td>\n",
       "    </tr>\n",
       "    <tr>\n",
       "      <th>1</th>\n",
       "      <td>2</td>\n",
       "      <td>Станислав</td>\n",
       "      <td>31</td>\n",
       "      <td>Омск</td>\n",
       "      <td>ultra</td>\n",
       "    </tr>\n",
       "    <tr>\n",
       "      <th>2</th>\n",
       "      <td>3</td>\n",
       "      <td>Алексей</td>\n",
       "      <td>20</td>\n",
       "      <td>Москва</td>\n",
       "      <td>ultra</td>\n",
       "    </tr>\n",
       "    <tr>\n",
       "      <th>3</th>\n",
       "      <td>4</td>\n",
       "      <td>Константин</td>\n",
       "      <td>26</td>\n",
       "      <td>Ростов-на-Дону</td>\n",
       "      <td>ultra</td>\n",
       "    </tr>\n",
       "    <tr>\n",
       "      <th>4</th>\n",
       "      <td>5</td>\n",
       "      <td>Адель</td>\n",
       "      <td>28</td>\n",
       "      <td>Омск</td>\n",
       "      <td>ultra</td>\n",
       "    </tr>\n",
       "    <tr>\n",
       "      <th>...</th>\n",
       "      <td>...</td>\n",
       "      <td>...</td>\n",
       "      <td>...</td>\n",
       "      <td>...</td>\n",
       "      <td>...</td>\n",
       "    </tr>\n",
       "    <tr>\n",
       "      <th>1529</th>\n",
       "      <td>1530</td>\n",
       "      <td>Ростислав</td>\n",
       "      <td>29</td>\n",
       "      <td>Сочи</td>\n",
       "      <td>free</td>\n",
       "    </tr>\n",
       "    <tr>\n",
       "      <th>1530</th>\n",
       "      <td>1531</td>\n",
       "      <td>Никита</td>\n",
       "      <td>25</td>\n",
       "      <td>Пятигорск</td>\n",
       "      <td>free</td>\n",
       "    </tr>\n",
       "    <tr>\n",
       "      <th>1531</th>\n",
       "      <td>1532</td>\n",
       "      <td>Алексей</td>\n",
       "      <td>26</td>\n",
       "      <td>Тюмень</td>\n",
       "      <td>free</td>\n",
       "    </tr>\n",
       "    <tr>\n",
       "      <th>1532</th>\n",
       "      <td>1533</td>\n",
       "      <td>Степан</td>\n",
       "      <td>22</td>\n",
       "      <td>Краснодар</td>\n",
       "      <td>free</td>\n",
       "    </tr>\n",
       "    <tr>\n",
       "      <th>1533</th>\n",
       "      <td>1534</td>\n",
       "      <td>Альберт</td>\n",
       "      <td>25</td>\n",
       "      <td>Краснодар</td>\n",
       "      <td>free</td>\n",
       "    </tr>\n",
       "  </tbody>\n",
       "</table>\n",
       "<p>1534 rows × 5 columns</p>\n",
       "</div>"
      ],
      "text/plain": [
       "      user_id        name  age            city subscription_type\n",
       "0           1        Кира   22          Тюмень             ultra\n",
       "1           2   Станислав   31            Омск             ultra\n",
       "2           3     Алексей   20          Москва             ultra\n",
       "3           4  Константин   26  Ростов-на-Дону             ultra\n",
       "4           5       Адель   28            Омск             ultra\n",
       "...       ...         ...  ...             ...               ...\n",
       "1529     1530   Ростислав   29            Сочи              free\n",
       "1530     1531      Никита   25       Пятигорск              free\n",
       "1531     1532     Алексей   26          Тюмень              free\n",
       "1532     1533      Степан   22       Краснодар              free\n",
       "1533     1534     Альберт   25       Краснодар              free\n",
       "\n",
       "[1534 rows x 5 columns]"
      ]
     },
     "execution_count": 41,
     "metadata": {},
     "output_type": "execute_result"
    }
   ],
   "source": [
    "data_users"
   ]
  },
  {
   "cell_type": "markdown",
   "id": "e0ac7704",
   "metadata": {},
   "source": [
    "2. Подсчитаем количество человек с подпиской и без."
   ]
  },
  {
   "cell_type": "code",
   "execution_count": 42,
   "id": "65375654",
   "metadata": {},
   "outputs": [
    {
     "data": {
      "text/plain": [
       "free     835\n",
       "ultra    699\n",
       "Name: subscription_type, dtype: int64"
      ]
     },
     "execution_count": 42,
     "metadata": {},
     "output_type": "execute_result"
    }
   ],
   "source": [
    "data_users['subscription_type'].value_counts()"
   ]
  },
  {
   "cell_type": "markdown",
   "id": "39ca2463",
   "metadata": {},
   "source": [
    "3. Создадим сводную таблицу, в которой первый столбце будет названия типов подписки, а во втором столбце - количество человек по каждой подписке."
   ]
  },
  {
   "cell_type": "code",
   "execution_count": 43,
   "id": "f5040564",
   "metadata": {},
   "outputs": [
    {
     "data": {
      "text/html": [
       "<div>\n",
       "<style scoped>\n",
       "    .dataframe tbody tr th:only-of-type {\n",
       "        vertical-align: middle;\n",
       "    }\n",
       "\n",
       "    .dataframe tbody tr th {\n",
       "        vertical-align: top;\n",
       "    }\n",
       "\n",
       "    .dataframe thead th {\n",
       "        text-align: right;\n",
       "    }\n",
       "</style>\n",
       "<table border=\"1\" class=\"dataframe\">\n",
       "  <thead>\n",
       "    <tr style=\"text-align: right;\">\n",
       "      <th></th>\n",
       "      <th>user_id</th>\n",
       "    </tr>\n",
       "    <tr>\n",
       "      <th>subscription_type</th>\n",
       "      <th></th>\n",
       "    </tr>\n",
       "  </thead>\n",
       "  <tbody>\n",
       "    <tr>\n",
       "      <th>free</th>\n",
       "      <td>835</td>\n",
       "    </tr>\n",
       "    <tr>\n",
       "      <th>ultra</th>\n",
       "      <td>699</td>\n",
       "    </tr>\n",
       "  </tbody>\n",
       "</table>\n",
       "</div>"
      ],
      "text/plain": [
       "                   user_id\n",
       "subscription_type         \n",
       "free                   835\n",
       "ultra                  699"
      ]
     },
     "execution_count": 43,
     "metadata": {},
     "output_type": "execute_result"
    }
   ],
   "source": [
    "sub_pivot_table = pd.pivot_table(data_users,\n",
    "                                index='subscription_type',\n",
    "                                values='user_id',\n",
    "                                aggfunc='count')\n",
    "sub_pivot_table"
   ]
  },
  {
   "cell_type": "markdown",
   "id": "a4be6d09",
   "metadata": {},
   "source": [
    "4. Создадим столбчатый график."
   ]
  },
  {
   "cell_type": "code",
   "execution_count": 44,
   "id": "6eb15f05",
   "metadata": {},
   "outputs": [
    {
     "data": {
      "text/plain": [
       "Text(0.5, 1.0, 'Соотношения пользователей с подпиской и без подписки')"
      ]
     },
     "execution_count": 44,
     "metadata": {},
     "output_type": "execute_result"
    },
    {
     "data": {
      "image/png": "[encoded data removed]",
      "text/plain": [
       "<Figure size 360x360 with 1 Axes>"
      ]
     },
     "metadata": {
      "needs_background": "light"
     },
     "output_type": "display_data"
    }
   ],
   "source": [
    "sub_pivot_table.plot(kind='bar', rot=45, figsize=(5,5), edgecolor='black', color='C8')\n",
    "plt.xlabel('Вид подписки')\n",
    "plt.ylabel('Количество пользователей')\n",
    "plt.title('Соотношения пользователей с подпиской и без подписки')"
   ]
  },
  {
   "cell_type": "markdown",
   "id": "9242c4f3",
   "metadata": {},
   "source": [
    "**Вывод:** по столбчатому графику видно, что количество без подписки больше, но не существенно."
   ]
  },
  {
   "cell_type": "markdown",
   "id": "de532a57",
   "metadata": {},
   "source": [
    "5. Создадим круговую диаграмму для определения процентов каждой подписки."
   ]
  },
  {
   "cell_type": "code",
   "execution_count": 45,
   "id": "4851104f",
   "metadata": {},
   "outputs": [
    {
     "data": {
      "image/png": "[encoded data removed]",
      "text/plain": [
       "<Figure size 432x288 with 1 Axes>"
      ]
     },
     "metadata": {},
     "output_type": "display_data"
    }
   ],
   "source": [
    "subscription_counts = data_users['subscription_type'].value_counts()\n",
    "\n",
    "# Получение значений и меток\n",
    "labels = subscription_counts.index\n",
    "values = subscription_counts.values\n",
    "\n",
    "# Построение графика\n",
    "plt.pie(values, labels=labels, autopct='%1.1f%%', radius=1.1)\n",
    "plt.title('Распределение подписок')\n",
    "plt.show()"
   ]
  },
  {
   "cell_type": "markdown",
   "id": "d677ccab",
   "metadata": {},
   "source": [
    "6. Определим к дополнению конверсию, какой процент от общего числа пользователей покупает подписку."
   ]
  },
  {
   "cell_type": "code",
   "execution_count": 46,
   "id": "4fcd5e93",
   "metadata": {},
   "outputs": [
    {
     "data": {
      "text/plain": [
       "0.4556714471968709"
      ]
     },
     "execution_count": 46,
     "metadata": {},
     "output_type": "execute_result"
    }
   ],
   "source": [
    "subscription_counts = data_users['subscription_type'].value_counts()\n",
    "total_users = len(data_users)\n",
    "ultra_count = subscription_counts['ultra']\n",
    "conversion_rate = ultra_count / total_users\n",
    "conversion_rate\n"
   ]
  },
  {
   "cell_type": "markdown",
   "id": "dfa4ab07",
   "metadata": {},
   "source": [
    "**Вывод:** по выведенным данным мы видим, что людей без подписки больше, чем с подпиской. Но хочется подметить, что у компании очень высокая конверсия, что очень хорошо."
   ]
  },
  {
   "cell_type": "markdown",
   "id": "eabbb8fb",
   "metadata": {},
   "source": [
    "### Исследование возраста пользователей."
   ]
  },
  {
   "cell_type": "markdown",
   "id": "e4ec8225",
   "metadata": {},
   "source": [
    "1. Выведем основную информацию с помощью метода describe()."
   ]
  },
  {
   "cell_type": "code",
   "execution_count": 47,
   "id": "c1a854a1",
   "metadata": {},
   "outputs": [
    {
     "data": {
      "text/plain": [
       "count    1534.000000\n",
       "mean       24.903520\n",
       "std         4.572367\n",
       "min        12.000000\n",
       "25%        22.000000\n",
       "50%        25.000000\n",
       "75%        28.000000\n",
       "max        43.000000\n",
       "Name: age, dtype: float64"
      ]
     },
     "execution_count": 47,
     "metadata": {},
     "output_type": "execute_result"
    }
   ],
   "source": [
    "data_users['age'].describe()"
   ]
  },
  {
   "cell_type": "markdown",
   "id": "934f9180",
   "metadata": {},
   "source": [
    "2. Изобразим столбчатую гистограмму с линией, которая будет показывать распределение."
   ]
  },
  {
   "cell_type": "code",
   "execution_count": 48,
   "id": "77f10bf4",
   "metadata": {},
   "outputs": [
    {
     "data": {
      "image/png": "[encoded data removed]",
      "text/plain": [
       "<Figure size 432x288 with 1 Axes>"
      ]
     },
     "metadata": {
      "needs_background": "light"
     },
     "output_type": "display_data"
    }
   ],
   "source": [
    "sns.histplot(data_users['age'], bins=30, color='darkblue', edgecolor='black', kde=True, linewidth=1)\n",
    "\n",
    "plt.xlabel('Возраст')\n",
    "plt.ylabel('Частота')\n",
    "plt.title('Распределение возраста пользователей')\n",
    "\n",
    "plt.show()\n"
   ]
  },
  {
   "cell_type": "code",
   "execution_count": 49,
   "id": "8abfea19",
   "metadata": {},
   "outputs": [
    {
     "data": {
      "text/plain": [
       "Text(0.5, 1.0, 'Ящик с усами - распределение возраста пользователей')"
      ]
     },
     "execution_count": 49,
     "metadata": {},
     "output_type": "execute_result"
    },
    {
     "data": {
      "image/png": "[encoded data removed]",
      "text/plain": [
       "<Figure size 576x360 with 1 Axes>"
      ]
     },
     "metadata": {
      "needs_background": "light"
     },
     "output_type": "display_data"
    }
   ],
   "source": [
    "data_users.boxplot(column=['age'], figsize=(8,5), grid=True)\n",
    "plt.ylabel('Возраст пользователей')\n",
    "plt.title('Ящик с усами - распределение возраста пользователей')"
   ]
  },
  {
   "cell_type": "markdown",
   "id": "fc6f6713",
   "metadata": {},
   "source": [
    "**Вывод:** основная часть пользователей возрастом от 22 до 28 лет. Медиана: 25 лет. Все что меньше 15 лет и больше 40 можно считать редкими значениями.\n"
   ]
  },
  {
   "cell_type": "markdown",
   "id": "3661688b",
   "metadata": {},
   "source": [
    "### Исследование расстояния, которое пользователь преодолел за одну поездку."
   ]
  },
  {
   "cell_type": "markdown",
   "id": "a5870feb",
   "metadata": {},
   "source": [
    "1. Выведем основную информацию с помощью метода describe()."
   ]
  },
  {
   "cell_type": "code",
   "execution_count": 50,
   "id": "6944ef4e",
   "metadata": {},
   "outputs": [
    {
     "data": {
      "text/plain": [
       "count    18068.000000\n",
       "mean      3070.659976\n",
       "std       1116.831209\n",
       "min          0.855683\n",
       "25%       2543.226360\n",
       "50%       3133.609994\n",
       "75%       3776.222735\n",
       "max       7211.007745\n",
       "Name: distance, dtype: float64"
      ]
     },
     "execution_count": 50,
     "metadata": {},
     "output_type": "execute_result"
    }
   ],
   "source": [
    "data_rides['distance'].describe()"
   ]
  },
  {
   "cell_type": "markdown",
   "id": "68099d64",
   "metadata": {},
   "source": [
    "2. Изобразим столбчатую гистограмму с линией, которая будет показывать распределение."
   ]
  },
  {
   "cell_type": "code",
   "execution_count": 51,
   "id": "9cd06a3e",
   "metadata": {},
   "outputs": [
    {
     "data": {
      "image/png": "[encoded data removed]",
      "text/plain": [
       "<Figure size 432x288 with 1 Axes>"
      ]
     },
     "metadata": {
      "needs_background": "light"
     },
     "output_type": "display_data"
    }
   ],
   "source": [
    "sns.histplot(data_rides['distance'], bins=30, color='darkblue', edgecolor='black', kde=True, linewidth=1)\n",
    "\n",
    "plt.xlabel('Дистанция поездки')\n",
    "plt.ylabel('Частота')\n",
    "plt.title('Распределение дистанции поездки')\n",
    "\n",
    "plt.show()\n"
   ]
  },
  {
   "cell_type": "code",
   "execution_count": 52,
   "id": "1ec1f75d",
   "metadata": {},
   "outputs": [
    {
     "data": {
      "text/plain": [
       "Text(0.5, 1.0, 'Ящик с усами - распределение дистанции пользователей')"
      ]
     },
     "execution_count": 52,
     "metadata": {},
     "output_type": "execute_result"
    },
    {
     "data": {
      "image/png": "[encoded data removed]",
      "text/plain": [
       "<Figure size 576x360 with 1 Axes>"
      ]
     },
     "metadata": {
      "needs_background": "light"
     },
     "output_type": "display_data"
    }
   ],
   "source": [
    "data_rides.boxplot(column=['distance'], figsize=(8,5), grid=True)\n",
    "plt.ylabel('Дистанция поездки')\n",
    "plt.title('Ящик с усами - распределение дистанции пользователей')"
   ]
  },
  {
   "cell_type": "markdown",
   "id": "6bd31e61",
   "metadata": {},
   "source": [
    "**Вывод:** основная часть поездок занимает от 2500 до 3800 метров. Медиана 3133 метра. Поездки на расстояние более 5 км редки. Однако на гистограмме видно, что некоторая часть пользователей использует самокаты для коротких поездок - до 1500 м."
   ]
  },
  {
   "cell_type": "markdown",
   "id": "dcc00617",
   "metadata": {},
   "source": [
    "### Исследование продолжительности поездок."
   ]
  },
  {
   "cell_type": "markdown",
   "id": "a4cd6be0",
   "metadata": {},
   "source": [
    "1. Выведем основную информацию с помощью метода describe()."
   ]
  },
  {
   "cell_type": "code",
   "execution_count": 53,
   "id": "d6261ca1",
   "metadata": {},
   "outputs": [
    {
     "data": {
      "text/plain": [
       "count    18068.000000\n",
       "mean        17.805011\n",
       "std          6.091051\n",
       "min          0.500000\n",
       "25%         13.597563\n",
       "50%         17.678395\n",
       "75%         21.724800\n",
       "max         40.823963\n",
       "Name: duration, dtype: float64"
      ]
     },
     "execution_count": 53,
     "metadata": {},
     "output_type": "execute_result"
    }
   ],
   "source": [
    "data_rides['duration'].describe()"
   ]
  },
  {
   "cell_type": "markdown",
   "id": "e08b27c7",
   "metadata": {},
   "source": [
    "2. Изобразим столбчатую гистограмму с линией, которая будет показывать распределение."
   ]
  },
  {
   "cell_type": "code",
   "execution_count": 54,
   "id": "871eb4c1",
   "metadata": {},
   "outputs": [
    {
     "data": {
      "image/png": "[encoded data removed]",
      "text/plain": [
       "<Figure size 432x288 with 1 Axes>"
      ]
     },
     "metadata": {
      "needs_background": "light"
     },
     "output_type": "display_data"
    }
   ],
   "source": [
    "sns.histplot(data_rides['duration'], bins=30, color='darkblue', edgecolor='black', kde=True, linewidth=1)\n",
    "\n",
    "plt.xlabel('Длительность поездки')\n",
    "plt.ylabel('Частота')\n",
    "plt.title('Распределение длительности поездок')\n",
    "\n",
    "plt.show()"
   ]
  },
  {
   "cell_type": "code",
   "execution_count": 55,
   "id": "0f4f4b23",
   "metadata": {},
   "outputs": [
    {
     "data": {
      "text/plain": [
       "Text(0.5, 1.0, 'Ящик с усами - распределение длительности поездки в минутах')"
      ]
     },
     "execution_count": 55,
     "metadata": {},
     "output_type": "execute_result"
    },
    {
     "data": {
      "image/png": "[encoded data removed]",
      "text/plain": [
       "<Figure size 576x360 with 1 Axes>"
      ]
     },
     "metadata": {
      "needs_background": "light"
     },
     "output_type": "display_data"
    }
   ],
   "source": [
    "data_rides.boxplot(column=['duration'], figsize=(8,5), grid=True)\n",
    "plt.ylabel('Длительность поездки')\n",
    "plt.title('Ящик с усами - распределение длительности поездки в минутах')"
   ]
  },
  {
   "cell_type": "markdown",
   "id": "2e5a9295",
   "metadata": {},
   "source": [
    "**Вывод:** по выведенным данным мы можем увидеть, что средняя продолжительность поездок около 17 минут. Минимальное - меньше минуты. Максимальное затянулось на 40 минут. Также, по графику видно, что он принимает нормальное распределние."
   ]
  },
  {
   "cell_type": "markdown",
   "id": "4ef51331",
   "metadata": {},
   "source": [
    "## Шаг 4. Объединение данных"
   ]
  },
  {
   "cell_type": "markdown",
   "id": "449db67a",
   "metadata": {},
   "source": [
    "### Объединие данных о пользователях, поездках и подписках в один датафрейм."
   ]
  },
  {
   "cell_type": "markdown",
   "id": "47672228",
   "metadata": {},
   "source": [
    "1. Выведем оба датафрейма, которые нужно будет объединить."
   ]
  },
  {
   "cell_type": "code",
   "execution_count": 56,
   "id": "6bf288b5",
   "metadata": {},
   "outputs": [
    {
     "data": {
      "text/html": [
       "<div>\n",
       "<style scoped>\n",
       "    .dataframe tbody tr th:only-of-type {\n",
       "        vertical-align: middle;\n",
       "    }\n",
       "\n",
       "    .dataframe tbody tr th {\n",
       "        vertical-align: top;\n",
       "    }\n",
       "\n",
       "    .dataframe thead th {\n",
       "        text-align: right;\n",
       "    }\n",
       "</style>\n",
       "<table border=\"1\" class=\"dataframe\">\n",
       "  <thead>\n",
       "    <tr style=\"text-align: right;\">\n",
       "      <th></th>\n",
       "      <th>user_id</th>\n",
       "      <th>name</th>\n",
       "      <th>age</th>\n",
       "      <th>city</th>\n",
       "      <th>subscription_type</th>\n",
       "    </tr>\n",
       "  </thead>\n",
       "  <tbody>\n",
       "    <tr>\n",
       "      <th>0</th>\n",
       "      <td>1</td>\n",
       "      <td>Кира</td>\n",
       "      <td>22</td>\n",
       "      <td>Тюмень</td>\n",
       "      <td>ultra</td>\n",
       "    </tr>\n",
       "    <tr>\n",
       "      <th>1</th>\n",
       "      <td>2</td>\n",
       "      <td>Станислав</td>\n",
       "      <td>31</td>\n",
       "      <td>Омск</td>\n",
       "      <td>ultra</td>\n",
       "    </tr>\n",
       "    <tr>\n",
       "      <th>2</th>\n",
       "      <td>3</td>\n",
       "      <td>Алексей</td>\n",
       "      <td>20</td>\n",
       "      <td>Москва</td>\n",
       "      <td>ultra</td>\n",
       "    </tr>\n",
       "    <tr>\n",
       "      <th>3</th>\n",
       "      <td>4</td>\n",
       "      <td>Константин</td>\n",
       "      <td>26</td>\n",
       "      <td>Ростов-на-Дону</td>\n",
       "      <td>ultra</td>\n",
       "    </tr>\n",
       "    <tr>\n",
       "      <th>4</th>\n",
       "      <td>5</td>\n",
       "      <td>Адель</td>\n",
       "      <td>28</td>\n",
       "      <td>Омск</td>\n",
       "      <td>ultra</td>\n",
       "    </tr>\n",
       "    <tr>\n",
       "      <th>...</th>\n",
       "      <td>...</td>\n",
       "      <td>...</td>\n",
       "      <td>...</td>\n",
       "      <td>...</td>\n",
       "      <td>...</td>\n",
       "    </tr>\n",
       "    <tr>\n",
       "      <th>1529</th>\n",
       "      <td>1530</td>\n",
       "      <td>Ростислав</td>\n",
       "      <td>29</td>\n",
       "      <td>Сочи</td>\n",
       "      <td>free</td>\n",
       "    </tr>\n",
       "    <tr>\n",
       "      <th>1530</th>\n",
       "      <td>1531</td>\n",
       "      <td>Никита</td>\n",
       "      <td>25</td>\n",
       "      <td>Пятигорск</td>\n",
       "      <td>free</td>\n",
       "    </tr>\n",
       "    <tr>\n",
       "      <th>1531</th>\n",
       "      <td>1532</td>\n",
       "      <td>Алексей</td>\n",
       "      <td>26</td>\n",
       "      <td>Тюмень</td>\n",
       "      <td>free</td>\n",
       "    </tr>\n",
       "    <tr>\n",
       "      <th>1532</th>\n",
       "      <td>1533</td>\n",
       "      <td>Степан</td>\n",
       "      <td>22</td>\n",
       "      <td>Краснодар</td>\n",
       "      <td>free</td>\n",
       "    </tr>\n",
       "    <tr>\n",
       "      <th>1533</th>\n",
       "      <td>1534</td>\n",
       "      <td>Альберт</td>\n",
       "      <td>25</td>\n",
       "      <td>Краснодар</td>\n",
       "      <td>free</td>\n",
       "    </tr>\n",
       "  </tbody>\n",
       "</table>\n",
       "<p>1534 rows × 5 columns</p>\n",
       "</div>"
      ],
      "text/plain": [
       "      user_id        name  age            city subscription_type\n",
       "0           1        Кира   22          Тюмень             ultra\n",
       "1           2   Станислав   31            Омск             ultra\n",
       "2           3     Алексей   20          Москва             ultra\n",
       "3           4  Константин   26  Ростов-на-Дону             ultra\n",
       "4           5       Адель   28            Омск             ultra\n",
       "...       ...         ...  ...             ...               ...\n",
       "1529     1530   Ростислав   29            Сочи              free\n",
       "1530     1531      Никита   25       Пятигорск              free\n",
       "1531     1532     Алексей   26          Тюмень              free\n",
       "1532     1533      Степан   22       Краснодар              free\n",
       "1533     1534     Альберт   25       Краснодар              free\n",
       "\n",
       "[1534 rows x 5 columns]"
      ]
     },
     "execution_count": 56,
     "metadata": {},
     "output_type": "execute_result"
    }
   ],
   "source": [
    "data_users"
   ]
  },
  {
   "cell_type": "code",
   "execution_count": 57,
   "id": "3c584e86",
   "metadata": {},
   "outputs": [
    {
     "data": {
      "text/plain": [
       "(1534, 5)"
      ]
     },
     "execution_count": 57,
     "metadata": {},
     "output_type": "execute_result"
    }
   ],
   "source": [
    "data_users.shape"
   ]
  },
  {
   "cell_type": "markdown",
   "id": "e9b8332d",
   "metadata": {},
   "source": [
    "**Размер датасета:** датафрейм 'data_users' состоит из 1534 строк и 5 столбцов. "
   ]
  },
  {
   "cell_type": "code",
   "execution_count": 58,
   "id": "b7824e2b",
   "metadata": {},
   "outputs": [
    {
     "data": {
      "text/html": [
       "<div>\n",
       "<style scoped>\n",
       "    .dataframe tbody tr th:only-of-type {\n",
       "        vertical-align: middle;\n",
       "    }\n",
       "\n",
       "    .dataframe tbody tr th {\n",
       "        vertical-align: top;\n",
       "    }\n",
       "\n",
       "    .dataframe thead th {\n",
       "        text-align: right;\n",
       "    }\n",
       "</style>\n",
       "<table border=\"1\" class=\"dataframe\">\n",
       "  <thead>\n",
       "    <tr style=\"text-align: right;\">\n",
       "      <th></th>\n",
       "      <th>user_id</th>\n",
       "      <th>distance</th>\n",
       "      <th>duration</th>\n",
       "      <th>date</th>\n",
       "      <th>date_month</th>\n",
       "    </tr>\n",
       "  </thead>\n",
       "  <tbody>\n",
       "    <tr>\n",
       "      <th>0</th>\n",
       "      <td>1</td>\n",
       "      <td>4409.919140</td>\n",
       "      <td>25.599769</td>\n",
       "      <td>2021-01-01</td>\n",
       "      <td>1</td>\n",
       "    </tr>\n",
       "    <tr>\n",
       "      <th>1</th>\n",
       "      <td>1</td>\n",
       "      <td>2617.592153</td>\n",
       "      <td>15.816871</td>\n",
       "      <td>2021-01-18</td>\n",
       "      <td>1</td>\n",
       "    </tr>\n",
       "    <tr>\n",
       "      <th>2</th>\n",
       "      <td>1</td>\n",
       "      <td>754.159807</td>\n",
       "      <td>6.232113</td>\n",
       "      <td>2021-04-20</td>\n",
       "      <td>4</td>\n",
       "    </tr>\n",
       "    <tr>\n",
       "      <th>3</th>\n",
       "      <td>1</td>\n",
       "      <td>2694.783254</td>\n",
       "      <td>18.511000</td>\n",
       "      <td>2021-08-11</td>\n",
       "      <td>8</td>\n",
       "    </tr>\n",
       "    <tr>\n",
       "      <th>4</th>\n",
       "      <td>1</td>\n",
       "      <td>4028.687306</td>\n",
       "      <td>26.265803</td>\n",
       "      <td>2021-08-28</td>\n",
       "      <td>8</td>\n",
       "    </tr>\n",
       "    <tr>\n",
       "      <th>...</th>\n",
       "      <td>...</td>\n",
       "      <td>...</td>\n",
       "      <td>...</td>\n",
       "      <td>...</td>\n",
       "      <td>...</td>\n",
       "    </tr>\n",
       "    <tr>\n",
       "      <th>18063</th>\n",
       "      <td>1534</td>\n",
       "      <td>3781.098080</td>\n",
       "      <td>19.822962</td>\n",
       "      <td>2021-11-04</td>\n",
       "      <td>11</td>\n",
       "    </tr>\n",
       "    <tr>\n",
       "      <th>18064</th>\n",
       "      <td>1534</td>\n",
       "      <td>2840.423057</td>\n",
       "      <td>21.409799</td>\n",
       "      <td>2021-11-16</td>\n",
       "      <td>11</td>\n",
       "    </tr>\n",
       "    <tr>\n",
       "      <th>18065</th>\n",
       "      <td>1534</td>\n",
       "      <td>3826.185507</td>\n",
       "      <td>18.435051</td>\n",
       "      <td>2021-11-18</td>\n",
       "      <td>11</td>\n",
       "    </tr>\n",
       "    <tr>\n",
       "      <th>18066</th>\n",
       "      <td>1534</td>\n",
       "      <td>2902.308661</td>\n",
       "      <td>16.674362</td>\n",
       "      <td>2021-11-27</td>\n",
       "      <td>11</td>\n",
       "    </tr>\n",
       "    <tr>\n",
       "      <th>18067</th>\n",
       "      <td>1534</td>\n",
       "      <td>2371.711192</td>\n",
       "      <td>15.893917</td>\n",
       "      <td>2021-12-29</td>\n",
       "      <td>12</td>\n",
       "    </tr>\n",
       "  </tbody>\n",
       "</table>\n",
       "<p>18068 rows × 5 columns</p>\n",
       "</div>"
      ],
      "text/plain": [
       "       user_id     distance   duration       date  date_month\n",
       "0            1  4409.919140  25.599769 2021-01-01           1\n",
       "1            1  2617.592153  15.816871 2021-01-18           1\n",
       "2            1   754.159807   6.232113 2021-04-20           4\n",
       "3            1  2694.783254  18.511000 2021-08-11           8\n",
       "4            1  4028.687306  26.265803 2021-08-28           8\n",
       "...        ...          ...        ...        ...         ...\n",
       "18063     1534  3781.098080  19.822962 2021-11-04          11\n",
       "18064     1534  2840.423057  21.409799 2021-11-16          11\n",
       "18065     1534  3826.185507  18.435051 2021-11-18          11\n",
       "18066     1534  2902.308661  16.674362 2021-11-27          11\n",
       "18067     1534  2371.711192  15.893917 2021-12-29          12\n",
       "\n",
       "[18068 rows x 5 columns]"
      ]
     },
     "execution_count": 58,
     "metadata": {},
     "output_type": "execute_result"
    }
   ],
   "source": [
    "data_rides"
   ]
  },
  {
   "cell_type": "code",
   "execution_count": 59,
   "id": "742bf389",
   "metadata": {},
   "outputs": [
    {
     "data": {
      "text/plain": [
       "(18068, 5)"
      ]
     },
     "execution_count": 59,
     "metadata": {},
     "output_type": "execute_result"
    }
   ],
   "source": [
    "data_rides.shape"
   ]
  },
  {
   "cell_type": "markdown",
   "id": "739851f1",
   "metadata": {},
   "source": [
    "**Размер датасета:** датафрейм 'data_rides' состоит из 18068 строк и 5 столбцов. "
   ]
  },
  {
   "cell_type": "markdown",
   "id": "5775f1b1",
   "metadata": {},
   "source": [
    "**Вывод:** мы видим, что у обоих датафреймов есть общий столбец 'user_id', по которому мы можем их объединить."
   ]
  },
  {
   "cell_type": "markdown",
   "id": "96edaec4",
   "metadata": {},
   "source": [
    "2. С помощью метода merge() объединим оба датафрейма."
   ]
  },
  {
   "cell_type": "code",
   "execution_count": 60,
   "id": "4a8cdb9a",
   "metadata": {},
   "outputs": [
    {
     "data": {
      "text/html": [
       "<div>\n",
       "<style scoped>\n",
       "    .dataframe tbody tr th:only-of-type {\n",
       "        vertical-align: middle;\n",
       "    }\n",
       "\n",
       "    .dataframe tbody tr th {\n",
       "        vertical-align: top;\n",
       "    }\n",
       "\n",
       "    .dataframe thead th {\n",
       "        text-align: right;\n",
       "    }\n",
       "</style>\n",
       "<table border=\"1\" class=\"dataframe\">\n",
       "  <thead>\n",
       "    <tr style=\"text-align: right;\">\n",
       "      <th></th>\n",
       "      <th>user_id</th>\n",
       "      <th>name</th>\n",
       "      <th>age</th>\n",
       "      <th>city</th>\n",
       "      <th>subscription_type</th>\n",
       "      <th>distance</th>\n",
       "      <th>duration</th>\n",
       "      <th>date</th>\n",
       "      <th>date_month</th>\n",
       "    </tr>\n",
       "  </thead>\n",
       "  <tbody>\n",
       "    <tr>\n",
       "      <th>0</th>\n",
       "      <td>1</td>\n",
       "      <td>Кира</td>\n",
       "      <td>22</td>\n",
       "      <td>Тюмень</td>\n",
       "      <td>ultra</td>\n",
       "      <td>4409.919140</td>\n",
       "      <td>25.599769</td>\n",
       "      <td>2021-01-01</td>\n",
       "      <td>1</td>\n",
       "    </tr>\n",
       "    <tr>\n",
       "      <th>1</th>\n",
       "      <td>1</td>\n",
       "      <td>Кира</td>\n",
       "      <td>22</td>\n",
       "      <td>Тюмень</td>\n",
       "      <td>ultra</td>\n",
       "      <td>2617.592153</td>\n",
       "      <td>15.816871</td>\n",
       "      <td>2021-01-18</td>\n",
       "      <td>1</td>\n",
       "    </tr>\n",
       "    <tr>\n",
       "      <th>2</th>\n",
       "      <td>1</td>\n",
       "      <td>Кира</td>\n",
       "      <td>22</td>\n",
       "      <td>Тюмень</td>\n",
       "      <td>ultra</td>\n",
       "      <td>754.159807</td>\n",
       "      <td>6.232113</td>\n",
       "      <td>2021-04-20</td>\n",
       "      <td>4</td>\n",
       "    </tr>\n",
       "    <tr>\n",
       "      <th>3</th>\n",
       "      <td>1</td>\n",
       "      <td>Кира</td>\n",
       "      <td>22</td>\n",
       "      <td>Тюмень</td>\n",
       "      <td>ultra</td>\n",
       "      <td>2694.783254</td>\n",
       "      <td>18.511000</td>\n",
       "      <td>2021-08-11</td>\n",
       "      <td>8</td>\n",
       "    </tr>\n",
       "    <tr>\n",
       "      <th>4</th>\n",
       "      <td>1</td>\n",
       "      <td>Кира</td>\n",
       "      <td>22</td>\n",
       "      <td>Тюмень</td>\n",
       "      <td>ultra</td>\n",
       "      <td>4028.687306</td>\n",
       "      <td>26.265803</td>\n",
       "      <td>2021-08-28</td>\n",
       "      <td>8</td>\n",
       "    </tr>\n",
       "    <tr>\n",
       "      <th>...</th>\n",
       "      <td>...</td>\n",
       "      <td>...</td>\n",
       "      <td>...</td>\n",
       "      <td>...</td>\n",
       "      <td>...</td>\n",
       "      <td>...</td>\n",
       "      <td>...</td>\n",
       "      <td>...</td>\n",
       "      <td>...</td>\n",
       "    </tr>\n",
       "    <tr>\n",
       "      <th>18063</th>\n",
       "      <td>1534</td>\n",
       "      <td>Альберт</td>\n",
       "      <td>25</td>\n",
       "      <td>Краснодар</td>\n",
       "      <td>free</td>\n",
       "      <td>3781.098080</td>\n",
       "      <td>19.822962</td>\n",
       "      <td>2021-11-04</td>\n",
       "      <td>11</td>\n",
       "    </tr>\n",
       "    <tr>\n",
       "      <th>18064</th>\n",
       "      <td>1534</td>\n",
       "      <td>Альберт</td>\n",
       "      <td>25</td>\n",
       "      <td>Краснодар</td>\n",
       "      <td>free</td>\n",
       "      <td>2840.423057</td>\n",
       "      <td>21.409799</td>\n",
       "      <td>2021-11-16</td>\n",
       "      <td>11</td>\n",
       "    </tr>\n",
       "    <tr>\n",
       "      <th>18065</th>\n",
       "      <td>1534</td>\n",
       "      <td>Альберт</td>\n",
       "      <td>25</td>\n",
       "      <td>Краснодар</td>\n",
       "      <td>free</td>\n",
       "      <td>3826.185507</td>\n",
       "      <td>18.435051</td>\n",
       "      <td>2021-11-18</td>\n",
       "      <td>11</td>\n",
       "    </tr>\n",
       "    <tr>\n",
       "      <th>18066</th>\n",
       "      <td>1534</td>\n",
       "      <td>Альберт</td>\n",
       "      <td>25</td>\n",
       "      <td>Краснодар</td>\n",
       "      <td>free</td>\n",
       "      <td>2902.308661</td>\n",
       "      <td>16.674362</td>\n",
       "      <td>2021-11-27</td>\n",
       "      <td>11</td>\n",
       "    </tr>\n",
       "    <tr>\n",
       "      <th>18067</th>\n",
       "      <td>1534</td>\n",
       "      <td>Альберт</td>\n",
       "      <td>25</td>\n",
       "      <td>Краснодар</td>\n",
       "      <td>free</td>\n",
       "      <td>2371.711192</td>\n",
       "      <td>15.893917</td>\n",
       "      <td>2021-12-29</td>\n",
       "      <td>12</td>\n",
       "    </tr>\n",
       "  </tbody>\n",
       "</table>\n",
       "<p>18068 rows × 9 columns</p>\n",
       "</div>"
      ],
      "text/plain": [
       "       user_id     name  age       city subscription_type     distance  \\\n",
       "0            1     Кира   22     Тюмень             ultra  4409.919140   \n",
       "1            1     Кира   22     Тюмень             ultra  2617.592153   \n",
       "2            1     Кира   22     Тюмень             ultra   754.159807   \n",
       "3            1     Кира   22     Тюмень             ultra  2694.783254   \n",
       "4            1     Кира   22     Тюмень             ultra  4028.687306   \n",
       "...        ...      ...  ...        ...               ...          ...   \n",
       "18063     1534  Альберт   25  Краснодар              free  3781.098080   \n",
       "18064     1534  Альберт   25  Краснодар              free  2840.423057   \n",
       "18065     1534  Альберт   25  Краснодар              free  3826.185507   \n",
       "18066     1534  Альберт   25  Краснодар              free  2902.308661   \n",
       "18067     1534  Альберт   25  Краснодар              free  2371.711192   \n",
       "\n",
       "        duration       date  date_month  \n",
       "0      25.599769 2021-01-01           1  \n",
       "1      15.816871 2021-01-18           1  \n",
       "2       6.232113 2021-04-20           4  \n",
       "3      18.511000 2021-08-11           8  \n",
       "4      26.265803 2021-08-28           8  \n",
       "...          ...        ...         ...  \n",
       "18063  19.822962 2021-11-04          11  \n",
       "18064  21.409799 2021-11-16          11  \n",
       "18065  18.435051 2021-11-18          11  \n",
       "18066  16.674362 2021-11-27          11  \n",
       "18067  15.893917 2021-12-29          12  \n",
       "\n",
       "[18068 rows x 9 columns]"
      ]
     },
     "execution_count": 60,
     "metadata": {},
     "output_type": "execute_result"
    }
   ],
   "source": [
    "merged_data = pd.merge(data_users, data_rides, on='user_id')\n",
    "merged_data"
   ]
  },
  {
   "cell_type": "code",
   "execution_count": 61,
   "id": "c42b4ae9",
   "metadata": {},
   "outputs": [
    {
     "data": {
      "text/plain": [
       "(18068, 9)"
      ]
     },
     "execution_count": 61,
     "metadata": {},
     "output_type": "execute_result"
    }
   ],
   "source": [
    "merged_data.shape"
   ]
  },
  {
   "cell_type": "markdown",
   "id": "c0b04477",
   "metadata": {},
   "source": [
    "**Размер объединенного датасета:** датафрейм 'merged_data' состоит из 18068 строк и 9 столбцов. "
   ]
  },
  {
   "cell_type": "markdown",
   "id": "05211780",
   "metadata": {},
   "source": [
    "### Создание ещё двух датафреймов - информация о пользователях с подпиской и без."
   ]
  },
  {
   "cell_type": "markdown",
   "id": "e2ed9ee6",
   "metadata": {},
   "source": [
    "1. Необходимо объединенный датафрейм разделить еще на два датафрейма - информация о пользователях с подпиской и без."
   ]
  },
  {
   "cell_type": "code",
   "execution_count": 62,
   "id": "afd9097c",
   "metadata": {},
   "outputs": [
    {
     "data": {
      "text/html": [
       "<div>\n",
       "<style scoped>\n",
       "    .dataframe tbody tr th:only-of-type {\n",
       "        vertical-align: middle;\n",
       "    }\n",
       "\n",
       "    .dataframe tbody tr th {\n",
       "        vertical-align: top;\n",
       "    }\n",
       "\n",
       "    .dataframe thead th {\n",
       "        text-align: right;\n",
       "    }\n",
       "</style>\n",
       "<table border=\"1\" class=\"dataframe\">\n",
       "  <thead>\n",
       "    <tr style=\"text-align: right;\">\n",
       "      <th></th>\n",
       "      <th>user_id</th>\n",
       "      <th>name</th>\n",
       "      <th>age</th>\n",
       "      <th>city</th>\n",
       "      <th>subscription_type</th>\n",
       "      <th>distance</th>\n",
       "      <th>duration</th>\n",
       "      <th>date</th>\n",
       "      <th>date_month</th>\n",
       "    </tr>\n",
       "  </thead>\n",
       "  <tbody>\n",
       "    <tr>\n",
       "      <th>6500</th>\n",
       "      <td>700</td>\n",
       "      <td>Айдар</td>\n",
       "      <td>22</td>\n",
       "      <td>Омск</td>\n",
       "      <td>free</td>\n",
       "      <td>2515.690719</td>\n",
       "      <td>14.944286</td>\n",
       "      <td>2021-01-02</td>\n",
       "      <td>1</td>\n",
       "    </tr>\n",
       "    <tr>\n",
       "      <th>6501</th>\n",
       "      <td>700</td>\n",
       "      <td>Айдар</td>\n",
       "      <td>22</td>\n",
       "      <td>Омск</td>\n",
       "      <td>free</td>\n",
       "      <td>846.932642</td>\n",
       "      <td>16.234663</td>\n",
       "      <td>2021-02-01</td>\n",
       "      <td>2</td>\n",
       "    </tr>\n",
       "    <tr>\n",
       "      <th>6502</th>\n",
       "      <td>700</td>\n",
       "      <td>Айдар</td>\n",
       "      <td>22</td>\n",
       "      <td>Омск</td>\n",
       "      <td>free</td>\n",
       "      <td>4004.434142</td>\n",
       "      <td>20.016628</td>\n",
       "      <td>2021-02-04</td>\n",
       "      <td>2</td>\n",
       "    </tr>\n",
       "    <tr>\n",
       "      <th>6503</th>\n",
       "      <td>700</td>\n",
       "      <td>Айдар</td>\n",
       "      <td>22</td>\n",
       "      <td>Омск</td>\n",
       "      <td>free</td>\n",
       "      <td>1205.911290</td>\n",
       "      <td>9.782872</td>\n",
       "      <td>2021-02-10</td>\n",
       "      <td>2</td>\n",
       "    </tr>\n",
       "    <tr>\n",
       "      <th>6504</th>\n",
       "      <td>700</td>\n",
       "      <td>Айдар</td>\n",
       "      <td>22</td>\n",
       "      <td>Омск</td>\n",
       "      <td>free</td>\n",
       "      <td>3047.379435</td>\n",
       "      <td>17.427673</td>\n",
       "      <td>2021-02-14</td>\n",
       "      <td>2</td>\n",
       "    </tr>\n",
       "    <tr>\n",
       "      <th>...</th>\n",
       "      <td>...</td>\n",
       "      <td>...</td>\n",
       "      <td>...</td>\n",
       "      <td>...</td>\n",
       "      <td>...</td>\n",
       "      <td>...</td>\n",
       "      <td>...</td>\n",
       "      <td>...</td>\n",
       "      <td>...</td>\n",
       "    </tr>\n",
       "    <tr>\n",
       "      <th>18063</th>\n",
       "      <td>1534</td>\n",
       "      <td>Альберт</td>\n",
       "      <td>25</td>\n",
       "      <td>Краснодар</td>\n",
       "      <td>free</td>\n",
       "      <td>3781.098080</td>\n",
       "      <td>19.822962</td>\n",
       "      <td>2021-11-04</td>\n",
       "      <td>11</td>\n",
       "    </tr>\n",
       "    <tr>\n",
       "      <th>18064</th>\n",
       "      <td>1534</td>\n",
       "      <td>Альберт</td>\n",
       "      <td>25</td>\n",
       "      <td>Краснодар</td>\n",
       "      <td>free</td>\n",
       "      <td>2840.423057</td>\n",
       "      <td>21.409799</td>\n",
       "      <td>2021-11-16</td>\n",
       "      <td>11</td>\n",
       "    </tr>\n",
       "    <tr>\n",
       "      <th>18065</th>\n",
       "      <td>1534</td>\n",
       "      <td>Альберт</td>\n",
       "      <td>25</td>\n",
       "      <td>Краснодар</td>\n",
       "      <td>free</td>\n",
       "      <td>3826.185507</td>\n",
       "      <td>18.435051</td>\n",
       "      <td>2021-11-18</td>\n",
       "      <td>11</td>\n",
       "    </tr>\n",
       "    <tr>\n",
       "      <th>18066</th>\n",
       "      <td>1534</td>\n",
       "      <td>Альберт</td>\n",
       "      <td>25</td>\n",
       "      <td>Краснодар</td>\n",
       "      <td>free</td>\n",
       "      <td>2902.308661</td>\n",
       "      <td>16.674362</td>\n",
       "      <td>2021-11-27</td>\n",
       "      <td>11</td>\n",
       "    </tr>\n",
       "    <tr>\n",
       "      <th>18067</th>\n",
       "      <td>1534</td>\n",
       "      <td>Альберт</td>\n",
       "      <td>25</td>\n",
       "      <td>Краснодар</td>\n",
       "      <td>free</td>\n",
       "      <td>2371.711192</td>\n",
       "      <td>15.893917</td>\n",
       "      <td>2021-12-29</td>\n",
       "      <td>12</td>\n",
       "    </tr>\n",
       "  </tbody>\n",
       "</table>\n",
       "<p>11568 rows × 9 columns</p>\n",
       "</div>"
      ],
      "text/plain": [
       "       user_id     name  age       city subscription_type     distance  \\\n",
       "6500       700    Айдар   22       Омск              free  2515.690719   \n",
       "6501       700    Айдар   22       Омск              free   846.932642   \n",
       "6502       700    Айдар   22       Омск              free  4004.434142   \n",
       "6503       700    Айдар   22       Омск              free  1205.911290   \n",
       "6504       700    Айдар   22       Омск              free  3047.379435   \n",
       "...        ...      ...  ...        ...               ...          ...   \n",
       "18063     1534  Альберт   25  Краснодар              free  3781.098080   \n",
       "18064     1534  Альберт   25  Краснодар              free  2840.423057   \n",
       "18065     1534  Альберт   25  Краснодар              free  3826.185507   \n",
       "18066     1534  Альберт   25  Краснодар              free  2902.308661   \n",
       "18067     1534  Альберт   25  Краснодар              free  2371.711192   \n",
       "\n",
       "        duration       date  date_month  \n",
       "6500   14.944286 2021-01-02           1  \n",
       "6501   16.234663 2021-02-01           2  \n",
       "6502   20.016628 2021-02-04           2  \n",
       "6503    9.782872 2021-02-10           2  \n",
       "6504   17.427673 2021-02-14           2  \n",
       "...          ...        ...         ...  \n",
       "18063  19.822962 2021-11-04          11  \n",
       "18064  21.409799 2021-11-16          11  \n",
       "18065  18.435051 2021-11-18          11  \n",
       "18066  16.674362 2021-11-27          11  \n",
       "18067  15.893917 2021-12-29          12  \n",
       "\n",
       "[11568 rows x 9 columns]"
      ]
     },
     "execution_count": 62,
     "metadata": {},
     "output_type": "execute_result"
    }
   ],
   "source": [
    "sub_free = merged_data[merged_data['subscription_type'] == 'free']\n",
    "sub_free"
   ]
  },
  {
   "cell_type": "code",
   "execution_count": 63,
   "id": "8e1175ad",
   "metadata": {},
   "outputs": [
    {
     "data": {
      "text/html": [
       "<div>\n",
       "<style scoped>\n",
       "    .dataframe tbody tr th:only-of-type {\n",
       "        vertical-align: middle;\n",
       "    }\n",
       "\n",
       "    .dataframe tbody tr th {\n",
       "        vertical-align: top;\n",
       "    }\n",
       "\n",
       "    .dataframe thead th {\n",
       "        text-align: right;\n",
       "    }\n",
       "</style>\n",
       "<table border=\"1\" class=\"dataframe\">\n",
       "  <thead>\n",
       "    <tr style=\"text-align: right;\">\n",
       "      <th></th>\n",
       "      <th>user_id</th>\n",
       "      <th>name</th>\n",
       "      <th>age</th>\n",
       "      <th>city</th>\n",
       "      <th>subscription_type</th>\n",
       "      <th>distance</th>\n",
       "      <th>duration</th>\n",
       "      <th>date</th>\n",
       "      <th>date_month</th>\n",
       "    </tr>\n",
       "  </thead>\n",
       "  <tbody>\n",
       "    <tr>\n",
       "      <th>0</th>\n",
       "      <td>1</td>\n",
       "      <td>Кира</td>\n",
       "      <td>22</td>\n",
       "      <td>Тюмень</td>\n",
       "      <td>ultra</td>\n",
       "      <td>4409.919140</td>\n",
       "      <td>25.599769</td>\n",
       "      <td>2021-01-01</td>\n",
       "      <td>1</td>\n",
       "    </tr>\n",
       "    <tr>\n",
       "      <th>1</th>\n",
       "      <td>1</td>\n",
       "      <td>Кира</td>\n",
       "      <td>22</td>\n",
       "      <td>Тюмень</td>\n",
       "      <td>ultra</td>\n",
       "      <td>2617.592153</td>\n",
       "      <td>15.816871</td>\n",
       "      <td>2021-01-18</td>\n",
       "      <td>1</td>\n",
       "    </tr>\n",
       "    <tr>\n",
       "      <th>2</th>\n",
       "      <td>1</td>\n",
       "      <td>Кира</td>\n",
       "      <td>22</td>\n",
       "      <td>Тюмень</td>\n",
       "      <td>ultra</td>\n",
       "      <td>754.159807</td>\n",
       "      <td>6.232113</td>\n",
       "      <td>2021-04-20</td>\n",
       "      <td>4</td>\n",
       "    </tr>\n",
       "    <tr>\n",
       "      <th>3</th>\n",
       "      <td>1</td>\n",
       "      <td>Кира</td>\n",
       "      <td>22</td>\n",
       "      <td>Тюмень</td>\n",
       "      <td>ultra</td>\n",
       "      <td>2694.783254</td>\n",
       "      <td>18.511000</td>\n",
       "      <td>2021-08-11</td>\n",
       "      <td>8</td>\n",
       "    </tr>\n",
       "    <tr>\n",
       "      <th>4</th>\n",
       "      <td>1</td>\n",
       "      <td>Кира</td>\n",
       "      <td>22</td>\n",
       "      <td>Тюмень</td>\n",
       "      <td>ultra</td>\n",
       "      <td>4028.687306</td>\n",
       "      <td>26.265803</td>\n",
       "      <td>2021-08-28</td>\n",
       "      <td>8</td>\n",
       "    </tr>\n",
       "    <tr>\n",
       "      <th>...</th>\n",
       "      <td>...</td>\n",
       "      <td>...</td>\n",
       "      <td>...</td>\n",
       "      <td>...</td>\n",
       "      <td>...</td>\n",
       "      <td>...</td>\n",
       "      <td>...</td>\n",
       "      <td>...</td>\n",
       "      <td>...</td>\n",
       "    </tr>\n",
       "    <tr>\n",
       "      <th>6495</th>\n",
       "      <td>699</td>\n",
       "      <td>Оксана</td>\n",
       "      <td>22</td>\n",
       "      <td>Москва</td>\n",
       "      <td>ultra</td>\n",
       "      <td>3973.046497</td>\n",
       "      <td>24.671163</td>\n",
       "      <td>2021-08-29</td>\n",
       "      <td>8</td>\n",
       "    </tr>\n",
       "    <tr>\n",
       "      <th>6496</th>\n",
       "      <td>699</td>\n",
       "      <td>Оксана</td>\n",
       "      <td>22</td>\n",
       "      <td>Москва</td>\n",
       "      <td>ultra</td>\n",
       "      <td>3288.702563</td>\n",
       "      <td>15.892886</td>\n",
       "      <td>2021-09-12</td>\n",
       "      <td>9</td>\n",
       "    </tr>\n",
       "    <tr>\n",
       "      <th>6497</th>\n",
       "      <td>699</td>\n",
       "      <td>Оксана</td>\n",
       "      <td>22</td>\n",
       "      <td>Москва</td>\n",
       "      <td>ultra</td>\n",
       "      <td>3076.159348</td>\n",
       "      <td>14.389525</td>\n",
       "      <td>2021-09-26</td>\n",
       "      <td>9</td>\n",
       "    </tr>\n",
       "    <tr>\n",
       "      <th>6498</th>\n",
       "      <td>699</td>\n",
       "      <td>Оксана</td>\n",
       "      <td>22</td>\n",
       "      <td>Москва</td>\n",
       "      <td>ultra</td>\n",
       "      <td>4707.845501</td>\n",
       "      <td>15.839579</td>\n",
       "      <td>2021-10-17</td>\n",
       "      <td>10</td>\n",
       "    </tr>\n",
       "    <tr>\n",
       "      <th>6499</th>\n",
       "      <td>699</td>\n",
       "      <td>Оксана</td>\n",
       "      <td>22</td>\n",
       "      <td>Москва</td>\n",
       "      <td>ultra</td>\n",
       "      <td>3202.890770</td>\n",
       "      <td>25.217345</td>\n",
       "      <td>2021-12-03</td>\n",
       "      <td>12</td>\n",
       "    </tr>\n",
       "  </tbody>\n",
       "</table>\n",
       "<p>6500 rows × 9 columns</p>\n",
       "</div>"
      ],
      "text/plain": [
       "      user_id    name  age    city subscription_type     distance   duration  \\\n",
       "0           1    Кира   22  Тюмень             ultra  4409.919140  25.599769   \n",
       "1           1    Кира   22  Тюмень             ultra  2617.592153  15.816871   \n",
       "2           1    Кира   22  Тюмень             ultra   754.159807   6.232113   \n",
       "3           1    Кира   22  Тюмень             ultra  2694.783254  18.511000   \n",
       "4           1    Кира   22  Тюмень             ultra  4028.687306  26.265803   \n",
       "...       ...     ...  ...     ...               ...          ...        ...   \n",
       "6495      699  Оксана   22  Москва             ultra  3973.046497  24.671163   \n",
       "6496      699  Оксана   22  Москва             ultra  3288.702563  15.892886   \n",
       "6497      699  Оксана   22  Москва             ultra  3076.159348  14.389525   \n",
       "6498      699  Оксана   22  Москва             ultra  4707.845501  15.839579   \n",
       "6499      699  Оксана   22  Москва             ultra  3202.890770  25.217345   \n",
       "\n",
       "           date  date_month  \n",
       "0    2021-01-01           1  \n",
       "1    2021-01-18           1  \n",
       "2    2021-04-20           4  \n",
       "3    2021-08-11           8  \n",
       "4    2021-08-28           8  \n",
       "...         ...         ...  \n",
       "6495 2021-08-29           8  \n",
       "6496 2021-09-12           9  \n",
       "6497 2021-09-26           9  \n",
       "6498 2021-10-17          10  \n",
       "6499 2021-12-03          12  \n",
       "\n",
       "[6500 rows x 9 columns]"
      ]
     },
     "execution_count": 63,
     "metadata": {},
     "output_type": "execute_result"
    }
   ],
   "source": [
    "sub_ultra = merged_data[merged_data['subscription_type'] == 'ultra']\n",
    "sub_ultra"
   ]
  },
  {
   "cell_type": "markdown",
   "id": "4521b40d",
   "metadata": {},
   "source": [
    "**Вывод:** по итогу мы получили две разные таблицы с общими данными о пользователях с подпиской и без, на основе которых, мы можем их сравнить. Из предложенных данных, видно, что количество пользователей без подписки гараздо больше, чем с подпиской (почти в два раза) - это стоит учесть."
   ]
  },
  {
   "cell_type": "markdown",
   "id": "ed423696",
   "metadata": {},
   "source": [
    "### Визуализация информации о пользователях с разной подпиской."
   ]
  },
  {
   "cell_type": "markdown",
   "id": "2b2daae2",
   "metadata": {},
   "source": [
    "1. Выведем оба графика, которые показывают распределение дистанции поездок с подпиской и без."
   ]
  },
  {
   "cell_type": "code",
   "execution_count": 64,
   "id": "b19d351a",
   "metadata": {},
   "outputs": [
    {
     "data": {
      "image/png": "[encoded data removed]",
      "text/plain": [
       "<Figure size 576x576 with 2 Axes>"
      ]
     },
     "metadata": {
      "needs_background": "light"
     },
     "output_type": "display_data"
    }
   ],
   "source": [
    "# Создание подуровней\n",
    "fig, axes = plt.subplots(nrows=2, ncols=1, figsize=(8, 8))\n",
    "\n",
    "# Первый график\n",
    "sns.histplot(sub_free['distance'], bins=30, color='darkblue', edgecolor='black', kde=True, linewidth=1, ax=axes[0])\n",
    "axes[0].set_xlabel('Дистанция поездки')\n",
    "axes[0].set_ylabel('Частота')\n",
    "axes[0].set_title('Распределение дистанции поездок без подписки')\n",
    "\n",
    "# Второй график\n",
    "sns.histplot(sub_ultra['distance'], bins=30, color='darkblue', edgecolor='black', kde=True, linewidth=1, ax=axes[1])\n",
    "axes[1].set_xlabel('Дистанция поездки')\n",
    "axes[1].set_ylabel('Частота')\n",
    "axes[1].set_title('Распределение дистанции поездок с подпиской')\n",
    "\n",
    "# Размещение графиков\n",
    "plt.tight_layout()\n",
    "\n",
    "# Отображение фигуры\n",
    "plt.show()\n"
   ]
  },
  {
   "cell_type": "markdown",
   "id": "d763fe38",
   "metadata": {},
   "source": [
    "**Вывод:** по выведенным данным, мы можем заметить, что количество пользователей без подписки чаще ездят дальше, чем пользователи с подпиской. По графикам, также, видно, что в целом пользователи без подписки используют чаще приложение, чем пользователи с подпиской. В начале графиков мы видим, что пользователи без подписки, чаще ездят на не очень большие дистанции (менее 1 км.), чем с подпиской. Стоит подметить, что дистанция поездок дальше у пользователей без подписки (~ 7 км.), чем с подпиской (~5 км.)."
   ]
  },
  {
   "cell_type": "markdown",
   "id": "6e1aca72",
   "metadata": {},
   "source": [
    "2. Выведем оба графика, которые показывают распределение длительности поездок с подпиской и без."
   ]
  },
  {
   "cell_type": "code",
   "execution_count": 65,
   "id": "15150abd",
   "metadata": {},
   "outputs": [
    {
     "data": {
      "image/png": "[encoded data removed]",
      "text/plain": [
       "<Figure size 576x576 with 2 Axes>"
      ]
     },
     "metadata": {
      "needs_background": "light"
     },
     "output_type": "display_data"
    }
   ],
   "source": [
    "# Создание подуровней\n",
    "fig, axes = plt.subplots(nrows=2, ncols=1, figsize=(8, 8))\n",
    "\n",
    "# Первый график\n",
    "sns.histplot(sub_free['duration'], bins=30, color='darkgreen', edgecolor='black', kde=True, linewidth=1, ax=axes[0])\n",
    "axes[0].set_xlabel('Длительность поездки')\n",
    "axes[0].set_ylabel('Частота')\n",
    "axes[0].set_title('Распределение длительности поездок без подписки')\n",
    "\n",
    "# Второй график\n",
    "sns.histplot(sub_ultra['duration'], bins=30, color='darkgreen', edgecolor='black', kde=True, linewidth=1, ax=axes[1])\n",
    "axes[1].set_xlabel('Длительность поездки')\n",
    "axes[1].set_ylabel('Частота')\n",
    "axes[1].set_title('Распределение длительности поездок с подпиской')\n",
    "\n",
    "# Размещение графиков\n",
    "plt.tight_layout()\n",
    "\n",
    "# Отображение фигуры\n",
    "plt.show()\n"
   ]
  },
  {
   "cell_type": "markdown",
   "id": "7e28c167",
   "metadata": {},
   "source": [
    "**Вывод:** В целом картина такая же - распределение внутри категорий имеют одинаковый профиль (и одинаковый с профилем распределения до разбивки на категории - строили на ранних этапах), но в каждом из диапазонов бесплатных пользователей чуть больше, но их, как мы помним, и в целом больше. Краевые значения (минимум и максимум) у бесплатных пользователей смещены влево относительно платных подписчиков - стоимость минуты все-таки больше, значит часть пользователей торопится завершить поездки за меньший срок. Но при этом визуально среднее значение не сильно смещено"
   ]
  },
  {
   "cell_type": "markdown",
   "id": "402d620f",
   "metadata": {},
   "source": [
    "## Шаг 5. Подсчёт выручки"
   ]
  },
  {
   "cell_type": "markdown",
   "id": "19de543e",
   "metadata": {},
   "source": [
    "### Создание аггрегированного датафрейма."
   ]
  },
  {
   "cell_type": "markdown",
   "id": "86e1775f",
   "metadata": {},
   "source": [
    "**Суть задания:** создание датафрейма с агрегированными данными о поездках на основе датафрейма с объединёнными данными из шага 4: найдите суммарное расстояние, количество поездок и суммарное время для каждого пользователя за каждый месяц."
   ]
  },
  {
   "cell_type": "markdown",
   "id": "caa8c41f",
   "metadata": {},
   "source": [
    "1. Выведем объединенную таблицу, по которой будем группировать."
   ]
  },
  {
   "cell_type": "code",
   "execution_count": 66,
   "id": "40cb93a3",
   "metadata": {},
   "outputs": [
    {
     "data": {
      "text/html": [
       "<div>\n",
       "<style scoped>\n",
       "    .dataframe tbody tr th:only-of-type {\n",
       "        vertical-align: middle;\n",
       "    }\n",
       "\n",
       "    .dataframe tbody tr th {\n",
       "        vertical-align: top;\n",
       "    }\n",
       "\n",
       "    .dataframe thead th {\n",
       "        text-align: right;\n",
       "    }\n",
       "</style>\n",
       "<table border=\"1\" class=\"dataframe\">\n",
       "  <thead>\n",
       "    <tr style=\"text-align: right;\">\n",
       "      <th></th>\n",
       "      <th>user_id</th>\n",
       "      <th>name</th>\n",
       "      <th>age</th>\n",
       "      <th>city</th>\n",
       "      <th>subscription_type</th>\n",
       "      <th>distance</th>\n",
       "      <th>duration</th>\n",
       "      <th>date</th>\n",
       "      <th>date_month</th>\n",
       "    </tr>\n",
       "  </thead>\n",
       "  <tbody>\n",
       "    <tr>\n",
       "      <th>0</th>\n",
       "      <td>1</td>\n",
       "      <td>Кира</td>\n",
       "      <td>22</td>\n",
       "      <td>Тюмень</td>\n",
       "      <td>ultra</td>\n",
       "      <td>4409.919140</td>\n",
       "      <td>25.599769</td>\n",
       "      <td>2021-01-01</td>\n",
       "      <td>1</td>\n",
       "    </tr>\n",
       "    <tr>\n",
       "      <th>1</th>\n",
       "      <td>1</td>\n",
       "      <td>Кира</td>\n",
       "      <td>22</td>\n",
       "      <td>Тюмень</td>\n",
       "      <td>ultra</td>\n",
       "      <td>2617.592153</td>\n",
       "      <td>15.816871</td>\n",
       "      <td>2021-01-18</td>\n",
       "      <td>1</td>\n",
       "    </tr>\n",
       "    <tr>\n",
       "      <th>2</th>\n",
       "      <td>1</td>\n",
       "      <td>Кира</td>\n",
       "      <td>22</td>\n",
       "      <td>Тюмень</td>\n",
       "      <td>ultra</td>\n",
       "      <td>754.159807</td>\n",
       "      <td>6.232113</td>\n",
       "      <td>2021-04-20</td>\n",
       "      <td>4</td>\n",
       "    </tr>\n",
       "    <tr>\n",
       "      <th>3</th>\n",
       "      <td>1</td>\n",
       "      <td>Кира</td>\n",
       "      <td>22</td>\n",
       "      <td>Тюмень</td>\n",
       "      <td>ultra</td>\n",
       "      <td>2694.783254</td>\n",
       "      <td>18.511000</td>\n",
       "      <td>2021-08-11</td>\n",
       "      <td>8</td>\n",
       "    </tr>\n",
       "    <tr>\n",
       "      <th>4</th>\n",
       "      <td>1</td>\n",
       "      <td>Кира</td>\n",
       "      <td>22</td>\n",
       "      <td>Тюмень</td>\n",
       "      <td>ultra</td>\n",
       "      <td>4028.687306</td>\n",
       "      <td>26.265803</td>\n",
       "      <td>2021-08-28</td>\n",
       "      <td>8</td>\n",
       "    </tr>\n",
       "    <tr>\n",
       "      <th>...</th>\n",
       "      <td>...</td>\n",
       "      <td>...</td>\n",
       "      <td>...</td>\n",
       "      <td>...</td>\n",
       "      <td>...</td>\n",
       "      <td>...</td>\n",
       "      <td>...</td>\n",
       "      <td>...</td>\n",
       "      <td>...</td>\n",
       "    </tr>\n",
       "    <tr>\n",
       "      <th>18063</th>\n",
       "      <td>1534</td>\n",
       "      <td>Альберт</td>\n",
       "      <td>25</td>\n",
       "      <td>Краснодар</td>\n",
       "      <td>free</td>\n",
       "      <td>3781.098080</td>\n",
       "      <td>19.822962</td>\n",
       "      <td>2021-11-04</td>\n",
       "      <td>11</td>\n",
       "    </tr>\n",
       "    <tr>\n",
       "      <th>18064</th>\n",
       "      <td>1534</td>\n",
       "      <td>Альберт</td>\n",
       "      <td>25</td>\n",
       "      <td>Краснодар</td>\n",
       "      <td>free</td>\n",
       "      <td>2840.423057</td>\n",
       "      <td>21.409799</td>\n",
       "      <td>2021-11-16</td>\n",
       "      <td>11</td>\n",
       "    </tr>\n",
       "    <tr>\n",
       "      <th>18065</th>\n",
       "      <td>1534</td>\n",
       "      <td>Альберт</td>\n",
       "      <td>25</td>\n",
       "      <td>Краснодар</td>\n",
       "      <td>free</td>\n",
       "      <td>3826.185507</td>\n",
       "      <td>18.435051</td>\n",
       "      <td>2021-11-18</td>\n",
       "      <td>11</td>\n",
       "    </tr>\n",
       "    <tr>\n",
       "      <th>18066</th>\n",
       "      <td>1534</td>\n",
       "      <td>Альберт</td>\n",
       "      <td>25</td>\n",
       "      <td>Краснодар</td>\n",
       "      <td>free</td>\n",
       "      <td>2902.308661</td>\n",
       "      <td>16.674362</td>\n",
       "      <td>2021-11-27</td>\n",
       "      <td>11</td>\n",
       "    </tr>\n",
       "    <tr>\n",
       "      <th>18067</th>\n",
       "      <td>1534</td>\n",
       "      <td>Альберт</td>\n",
       "      <td>25</td>\n",
       "      <td>Краснодар</td>\n",
       "      <td>free</td>\n",
       "      <td>2371.711192</td>\n",
       "      <td>15.893917</td>\n",
       "      <td>2021-12-29</td>\n",
       "      <td>12</td>\n",
       "    </tr>\n",
       "  </tbody>\n",
       "</table>\n",
       "<p>18068 rows × 9 columns</p>\n",
       "</div>"
      ],
      "text/plain": [
       "       user_id     name  age       city subscription_type     distance  \\\n",
       "0            1     Кира   22     Тюмень             ultra  4409.919140   \n",
       "1            1     Кира   22     Тюмень             ultra  2617.592153   \n",
       "2            1     Кира   22     Тюмень             ultra   754.159807   \n",
       "3            1     Кира   22     Тюмень             ultra  2694.783254   \n",
       "4            1     Кира   22     Тюмень             ultra  4028.687306   \n",
       "...        ...      ...  ...        ...               ...          ...   \n",
       "18063     1534  Альберт   25  Краснодар              free  3781.098080   \n",
       "18064     1534  Альберт   25  Краснодар              free  2840.423057   \n",
       "18065     1534  Альберт   25  Краснодар              free  3826.185507   \n",
       "18066     1534  Альберт   25  Краснодар              free  2902.308661   \n",
       "18067     1534  Альберт   25  Краснодар              free  2371.711192   \n",
       "\n",
       "        duration       date  date_month  \n",
       "0      25.599769 2021-01-01           1  \n",
       "1      15.816871 2021-01-18           1  \n",
       "2       6.232113 2021-04-20           4  \n",
       "3      18.511000 2021-08-11           8  \n",
       "4      26.265803 2021-08-28           8  \n",
       "...          ...        ...         ...  \n",
       "18063  19.822962 2021-11-04          11  \n",
       "18064  21.409799 2021-11-16          11  \n",
       "18065  18.435051 2021-11-18          11  \n",
       "18066  16.674362 2021-11-27          11  \n",
       "18067  15.893917 2021-12-29          12  \n",
       "\n",
       "[18068 rows x 9 columns]"
      ]
     },
     "execution_count": 66,
     "metadata": {},
     "output_type": "execute_result"
    }
   ],
   "source": [
    "merged_data"
   ]
  },
  {
   "cell_type": "markdown",
   "id": "ce52d3fd",
   "metadata": {},
   "source": [
    "2. Сгруппируем верхнюю таблицу по столбцам 'user_id', 'date_month'."
   ]
  },
  {
   "cell_type": "code",
   "execution_count": 67,
   "id": "38b59d86",
   "metadata": {},
   "outputs": [
    {
     "data": {
      "text/html": [
       "<div>\n",
       "<style scoped>\n",
       "    .dataframe tbody tr th:only-of-type {\n",
       "        vertical-align: middle;\n",
       "    }\n",
       "\n",
       "    .dataframe tbody tr th {\n",
       "        vertical-align: top;\n",
       "    }\n",
       "\n",
       "    .dataframe thead th {\n",
       "        text-align: right;\n",
       "    }\n",
       "</style>\n",
       "<table border=\"1\" class=\"dataframe\">\n",
       "  <thead>\n",
       "    <tr style=\"text-align: right;\">\n",
       "      <th></th>\n",
       "      <th></th>\n",
       "      <th>distance</th>\n",
       "      <th>counts_riding</th>\n",
       "      <th>duration</th>\n",
       "      <th>subscription_type</th>\n",
       "    </tr>\n",
       "    <tr>\n",
       "      <th>user_id</th>\n",
       "      <th>date_month</th>\n",
       "      <th></th>\n",
       "      <th></th>\n",
       "      <th></th>\n",
       "      <th></th>\n",
       "    </tr>\n",
       "  </thead>\n",
       "  <tbody>\n",
       "    <tr>\n",
       "      <th rowspan=\"6\" valign=\"top\">1</th>\n",
       "      <th>1</th>\n",
       "      <td>7027.511294</td>\n",
       "      <td>2</td>\n",
       "      <td>41.416640</td>\n",
       "      <td>ultra</td>\n",
       "    </tr>\n",
       "    <tr>\n",
       "      <th>4</th>\n",
       "      <td>754.159807</td>\n",
       "      <td>1</td>\n",
       "      <td>6.232113</td>\n",
       "      <td>ultra</td>\n",
       "    </tr>\n",
       "    <tr>\n",
       "      <th>8</th>\n",
       "      <td>6723.470560</td>\n",
       "      <td>2</td>\n",
       "      <td>44.776802</td>\n",
       "      <td>ultra</td>\n",
       "    </tr>\n",
       "    <tr>\n",
       "      <th>10</th>\n",
       "      <td>5809.911100</td>\n",
       "      <td>2</td>\n",
       "      <td>31.578017</td>\n",
       "      <td>ultra</td>\n",
       "    </tr>\n",
       "    <tr>\n",
       "      <th>11</th>\n",
       "      <td>7003.499363</td>\n",
       "      <td>3</td>\n",
       "      <td>53.397424</td>\n",
       "      <td>ultra</td>\n",
       "    </tr>\n",
       "    <tr>\n",
       "      <th>12</th>\n",
       "      <td>6751.629942</td>\n",
       "      <td>2</td>\n",
       "      <td>27.203912</td>\n",
       "      <td>ultra</td>\n",
       "    </tr>\n",
       "    <tr>\n",
       "      <th rowspan=\"7\" valign=\"top\">2</th>\n",
       "      <th>3</th>\n",
       "      <td>10187.723006</td>\n",
       "      <td>3</td>\n",
       "      <td>60.959959</td>\n",
       "      <td>ultra</td>\n",
       "    </tr>\n",
       "    <tr>\n",
       "      <th>4</th>\n",
       "      <td>6164.381824</td>\n",
       "      <td>2</td>\n",
       "      <td>39.048633</td>\n",
       "      <td>ultra</td>\n",
       "    </tr>\n",
       "    <tr>\n",
       "      <th>6</th>\n",
       "      <td>3255.338202</td>\n",
       "      <td>1</td>\n",
       "      <td>13.851127</td>\n",
       "      <td>ultra</td>\n",
       "    </tr>\n",
       "    <tr>\n",
       "      <th>7</th>\n",
       "      <td>6780.722964</td>\n",
       "      <td>2</td>\n",
       "      <td>46.170157</td>\n",
       "      <td>ultra</td>\n",
       "    </tr>\n",
       "    <tr>\n",
       "      <th>8</th>\n",
       "      <td>923.007439</td>\n",
       "      <td>1</td>\n",
       "      <td>6.914760</td>\n",
       "      <td>ultra</td>\n",
       "    </tr>\n",
       "    <tr>\n",
       "      <th>10</th>\n",
       "      <td>2824.636598</td>\n",
       "      <td>1</td>\n",
       "      <td>18.779128</td>\n",
       "      <td>ultra</td>\n",
       "    </tr>\n",
       "    <tr>\n",
       "      <th>12</th>\n",
       "      <td>3828.248580</td>\n",
       "      <td>1</td>\n",
       "      <td>11.920514</td>\n",
       "      <td>ultra</td>\n",
       "    </tr>\n",
       "  </tbody>\n",
       "</table>\n",
       "</div>"
      ],
      "text/plain": [
       "                        distance  counts_riding   duration subscription_type\n",
       "user_id date_month                                                          \n",
       "1       1            7027.511294              2  41.416640             ultra\n",
       "        4             754.159807              1   6.232113             ultra\n",
       "        8            6723.470560              2  44.776802             ultra\n",
       "        10           5809.911100              2  31.578017             ultra\n",
       "        11           7003.499363              3  53.397424             ultra\n",
       "        12           6751.629942              2  27.203912             ultra\n",
       "2       3           10187.723006              3  60.959959             ultra\n",
       "        4            6164.381824              2  39.048633             ultra\n",
       "        6            3255.338202              1  13.851127             ultra\n",
       "        7            6780.722964              2  46.170157             ultra\n",
       "        8             923.007439              1   6.914760             ultra\n",
       "        10           2824.636598              1  18.779128             ultra\n",
       "        12           3828.248580              1  11.920514             ultra"
      ]
     },
     "execution_count": 67,
     "metadata": {},
     "output_type": "execute_result"
    }
   ],
   "source": [
    "grouped_table = merged_data.groupby(['user_id', 'date_month']).agg({'distance':'sum', 'user_id':'count', 'duration':'sum', 'subscription_type':'min'})\n",
    "grouped_table = grouped_table.rename(columns={'user_id':'counts_riding'})\n",
    "grouped_table.head(13)"
   ]
  },
  {
   "cell_type": "markdown",
   "id": "92b0babc",
   "metadata": {},
   "source": [
    "**Вывод:** был создан датафрейм с аггрегированными данными - общая дистанция, количество поездок, длительность поездок и уровень подписки по месячно."
   ]
  },
  {
   "cell_type": "markdown",
   "id": "953b4c65",
   "metadata": {},
   "source": [
    "### Вычисление месячной выручки."
   ]
  },
  {
   "cell_type": "markdown",
   "id": "9f2e717e",
   "metadata": {},
   "source": [
    "1. В первую очередь округлим значения в столбце 'duration' для дальнейшего создания нового столбца с месячной выручкой."
   ]
  },
  {
   "cell_type": "code",
   "execution_count": 68,
   "id": "e10f4289",
   "metadata": {},
   "outputs": [
    {
     "data": {
      "text/html": [
       "<div>\n",
       "<style scoped>\n",
       "    .dataframe tbody tr th:only-of-type {\n",
       "        vertical-align: middle;\n",
       "    }\n",
       "\n",
       "    .dataframe tbody tr th {\n",
       "        vertical-align: top;\n",
       "    }\n",
       "\n",
       "    .dataframe thead th {\n",
       "        text-align: right;\n",
       "    }\n",
       "</style>\n",
       "<table border=\"1\" class=\"dataframe\">\n",
       "  <thead>\n",
       "    <tr style=\"text-align: right;\">\n",
       "      <th></th>\n",
       "      <th></th>\n",
       "      <th>distance</th>\n",
       "      <th>counts_riding</th>\n",
       "      <th>duration</th>\n",
       "      <th>subscription_type</th>\n",
       "    </tr>\n",
       "    <tr>\n",
       "      <th>user_id</th>\n",
       "      <th>date_month</th>\n",
       "      <th></th>\n",
       "      <th></th>\n",
       "      <th></th>\n",
       "      <th></th>\n",
       "    </tr>\n",
       "  </thead>\n",
       "  <tbody>\n",
       "    <tr>\n",
       "      <th rowspan=\"6\" valign=\"top\">1</th>\n",
       "      <th>1</th>\n",
       "      <td>7027.511294</td>\n",
       "      <td>2</td>\n",
       "      <td>42.0</td>\n",
       "      <td>ultra</td>\n",
       "    </tr>\n",
       "    <tr>\n",
       "      <th>4</th>\n",
       "      <td>754.159807</td>\n",
       "      <td>1</td>\n",
       "      <td>7.0</td>\n",
       "      <td>ultra</td>\n",
       "    </tr>\n",
       "    <tr>\n",
       "      <th>8</th>\n",
       "      <td>6723.470560</td>\n",
       "      <td>2</td>\n",
       "      <td>45.0</td>\n",
       "      <td>ultra</td>\n",
       "    </tr>\n",
       "    <tr>\n",
       "      <th>10</th>\n",
       "      <td>5809.911100</td>\n",
       "      <td>2</td>\n",
       "      <td>32.0</td>\n",
       "      <td>ultra</td>\n",
       "    </tr>\n",
       "    <tr>\n",
       "      <th>11</th>\n",
       "      <td>7003.499363</td>\n",
       "      <td>3</td>\n",
       "      <td>54.0</td>\n",
       "      <td>ultra</td>\n",
       "    </tr>\n",
       "    <tr>\n",
       "      <th>12</th>\n",
       "      <td>6751.629942</td>\n",
       "      <td>2</td>\n",
       "      <td>28.0</td>\n",
       "      <td>ultra</td>\n",
       "    </tr>\n",
       "    <tr>\n",
       "      <th rowspan=\"7\" valign=\"top\">2</th>\n",
       "      <th>3</th>\n",
       "      <td>10187.723006</td>\n",
       "      <td>3</td>\n",
       "      <td>61.0</td>\n",
       "      <td>ultra</td>\n",
       "    </tr>\n",
       "    <tr>\n",
       "      <th>4</th>\n",
       "      <td>6164.381824</td>\n",
       "      <td>2</td>\n",
       "      <td>40.0</td>\n",
       "      <td>ultra</td>\n",
       "    </tr>\n",
       "    <tr>\n",
       "      <th>6</th>\n",
       "      <td>3255.338202</td>\n",
       "      <td>1</td>\n",
       "      <td>14.0</td>\n",
       "      <td>ultra</td>\n",
       "    </tr>\n",
       "    <tr>\n",
       "      <th>7</th>\n",
       "      <td>6780.722964</td>\n",
       "      <td>2</td>\n",
       "      <td>47.0</td>\n",
       "      <td>ultra</td>\n",
       "    </tr>\n",
       "    <tr>\n",
       "      <th>8</th>\n",
       "      <td>923.007439</td>\n",
       "      <td>1</td>\n",
       "      <td>7.0</td>\n",
       "      <td>ultra</td>\n",
       "    </tr>\n",
       "    <tr>\n",
       "      <th>10</th>\n",
       "      <td>2824.636598</td>\n",
       "      <td>1</td>\n",
       "      <td>19.0</td>\n",
       "      <td>ultra</td>\n",
       "    </tr>\n",
       "    <tr>\n",
       "      <th>12</th>\n",
       "      <td>3828.248580</td>\n",
       "      <td>1</td>\n",
       "      <td>12.0</td>\n",
       "      <td>ultra</td>\n",
       "    </tr>\n",
       "    <tr>\n",
       "      <th rowspan=\"2\" valign=\"top\">3</th>\n",
       "      <th>1</th>\n",
       "      <td>3061.777147</td>\n",
       "      <td>1</td>\n",
       "      <td>13.0</td>\n",
       "      <td>ultra</td>\n",
       "    </tr>\n",
       "    <tr>\n",
       "      <th>2</th>\n",
       "      <td>5421.152016</td>\n",
       "      <td>2</td>\n",
       "      <td>38.0</td>\n",
       "      <td>ultra</td>\n",
       "    </tr>\n",
       "  </tbody>\n",
       "</table>\n",
       "</div>"
      ],
      "text/plain": [
       "                        distance  counts_riding  duration subscription_type\n",
       "user_id date_month                                                         \n",
       "1       1            7027.511294              2      42.0             ultra\n",
       "        4             754.159807              1       7.0             ultra\n",
       "        8            6723.470560              2      45.0             ultra\n",
       "        10           5809.911100              2      32.0             ultra\n",
       "        11           7003.499363              3      54.0             ultra\n",
       "        12           6751.629942              2      28.0             ultra\n",
       "2       3           10187.723006              3      61.0             ultra\n",
       "        4            6164.381824              2      40.0             ultra\n",
       "        6            3255.338202              1      14.0             ultra\n",
       "        7            6780.722964              2      47.0             ultra\n",
       "        8             923.007439              1       7.0             ultra\n",
       "        10           2824.636598              1      19.0             ultra\n",
       "        12           3828.248580              1      12.0             ultra\n",
       "3       1            3061.777147              1      13.0             ultra\n",
       "        2            5421.152016              2      38.0             ultra"
      ]
     },
     "execution_count": 68,
     "metadata": {},
     "output_type": "execute_result"
    }
   ],
   "source": [
    "grouped_table['duration'] = np.ceil(grouped_table['duration']) \n",
    "grouped_table.head(15)"
   ]
  },
  {
   "cell_type": "markdown",
   "id": "f57302db",
   "metadata": {},
   "source": [
    "2. Создадим функцию 'calculate_revenue', в которой учтём стоимость одной минуты поездки по разным подпискам, стоимость платной подписки и стоимость начала сеанса поездки. После чего, с помощью метода apply() применим функцию к каждой строке таблицы."
   ]
  },
  {
   "cell_type": "code",
   "execution_count": 69,
   "id": "5c5e6c1d",
   "metadata": {},
   "outputs": [
    {
     "data": {
      "text/html": [
       "<div>\n",
       "<style scoped>\n",
       "    .dataframe tbody tr th:only-of-type {\n",
       "        vertical-align: middle;\n",
       "    }\n",
       "\n",
       "    .dataframe tbody tr th {\n",
       "        vertical-align: top;\n",
       "    }\n",
       "\n",
       "    .dataframe thead th {\n",
       "        text-align: right;\n",
       "    }\n",
       "</style>\n",
       "<table border=\"1\" class=\"dataframe\">\n",
       "  <thead>\n",
       "    <tr style=\"text-align: right;\">\n",
       "      <th></th>\n",
       "      <th></th>\n",
       "      <th>distance</th>\n",
       "      <th>counts_riding</th>\n",
       "      <th>duration</th>\n",
       "      <th>subscription_type</th>\n",
       "      <th>revenue</th>\n",
       "    </tr>\n",
       "    <tr>\n",
       "      <th>user_id</th>\n",
       "      <th>date_month</th>\n",
       "      <th></th>\n",
       "      <th></th>\n",
       "      <th></th>\n",
       "      <th></th>\n",
       "      <th></th>\n",
       "    </tr>\n",
       "  </thead>\n",
       "  <tbody>\n",
       "    <tr>\n",
       "      <th rowspan=\"6\" valign=\"top\">1</th>\n",
       "      <th>1</th>\n",
       "      <td>7027.511294</td>\n",
       "      <td>2</td>\n",
       "      <td>42.0</td>\n",
       "      <td>ultra</td>\n",
       "      <td>451.0</td>\n",
       "    </tr>\n",
       "    <tr>\n",
       "      <th>4</th>\n",
       "      <td>754.159807</td>\n",
       "      <td>1</td>\n",
       "      <td>7.0</td>\n",
       "      <td>ultra</td>\n",
       "      <td>241.0</td>\n",
       "    </tr>\n",
       "    <tr>\n",
       "      <th>8</th>\n",
       "      <td>6723.470560</td>\n",
       "      <td>2</td>\n",
       "      <td>45.0</td>\n",
       "      <td>ultra</td>\n",
       "      <td>469.0</td>\n",
       "    </tr>\n",
       "    <tr>\n",
       "      <th>10</th>\n",
       "      <td>5809.911100</td>\n",
       "      <td>2</td>\n",
       "      <td>32.0</td>\n",
       "      <td>ultra</td>\n",
       "      <td>391.0</td>\n",
       "    </tr>\n",
       "    <tr>\n",
       "      <th>11</th>\n",
       "      <td>7003.499363</td>\n",
       "      <td>3</td>\n",
       "      <td>54.0</td>\n",
       "      <td>ultra</td>\n",
       "      <td>523.0</td>\n",
       "    </tr>\n",
       "    <tr>\n",
       "      <th>12</th>\n",
       "      <td>6751.629942</td>\n",
       "      <td>2</td>\n",
       "      <td>28.0</td>\n",
       "      <td>ultra</td>\n",
       "      <td>367.0</td>\n",
       "    </tr>\n",
       "    <tr>\n",
       "      <th rowspan=\"7\" valign=\"top\">2</th>\n",
       "      <th>3</th>\n",
       "      <td>10187.723006</td>\n",
       "      <td>3</td>\n",
       "      <td>61.0</td>\n",
       "      <td>ultra</td>\n",
       "      <td>565.0</td>\n",
       "    </tr>\n",
       "    <tr>\n",
       "      <th>4</th>\n",
       "      <td>6164.381824</td>\n",
       "      <td>2</td>\n",
       "      <td>40.0</td>\n",
       "      <td>ultra</td>\n",
       "      <td>439.0</td>\n",
       "    </tr>\n",
       "    <tr>\n",
       "      <th>6</th>\n",
       "      <td>3255.338202</td>\n",
       "      <td>1</td>\n",
       "      <td>14.0</td>\n",
       "      <td>ultra</td>\n",
       "      <td>283.0</td>\n",
       "    </tr>\n",
       "    <tr>\n",
       "      <th>7</th>\n",
       "      <td>6780.722964</td>\n",
       "      <td>2</td>\n",
       "      <td>47.0</td>\n",
       "      <td>ultra</td>\n",
       "      <td>481.0</td>\n",
       "    </tr>\n",
       "    <tr>\n",
       "      <th>8</th>\n",
       "      <td>923.007439</td>\n",
       "      <td>1</td>\n",
       "      <td>7.0</td>\n",
       "      <td>ultra</td>\n",
       "      <td>241.0</td>\n",
       "    </tr>\n",
       "    <tr>\n",
       "      <th>10</th>\n",
       "      <td>2824.636598</td>\n",
       "      <td>1</td>\n",
       "      <td>19.0</td>\n",
       "      <td>ultra</td>\n",
       "      <td>313.0</td>\n",
       "    </tr>\n",
       "    <tr>\n",
       "      <th>12</th>\n",
       "      <td>3828.248580</td>\n",
       "      <td>1</td>\n",
       "      <td>12.0</td>\n",
       "      <td>ultra</td>\n",
       "      <td>271.0</td>\n",
       "    </tr>\n",
       "    <tr>\n",
       "      <th rowspan=\"2\" valign=\"top\">3</th>\n",
       "      <th>1</th>\n",
       "      <td>3061.777147</td>\n",
       "      <td>1</td>\n",
       "      <td>13.0</td>\n",
       "      <td>ultra</td>\n",
       "      <td>277.0</td>\n",
       "    </tr>\n",
       "    <tr>\n",
       "      <th>2</th>\n",
       "      <td>5421.152016</td>\n",
       "      <td>2</td>\n",
       "      <td>38.0</td>\n",
       "      <td>ultra</td>\n",
       "      <td>427.0</td>\n",
       "    </tr>\n",
       "  </tbody>\n",
       "</table>\n",
       "</div>"
      ],
      "text/plain": [
       "                        distance  counts_riding  duration subscription_type  \\\n",
       "user_id date_month                                                            \n",
       "1       1            7027.511294              2      42.0             ultra   \n",
       "        4             754.159807              1       7.0             ultra   \n",
       "        8            6723.470560              2      45.0             ultra   \n",
       "        10           5809.911100              2      32.0             ultra   \n",
       "        11           7003.499363              3      54.0             ultra   \n",
       "        12           6751.629942              2      28.0             ultra   \n",
       "2       3           10187.723006              3      61.0             ultra   \n",
       "        4            6164.381824              2      40.0             ultra   \n",
       "        6            3255.338202              1      14.0             ultra   \n",
       "        7            6780.722964              2      47.0             ultra   \n",
       "        8             923.007439              1       7.0             ultra   \n",
       "        10           2824.636598              1      19.0             ultra   \n",
       "        12           3828.248580              1      12.0             ultra   \n",
       "3       1            3061.777147              1      13.0             ultra   \n",
       "        2            5421.152016              2      38.0             ultra   \n",
       "\n",
       "                    revenue  \n",
       "user_id date_month           \n",
       "1       1             451.0  \n",
       "        4             241.0  \n",
       "        8             469.0  \n",
       "        10            391.0  \n",
       "        11            523.0  \n",
       "        12            367.0  \n",
       "2       3             565.0  \n",
       "        4             439.0  \n",
       "        6             283.0  \n",
       "        7             481.0  \n",
       "        8             241.0  \n",
       "        10            313.0  \n",
       "        12            271.0  \n",
       "3       1             277.0  \n",
       "        2             427.0  "
      ]
     },
     "execution_count": 69,
     "metadata": {},
     "output_type": "execute_result"
    }
   ],
   "source": [
    "def calculate_revenue(row):\n",
    "    if row['subscription_type'] == 'ultra':\n",
    "        return row['duration'] * 6 + 199\n",
    "    elif row['subscription_type'] == 'free':\n",
    "        return row['duration'] * 8 + 50\n",
    "    else:\n",
    "        return None\n",
    "\n",
    "grouped_table['revenue'] = grouped_table.apply(calculate_revenue, axis=1)\n",
    "grouped_table.head(15)\n"
   ]
  },
  {
   "cell_type": "markdown",
   "id": "a5c58dc2",
   "metadata": {},
   "source": [
    "**Вывод:** была создана таблица с подсчётом выручки с одного пользователя за каждый месяц, когда он пользовался арендой самокатов."
   ]
  },
  {
   "cell_type": "markdown",
   "id": "41545ac0",
   "metadata": {},
   "source": [
    "## Шаг 6. Проверка гипотез"
   ]
  },
  {
   "cell_type": "markdown",
   "id": "4b7318e1",
   "metadata": {},
   "source": [
    "### Важно понять, тратят ли пользователи с подпиской больше времени на поездки?"
   ]
  },
  {
   "cell_type": "markdown",
   "id": "7c293e46",
   "metadata": {},
   "source": [
    "**Гипотеза:** важно понять, тратят ли пользователи с подпиской больше времени на поездки? Если да, то пользователи с подпиской могут быть «выгоднее» для компании."
   ]
  },
  {
   "cell_type": "markdown",
   "id": "0cbb18c3",
   "metadata": {},
   "source": [
    "1. Для того, чтобы проверить гипотезу воспользуемся методом для проверки гипотезы о равенстве среднего двух генеральных совокупностей по взятым из них выборкам: scipy.stats.ttest_ind(array1, array2, equal_var, alternative). "
   ]
  },
  {
   "cell_type": "code",
   "execution_count": 70,
   "id": "a6533bde",
   "metadata": {},
   "outputs": [
    {
     "name": "stdout",
     "output_type": "stream",
     "text": [
      "p-значение: 1.2804098316645618e-34\n",
      "Отвергаем нулевую гипотезу: пользователи с подпиской тратят больше времени на поездки, чем без подписки.\n"
     ]
    }
   ],
   "source": [
    "# гипотеза H0 = пользователи с подпиской тратят также времени.\n",
    "# альтернативная гипотеза H1 = пользователи с подпиской тратят больше времени.\n",
    "\n",
    "alpha = 0.05 # уровень статистической значимости\n",
    "\n",
    "results = st.ttest_ind(sub_ultra['duration'], sub_free['duration'], alternative='greater')\n",
    "\n",
    "print('p-значение:', results.pvalue)\n",
    "\n",
    "if (results.pvalue < alpha):\n",
    "    print('Отвергаем нулевую гипотезу: пользователи с подпиской тратят больше времени на поездки, чем без подписки.')\n",
    "else:\n",
    "    print('Не отвергаем нулевую гипотезу: пользователи с подпиской тратят меньше времени на поездки, чем без подписки.')\n"
   ]
  },
  {
   "cell_type": "markdown",
   "id": "f5ea86e8",
   "metadata": {},
   "source": [
    "**Вывод:** из выведенных данных мы видим, что p-значение = ±1.28, следовательно, мы отвергаем нулевую гипотезу. Действительно, пользователи с подпиской тратят больше времени на поездки, чем без."
   ]
  },
  {
   "cell_type": "markdown",
   "id": "fda29a26",
   "metadata": {},
   "source": [
    "### Можно ли сказать, что расстояние, которое проезжают пользователи с подпиской за одну поездку, не превышает 3130 метров?"
   ]
  },
  {
   "cell_type": "markdown",
   "id": "5c72b84b",
   "metadata": {},
   "source": [
    "**Гипотеза:** расстояние одной поездки в 3130 метров — оптимальное с точки зрения износа самоката. Можно ли сказать, что расстояние, которое проезжают пользователи с подпиской за одну поездку, не превышает 3130 метров? "
   ]
  },
  {
   "cell_type": "markdown",
   "id": "b582adc2",
   "metadata": {},
   "source": [
    "1. Для проведения одностороннего теста нужно использовать метод scipy.stats.ttest_1samp(), и в качестве аргумента указываем alternative='greater'."
   ]
  },
  {
   "cell_type": "code",
   "execution_count": 71,
   "id": "27f1d5a9",
   "metadata": {},
   "outputs": [
    {
     "name": "stdout",
     "output_type": "stream",
     "text": [
      "p-значение: 0.9195368847849785\n",
      "Не получилось отвергнуть нулевую гипотезу: расстояние, которое проезжают пользователи с подпиской за одну поездку, не превышает 3130 метров.\n"
     ]
    }
   ],
   "source": [
    "# гипотеза H0 = пользователи с подпиской проезжают за одну поездку меньше 3130 метров.\n",
    "# альтернативная гипотеза H1 = пользователи с подпиской проезжают больше 3130 метров.\n",
    "\n",
    "interested_value = 3130 \n",
    "\n",
    "alpha = 0.05 # уровень статистической значимости\n",
    "\n",
    "results = st.ttest_1samp(\n",
    "    sub_ultra['distance'], \n",
    "    interested_value,\n",
    "      alternative='greater')\n",
    "\n",
    "print('p-значение:', results.pvalue) # добавьте в аргумент p-value\n",
    "\n",
    "if (results.pvalue < alpha):\n",
    "    print('Отвергаем нулевую гипотезу: расстояние больше 3130')\n",
    "else:\n",
    "    print('Не получилось отвергнуть нулевую гипотезу: расстояние, которое проезжают пользователи с подпиской за одну поездку, не превышает 3130 метров.')"
   ]
  },
  {
   "cell_type": "markdown",
   "id": "f998c1c7",
   "metadata": {},
   "source": [
    "**Вывод:** из выведенных данных мы видим, что p-значение = ~0.92, следовательно, мы не отвергаем нулевую гипотезу. Действительно, пользователи с подпиской проезжают меньше 3130 метров за одну поездку, что является оптимальным значением с точки зрения износа самоката. "
   ]
  },
  {
   "cell_type": "markdown",
   "id": "16c651cf",
   "metadata": {},
   "source": [
    "### Гипотеза о том, будет ли помесячная выручка от пользователей с подпиской по месяцам выше, чем выручка от пользователей без подписки."
   ]
  },
  {
   "cell_type": "markdown",
   "id": "aed92e46",
   "metadata": {},
   "source": [
    "1. Создадим отдельные датафреймы с выручкой по пользователям с подпиской и без."
   ]
  },
  {
   "cell_type": "code",
   "execution_count": 72,
   "id": "33b547ed",
   "metadata": {},
   "outputs": [],
   "source": [
    "sub_ultra_revenue = grouped_table[grouped_table['subscription_type'] == 'ultra']\n",
    "sub_free_revenue = grouped_table[grouped_table['subscription_type'] == 'free']"
   ]
  },
  {
   "cell_type": "markdown",
   "id": "f2112f07",
   "metadata": {},
   "source": [
    "2. Для того, чтобы проверить гипотезу воспользуемся методом для проверки гипотезы о равенстве среднего двух генеральных совокупностей по взятым из них выборкам: scipy.stats.ttest_ind(array1, array2, equal_var, alternative). "
   ]
  },
  {
   "cell_type": "code",
   "execution_count": 73,
   "id": "c70a1f5d",
   "metadata": {
    "scrolled": true
   },
   "outputs": [
    {
     "name": "stdout",
     "output_type": "stream",
     "text": [
      "p-значение: 1.577594269237221e-195\n",
      "Отвергаем нулевую гипотезу: компания получает больше выручки с пользователя, у которого есть подписка, чем с пользователя, у которого её нет.\n"
     ]
    }
   ],
   "source": [
    "# гипотеза H0 = выручка с пользователей с подпиской меньше, чем с пользователей без подписки.\n",
    "# альтернативная гипотеза H1 = пользователи с подпиской тратят больше времени.\n",
    "\n",
    "alpha = 0.05 # уровень статистической значимости\n",
    "\n",
    "results = st.ttest_ind(sub_ultra_revenue['revenue'], sub_free_revenue['revenue'], alternative='greater')\n",
    "\n",
    "print('p-значение:', results.pvalue)\n",
    "\n",
    "if (results.pvalue < alpha):\n",
    "    print('Отвергаем нулевую гипотезу: компания получает больше выручки с пользователя, у которого есть подписка, чем с пользователя, у которого её нет.')\n",
    "else:\n",
    "    print('Не отвергаем нулевую гипотезу: компания получает меньше выручки с пользователя по подписке, чем без.')\n"
   ]
  },
  {
   "cell_type": "markdown",
   "id": "ae2708b8",
   "metadata": {},
   "source": [
    "**Вывод:** из выведенных данных мы видим, что p-значение = ±1.58, следовательно, мы отвергаем нулевую гипотезу. Действительно, пользователи с подпиской приносят больше выручки компании, чем пользователи без подписки. "
   ]
  },
  {
   "cell_type": "markdown",
   "id": "f8daa9ad",
   "metadata": {},
   "source": [
    "### Какой тест вам понадобился бы для проверки этой гипотезы?"
   ]
  },
  {
   "cell_type": "markdown",
   "id": "dd22f169",
   "metadata": {},
   "source": [
    "**Суть гипотезы:** представьте такую ситуацию: техническая команда сервиса обновила сервера, с которыми взаимодействует мобильное приложение. Она надеется, что из-за этого количество обращений в техподдержку значимо снизилось. Некоторый файл содержит для каждого пользователя данные о количестве обращений до обновления и после него. Какой тест вам понадобился бы для проверки этой гипотезы?"
   ]
  },
  {
   "cell_type": "markdown",
   "id": "a80601d8",
   "metadata": {},
   "source": [
    "**Выбор гипотезы:** для проверки гипотезы о том, что обновление серверов значимо снизило количество обращений в техподдержку, можно использовать статистический тест на сравнение средних значений двух выборок. В данном случае, выборки будут представлены данными о количестве обращений до обновления и после него для каждого пользователя. Тест для сравнения средних двух выборок - это t-тест Стьюдента. Для выполнения t-теста можно использовать функцию **ttest_ind** из модуля scipy.stats."
   ]
  },
  {
   "cell_type": "markdown",
   "id": "61213c5e",
   "metadata": {},
   "source": [
    "## Шаг 7. Распределения"
   ]
  },
  {
   "cell_type": "markdown",
   "id": "09669c12",
   "metadata": {},
   "source": [
    "### Нужно провести акцию с раздачей промокодов на один бесплатный месяц подписки, в рамках которой как минимум 100 существующих клиентов должны продлить эту подписку."
   ]
  },
  {
   "cell_type": "markdown",
   "id": "c1a1f3df",
   "metadata": {},
   "source": [
    "**Суть задания:** отделу маркетинга GoFast поставили задачу: нужно провести акцию с раздачей промокодов на один бесплатный месяц подписки, в рамках которой как минимум 100 существующих клиентов должны продлить эту подписку. То есть по завершении периода действия подписки пользователь может либо отказаться от неё, либо продлить, совершив соотвествующий платёж. \n",
    "Эта акция уже проводилась ранее и по итогу выяснилось, что после бесплатного пробного периода подписку продлевают 10 % пользователей. Выясните, какое минимальное количество промокодов нужно разослать, чтобы вероятность не выполнить план была примерно 5 %. Подберите параметры распределения, описывающего эту ситуацию, постройте график распределения и сформулируйте ответ на вопрос о количестве промокодов."
   ]
  },
  {
   "cell_type": "code",
   "execution_count": 74,
   "id": "eb6e2507",
   "metadata": {},
   "outputs": [
    {
     "data": {
      "image/png": "[encoded data removed]",
      "text/plain": [
       "<Figure size 432x288 with 1 Axes>"
      ]
     },
     "metadata": {
      "needs_background": "light"
     },
     "output_type": "display_data"
    },
    {
     "name": "stdout",
     "output_type": "stream",
     "text": [
      "Минимальное количество промокодов: 5\n"
     ]
    }
   ],
   "source": [
    "from scipy.stats import binom\n",
    "\n",
    "# Вероятность успеха (продления подписки)\n",
    "p_success = 0.1\n",
    "\n",
    "# Целевое количество продлений подписки\n",
    "target_subscriptions = 100\n",
    "\n",
    "# Желаемая вероятность не выполнить план\n",
    "desired_probability = 0.05\n",
    "\n",
    "# Находим минимальное количество промокодов\n",
    "min_promo_codes = None\n",
    "current_probability = 0\n",
    "\n",
    "for num_codes in range(target_subscriptions + 1):\n",
    "    probability = binom.pmf(num_codes, target_subscriptions, p_success)\n",
    "    current_probability += probability\n",
    "    if current_probability >= desired_probability:\n",
    "        min_promo_codes = num_codes\n",
    "        break\n",
    "\n",
    "# Генерируем значения для графика распределения\n",
    "x = range(target_subscriptions + 1)\n",
    "y = binom.pmf(x, target_subscriptions, p_success)\n",
    "\n",
    "# Построение графика распределения\n",
    "plt.plot(x, y, 'bo', ms=8)\n",
    "plt.xlabel('Количество продлений подписки')\n",
    "plt.ylabel('Вероятность')\n",
    "plt.title('Биномиальное распределение')\n",
    "plt.axvline(x=min_promo_codes, color='r', linestyle='-')\n",
    "plt.show()\n",
    "\n",
    "# Вывод ответа\n",
    "print(\"Минимальное количество промокодов:\", min_promo_codes)\n"
   ]
  },
  {
   "cell_type": "markdown",
   "id": "f89feefd",
   "metadata": {},
   "source": [
    "**Вывод:** по выведенным данным мы можем заметить, что минимум 5 промокодов нужно разослать, чтобы вероятность не выполнить план была примерно 5 %."
   ]
  },
  {
   "cell_type": "markdown",
   "id": "24d9e42f",
   "metadata": {},
   "source": [
    "### Оценить вероятность того, что уведомление откроют не более 399,5 тыс. пользователей"
   ]
  },
  {
   "cell_type": "markdown",
   "id": "ac631bb5",
   "metadata": {},
   "source": [
    "**Суть задания:** отдел маркетинга рассылает клиентам push-уведомления в мобильном приложении. Клиенты могут открыть его или не открывать. Известно, что уведомления открывают около 40 % получивших клиентов. Отдел планирует разослать 1 млн уведомлений. С помощью аппроксимации постройте примерный график распределения и оцените вероятность того, что уведомление откроют не более 399,5 тыс. пользователей."
   ]
  },
  {
   "cell_type": "code",
   "execution_count": 75,
   "id": "785e0977",
   "metadata": {},
   "outputs": [
    {
     "name": "stdout",
     "output_type": "stream",
     "text": [
      "Вероятность открытия не более 399,5 тыс. пользователей: 0.15371708296369768\n"
     ]
    },
    {
     "data": {
      "image/png": "[encoded data removed]",
      "text/plain": [
       "<Figure size 432x288 with 1 Axes>"
      ]
     },
     "metadata": {
      "needs_background": "light"
     },
     "output_type": "display_data"
    }
   ],
   "source": [
    "import scipy.stats as stats\n",
    "\n",
    "n = 1000000\n",
    "p = 0.4\n",
    "\n",
    "mean = n * p\n",
    "std_dev = (n * p * (1 - p)) ** 0.5\n",
    "\n",
    "# Определяем нормальное распределение с указанными средним значением и стандартным отклонением\n",
    "norm_dist = stats.norm(mean, std_dev)\n",
    "\n",
    "# Оцениваем вероятность того, что количество открывших клиентов будет <= 399,5 тыс.\n",
    "prob = norm_dist.cdf(399500)\n",
    "\n",
    "print(\"Вероятность открытия не более 399,5 тыс. пользователей:\", prob)\n",
    "\n",
    "x = np.linspace(mean - 3 * std_dev, mean + 3 * std_dev, 1000)\n",
    "y = stats.norm.pdf(x, mean, std_dev)\n",
    "\n",
    "plt.plot(x, y)\n",
    "plt.xlabel('Количество открывших клиентов')\n",
    "plt.ylabel('Плотность вероятности')\n",
    "plt.title('Распределение открытия уведомлений')\n",
    "plt.grid(True)\n",
    "plt.show()"
   ]
  },
  {
   "cell_type": "markdown",
   "id": "e04da0b1",
   "metadata": {},
   "source": [
    "**Вывод:** по выведенным данным мы можем заметить, что вероятность того, что не более 399,5 тыс. пользователей откроют push-уведомление - 15.3%."
   ]
  },
  {
   "cell_type": "markdown",
   "id": "3a526bb7",
   "metadata": {},
   "source": [
    "## Общий вывод"
   ]
  },
  {
   "cell_type": "markdown",
   "id": "658e5cb0",
   "metadata": {},
   "source": [
    "**1. В ходе исследования данных, связанных с сервисом GoFast была проделана большая работа:**\n",
    "- В первую очередь мы предобработали все данные в исходных датафреймах. Были удалены явные дубликаты. В тех столбцах, в которых возможно, были изменены типы данных.\n",
    "- Также, в датафрейм 'data_rides' был добавлен столбец 'data_month' на основе столбца 'data', который в последствии был использован для соединения двух датафреймов.\n",
    "\n",
    "\n",
    "**2. Исследовательский анализ данных**\n",
    "**На основе корректных данных у нас есть общее представление о пользователях и их поездках:**\n",
    "\n",
    "- Мы смогли определить частоту встречаемости городов по количеству пользователей и сделали вывод, что большее количество пользователей в городе Пятигорск, потом идет Екатеринбург, Ростов-на-Дону. Последнее место занимает Москва. Также, была определена частота встречаемости городов по совершенным поездкам, и мы можем сделать вывод, что показатели частот количества уникальных пользователей и количества поездок приблизительно похожи, выглядят одинаково. Единственное различие по месту частоты - Тюмень опередила Омск по количеству поездок. \n",
    "- Мы определили, что людей без подписки больше, чем с подпиской.\n",
    "- Основная часть пользователей возрастом от 22 до 28 лет. Медиана: 25 лет. Все что меньше 15 лет и больше 40 можно считать редкими значениями.\n",
    "- Основная часть поездок занимает от 2500 до 3800 метров. Медиана 3133 метра. Поездки на расстояние более 5 км редки. Однако на гистограмме видно, что некоторая часть пользователей использует самокаты для коротких поездок - до 1500 м.\n",
    "- Cредняя продолжительность поездок около 17 минут. Минимальное - меньше минуты. Максимальное затянулось на 40 минут.\n",
    "\n",
    "**3. Объединили данные для подсчёта месячной выручки.**\n",
    "\n",
    "**4. Подсчитали месячную выручку по каждому пользователю.**\n",
    "- Получили, что в среднем пользователь с подпиской тратит: 361 руб./мес., а без подписки: 291 руб./мес. \n",
    "\n",
    "**5. Изучили гипотезы:**\n",
    "- Пользователи с подпиской тратят больше времени на поездки, чем без.\n",
    "- Пользователи с подпиской проезжают меньше 3130 метров за одну поездку, что является оптимальным значением с точки зрения износа самоката.\n",
    "- Пользователи с подпиской приносят больше выручки компании, чем пользователи без подписки.\n",
    "\n",
    "**6. Провели эксперименты и сделали выводы по ним:**\n",
    "- Минимум 5 промокодов (из 100) нужно разослать, чтобы вероятность не выполнить план акции с раздачей промокодов на один бесплатный месяц подписки была примерно -  5 %.\n",
    "- Вероятность того, что не более 399,5 тыс. (из 1 млн.) пользователей откроют push-уведомление - 15.3%"
   ]
  }
 ],
 "metadata": {
  "ExecuteTimeLog": [
   {
    "duration": 355,
    "start_time": "2023-05-25T13:16:13.926Z"
   },
   {
    "duration": 941,
    "start_time": "2023-05-25T13:16:34.059Z"
   },
   {
    "duration": 88,
    "start_time": "2023-05-25T13:17:22.383Z"
   },
   {
    "duration": 306,
    "start_time": "2023-05-25T13:17:53.229Z"
   },
   {
    "duration": 110,
    "start_time": "2023-05-25T13:17:57.728Z"
   },
   {
    "duration": 16,
    "start_time": "2023-05-25T13:18:14.330Z"
   },
   {
    "duration": 10,
    "start_time": "2023-05-25T13:18:22.804Z"
   },
   {
    "duration": 11,
    "start_time": "2023-05-25T13:18:27.578Z"
   },
   {
    "duration": 8,
    "start_time": "2023-05-25T13:18:31.526Z"
   },
   {
    "duration": 7,
    "start_time": "2023-05-25T13:18:39.780Z"
   },
   {
    "duration": 8,
    "start_time": "2023-05-25T13:18:42.060Z"
   },
   {
    "duration": 8,
    "start_time": "2023-05-25T13:18:56.872Z"
   },
   {
    "duration": 9,
    "start_time": "2023-05-25T13:19:06.220Z"
   },
   {
    "duration": 15,
    "start_time": "2023-05-25T13:22:06.972Z"
   },
   {
    "duration": 8,
    "start_time": "2023-05-25T13:22:25.436Z"
   },
   {
    "duration": 55,
    "start_time": "2023-05-25T13:27:53.675Z"
   },
   {
    "duration": 11,
    "start_time": "2023-05-25T13:28:01.027Z"
   },
   {
    "duration": 10,
    "start_time": "2023-05-25T13:29:14.788Z"
   },
   {
    "duration": 24,
    "start_time": "2023-05-25T13:29:18.799Z"
   },
   {
    "duration": 15,
    "start_time": "2023-05-25T13:29:52.543Z"
   },
   {
    "duration": 8,
    "start_time": "2023-05-25T13:36:50.225Z"
   },
   {
    "duration": 9,
    "start_time": "2023-05-25T13:44:48.141Z"
   },
   {
    "duration": 11,
    "start_time": "2023-05-25T13:44:52.437Z"
   },
   {
    "duration": 8,
    "start_time": "2023-05-25T13:45:18.054Z"
   },
   {
    "duration": 63,
    "start_time": "2023-05-25T13:49:01.743Z"
   },
   {
    "duration": 9,
    "start_time": "2023-05-25T13:49:08.316Z"
   },
   {
    "duration": 7,
    "start_time": "2023-05-25T13:49:31.019Z"
   },
   {
    "duration": 9,
    "start_time": "2023-05-25T13:49:34.210Z"
   },
   {
    "duration": 8,
    "start_time": "2023-05-25T13:49:37.807Z"
   },
   {
    "duration": 10,
    "start_time": "2023-05-25T13:49:41.742Z"
   },
   {
    "duration": 9,
    "start_time": "2023-05-25T13:49:46.895Z"
   },
   {
    "duration": 7,
    "start_time": "2023-05-25T13:49:51.086Z"
   },
   {
    "duration": 12,
    "start_time": "2023-05-25T13:51:10.144Z"
   },
   {
    "duration": 17,
    "start_time": "2023-05-25T13:52:05.550Z"
   },
   {
    "duration": 10,
    "start_time": "2023-05-25T13:52:11.603Z"
   },
   {
    "duration": 6,
    "start_time": "2023-05-25T13:52:16.452Z"
   },
   {
    "duration": 11,
    "start_time": "2023-05-25T13:52:46.022Z"
   },
   {
    "duration": 18,
    "start_time": "2023-05-25T13:53:45.833Z"
   },
   {
    "duration": 15,
    "start_time": "2023-05-25T13:53:59.322Z"
   },
   {
    "duration": 4,
    "start_time": "2023-05-25T13:54:28.234Z"
   },
   {
    "duration": 11,
    "start_time": "2023-05-25T13:54:32.706Z"
   },
   {
    "duration": 14,
    "start_time": "2023-05-25T13:55:08.676Z"
   },
   {
    "duration": 11,
    "start_time": "2023-05-25T13:55:21.564Z"
   },
   {
    "duration": 6,
    "start_time": "2023-05-25T13:55:28.015Z"
   },
   {
    "duration": 13,
    "start_time": "2023-05-25T13:55:40.777Z"
   },
   {
    "duration": 5,
    "start_time": "2023-05-25T14:00:55.255Z"
   },
   {
    "duration": 8,
    "start_time": "2023-05-25T14:08:00.887Z"
   },
   {
    "duration": 5,
    "start_time": "2023-05-25T14:18:05.635Z"
   },
   {
    "duration": 11,
    "start_time": "2023-05-25T14:23:42.656Z"
   },
   {
    "duration": 10,
    "start_time": "2023-05-25T14:24:02.879Z"
   },
   {
    "duration": 14,
    "start_time": "2023-05-25T14:24:14.428Z"
   },
   {
    "duration": 14,
    "start_time": "2023-05-25T14:24:20.418Z"
   },
   {
    "duration": 10,
    "start_time": "2023-05-25T14:24:23.431Z"
   },
   {
    "duration": 66,
    "start_time": "2023-05-25T14:26:11.907Z"
   },
   {
    "duration": 12,
    "start_time": "2023-05-25T14:27:47.875Z"
   },
   {
    "duration": 12,
    "start_time": "2023-05-25T14:27:52.154Z"
   },
   {
    "duration": 8,
    "start_time": "2023-05-25T14:30:30.804Z"
   },
   {
    "duration": 5,
    "start_time": "2023-05-25T14:30:35.300Z"
   },
   {
    "duration": 10,
    "start_time": "2023-05-25T14:31:06.290Z"
   },
   {
    "duration": 65,
    "start_time": "2023-05-25T14:33:41.691Z"
   },
   {
    "duration": 6,
    "start_time": "2023-05-25T14:33:56.886Z"
   },
   {
    "duration": 11,
    "start_time": "2023-05-25T14:34:07.947Z"
   },
   {
    "duration": 10,
    "start_time": "2023-05-25T14:34:18.779Z"
   },
   {
    "duration": 7,
    "start_time": "2023-05-25T14:41:51.528Z"
   },
   {
    "duration": 10,
    "start_time": "2023-05-25T14:42:04.495Z"
   },
   {
    "duration": 8,
    "start_time": "2023-05-25T14:42:40.013Z"
   },
   {
    "duration": 11,
    "start_time": "2023-05-25T14:42:41.108Z"
   },
   {
    "duration": 53,
    "start_time": "2023-05-25T14:44:42.564Z"
   },
   {
    "duration": 9,
    "start_time": "2023-05-25T14:44:50.682Z"
   },
   {
    "duration": 5,
    "start_time": "2023-05-25T14:44:53.700Z"
   },
   {
    "duration": 8,
    "start_time": "2023-05-25T14:47:15.358Z"
   },
   {
    "duration": 7,
    "start_time": "2023-05-25T14:47:24.952Z"
   },
   {
    "duration": 6,
    "start_time": "2023-05-25T14:47:31.853Z"
   },
   {
    "duration": 847,
    "start_time": "2023-05-25T14:48:53.495Z"
   },
   {
    "duration": 828,
    "start_time": "2023-05-25T14:48:56.392Z"
   },
   {
    "duration": 6,
    "start_time": "2023-05-25T14:49:11.099Z"
   },
   {
    "duration": 15,
    "start_time": "2023-05-25T14:49:16.651Z"
   },
   {
    "duration": 12,
    "start_time": "2023-05-25T14:51:48.718Z"
   },
   {
    "duration": 133,
    "start_time": "2023-05-25T14:51:55.203Z"
   },
   {
    "duration": 130,
    "start_time": "2023-05-25T14:52:13.364Z"
   },
   {
    "duration": 10,
    "start_time": "2023-05-25T14:55:22.818Z"
   },
   {
    "duration": 51,
    "start_time": "2023-05-25T14:55:36.060Z"
   },
   {
    "duration": 9,
    "start_time": "2023-05-25T14:56:22.116Z"
   },
   {
    "duration": 14,
    "start_time": "2023-05-25T14:57:39.528Z"
   },
   {
    "duration": 2363,
    "start_time": "2023-05-25T14:57:59.257Z"
   },
   {
    "duration": 379,
    "start_time": "2023-05-25T14:58:41.515Z"
   },
   {
    "duration": 143,
    "start_time": "2023-05-25T14:58:51.085Z"
   },
   {
    "duration": 134,
    "start_time": "2023-05-25T14:58:54.982Z"
   },
   {
    "duration": 147,
    "start_time": "2023-05-25T14:58:57.652Z"
   },
   {
    "duration": 136,
    "start_time": "2023-05-25T14:59:17.432Z"
   },
   {
    "duration": 2242,
    "start_time": "2023-05-25T15:04:26.765Z"
   },
   {
    "duration": 2518,
    "start_time": "2023-05-25T15:04:39.895Z"
   },
   {
    "duration": 2371,
    "start_time": "2023-05-25T15:05:50.065Z"
   },
   {
    "duration": 2325,
    "start_time": "2023-05-25T15:05:58.320Z"
   },
   {
    "duration": 10,
    "start_time": "2023-05-25T15:07:06.560Z"
   },
   {
    "duration": 16,
    "start_time": "2023-05-25T15:07:13.502Z"
   },
   {
    "duration": 23621,
    "start_time": "2023-05-25T15:07:28.615Z"
   },
   {
    "duration": 67,
    "start_time": "2023-05-25T15:08:43.227Z"
   },
   {
    "duration": 24003,
    "start_time": "2023-05-25T15:08:46.855Z"
   },
   {
    "duration": 20,
    "start_time": "2023-05-25T15:10:00.101Z"
   },
   {
    "duration": 14,
    "start_time": "2023-05-25T15:11:33.078Z"
   },
   {
    "duration": 14,
    "start_time": "2023-05-25T15:11:36.794Z"
   },
   {
    "duration": 5,
    "start_time": "2023-05-25T15:12:13.628Z"
   },
   {
    "duration": 12,
    "start_time": "2023-05-25T15:12:32.207Z"
   },
   {
    "duration": 861,
    "start_time": "2023-05-25T15:12:46.503Z"
   },
   {
    "duration": 148,
    "start_time": "2023-05-25T15:12:58.706Z"
   },
   {
    "duration": 172,
    "start_time": "2023-05-25T15:14:41.666Z"
   },
   {
    "duration": 177,
    "start_time": "2023-05-25T15:14:45.627Z"
   },
   {
    "duration": 164,
    "start_time": "2023-05-25T15:17:08.836Z"
   },
   {
    "duration": 163,
    "start_time": "2023-05-25T15:17:12.508Z"
   },
   {
    "duration": 155,
    "start_time": "2023-05-25T15:17:33.408Z"
   },
   {
    "duration": 182,
    "start_time": "2023-05-25T15:17:53.956Z"
   },
   {
    "duration": 15,
    "start_time": "2023-05-25T15:22:04.427Z"
   },
   {
    "duration": 70,
    "start_time": "2023-05-25T15:24:49.556Z"
   },
   {
    "duration": 163,
    "start_time": "2023-05-25T15:24:54.592Z"
   },
   {
    "duration": 187,
    "start_time": "2023-05-25T15:25:01.123Z"
   },
   {
    "duration": 229,
    "start_time": "2023-05-25T15:25:07.793Z"
   },
   {
    "duration": 173,
    "start_time": "2023-05-25T15:25:14.875Z"
   },
   {
    "duration": 123,
    "start_time": "2023-05-25T15:26:02.899Z"
   },
   {
    "duration": 187,
    "start_time": "2023-05-25T15:26:10.511Z"
   },
   {
    "duration": 12,
    "start_time": "2023-05-25T15:27:51.918Z"
   },
   {
    "duration": 15,
    "start_time": "2023-05-25T15:27:59.929Z"
   },
   {
    "duration": 14,
    "start_time": "2023-05-25T15:28:02.000Z"
   },
   {
    "duration": 160,
    "start_time": "2023-05-25T15:28:03.591Z"
   },
   {
    "duration": 46,
    "start_time": "2023-05-25T17:44:41.633Z"
   },
   {
    "duration": 1319,
    "start_time": "2023-05-25T17:45:01.766Z"
   },
   {
    "duration": 272,
    "start_time": "2023-05-25T17:45:03.087Z"
   },
   {
    "duration": 12,
    "start_time": "2023-05-25T17:45:03.364Z"
   },
   {
    "duration": 8,
    "start_time": "2023-05-25T17:45:03.378Z"
   },
   {
    "duration": 18,
    "start_time": "2023-05-25T17:45:03.388Z"
   },
   {
    "duration": 11,
    "start_time": "2023-05-25T17:45:03.407Z"
   },
   {
    "duration": 32,
    "start_time": "2023-05-25T17:45:03.419Z"
   },
   {
    "duration": 8,
    "start_time": "2023-05-25T17:45:03.453Z"
   },
   {
    "duration": 20,
    "start_time": "2023-05-25T17:45:03.463Z"
   },
   {
    "duration": 10,
    "start_time": "2023-05-25T17:45:03.484Z"
   },
   {
    "duration": 15,
    "start_time": "2023-05-25T17:45:03.496Z"
   },
   {
    "duration": 11,
    "start_time": "2023-05-25T17:45:03.513Z"
   },
   {
    "duration": 29,
    "start_time": "2023-05-25T17:45:03.525Z"
   },
   {
    "duration": 4,
    "start_time": "2023-05-25T17:45:03.556Z"
   },
   {
    "duration": 12,
    "start_time": "2023-05-25T17:45:03.561Z"
   },
   {
    "duration": 4,
    "start_time": "2023-05-25T17:45:03.575Z"
   },
   {
    "duration": 11,
    "start_time": "2023-05-25T17:45:03.581Z"
   },
   {
    "duration": 8,
    "start_time": "2023-05-25T17:45:03.593Z"
   },
   {
    "duration": 9,
    "start_time": "2023-05-25T17:45:03.603Z"
   },
   {
    "duration": 5,
    "start_time": "2023-05-25T17:45:03.650Z"
   },
   {
    "duration": 11,
    "start_time": "2023-05-25T17:45:03.656Z"
   },
   {
    "duration": 9,
    "start_time": "2023-05-25T17:45:03.669Z"
   },
   {
    "duration": 8,
    "start_time": "2023-05-25T17:45:03.680Z"
   },
   {
    "duration": 5,
    "start_time": "2023-05-25T17:45:03.689Z"
   },
   {
    "duration": 8,
    "start_time": "2023-05-25T17:45:03.695Z"
   },
   {
    "duration": 5,
    "start_time": "2023-05-25T17:45:03.704Z"
   },
   {
    "duration": 10,
    "start_time": "2023-05-25T17:45:03.750Z"
   },
   {
    "duration": 6,
    "start_time": "2023-05-25T17:45:03.762Z"
   },
   {
    "duration": 12,
    "start_time": "2023-05-25T17:45:03.770Z"
   },
   {
    "duration": 6,
    "start_time": "2023-05-25T17:45:03.784Z"
   },
   {
    "duration": 8,
    "start_time": "2023-05-25T17:45:03.792Z"
   },
   {
    "duration": 6,
    "start_time": "2023-05-25T17:45:03.803Z"
   },
   {
    "duration": 40,
    "start_time": "2023-05-25T17:45:03.810Z"
   },
   {
    "duration": 15,
    "start_time": "2023-05-25T17:45:03.852Z"
   },
   {
    "duration": 14,
    "start_time": "2023-05-25T17:45:03.869Z"
   },
   {
    "duration": 209,
    "start_time": "2023-05-25T17:45:03.885Z"
   },
   {
    "duration": 17,
    "start_time": "2023-05-25T17:45:04.096Z"
   },
   {
    "duration": 10,
    "start_time": "2023-05-25T17:48:02.876Z"
   },
   {
    "duration": 28,
    "start_time": "2023-05-25T17:48:08.136Z"
   },
   {
    "duration": 21,
    "start_time": "2023-05-25T17:49:33.991Z"
   },
   {
    "duration": 24,
    "start_time": "2023-05-25T17:49:40.215Z"
   },
   {
    "duration": 20,
    "start_time": "2023-05-25T17:50:49.274Z"
   },
   {
    "duration": 177,
    "start_time": "2023-05-25T17:51:24.653Z"
   },
   {
    "duration": 183,
    "start_time": "2023-05-25T17:51:33.769Z"
   },
   {
    "duration": 27,
    "start_time": "2023-05-25T17:51:41.312Z"
   },
   {
    "duration": 269,
    "start_time": "2023-05-25T17:51:51.705Z"
   },
   {
    "duration": 195,
    "start_time": "2023-05-25T17:51:57.556Z"
   },
   {
    "duration": 19,
    "start_time": "2023-05-25T17:52:20.109Z"
   },
   {
    "duration": 193,
    "start_time": "2023-05-25T17:52:20.881Z"
   },
   {
    "duration": 1149,
    "start_time": "2023-05-25T17:56:00.406Z"
   },
   {
    "duration": 66,
    "start_time": "2023-05-25T17:56:01.557Z"
   },
   {
    "duration": 15,
    "start_time": "2023-05-25T17:56:01.625Z"
   },
   {
    "duration": 25,
    "start_time": "2023-05-25T17:56:01.642Z"
   },
   {
    "duration": 26,
    "start_time": "2023-05-25T17:56:01.669Z"
   },
   {
    "duration": 13,
    "start_time": "2023-05-25T17:56:01.697Z"
   },
   {
    "duration": 18,
    "start_time": "2023-05-25T17:56:01.712Z"
   },
   {
    "duration": 24,
    "start_time": "2023-05-25T17:56:01.732Z"
   },
   {
    "duration": 38,
    "start_time": "2023-05-25T17:56:01.758Z"
   },
   {
    "duration": 13,
    "start_time": "2023-05-25T17:56:01.799Z"
   },
   {
    "duration": 22,
    "start_time": "2023-05-25T17:56:01.814Z"
   },
   {
    "duration": 23,
    "start_time": "2023-05-25T17:56:01.838Z"
   },
   {
    "duration": 16,
    "start_time": "2023-05-25T17:56:01.863Z"
   },
   {
    "duration": 37,
    "start_time": "2023-05-25T17:56:01.882Z"
   },
   {
    "duration": 15,
    "start_time": "2023-05-25T17:56:01.921Z"
   },
   {
    "duration": 20,
    "start_time": "2023-05-25T17:56:01.940Z"
   },
   {
    "duration": 31,
    "start_time": "2023-05-25T17:56:01.962Z"
   },
   {
    "duration": 15,
    "start_time": "2023-05-25T17:56:01.996Z"
   },
   {
    "duration": 19,
    "start_time": "2023-05-25T17:56:02.013Z"
   },
   {
    "duration": 7,
    "start_time": "2023-05-25T17:56:02.034Z"
   },
   {
    "duration": 16,
    "start_time": "2023-05-25T17:56:02.043Z"
   },
   {
    "duration": 25,
    "start_time": "2023-05-25T17:56:02.061Z"
   },
   {
    "duration": 23,
    "start_time": "2023-05-25T17:56:02.088Z"
   },
   {
    "duration": 5,
    "start_time": "2023-05-25T17:56:02.113Z"
   },
   {
    "duration": 11,
    "start_time": "2023-05-25T17:56:02.120Z"
   },
   {
    "duration": 6,
    "start_time": "2023-05-25T17:56:02.133Z"
   },
   {
    "duration": 19,
    "start_time": "2023-05-25T17:56:02.151Z"
   },
   {
    "duration": 20,
    "start_time": "2023-05-25T17:56:02.173Z"
   },
   {
    "duration": 46,
    "start_time": "2023-05-25T17:56:02.195Z"
   },
   {
    "duration": 10,
    "start_time": "2023-05-25T17:56:02.242Z"
   },
   {
    "duration": 21,
    "start_time": "2023-05-25T17:56:02.254Z"
   },
   {
    "duration": 13,
    "start_time": "2023-05-25T17:56:02.276Z"
   },
   {
    "duration": 16,
    "start_time": "2023-05-25T17:56:02.291Z"
   },
   {
    "duration": 24,
    "start_time": "2023-05-25T17:56:02.308Z"
   },
   {
    "duration": 124,
    "start_time": "2023-05-25T17:56:02.334Z"
   },
   {
    "duration": 15,
    "start_time": "2023-05-25T17:56:02.460Z"
   },
   {
    "duration": 195,
    "start_time": "2023-05-25T17:56:02.477Z"
   },
   {
    "duration": 17,
    "start_time": "2023-05-25T17:56:02.674Z"
   },
   {
    "duration": 190,
    "start_time": "2023-05-25T17:56:02.693Z"
   },
   {
    "duration": 123,
    "start_time": "2023-05-25T17:56:25.379Z"
   },
   {
    "duration": 249,
    "start_time": "2023-05-25T17:59:21.569Z"
   },
   {
    "duration": 119,
    "start_time": "2023-05-25T18:00:06.666Z"
   },
   {
    "duration": 17,
    "start_time": "2023-05-25T18:06:48.970Z"
   },
   {
    "duration": 21,
    "start_time": "2023-05-25T18:06:57.766Z"
   },
   {
    "duration": 8,
    "start_time": "2023-05-25T18:07:15.544Z"
   },
   {
    "duration": 13,
    "start_time": "2023-05-25T18:09:03.694Z"
   },
   {
    "duration": 141,
    "start_time": "2023-05-25T18:09:57.644Z"
   },
   {
    "duration": 132,
    "start_time": "2023-05-25T18:10:05.143Z"
   },
   {
    "duration": 47,
    "start_time": "2023-05-25T18:11:06.229Z"
   },
   {
    "duration": 120,
    "start_time": "2023-05-25T18:11:09.897Z"
   },
   {
    "duration": 42,
    "start_time": "2023-05-25T18:11:19.409Z"
   },
   {
    "duration": 197,
    "start_time": "2023-05-25T18:11:22.422Z"
   },
   {
    "duration": 58,
    "start_time": "2023-05-25T18:11:52.367Z"
   },
   {
    "duration": 139,
    "start_time": "2023-05-25T18:11:55.457Z"
   },
   {
    "duration": 121,
    "start_time": "2023-05-25T18:11:57.701Z"
   },
   {
    "duration": 134,
    "start_time": "2023-05-25T18:11:59.994Z"
   },
   {
    "duration": 150,
    "start_time": "2023-05-25T18:12:02.411Z"
   },
   {
    "duration": 148,
    "start_time": "2023-05-25T18:12:05.842Z"
   },
   {
    "duration": 128,
    "start_time": "2023-05-25T18:12:07.976Z"
   },
   {
    "duration": 136,
    "start_time": "2023-05-25T18:12:11.058Z"
   },
   {
    "duration": 127,
    "start_time": "2023-05-25T18:12:16.192Z"
   },
   {
    "duration": 147,
    "start_time": "2023-05-25T18:12:20.949Z"
   },
   {
    "duration": 128,
    "start_time": "2023-05-25T18:12:23.583Z"
   },
   {
    "duration": 210,
    "start_time": "2023-05-25T18:12:25.804Z"
   },
   {
    "duration": 150,
    "start_time": "2023-05-25T18:12:27.889Z"
   },
   {
    "duration": 260,
    "start_time": "2023-05-25T18:12:29.957Z"
   },
   {
    "duration": 130,
    "start_time": "2023-05-25T18:12:32.695Z"
   },
   {
    "duration": 160,
    "start_time": "2023-05-25T18:12:35.732Z"
   },
   {
    "duration": 12,
    "start_time": "2023-05-25T18:13:16.923Z"
   },
   {
    "duration": 10,
    "start_time": "2023-05-25T18:13:21.540Z"
   },
   {
    "duration": 176,
    "start_time": "2023-05-25T18:13:31.677Z"
   },
   {
    "duration": 11,
    "start_time": "2023-05-25T18:13:49.732Z"
   },
   {
    "duration": 41,
    "start_time": "2023-05-25T18:13:53.828Z"
   },
   {
    "duration": 138,
    "start_time": "2023-05-25T18:13:57.803Z"
   },
   {
    "duration": 146,
    "start_time": "2023-05-25T18:14:17.306Z"
   },
   {
    "duration": 131,
    "start_time": "2023-05-25T18:14:29.513Z"
   },
   {
    "duration": 168,
    "start_time": "2023-05-25T18:14:40.043Z"
   },
   {
    "duration": 147,
    "start_time": "2023-05-25T18:15:04.810Z"
   },
   {
    "duration": 14,
    "start_time": "2023-05-25T18:15:56.884Z"
   },
   {
    "duration": 767,
    "start_time": "2023-05-25T18:17:52.910Z"
   },
   {
    "duration": 703,
    "start_time": "2023-05-25T18:18:02.861Z"
   },
   {
    "duration": 14,
    "start_time": "2023-05-25T18:23:14.639Z"
   },
   {
    "duration": 13,
    "start_time": "2023-05-25T18:23:18.919Z"
   },
   {
    "duration": 706,
    "start_time": "2023-05-25T18:23:56.977Z"
   },
   {
    "duration": 10,
    "start_time": "2023-05-25T18:24:23.650Z"
   },
   {
    "duration": 109,
    "start_time": "2023-05-25T18:24:29.816Z"
   },
   {
    "duration": 157,
    "start_time": "2023-05-25T18:24:41.821Z"
   },
   {
    "duration": 125,
    "start_time": "2023-05-25T18:24:48.946Z"
   },
   {
    "duration": 764,
    "start_time": "2023-05-25T18:25:57.321Z"
   },
   {
    "duration": 77,
    "start_time": "2023-05-25T18:26:16.366Z"
   },
   {
    "duration": 14,
    "start_time": "2023-05-25T18:26:34.223Z"
   },
   {
    "duration": 150,
    "start_time": "2023-05-25T18:26:57.673Z"
   },
   {
    "duration": 66,
    "start_time": "2023-05-25T18:27:05.079Z"
   },
   {
    "duration": 72,
    "start_time": "2023-05-25T18:27:07.202Z"
   },
   {
    "duration": 77,
    "start_time": "2023-05-25T18:27:11.936Z"
   },
   {
    "duration": 68,
    "start_time": "2023-05-25T18:27:15.010Z"
   },
   {
    "duration": 173,
    "start_time": "2023-05-25T18:27:39.172Z"
   },
   {
    "duration": 48,
    "start_time": "2023-05-25T18:28:01.939Z"
   },
   {
    "duration": 124,
    "start_time": "2023-05-25T18:28:10.880Z"
   },
   {
    "duration": 173,
    "start_time": "2023-05-25T18:28:31.833Z"
   },
   {
    "duration": 6,
    "start_time": "2023-05-25T18:30:36.860Z"
   },
   {
    "duration": 9,
    "start_time": "2023-05-25T18:30:41.086Z"
   },
   {
    "duration": 9,
    "start_time": "2023-05-25T18:30:47.742Z"
   },
   {
    "duration": 9,
    "start_time": "2023-05-25T18:30:51.503Z"
   },
   {
    "duration": 26,
    "start_time": "2023-05-25T18:31:26.733Z"
   },
   {
    "duration": 9,
    "start_time": "2023-05-25T18:34:06.582Z"
   },
   {
    "duration": 4,
    "start_time": "2023-05-25T18:37:30.981Z"
   },
   {
    "duration": 6,
    "start_time": "2023-05-25T18:37:34.820Z"
   },
   {
    "duration": 5,
    "start_time": "2023-05-25T18:38:49.321Z"
   },
   {
    "duration": 72,
    "start_time": "2023-05-25T18:39:29.131Z"
   },
   {
    "duration": 66,
    "start_time": "2023-05-25T18:39:33.564Z"
   },
   {
    "duration": 12,
    "start_time": "2023-05-25T18:41:35.583Z"
   },
   {
    "duration": 222,
    "start_time": "2023-05-25T18:41:55.279Z"
   },
   {
    "duration": 138,
    "start_time": "2023-05-25T18:42:09.909Z"
   },
   {
    "duration": 136,
    "start_time": "2023-05-25T18:42:16.712Z"
   },
   {
    "duration": 125,
    "start_time": "2023-05-25T18:42:20.725Z"
   },
   {
    "duration": 123,
    "start_time": "2023-05-25T18:42:25.083Z"
   },
   {
    "duration": 131,
    "start_time": "2023-05-25T18:42:31.337Z"
   },
   {
    "duration": 154,
    "start_time": "2023-05-25T18:42:35.977Z"
   },
   {
    "duration": 163,
    "start_time": "2023-05-25T18:42:40.413Z"
   },
   {
    "duration": 178,
    "start_time": "2023-05-25T18:44:00.982Z"
   },
   {
    "duration": 288,
    "start_time": "2023-05-25T18:44:26.641Z"
   },
   {
    "duration": 57,
    "start_time": "2023-05-25T18:46:06.219Z"
   },
   {
    "duration": 181,
    "start_time": "2023-05-25T18:46:10.186Z"
   },
   {
    "duration": 104,
    "start_time": "2023-05-25T18:46:43.427Z"
   },
   {
    "duration": 180,
    "start_time": "2023-05-25T18:46:45.489Z"
   },
   {
    "duration": 257,
    "start_time": "2023-05-25T18:47:07.529Z"
   },
   {
    "duration": 199,
    "start_time": "2023-05-25T18:47:14.104Z"
   },
   {
    "duration": 155,
    "start_time": "2023-05-25T18:47:34.675Z"
   },
   {
    "duration": 171,
    "start_time": "2023-05-25T18:47:39.617Z"
   },
   {
    "duration": 149,
    "start_time": "2023-05-25T18:47:41.112Z"
   },
   {
    "duration": 169,
    "start_time": "2023-05-25T18:47:46.698Z"
   },
   {
    "duration": 168,
    "start_time": "2023-05-25T18:53:09.382Z"
   },
   {
    "duration": 188,
    "start_time": "2023-05-25T18:53:14.616Z"
   },
   {
    "duration": 168,
    "start_time": "2023-05-25T18:53:39.406Z"
   },
   {
    "duration": 175,
    "start_time": "2023-05-25T18:54:34.252Z"
   },
   {
    "duration": 1354,
    "start_time": "2023-05-25T21:45:21.082Z"
   },
   {
    "duration": 277,
    "start_time": "2023-05-25T21:45:22.439Z"
   },
   {
    "duration": 14,
    "start_time": "2023-05-25T21:45:22.718Z"
   },
   {
    "duration": 14,
    "start_time": "2023-05-25T21:45:22.734Z"
   },
   {
    "duration": 18,
    "start_time": "2023-05-25T21:45:22.750Z"
   },
   {
    "duration": 12,
    "start_time": "2023-05-25T21:45:22.770Z"
   },
   {
    "duration": 17,
    "start_time": "2023-05-25T21:45:22.784Z"
   },
   {
    "duration": 10,
    "start_time": "2023-05-25T21:45:22.824Z"
   },
   {
    "duration": 21,
    "start_time": "2023-05-25T21:45:22.836Z"
   },
   {
    "duration": 15,
    "start_time": "2023-05-25T21:45:22.861Z"
   },
   {
    "duration": 10,
    "start_time": "2023-05-25T21:45:22.879Z"
   },
   {
    "duration": 40,
    "start_time": "2023-05-25T21:45:22.891Z"
   },
   {
    "duration": 8,
    "start_time": "2023-05-25T21:45:22.934Z"
   },
   {
    "duration": 34,
    "start_time": "2023-05-25T21:45:22.943Z"
   },
   {
    "duration": 17,
    "start_time": "2023-05-25T21:45:22.979Z"
   },
   {
    "duration": 6,
    "start_time": "2023-05-25T21:45:22.998Z"
   },
   {
    "duration": 16,
    "start_time": "2023-05-25T21:45:23.006Z"
   },
   {
    "duration": 6,
    "start_time": "2023-05-25T21:45:23.024Z"
   },
   {
    "duration": 18,
    "start_time": "2023-05-25T21:45:23.032Z"
   },
   {
    "duration": 4,
    "start_time": "2023-05-25T21:45:23.052Z"
   },
   {
    "duration": 23,
    "start_time": "2023-05-25T21:45:23.058Z"
   },
   {
    "duration": 23,
    "start_time": "2023-05-25T21:45:23.083Z"
   },
   {
    "duration": 8,
    "start_time": "2023-05-25T21:45:23.108Z"
   },
   {
    "duration": 9,
    "start_time": "2023-05-25T21:45:23.118Z"
   },
   {
    "duration": 7,
    "start_time": "2023-05-25T21:45:23.129Z"
   },
   {
    "duration": 11,
    "start_time": "2023-05-25T21:45:23.138Z"
   },
   {
    "duration": 27,
    "start_time": "2023-05-25T21:45:23.151Z"
   },
   {
    "duration": 10,
    "start_time": "2023-05-25T21:45:23.181Z"
   },
   {
    "duration": 19,
    "start_time": "2023-05-25T21:45:23.193Z"
   },
   {
    "duration": 14,
    "start_time": "2023-05-25T21:45:23.213Z"
   },
   {
    "duration": 17,
    "start_time": "2023-05-25T21:45:23.229Z"
   },
   {
    "duration": 14,
    "start_time": "2023-05-25T21:45:23.248Z"
   },
   {
    "duration": 9,
    "start_time": "2023-05-25T21:45:23.263Z"
   },
   {
    "duration": 21,
    "start_time": "2023-05-25T21:45:23.274Z"
   },
   {
    "duration": 17,
    "start_time": "2023-05-25T21:45:23.297Z"
   },
   {
    "duration": 209,
    "start_time": "2023-05-25T21:45:23.316Z"
   },
   {
    "duration": 19,
    "start_time": "2023-05-25T21:45:23.528Z"
   },
   {
    "duration": 203,
    "start_time": "2023-05-25T21:45:23.549Z"
   },
   {
    "duration": 15,
    "start_time": "2023-05-25T21:45:23.755Z"
   },
   {
    "duration": 11,
    "start_time": "2023-05-25T21:45:23.772Z"
   },
   {
    "duration": 26,
    "start_time": "2023-05-25T21:45:23.784Z"
   },
   {
    "duration": 159,
    "start_time": "2023-05-25T21:45:23.825Z"
   },
   {
    "duration": 87,
    "start_time": "2023-05-25T21:45:23.986Z"
   },
   {
    "duration": 6,
    "start_time": "2023-05-25T21:45:24.074Z"
   },
   {
    "duration": 203,
    "start_time": "2023-05-25T21:45:24.082Z"
   },
   {
    "duration": 6,
    "start_time": "2023-05-25T21:45:24.286Z"
   },
   {
    "duration": 9,
    "start_time": "2023-05-25T21:45:32.676Z"
   },
   {
    "duration": 15,
    "start_time": "2023-05-25T21:48:35.476Z"
   },
   {
    "duration": 10,
    "start_time": "2023-05-25T21:49:03.406Z"
   },
   {
    "duration": 11,
    "start_time": "2023-05-25T21:51:26.739Z"
   },
   {
    "duration": 604,
    "start_time": "2023-05-25T21:53:38.719Z"
   },
   {
    "duration": 445,
    "start_time": "2023-05-25T21:54:22.973Z"
   },
   {
    "duration": 13,
    "start_time": "2023-05-25T22:05:47.211Z"
   },
   {
    "duration": 9,
    "start_time": "2023-05-25T22:05:58.616Z"
   },
   {
    "duration": 399,
    "start_time": "2023-05-25T22:09:28.434Z"
   },
   {
    "duration": 386,
    "start_time": "2023-05-25T22:18:34.054Z"
   },
   {
    "duration": 111,
    "start_time": "2023-05-25T22:18:41.296Z"
   },
   {
    "duration": 1335,
    "start_time": "2023-05-25T22:19:15.942Z"
   },
   {
    "duration": 282,
    "start_time": "2023-05-25T22:19:17.279Z"
   },
   {
    "duration": 13,
    "start_time": "2023-05-25T22:19:17.562Z"
   },
   {
    "duration": 8,
    "start_time": "2023-05-25T22:19:17.578Z"
   },
   {
    "duration": 15,
    "start_time": "2023-05-25T22:19:17.588Z"
   },
   {
    "duration": 12,
    "start_time": "2023-05-25T22:19:17.605Z"
   },
   {
    "duration": 12,
    "start_time": "2023-05-25T22:19:17.620Z"
   },
   {
    "duration": 15,
    "start_time": "2023-05-25T22:19:17.634Z"
   },
   {
    "duration": 21,
    "start_time": "2023-05-25T22:19:17.650Z"
   },
   {
    "duration": 13,
    "start_time": "2023-05-25T22:19:17.674Z"
   },
   {
    "duration": 8,
    "start_time": "2023-05-25T22:19:17.688Z"
   },
   {
    "duration": 37,
    "start_time": "2023-05-25T22:19:17.698Z"
   },
   {
    "duration": 12,
    "start_time": "2023-05-25T22:19:17.737Z"
   },
   {
    "duration": 6,
    "start_time": "2023-05-25T22:19:17.750Z"
   },
   {
    "duration": 12,
    "start_time": "2023-05-25T22:19:17.757Z"
   },
   {
    "duration": 5,
    "start_time": "2023-05-25T22:19:17.771Z"
   },
   {
    "duration": 13,
    "start_time": "2023-05-25T22:19:17.778Z"
   },
   {
    "duration": 11,
    "start_time": "2023-05-25T22:19:17.825Z"
   },
   {
    "duration": 20,
    "start_time": "2023-05-25T22:19:17.838Z"
   },
   {
    "duration": 4,
    "start_time": "2023-05-25T22:19:17.860Z"
   },
   {
    "duration": 25,
    "start_time": "2023-05-25T22:19:17.866Z"
   },
   {
    "duration": 13,
    "start_time": "2023-05-25T22:19:17.893Z"
   },
   {
    "duration": 20,
    "start_time": "2023-05-25T22:19:17.908Z"
   },
   {
    "duration": 6,
    "start_time": "2023-05-25T22:19:17.930Z"
   },
   {
    "duration": 9,
    "start_time": "2023-05-25T22:19:17.938Z"
   },
   {
    "duration": 6,
    "start_time": "2023-05-25T22:19:17.949Z"
   },
   {
    "duration": 10,
    "start_time": "2023-05-25T22:19:17.956Z"
   },
   {
    "duration": 5,
    "start_time": "2023-05-25T22:19:17.970Z"
   },
   {
    "duration": 10,
    "start_time": "2023-05-25T22:19:17.977Z"
   },
   {
    "duration": 40,
    "start_time": "2023-05-25T22:19:17.989Z"
   },
   {
    "duration": 9,
    "start_time": "2023-05-25T22:19:18.031Z"
   },
   {
    "duration": 7,
    "start_time": "2023-05-25T22:19:18.042Z"
   },
   {
    "duration": 21,
    "start_time": "2023-05-25T22:19:18.050Z"
   },
   {
    "duration": 19,
    "start_time": "2023-05-25T22:19:18.073Z"
   },
   {
    "duration": 20,
    "start_time": "2023-05-25T22:19:18.094Z"
   },
   {
    "duration": 200,
    "start_time": "2023-05-25T22:19:18.125Z"
   },
   {
    "duration": 19,
    "start_time": "2023-05-25T22:19:18.327Z"
   },
   {
    "duration": 199,
    "start_time": "2023-05-25T22:19:18.348Z"
   },
   {
    "duration": 13,
    "start_time": "2023-05-25T22:19:18.549Z"
   },
   {
    "duration": 8,
    "start_time": "2023-05-25T22:19:18.563Z"
   },
   {
    "duration": 13,
    "start_time": "2023-05-25T22:19:18.572Z"
   },
   {
    "duration": 177,
    "start_time": "2023-05-25T22:19:18.587Z"
   },
   {
    "duration": 93,
    "start_time": "2023-05-25T22:19:18.767Z"
   },
   {
    "duration": 6,
    "start_time": "2023-05-25T22:19:18.862Z"
   },
   {
    "duration": 10,
    "start_time": "2023-05-25T22:19:18.870Z"
   },
   {
    "duration": 225,
    "start_time": "2023-05-25T22:19:18.882Z"
   },
   {
    "duration": 22,
    "start_time": "2023-05-25T22:19:19.109Z"
   },
   {
    "duration": 539,
    "start_time": "2023-05-25T22:19:19.133Z"
   },
   {
    "duration": 13,
    "start_time": "2023-05-25T22:19:19.674Z"
   },
   {
    "duration": 453,
    "start_time": "2023-05-25T22:19:19.689Z"
   },
   {
    "duration": 1396,
    "start_time": "2023-05-26T11:04:37.852Z"
   },
   {
    "duration": 487,
    "start_time": "2023-05-26T11:04:39.250Z"
   },
   {
    "duration": 13,
    "start_time": "2023-05-26T11:04:39.739Z"
   },
   {
    "duration": 8,
    "start_time": "2023-05-26T11:04:39.755Z"
   },
   {
    "duration": 25,
    "start_time": "2023-05-26T11:04:39.765Z"
   },
   {
    "duration": 11,
    "start_time": "2023-05-26T11:04:39.792Z"
   },
   {
    "duration": 9,
    "start_time": "2023-05-26T11:04:39.804Z"
   },
   {
    "duration": 10,
    "start_time": "2023-05-26T11:04:39.815Z"
   },
   {
    "duration": 26,
    "start_time": "2023-05-26T11:04:39.827Z"
   },
   {
    "duration": 14,
    "start_time": "2023-05-26T11:04:39.878Z"
   },
   {
    "duration": 8,
    "start_time": "2023-05-26T11:04:39.894Z"
   },
   {
    "duration": 22,
    "start_time": "2023-05-26T11:04:39.904Z"
   },
   {
    "duration": 29,
    "start_time": "2023-05-26T11:04:39.927Z"
   },
   {
    "duration": 7,
    "start_time": "2023-05-26T11:04:39.958Z"
   },
   {
    "duration": 13,
    "start_time": "2023-05-26T11:04:39.967Z"
   },
   {
    "duration": 5,
    "start_time": "2023-05-26T11:04:39.984Z"
   },
   {
    "duration": 14,
    "start_time": "2023-05-26T11:04:39.991Z"
   },
   {
    "duration": 13,
    "start_time": "2023-05-26T11:04:40.007Z"
   },
   {
    "duration": 26,
    "start_time": "2023-05-26T11:04:40.022Z"
   },
   {
    "duration": 16,
    "start_time": "2023-05-26T11:04:40.051Z"
   },
   {
    "duration": 27,
    "start_time": "2023-05-26T11:04:40.069Z"
   },
   {
    "duration": 22,
    "start_time": "2023-05-26T11:04:40.097Z"
   },
   {
    "duration": 8,
    "start_time": "2023-05-26T11:04:40.120Z"
   },
   {
    "duration": 5,
    "start_time": "2023-05-26T11:04:40.130Z"
   },
   {
    "duration": 12,
    "start_time": "2023-05-26T11:04:40.137Z"
   },
   {
    "duration": 6,
    "start_time": "2023-05-26T11:04:40.151Z"
   },
   {
    "duration": 19,
    "start_time": "2023-05-26T11:04:40.159Z"
   },
   {
    "duration": 7,
    "start_time": "2023-05-26T11:04:40.183Z"
   },
   {
    "duration": 18,
    "start_time": "2023-05-26T11:04:40.192Z"
   },
   {
    "duration": 7,
    "start_time": "2023-05-26T11:04:40.212Z"
   },
   {
    "duration": 21,
    "start_time": "2023-05-26T11:04:40.220Z"
   },
   {
    "duration": 6,
    "start_time": "2023-05-26T11:04:40.242Z"
   },
   {
    "duration": 29,
    "start_time": "2023-05-26T11:04:40.250Z"
   },
   {
    "duration": 15,
    "start_time": "2023-05-26T11:04:40.281Z"
   },
   {
    "duration": 15,
    "start_time": "2023-05-26T11:04:40.299Z"
   },
   {
    "duration": 218,
    "start_time": "2023-05-26T11:04:40.316Z"
   },
   {
    "duration": 19,
    "start_time": "2023-05-26T11:04:40.536Z"
   },
   {
    "duration": 210,
    "start_time": "2023-05-26T11:04:40.557Z"
   },
   {
    "duration": 34,
    "start_time": "2023-05-26T11:04:40.768Z"
   },
   {
    "duration": 10,
    "start_time": "2023-05-26T11:04:40.807Z"
   },
   {
    "duration": 15,
    "start_time": "2023-05-26T11:04:40.818Z"
   },
   {
    "duration": 165,
    "start_time": "2023-05-26T11:04:40.835Z"
   },
   {
    "duration": 85,
    "start_time": "2023-05-26T11:04:41.002Z"
   },
   {
    "duration": 6,
    "start_time": "2023-05-26T11:04:41.089Z"
   },
   {
    "duration": 11,
    "start_time": "2023-05-26T11:04:41.096Z"
   },
   {
    "duration": 220,
    "start_time": "2023-05-26T11:04:41.109Z"
   },
   {
    "duration": 9,
    "start_time": "2023-05-26T11:04:41.331Z"
   },
   {
    "duration": 427,
    "start_time": "2023-05-26T11:04:41.342Z"
   },
   {
    "duration": 10,
    "start_time": "2023-05-26T11:04:41.772Z"
   },
   {
    "duration": 391,
    "start_time": "2023-05-26T11:04:41.784Z"
   },
   {
    "duration": 17,
    "start_time": "2023-05-26T11:07:19.893Z"
   },
   {
    "duration": 8,
    "start_time": "2023-05-26T11:07:24.483Z"
   },
   {
    "duration": 12,
    "start_time": "2023-05-26T11:07:36.799Z"
   },
   {
    "duration": 14,
    "start_time": "2023-05-26T11:08:31.583Z"
   },
   {
    "duration": 35,
    "start_time": "2023-05-26T11:08:38.739Z"
   },
   {
    "duration": 9,
    "start_time": "2023-05-26T11:10:28.155Z"
   },
   {
    "duration": 24,
    "start_time": "2023-05-26T11:10:58.989Z"
   },
   {
    "duration": 7,
    "start_time": "2023-05-26T11:11:03.439Z"
   },
   {
    "duration": 9,
    "start_time": "2023-05-26T11:11:19.960Z"
   },
   {
    "duration": 23,
    "start_time": "2023-05-26T11:11:23.924Z"
   },
   {
    "duration": 6,
    "start_time": "2023-05-26T11:11:36.285Z"
   },
   {
    "duration": 6,
    "start_time": "2023-05-26T11:11:43.328Z"
   },
   {
    "duration": 21,
    "start_time": "2023-05-26T11:11:44.593Z"
   },
   {
    "duration": 22,
    "start_time": "2023-05-26T11:11:50.089Z"
   },
   {
    "duration": 13,
    "start_time": "2023-05-26T11:16:31.445Z"
   },
   {
    "duration": 22,
    "start_time": "2023-05-26T11:16:36.033Z"
   },
   {
    "duration": 344,
    "start_time": "2023-05-26T11:25:34.401Z"
   },
   {
    "duration": 626,
    "start_time": "2023-05-26T11:25:56.005Z"
   },
   {
    "duration": 431,
    "start_time": "2023-05-26T11:26:02.744Z"
   },
   {
    "duration": 223,
    "start_time": "2023-05-26T11:26:11.129Z"
   },
   {
    "duration": 8,
    "start_time": "2023-05-26T11:27:14.993Z"
   },
   {
    "duration": 6,
    "start_time": "2023-05-26T11:27:25.143Z"
   },
   {
    "duration": 8,
    "start_time": "2023-05-26T11:27:30.715Z"
   },
   {
    "duration": 410,
    "start_time": "2023-05-26T11:31:25.020Z"
   },
   {
    "duration": 229,
    "start_time": "2023-05-26T11:31:27.852Z"
   },
   {
    "duration": 587,
    "start_time": "2023-05-26T11:32:02.582Z"
   },
   {
    "duration": 839,
    "start_time": "2023-05-26T11:35:57.382Z"
   },
   {
    "duration": 906,
    "start_time": "2023-05-26T11:37:21.586Z"
   },
   {
    "duration": 778,
    "start_time": "2023-05-26T11:37:52.498Z"
   },
   {
    "duration": 789,
    "start_time": "2023-05-26T11:38:00.010Z"
   },
   {
    "duration": 814,
    "start_time": "2023-05-26T11:38:53.607Z"
   },
   {
    "duration": 829,
    "start_time": "2023-05-26T11:40:22.840Z"
   },
   {
    "duration": 912,
    "start_time": "2023-05-26T11:40:45.400Z"
   },
   {
    "duration": 866,
    "start_time": "2023-05-26T11:40:53.605Z"
   },
   {
    "duration": 777,
    "start_time": "2023-05-26T11:41:18.901Z"
   },
   {
    "duration": 1040,
    "start_time": "2023-05-26T11:41:33.510Z"
   },
   {
    "duration": 788,
    "start_time": "2023-05-26T11:45:22.272Z"
   },
   {
    "duration": 723,
    "start_time": "2023-05-26T11:45:28.156Z"
   },
   {
    "duration": 14,
    "start_time": "2023-05-26T11:48:48.704Z"
   },
   {
    "duration": 19,
    "start_time": "2023-05-26T11:48:51.047Z"
   },
   {
    "duration": 22,
    "start_time": "2023-05-26T11:48:56.999Z"
   },
   {
    "duration": 9,
    "start_time": "2023-05-26T12:02:33.861Z"
   },
   {
    "duration": 7,
    "start_time": "2023-05-26T12:02:43.997Z"
   },
   {
    "duration": 9,
    "start_time": "2023-05-26T12:02:48.479Z"
   },
   {
    "duration": 10,
    "start_time": "2023-05-26T12:06:10.540Z"
   },
   {
    "duration": 11,
    "start_time": "2023-05-26T12:06:18.576Z"
   },
   {
    "duration": 19,
    "start_time": "2023-05-26T12:10:54.798Z"
   },
   {
    "duration": 9,
    "start_time": "2023-05-26T12:10:56.978Z"
   },
   {
    "duration": 17,
    "start_time": "2023-05-26T12:11:01.808Z"
   },
   {
    "duration": 3,
    "start_time": "2023-05-26T12:16:37.898Z"
   },
   {
    "duration": 4,
    "start_time": "2023-05-26T12:16:44.517Z"
   },
   {
    "duration": 106,
    "start_time": "2023-05-26T12:17:38.771Z"
   },
   {
    "duration": 9,
    "start_time": "2023-05-26T12:17:42.872Z"
   },
   {
    "duration": 5,
    "start_time": "2023-05-26T12:17:47.686Z"
   },
   {
    "duration": 16,
    "start_time": "2023-05-26T12:19:35.917Z"
   },
   {
    "duration": 1428,
    "start_time": "2023-05-26T12:20:35.018Z"
   },
   {
    "duration": 64,
    "start_time": "2023-05-26T12:20:36.449Z"
   },
   {
    "duration": 15,
    "start_time": "2023-05-26T12:20:36.515Z"
   },
   {
    "duration": 9,
    "start_time": "2023-05-26T12:20:36.533Z"
   },
   {
    "duration": 18,
    "start_time": "2023-05-26T12:20:36.544Z"
   },
   {
    "duration": 13,
    "start_time": "2023-05-26T12:20:36.564Z"
   },
   {
    "duration": 14,
    "start_time": "2023-05-26T12:20:36.579Z"
   },
   {
    "duration": 14,
    "start_time": "2023-05-26T12:20:36.595Z"
   },
   {
    "duration": 34,
    "start_time": "2023-05-26T12:20:36.611Z"
   },
   {
    "duration": 31,
    "start_time": "2023-05-26T12:20:36.649Z"
   },
   {
    "duration": 14,
    "start_time": "2023-05-26T12:20:36.683Z"
   },
   {
    "duration": 16,
    "start_time": "2023-05-26T12:20:36.699Z"
   },
   {
    "duration": 11,
    "start_time": "2023-05-26T12:20:36.717Z"
   },
   {
    "duration": 6,
    "start_time": "2023-05-26T12:20:36.730Z"
   },
   {
    "duration": 42,
    "start_time": "2023-05-26T12:20:36.738Z"
   },
   {
    "duration": 6,
    "start_time": "2023-05-26T12:20:36.782Z"
   },
   {
    "duration": 16,
    "start_time": "2023-05-26T12:20:36.790Z"
   },
   {
    "duration": 8,
    "start_time": "2023-05-26T12:20:36.808Z"
   },
   {
    "duration": 10,
    "start_time": "2023-05-26T12:20:36.818Z"
   },
   {
    "duration": 45,
    "start_time": "2023-05-26T12:20:36.830Z"
   },
   {
    "duration": 13,
    "start_time": "2023-05-26T12:20:36.878Z"
   },
   {
    "duration": 37,
    "start_time": "2023-05-26T12:20:36.893Z"
   },
   {
    "duration": 16,
    "start_time": "2023-05-26T12:20:36.932Z"
   },
   {
    "duration": 10,
    "start_time": "2023-05-26T12:20:36.950Z"
   },
   {
    "duration": 13,
    "start_time": "2023-05-26T12:20:36.962Z"
   },
   {
    "duration": 11,
    "start_time": "2023-05-26T12:20:36.977Z"
   },
   {
    "duration": 14,
    "start_time": "2023-05-26T12:20:36.991Z"
   },
   {
    "duration": 6,
    "start_time": "2023-05-26T12:20:37.009Z"
   },
   {
    "duration": 17,
    "start_time": "2023-05-26T12:20:37.017Z"
   },
   {
    "duration": 20,
    "start_time": "2023-05-26T12:20:37.036Z"
   },
   {
    "duration": 10,
    "start_time": "2023-05-26T12:20:37.074Z"
   },
   {
    "duration": 6,
    "start_time": "2023-05-26T12:20:37.086Z"
   },
   {
    "duration": 14,
    "start_time": "2023-05-26T12:20:37.094Z"
   },
   {
    "duration": 16,
    "start_time": "2023-05-26T12:20:37.110Z"
   },
   {
    "duration": 18,
    "start_time": "2023-05-26T12:20:37.128Z"
   },
   {
    "duration": 296,
    "start_time": "2023-05-26T12:20:37.148Z"
   },
   {
    "duration": 31,
    "start_time": "2023-05-26T12:20:37.446Z"
   },
   {
    "duration": 253,
    "start_time": "2023-05-26T12:20:37.479Z"
   },
   {
    "duration": 17,
    "start_time": "2023-05-26T12:20:37.733Z"
   },
   {
    "duration": 24,
    "start_time": "2023-05-26T12:20:37.753Z"
   },
   {
    "duration": 21,
    "start_time": "2023-05-26T12:20:37.779Z"
   },
   {
    "duration": 229,
    "start_time": "2023-05-26T12:20:37.803Z"
   },
   {
    "duration": 103,
    "start_time": "2023-05-26T12:20:38.035Z"
   },
   {
    "duration": 7,
    "start_time": "2023-05-26T12:20:38.141Z"
   },
   {
    "duration": 26,
    "start_time": "2023-05-26T12:20:38.151Z"
   },
   {
    "duration": 239,
    "start_time": "2023-05-26T12:20:38.179Z"
   },
   {
    "duration": 11,
    "start_time": "2023-05-26T12:20:38.420Z"
   },
   {
    "duration": 452,
    "start_time": "2023-05-26T12:20:38.434Z"
   },
   {
    "duration": 11,
    "start_time": "2023-05-26T12:20:38.889Z"
   },
   {
    "duration": 468,
    "start_time": "2023-05-26T12:20:38.902Z"
   },
   {
    "duration": 19,
    "start_time": "2023-05-26T12:20:39.372Z"
   },
   {
    "duration": 26,
    "start_time": "2023-05-26T12:20:39.393Z"
   },
   {
    "duration": 31,
    "start_time": "2023-05-26T12:20:39.421Z"
   },
   {
    "duration": 42,
    "start_time": "2023-05-26T12:20:39.476Z"
   },
   {
    "duration": 22,
    "start_time": "2023-05-26T12:20:39.520Z"
   },
   {
    "duration": 753,
    "start_time": "2023-05-26T12:20:39.544Z"
   },
   {
    "duration": 907,
    "start_time": "2023-05-26T12:20:40.299Z"
   },
   {
    "duration": 20,
    "start_time": "2023-05-26T12:20:41.209Z"
   },
   {
    "duration": 11,
    "start_time": "2023-05-26T12:21:36.971Z"
   },
   {
    "duration": 15,
    "start_time": "2023-05-26T12:21:55.118Z"
   },
   {
    "duration": 16,
    "start_time": "2023-05-26T12:22:51.672Z"
   },
   {
    "duration": 25,
    "start_time": "2023-05-26T12:23:11.403Z"
   },
   {
    "duration": 12,
    "start_time": "2023-05-26T12:30:44.384Z"
   },
   {
    "duration": 13,
    "start_time": "2023-05-26T12:31:02.086Z"
   },
   {
    "duration": 17,
    "start_time": "2023-05-26T12:31:15.049Z"
   },
   {
    "duration": 26,
    "start_time": "2023-05-26T12:34:55.731Z"
   },
   {
    "duration": 19,
    "start_time": "2023-05-26T12:35:04.528Z"
   },
   {
    "duration": 23,
    "start_time": "2023-05-26T12:35:08.732Z"
   },
   {
    "duration": 20,
    "start_time": "2023-05-26T12:35:34.687Z"
   },
   {
    "duration": 20,
    "start_time": "2023-05-26T12:35:42.516Z"
   },
   {
    "duration": 19,
    "start_time": "2023-05-26T12:36:46.543Z"
   },
   {
    "duration": 13,
    "start_time": "2023-05-26T12:37:18.777Z"
   },
   {
    "duration": 16,
    "start_time": "2023-05-26T12:37:27.681Z"
   },
   {
    "duration": 19,
    "start_time": "2023-05-26T12:37:42.262Z"
   },
   {
    "duration": 26,
    "start_time": "2023-05-26T12:38:50.877Z"
   },
   {
    "duration": 24,
    "start_time": "2023-05-26T12:39:14.408Z"
   },
   {
    "duration": 20,
    "start_time": "2023-05-26T12:39:56.587Z"
   },
   {
    "duration": 18,
    "start_time": "2023-05-26T12:40:02.523Z"
   },
   {
    "duration": 12,
    "start_time": "2023-05-26T12:47:35.991Z"
   },
   {
    "duration": 21,
    "start_time": "2023-05-26T12:47:48.023Z"
   },
   {
    "duration": 26,
    "start_time": "2023-05-26T12:50:24.192Z"
   },
   {
    "duration": 25,
    "start_time": "2023-05-26T12:50:30.591Z"
   },
   {
    "duration": 9,
    "start_time": "2023-05-26T12:53:43.742Z"
   },
   {
    "duration": 21,
    "start_time": "2023-05-26T12:53:49.710Z"
   },
   {
    "duration": 42,
    "start_time": "2023-05-26T13:00:49.545Z"
   },
   {
    "duration": 31,
    "start_time": "2023-05-26T13:00:55.501Z"
   },
   {
    "duration": 105,
    "start_time": "2023-05-26T13:02:50.673Z"
   },
   {
    "duration": 22,
    "start_time": "2023-05-26T13:02:58.346Z"
   },
   {
    "duration": 725,
    "start_time": "2023-05-26T13:04:21.886Z"
   },
   {
    "duration": 27,
    "start_time": "2023-05-26T13:04:43.270Z"
   },
   {
    "duration": 702,
    "start_time": "2023-05-26T13:04:45.146Z"
   },
   {
    "duration": 1137,
    "start_time": "2023-05-26T13:08:54.206Z"
   },
   {
    "duration": 63,
    "start_time": "2023-05-26T13:08:55.345Z"
   },
   {
    "duration": 14,
    "start_time": "2023-05-26T13:08:55.410Z"
   },
   {
    "duration": 9,
    "start_time": "2023-05-26T13:08:55.426Z"
   },
   {
    "duration": 19,
    "start_time": "2023-05-26T13:08:55.437Z"
   },
   {
    "duration": 17,
    "start_time": "2023-05-26T13:08:55.458Z"
   },
   {
    "duration": 9,
    "start_time": "2023-05-26T13:08:55.476Z"
   },
   {
    "duration": 20,
    "start_time": "2023-05-26T13:08:55.486Z"
   },
   {
    "duration": 29,
    "start_time": "2023-05-26T13:08:55.507Z"
   },
   {
    "duration": 14,
    "start_time": "2023-05-26T13:08:55.538Z"
   },
   {
    "duration": 8,
    "start_time": "2023-05-26T13:08:55.554Z"
   },
   {
    "duration": 13,
    "start_time": "2023-05-26T13:08:55.576Z"
   },
   {
    "duration": 8,
    "start_time": "2023-05-26T13:08:55.590Z"
   },
   {
    "duration": 18,
    "start_time": "2023-05-26T13:08:55.601Z"
   },
   {
    "duration": 6,
    "start_time": "2023-05-26T13:08:55.621Z"
   },
   {
    "duration": 17,
    "start_time": "2023-05-26T13:08:55.629Z"
   },
   {
    "duration": 32,
    "start_time": "2023-05-26T13:08:55.648Z"
   },
   {
    "duration": 6,
    "start_time": "2023-05-26T13:08:55.682Z"
   },
   {
    "duration": 21,
    "start_time": "2023-05-26T13:08:55.690Z"
   },
   {
    "duration": 5,
    "start_time": "2023-05-26T13:08:55.713Z"
   },
   {
    "duration": 19,
    "start_time": "2023-05-26T13:08:55.720Z"
   },
   {
    "duration": 16,
    "start_time": "2023-05-26T13:08:55.741Z"
   },
   {
    "duration": 17,
    "start_time": "2023-05-26T13:08:55.760Z"
   },
   {
    "duration": 5,
    "start_time": "2023-05-26T13:08:55.779Z"
   },
   {
    "duration": 9,
    "start_time": "2023-05-26T13:08:55.785Z"
   },
   {
    "duration": 5,
    "start_time": "2023-05-26T13:08:55.795Z"
   },
   {
    "duration": 11,
    "start_time": "2023-05-26T13:08:55.801Z"
   },
   {
    "duration": 6,
    "start_time": "2023-05-26T13:08:55.814Z"
   },
   {
    "duration": 9,
    "start_time": "2023-05-26T13:08:55.821Z"
   },
   {
    "duration": 47,
    "start_time": "2023-05-26T13:08:55.832Z"
   },
   {
    "duration": 10,
    "start_time": "2023-05-26T13:08:55.881Z"
   },
   {
    "duration": 7,
    "start_time": "2023-05-26T13:08:55.892Z"
   },
   {
    "duration": 5,
    "start_time": "2023-05-26T13:08:55.901Z"
   },
   {
    "duration": 16,
    "start_time": "2023-05-26T13:08:55.908Z"
   },
   {
    "duration": 14,
    "start_time": "2023-05-26T13:08:55.925Z"
   },
   {
    "duration": 231,
    "start_time": "2023-05-26T13:08:55.940Z"
   },
   {
    "duration": 17,
    "start_time": "2023-05-26T13:08:56.175Z"
   },
   {
    "duration": 211,
    "start_time": "2023-05-26T13:08:56.194Z"
   },
   {
    "duration": 16,
    "start_time": "2023-05-26T13:08:56.408Z"
   },
   {
    "duration": 9,
    "start_time": "2023-05-26T13:08:56.426Z"
   },
   {
    "duration": 43,
    "start_time": "2023-05-26T13:08:56.441Z"
   },
   {
    "duration": 153,
    "start_time": "2023-05-26T13:08:56.486Z"
   },
   {
    "duration": 78,
    "start_time": "2023-05-26T13:08:56.640Z"
   },
   {
    "duration": 7,
    "start_time": "2023-05-26T13:08:56.720Z"
   },
   {
    "duration": 11,
    "start_time": "2023-05-26T13:08:56.729Z"
   },
   {
    "duration": 237,
    "start_time": "2023-05-26T13:08:56.742Z"
   },
   {
    "duration": 10,
    "start_time": "2023-05-26T13:08:56.980Z"
   },
   {
    "duration": 429,
    "start_time": "2023-05-26T13:08:56.991Z"
   },
   {
    "duration": 10,
    "start_time": "2023-05-26T13:08:57.422Z"
   },
   {
    "duration": 510,
    "start_time": "2023-05-26T13:08:57.434Z"
   },
   {
    "duration": 15,
    "start_time": "2023-05-26T13:08:57.946Z"
   },
   {
    "duration": 34,
    "start_time": "2023-05-26T13:08:57.962Z"
   },
   {
    "duration": 40,
    "start_time": "2023-05-26T13:08:57.999Z"
   },
   {
    "duration": 47,
    "start_time": "2023-05-26T13:08:58.042Z"
   },
   {
    "duration": 31,
    "start_time": "2023-05-26T13:08:58.092Z"
   },
   {
    "duration": 750,
    "start_time": "2023-05-26T13:08:58.126Z"
   },
   {
    "duration": 909,
    "start_time": "2023-05-26T13:08:58.878Z"
   },
   {
    "duration": 23,
    "start_time": "2023-05-26T13:08:59.789Z"
   },
   {
    "duration": 29,
    "start_time": "2023-05-26T13:08:59.813Z"
   },
   {
    "duration": 115,
    "start_time": "2023-05-26T13:11:30.602Z"
   },
   {
    "duration": 3,
    "start_time": "2023-05-26T13:11:42.290Z"
   },
   {
    "duration": 4,
    "start_time": "2023-05-26T13:11:48.440Z"
   },
   {
    "duration": 22,
    "start_time": "2023-05-26T13:11:52.952Z"
   },
   {
    "duration": 22,
    "start_time": "2023-05-26T13:12:08.054Z"
   },
   {
    "duration": 22,
    "start_time": "2023-05-26T13:12:16.489Z"
   },
   {
    "duration": 21,
    "start_time": "2023-05-26T13:12:52.794Z"
   },
   {
    "duration": 822,
    "start_time": "2023-05-26T13:34:29.490Z"
   },
   {
    "duration": 759,
    "start_time": "2023-05-26T13:34:43.521Z"
   },
   {
    "duration": 716,
    "start_time": "2023-05-26T13:37:02.502Z"
   },
   {
    "duration": 712,
    "start_time": "2023-05-26T13:37:06.710Z"
   },
   {
    "duration": 29,
    "start_time": "2023-05-26T13:42:21.849Z"
   },
   {
    "duration": 30,
    "start_time": "2023-05-26T13:42:30.790Z"
   },
   {
    "duration": 25,
    "start_time": "2023-05-26T13:42:41.386Z"
   },
   {
    "duration": 749,
    "start_time": "2023-05-26T13:44:12.952Z"
   },
   {
    "duration": 22,
    "start_time": "2023-05-26T13:44:51.890Z"
   },
   {
    "duration": 24,
    "start_time": "2023-05-26T13:45:58.094Z"
   },
   {
    "duration": 21,
    "start_time": "2023-05-26T13:46:19.158Z"
   },
   {
    "duration": 1156,
    "start_time": "2023-05-26T13:46:32.698Z"
   },
   {
    "duration": 66,
    "start_time": "2023-05-26T13:46:33.857Z"
   },
   {
    "duration": 16,
    "start_time": "2023-05-26T13:46:33.924Z"
   },
   {
    "duration": 10,
    "start_time": "2023-05-26T13:46:33.942Z"
   },
   {
    "duration": 22,
    "start_time": "2023-05-26T13:46:33.955Z"
   },
   {
    "duration": 15,
    "start_time": "2023-05-26T13:46:33.979Z"
   },
   {
    "duration": 11,
    "start_time": "2023-05-26T13:46:33.996Z"
   },
   {
    "duration": 14,
    "start_time": "2023-05-26T13:46:34.009Z"
   },
   {
    "duration": 37,
    "start_time": "2023-05-26T13:46:34.025Z"
   },
   {
    "duration": 24,
    "start_time": "2023-05-26T13:46:34.064Z"
   },
   {
    "duration": 11,
    "start_time": "2023-05-26T13:46:34.090Z"
   },
   {
    "duration": 20,
    "start_time": "2023-05-26T13:46:34.103Z"
   },
   {
    "duration": 34,
    "start_time": "2023-05-26T13:46:34.125Z"
   },
   {
    "duration": 19,
    "start_time": "2023-05-26T13:46:34.163Z"
   },
   {
    "duration": 23,
    "start_time": "2023-05-26T13:46:34.184Z"
   },
   {
    "duration": 7,
    "start_time": "2023-05-26T13:46:34.210Z"
   },
   {
    "duration": 25,
    "start_time": "2023-05-26T13:46:34.219Z"
   },
   {
    "duration": 12,
    "start_time": "2023-05-26T13:46:34.246Z"
   },
   {
    "duration": 22,
    "start_time": "2023-05-26T13:46:34.260Z"
   },
   {
    "duration": 9,
    "start_time": "2023-05-26T13:46:34.284Z"
   },
   {
    "duration": 12,
    "start_time": "2023-05-26T13:46:34.296Z"
   },
   {
    "duration": 15,
    "start_time": "2023-05-26T13:46:34.311Z"
   },
   {
    "duration": 13,
    "start_time": "2023-05-26T13:46:34.328Z"
   },
   {
    "duration": 6,
    "start_time": "2023-05-26T13:46:34.375Z"
   },
   {
    "duration": 9,
    "start_time": "2023-05-26T13:46:34.383Z"
   },
   {
    "duration": 5,
    "start_time": "2023-05-26T13:46:34.394Z"
   },
   {
    "duration": 11,
    "start_time": "2023-05-26T13:46:34.401Z"
   },
   {
    "duration": 6,
    "start_time": "2023-05-26T13:46:34.414Z"
   },
   {
    "duration": 10,
    "start_time": "2023-05-26T13:46:34.422Z"
   },
   {
    "duration": 7,
    "start_time": "2023-05-26T13:46:34.476Z"
   },
   {
    "duration": 8,
    "start_time": "2023-05-26T13:46:34.485Z"
   },
   {
    "duration": 6,
    "start_time": "2023-05-26T13:46:34.494Z"
   },
   {
    "duration": 7,
    "start_time": "2023-05-26T13:46:34.502Z"
   },
   {
    "duration": 19,
    "start_time": "2023-05-26T13:46:34.512Z"
   },
   {
    "duration": 55,
    "start_time": "2023-05-26T13:46:34.533Z"
   },
   {
    "duration": 192,
    "start_time": "2023-05-26T13:46:34.589Z"
   },
   {
    "duration": 19,
    "start_time": "2023-05-26T13:46:34.783Z"
   },
   {
    "duration": 191,
    "start_time": "2023-05-26T13:46:34.805Z"
   },
   {
    "duration": 12,
    "start_time": "2023-05-26T13:46:34.998Z"
   },
   {
    "duration": 9,
    "start_time": "2023-05-26T13:46:35.012Z"
   },
   {
    "duration": 12,
    "start_time": "2023-05-26T13:46:35.026Z"
   },
   {
    "duration": 172,
    "start_time": "2023-05-26T13:46:35.039Z"
   },
   {
    "duration": 78,
    "start_time": "2023-05-26T13:46:35.212Z"
   },
   {
    "duration": 5,
    "start_time": "2023-05-26T13:46:35.292Z"
   },
   {
    "duration": 8,
    "start_time": "2023-05-26T13:46:35.299Z"
   },
   {
    "duration": 211,
    "start_time": "2023-05-26T13:46:35.309Z"
   },
   {
    "duration": 9,
    "start_time": "2023-05-26T13:46:35.522Z"
   },
   {
    "duration": 445,
    "start_time": "2023-05-26T13:46:35.532Z"
   },
   {
    "duration": 8,
    "start_time": "2023-05-26T13:46:35.979Z"
   },
   {
    "duration": 400,
    "start_time": "2023-05-26T13:46:35.989Z"
   },
   {
    "duration": 12,
    "start_time": "2023-05-26T13:46:36.391Z"
   },
   {
    "duration": 18,
    "start_time": "2023-05-26T13:46:36.405Z"
   },
   {
    "duration": 29,
    "start_time": "2023-05-26T13:46:36.424Z"
   },
   {
    "duration": 32,
    "start_time": "2023-05-26T13:46:36.455Z"
   },
   {
    "duration": 21,
    "start_time": "2023-05-26T13:46:36.489Z"
   },
   {
    "duration": 737,
    "start_time": "2023-05-26T13:46:36.511Z"
   },
   {
    "duration": 837,
    "start_time": "2023-05-26T13:46:37.250Z"
   },
   {
    "duration": 21,
    "start_time": "2023-05-26T13:46:38.090Z"
   },
   {
    "duration": 28,
    "start_time": "2023-05-26T13:46:38.113Z"
   },
   {
    "duration": 36,
    "start_time": "2023-05-26T13:46:38.142Z"
   },
   {
    "duration": 868,
    "start_time": "2023-05-26T13:46:38.181Z"
   },
   {
    "duration": 0,
    "start_time": "2023-05-26T13:46:39.051Z"
   },
   {
    "duration": 146,
    "start_time": "2023-05-26T13:47:51.785Z"
   },
   {
    "duration": 159,
    "start_time": "2023-05-26T13:48:06.086Z"
   },
   {
    "duration": 175,
    "start_time": "2023-05-26T13:48:19.882Z"
   },
   {
    "duration": 32,
    "start_time": "2023-05-26T13:48:57.463Z"
   },
   {
    "duration": 18,
    "start_time": "2023-05-26T13:49:01.398Z"
   },
   {
    "duration": 165,
    "start_time": "2023-05-26T13:49:03.054Z"
   },
   {
    "duration": 146,
    "start_time": "2023-05-26T13:50:50.874Z"
   },
   {
    "duration": 11,
    "start_time": "2023-05-26T13:50:54.771Z"
   },
   {
    "duration": 14,
    "start_time": "2023-05-26T13:51:10.658Z"
   },
   {
    "duration": 1277,
    "start_time": "2023-05-26T13:51:19.187Z"
   },
   {
    "duration": 73,
    "start_time": "2023-05-26T13:51:20.466Z"
   },
   {
    "duration": 13,
    "start_time": "2023-05-26T13:51:20.542Z"
   },
   {
    "duration": 9,
    "start_time": "2023-05-26T13:51:20.557Z"
   },
   {
    "duration": 21,
    "start_time": "2023-05-26T13:51:20.568Z"
   },
   {
    "duration": 12,
    "start_time": "2023-05-26T13:51:20.591Z"
   },
   {
    "duration": 40,
    "start_time": "2023-05-26T13:51:20.605Z"
   },
   {
    "duration": 14,
    "start_time": "2023-05-26T13:51:20.647Z"
   },
   {
    "duration": 22,
    "start_time": "2023-05-26T13:51:20.663Z"
   },
   {
    "duration": 19,
    "start_time": "2023-05-26T13:51:20.687Z"
   },
   {
    "duration": 9,
    "start_time": "2023-05-26T13:51:20.709Z"
   },
   {
    "duration": 11,
    "start_time": "2023-05-26T13:51:20.719Z"
   },
   {
    "duration": 11,
    "start_time": "2023-05-26T13:51:20.732Z"
   },
   {
    "duration": 31,
    "start_time": "2023-05-26T13:51:20.747Z"
   },
   {
    "duration": 15,
    "start_time": "2023-05-26T13:51:20.780Z"
   },
   {
    "duration": 14,
    "start_time": "2023-05-26T13:51:20.800Z"
   },
   {
    "duration": 15,
    "start_time": "2023-05-26T13:51:20.817Z"
   },
   {
    "duration": 16,
    "start_time": "2023-05-26T13:51:20.834Z"
   },
   {
    "duration": 31,
    "start_time": "2023-05-26T13:51:20.851Z"
   },
   {
    "duration": 7,
    "start_time": "2023-05-26T13:51:20.884Z"
   },
   {
    "duration": 26,
    "start_time": "2023-05-26T13:51:20.895Z"
   },
   {
    "duration": 25,
    "start_time": "2023-05-26T13:51:20.923Z"
   },
   {
    "duration": 11,
    "start_time": "2023-05-26T13:51:20.950Z"
   },
   {
    "duration": 14,
    "start_time": "2023-05-26T13:51:20.963Z"
   },
   {
    "duration": 23,
    "start_time": "2023-05-26T13:51:20.979Z"
   },
   {
    "duration": 18,
    "start_time": "2023-05-26T13:51:21.003Z"
   },
   {
    "duration": 15,
    "start_time": "2023-05-26T13:51:21.023Z"
   },
   {
    "duration": 11,
    "start_time": "2023-05-26T13:51:21.039Z"
   },
   {
    "duration": 12,
    "start_time": "2023-05-26T13:51:21.052Z"
   },
   {
    "duration": 12,
    "start_time": "2023-05-26T13:51:21.066Z"
   },
   {
    "duration": 22,
    "start_time": "2023-05-26T13:51:21.080Z"
   },
   {
    "duration": 26,
    "start_time": "2023-05-26T13:51:21.104Z"
   },
   {
    "duration": 14,
    "start_time": "2023-05-26T13:51:21.132Z"
   },
   {
    "duration": 14,
    "start_time": "2023-05-26T13:51:21.149Z"
   },
   {
    "duration": 16,
    "start_time": "2023-05-26T13:51:21.164Z"
   },
   {
    "duration": 223,
    "start_time": "2023-05-26T13:51:21.181Z"
   },
   {
    "duration": 26,
    "start_time": "2023-05-26T13:51:21.406Z"
   },
   {
    "duration": 244,
    "start_time": "2023-05-26T13:51:21.434Z"
   },
   {
    "duration": 15,
    "start_time": "2023-05-26T13:51:21.679Z"
   },
   {
    "duration": 8,
    "start_time": "2023-05-26T13:51:21.696Z"
   },
   {
    "duration": 14,
    "start_time": "2023-05-26T13:51:21.708Z"
   },
   {
    "duration": 182,
    "start_time": "2023-05-26T13:51:21.724Z"
   },
   {
    "duration": 89,
    "start_time": "2023-05-26T13:51:21.907Z"
   },
   {
    "duration": 6,
    "start_time": "2023-05-26T13:51:21.999Z"
   },
   {
    "duration": 14,
    "start_time": "2023-05-26T13:51:22.007Z"
   },
   {
    "duration": 224,
    "start_time": "2023-05-26T13:51:22.024Z"
   },
   {
    "duration": 10,
    "start_time": "2023-05-26T13:51:22.252Z"
   },
   {
    "duration": 479,
    "start_time": "2023-05-26T13:51:22.263Z"
   },
   {
    "duration": 11,
    "start_time": "2023-05-26T13:51:22.745Z"
   },
   {
    "duration": 519,
    "start_time": "2023-05-26T13:51:22.758Z"
   },
   {
    "duration": 14,
    "start_time": "2023-05-26T13:51:23.279Z"
   },
   {
    "duration": 15,
    "start_time": "2023-05-26T13:51:23.295Z"
   },
   {
    "duration": 36,
    "start_time": "2023-05-26T13:51:23.312Z"
   },
   {
    "duration": 31,
    "start_time": "2023-05-26T13:51:23.374Z"
   },
   {
    "duration": 26,
    "start_time": "2023-05-26T13:51:23.407Z"
   },
   {
    "duration": 833,
    "start_time": "2023-05-26T13:51:23.435Z"
   },
   {
    "duration": 884,
    "start_time": "2023-05-26T13:51:24.274Z"
   },
   {
    "duration": 27,
    "start_time": "2023-05-26T13:51:25.161Z"
   },
   {
    "duration": 31,
    "start_time": "2023-05-26T13:51:25.190Z"
   },
   {
    "duration": 20,
    "start_time": "2023-05-26T13:51:25.223Z"
   },
   {
    "duration": 199,
    "start_time": "2023-05-26T13:51:25.245Z"
   },
   {
    "duration": 828,
    "start_time": "2023-05-26T13:51:25.447Z"
   },
   {
    "duration": 1314,
    "start_time": "2023-05-26T13:51:42.954Z"
   },
   {
    "duration": 69,
    "start_time": "2023-05-26T13:51:44.271Z"
   },
   {
    "duration": 12,
    "start_time": "2023-05-26T13:51:44.341Z"
   },
   {
    "duration": 8,
    "start_time": "2023-05-26T13:51:44.354Z"
   },
   {
    "duration": 16,
    "start_time": "2023-05-26T13:51:44.364Z"
   },
   {
    "duration": 10,
    "start_time": "2023-05-26T13:51:44.381Z"
   },
   {
    "duration": 11,
    "start_time": "2023-05-26T13:51:44.392Z"
   },
   {
    "duration": 10,
    "start_time": "2023-05-26T13:51:44.405Z"
   },
   {
    "duration": 22,
    "start_time": "2023-05-26T13:51:44.417Z"
   },
   {
    "duration": 37,
    "start_time": "2023-05-26T13:51:44.441Z"
   },
   {
    "duration": 9,
    "start_time": "2023-05-26T13:51:44.480Z"
   },
   {
    "duration": 21,
    "start_time": "2023-05-26T13:51:44.491Z"
   },
   {
    "duration": 7,
    "start_time": "2023-05-26T13:51:44.514Z"
   },
   {
    "duration": 8,
    "start_time": "2023-05-26T13:51:44.524Z"
   },
   {
    "duration": 7,
    "start_time": "2023-05-26T13:51:44.534Z"
   },
   {
    "duration": 4,
    "start_time": "2023-05-26T13:51:44.543Z"
   },
   {
    "duration": 38,
    "start_time": "2023-05-26T13:51:44.549Z"
   },
   {
    "duration": 5,
    "start_time": "2023-05-26T13:51:44.589Z"
   },
   {
    "duration": 8,
    "start_time": "2023-05-26T13:51:44.596Z"
   },
   {
    "duration": 5,
    "start_time": "2023-05-26T13:51:44.605Z"
   },
   {
    "duration": 8,
    "start_time": "2023-05-26T13:51:44.612Z"
   },
   {
    "duration": 12,
    "start_time": "2023-05-26T13:51:44.622Z"
   },
   {
    "duration": 44,
    "start_time": "2023-05-26T13:51:44.636Z"
   },
   {
    "duration": 5,
    "start_time": "2023-05-26T13:51:44.682Z"
   },
   {
    "duration": 8,
    "start_time": "2023-05-26T13:51:44.689Z"
   },
   {
    "duration": 5,
    "start_time": "2023-05-26T13:51:44.699Z"
   },
   {
    "duration": 10,
    "start_time": "2023-05-26T13:51:44.706Z"
   },
   {
    "duration": 7,
    "start_time": "2023-05-26T13:51:44.718Z"
   },
   {
    "duration": 49,
    "start_time": "2023-05-26T13:51:44.727Z"
   },
   {
    "duration": 8,
    "start_time": "2023-05-26T13:51:44.778Z"
   },
   {
    "duration": 11,
    "start_time": "2023-05-26T13:51:44.788Z"
   },
   {
    "duration": 6,
    "start_time": "2023-05-26T13:51:44.802Z"
   },
   {
    "duration": 8,
    "start_time": "2023-05-26T13:51:44.810Z"
   },
   {
    "duration": 16,
    "start_time": "2023-05-26T13:51:44.820Z"
   },
   {
    "duration": 50,
    "start_time": "2023-05-26T13:51:44.838Z"
   },
   {
    "duration": 204,
    "start_time": "2023-05-26T13:51:44.890Z"
   },
   {
    "duration": 18,
    "start_time": "2023-05-26T13:51:45.095Z"
   },
   {
    "duration": 192,
    "start_time": "2023-05-26T13:51:45.115Z"
   },
   {
    "duration": 13,
    "start_time": "2023-05-26T13:51:45.309Z"
   },
   {
    "duration": 9,
    "start_time": "2023-05-26T13:51:45.323Z"
   },
   {
    "duration": 34,
    "start_time": "2023-05-26T13:51:45.338Z"
   },
   {
    "duration": 169,
    "start_time": "2023-05-26T13:51:45.375Z"
   },
   {
    "duration": 76,
    "start_time": "2023-05-26T13:51:45.546Z"
   },
   {
    "duration": 6,
    "start_time": "2023-05-26T13:51:45.623Z"
   },
   {
    "duration": 22,
    "start_time": "2023-05-26T13:51:45.631Z"
   },
   {
    "duration": 230,
    "start_time": "2023-05-26T13:51:45.655Z"
   },
   {
    "duration": 10,
    "start_time": "2023-05-26T13:51:45.887Z"
   },
   {
    "duration": 490,
    "start_time": "2023-05-26T13:51:45.898Z"
   },
   {
    "duration": 11,
    "start_time": "2023-05-26T13:51:46.390Z"
   },
   {
    "duration": 482,
    "start_time": "2023-05-26T13:51:46.403Z"
   },
   {
    "duration": 14,
    "start_time": "2023-05-26T13:51:46.887Z"
   },
   {
    "duration": 18,
    "start_time": "2023-05-26T13:51:46.903Z"
   },
   {
    "duration": 52,
    "start_time": "2023-05-26T13:51:46.924Z"
   },
   {
    "duration": 31,
    "start_time": "2023-05-26T13:51:46.979Z"
   },
   {
    "duration": 22,
    "start_time": "2023-05-26T13:51:47.012Z"
   },
   {
    "duration": 840,
    "start_time": "2023-05-26T13:51:47.037Z"
   },
   {
    "duration": 908,
    "start_time": "2023-05-26T13:51:47.878Z"
   },
   {
    "duration": 24,
    "start_time": "2023-05-26T13:51:48.788Z"
   },
   {
    "duration": 30,
    "start_time": "2023-05-26T13:51:48.814Z"
   },
   {
    "duration": 48,
    "start_time": "2023-05-26T13:51:48.846Z"
   },
   {
    "duration": 804,
    "start_time": "2023-05-26T13:51:48.895Z"
   },
   {
    "duration": 0,
    "start_time": "2023-05-26T13:51:49.702Z"
   },
   {
    "duration": 196,
    "start_time": "2023-05-26T13:52:33.960Z"
   },
   {
    "duration": 168,
    "start_time": "2023-05-26T13:52:58.575Z"
   },
   {
    "duration": 159,
    "start_time": "2023-05-26T13:56:08.652Z"
   },
   {
    "duration": 222,
    "start_time": "2023-05-26T13:56:19.302Z"
   },
   {
    "duration": 182,
    "start_time": "2023-05-26T13:56:29.774Z"
   },
   {
    "duration": 199,
    "start_time": "2023-05-26T13:56:55.959Z"
   },
   {
    "duration": 982,
    "start_time": "2023-05-26T13:57:34.462Z"
   },
   {
    "duration": 160,
    "start_time": "2023-05-26T13:58:01.005Z"
   },
   {
    "duration": 1174,
    "start_time": "2023-05-26T13:58:18.941Z"
   },
   {
    "duration": 65,
    "start_time": "2023-05-26T13:58:20.117Z"
   },
   {
    "duration": 12,
    "start_time": "2023-05-26T13:58:20.184Z"
   },
   {
    "duration": 9,
    "start_time": "2023-05-26T13:58:20.197Z"
   },
   {
    "duration": 15,
    "start_time": "2023-05-26T13:58:20.208Z"
   },
   {
    "duration": 11,
    "start_time": "2023-05-26T13:58:20.225Z"
   },
   {
    "duration": 39,
    "start_time": "2023-05-26T13:58:20.237Z"
   },
   {
    "duration": 8,
    "start_time": "2023-05-26T13:58:20.278Z"
   },
   {
    "duration": 22,
    "start_time": "2023-05-26T13:58:20.288Z"
   },
   {
    "duration": 12,
    "start_time": "2023-05-26T13:58:20.312Z"
   },
   {
    "duration": 9,
    "start_time": "2023-05-26T13:58:20.326Z"
   },
   {
    "duration": 38,
    "start_time": "2023-05-26T13:58:20.337Z"
   },
   {
    "duration": 8,
    "start_time": "2023-05-26T13:58:20.377Z"
   },
   {
    "duration": 5,
    "start_time": "2023-05-26T13:58:20.387Z"
   },
   {
    "duration": 8,
    "start_time": "2023-05-26T13:58:20.394Z"
   },
   {
    "duration": 4,
    "start_time": "2023-05-26T13:58:20.404Z"
   },
   {
    "duration": 13,
    "start_time": "2023-05-26T13:58:20.410Z"
   },
   {
    "duration": 6,
    "start_time": "2023-05-26T13:58:20.425Z"
   },
   {
    "duration": 51,
    "start_time": "2023-05-26T13:58:20.433Z"
   },
   {
    "duration": 7,
    "start_time": "2023-05-26T13:58:20.485Z"
   },
   {
    "duration": 11,
    "start_time": "2023-05-26T13:58:20.494Z"
   },
   {
    "duration": 11,
    "start_time": "2023-05-26T13:58:20.506Z"
   },
   {
    "duration": 8,
    "start_time": "2023-05-26T13:58:20.518Z"
   },
   {
    "duration": 5,
    "start_time": "2023-05-26T13:58:20.528Z"
   },
   {
    "duration": 41,
    "start_time": "2023-05-26T13:58:20.535Z"
   },
   {
    "duration": 7,
    "start_time": "2023-05-26T13:58:20.578Z"
   },
   {
    "duration": 9,
    "start_time": "2023-05-26T13:58:20.587Z"
   },
   {
    "duration": 6,
    "start_time": "2023-05-26T13:58:20.600Z"
   },
   {
    "duration": 12,
    "start_time": "2023-05-26T13:58:20.607Z"
   },
   {
    "duration": 5,
    "start_time": "2023-05-26T13:58:20.620Z"
   },
   {
    "duration": 8,
    "start_time": "2023-05-26T13:58:20.627Z"
   },
   {
    "duration": 40,
    "start_time": "2023-05-26T13:58:20.637Z"
   },
   {
    "duration": 7,
    "start_time": "2023-05-26T13:58:20.679Z"
   },
   {
    "duration": 14,
    "start_time": "2023-05-26T13:58:20.687Z"
   },
   {
    "duration": 17,
    "start_time": "2023-05-26T13:58:20.703Z"
   },
   {
    "duration": 218,
    "start_time": "2023-05-26T13:58:20.722Z"
   },
   {
    "duration": 18,
    "start_time": "2023-05-26T13:58:20.942Z"
   },
   {
    "duration": 192,
    "start_time": "2023-05-26T13:58:20.961Z"
   },
   {
    "duration": 12,
    "start_time": "2023-05-26T13:58:21.155Z"
   },
   {
    "duration": 33,
    "start_time": "2023-05-26T13:58:21.168Z"
   },
   {
    "duration": 15,
    "start_time": "2023-05-26T13:58:21.202Z"
   },
   {
    "duration": 187,
    "start_time": "2023-05-26T13:58:21.219Z"
   },
   {
    "duration": 82,
    "start_time": "2023-05-26T13:58:21.408Z"
   },
   {
    "duration": 7,
    "start_time": "2023-05-26T13:58:21.492Z"
   },
   {
    "duration": 17,
    "start_time": "2023-05-26T13:58:21.502Z"
   },
   {
    "duration": 192,
    "start_time": "2023-05-26T13:58:21.521Z"
   },
   {
    "duration": 10,
    "start_time": "2023-05-26T13:58:21.715Z"
   },
   {
    "duration": 459,
    "start_time": "2023-05-26T13:58:21.726Z"
   },
   {
    "duration": 10,
    "start_time": "2023-05-26T13:58:22.187Z"
   },
   {
    "duration": 372,
    "start_time": "2023-05-26T13:58:22.199Z"
   },
   {
    "duration": 12,
    "start_time": "2023-05-26T13:58:22.574Z"
   },
   {
    "duration": 21,
    "start_time": "2023-05-26T13:58:22.588Z"
   },
   {
    "duration": 23,
    "start_time": "2023-05-26T13:58:22.610Z"
   },
   {
    "duration": 18,
    "start_time": "2023-05-26T13:58:22.635Z"
   },
   {
    "duration": 18,
    "start_time": "2023-05-26T13:58:22.675Z"
   },
   {
    "duration": 751,
    "start_time": "2023-05-26T13:58:22.695Z"
   },
   {
    "duration": 907,
    "start_time": "2023-05-26T13:58:23.448Z"
   },
   {
    "duration": 23,
    "start_time": "2023-05-26T13:58:24.357Z"
   },
   {
    "duration": 23,
    "start_time": "2023-05-26T13:58:24.382Z"
   },
   {
    "duration": 19,
    "start_time": "2023-05-26T13:58:24.406Z"
   },
   {
    "duration": 192,
    "start_time": "2023-05-26T13:58:24.427Z"
   },
   {
    "duration": 857,
    "start_time": "2023-05-26T13:58:24.621Z"
   },
   {
    "duration": 714,
    "start_time": "2023-05-26T13:58:54.584Z"
   },
   {
    "duration": 731,
    "start_time": "2023-05-26T13:59:04.512Z"
   },
   {
    "duration": 746,
    "start_time": "2023-05-26T13:59:33.920Z"
   },
   {
    "duration": 730,
    "start_time": "2023-05-26T14:00:08.271Z"
   },
   {
    "duration": 813,
    "start_time": "2023-05-26T14:00:23.756Z"
   },
   {
    "duration": 767,
    "start_time": "2023-05-26T14:00:27.059Z"
   },
   {
    "duration": 828,
    "start_time": "2023-05-26T14:02:59.855Z"
   },
   {
    "duration": 1550,
    "start_time": "2023-05-26T14:03:13.310Z"
   },
   {
    "duration": 73,
    "start_time": "2023-05-26T14:03:14.863Z"
   },
   {
    "duration": 14,
    "start_time": "2023-05-26T14:03:14.938Z"
   },
   {
    "duration": 8,
    "start_time": "2023-05-26T14:03:14.955Z"
   },
   {
    "duration": 16,
    "start_time": "2023-05-26T14:03:14.964Z"
   },
   {
    "duration": 13,
    "start_time": "2023-05-26T14:03:14.982Z"
   },
   {
    "duration": 15,
    "start_time": "2023-05-26T14:03:14.997Z"
   },
   {
    "duration": 27,
    "start_time": "2023-05-26T14:03:15.015Z"
   },
   {
    "duration": 26,
    "start_time": "2023-05-26T14:03:15.044Z"
   },
   {
    "duration": 13,
    "start_time": "2023-05-26T14:03:15.074Z"
   },
   {
    "duration": 8,
    "start_time": "2023-05-26T14:03:15.088Z"
   },
   {
    "duration": 10,
    "start_time": "2023-05-26T14:03:15.098Z"
   },
   {
    "duration": 14,
    "start_time": "2023-05-26T14:03:15.111Z"
   },
   {
    "duration": 5,
    "start_time": "2023-05-26T14:03:15.127Z"
   },
   {
    "duration": 46,
    "start_time": "2023-05-26T14:03:15.134Z"
   },
   {
    "duration": 5,
    "start_time": "2023-05-26T14:03:15.182Z"
   },
   {
    "duration": 18,
    "start_time": "2023-05-26T14:03:15.189Z"
   },
   {
    "duration": 7,
    "start_time": "2023-05-26T14:03:15.208Z"
   },
   {
    "duration": 9,
    "start_time": "2023-05-26T14:03:15.216Z"
   },
   {
    "duration": 4,
    "start_time": "2023-05-26T14:03:15.227Z"
   },
   {
    "duration": 48,
    "start_time": "2023-05-26T14:03:15.233Z"
   },
   {
    "duration": 13,
    "start_time": "2023-05-26T14:03:15.283Z"
   },
   {
    "duration": 8,
    "start_time": "2023-05-26T14:03:15.299Z"
   },
   {
    "duration": 6,
    "start_time": "2023-05-26T14:03:15.308Z"
   },
   {
    "duration": 9,
    "start_time": "2023-05-26T14:03:15.315Z"
   },
   {
    "duration": 6,
    "start_time": "2023-05-26T14:03:15.326Z"
   },
   {
    "duration": 45,
    "start_time": "2023-05-26T14:03:15.334Z"
   },
   {
    "duration": 7,
    "start_time": "2023-05-26T14:03:15.383Z"
   },
   {
    "duration": 10,
    "start_time": "2023-05-26T14:03:15.392Z"
   },
   {
    "duration": 5,
    "start_time": "2023-05-26T14:03:15.404Z"
   },
   {
    "duration": 9,
    "start_time": "2023-05-26T14:03:15.411Z"
   },
   {
    "duration": 6,
    "start_time": "2023-05-26T14:03:15.422Z"
   },
   {
    "duration": 6,
    "start_time": "2023-05-26T14:03:15.430Z"
   },
   {
    "duration": 49,
    "start_time": "2023-05-26T14:03:15.437Z"
   },
   {
    "duration": 20,
    "start_time": "2023-05-26T14:03:15.487Z"
   },
   {
    "duration": 232,
    "start_time": "2023-05-26T14:03:15.509Z"
   },
   {
    "duration": 18,
    "start_time": "2023-05-26T14:03:15.742Z"
   },
   {
    "duration": 236,
    "start_time": "2023-05-26T14:03:15.762Z"
   },
   {
    "duration": 17,
    "start_time": "2023-05-26T14:03:16.000Z"
   },
   {
    "duration": 15,
    "start_time": "2023-05-26T14:03:16.019Z"
   },
   {
    "duration": 17,
    "start_time": "2023-05-26T14:03:16.037Z"
   },
   {
    "duration": 188,
    "start_time": "2023-05-26T14:03:16.056Z"
   },
   {
    "duration": 92,
    "start_time": "2023-05-26T14:03:16.246Z"
   },
   {
    "duration": 7,
    "start_time": "2023-05-26T14:03:16.340Z"
   },
   {
    "duration": 9,
    "start_time": "2023-05-26T14:03:16.348Z"
   },
   {
    "duration": 220,
    "start_time": "2023-05-26T14:03:16.359Z"
   },
   {
    "duration": 8,
    "start_time": "2023-05-26T14:03:16.581Z"
   },
   {
    "duration": 466,
    "start_time": "2023-05-26T14:03:16.591Z"
   },
   {
    "duration": 19,
    "start_time": "2023-05-26T14:03:17.059Z"
   },
   {
    "duration": 385,
    "start_time": "2023-05-26T14:03:17.081Z"
   },
   {
    "duration": 20,
    "start_time": "2023-05-26T14:03:17.468Z"
   },
   {
    "duration": 16,
    "start_time": "2023-05-26T14:03:17.490Z"
   },
   {
    "duration": 23,
    "start_time": "2023-05-26T14:03:17.508Z"
   },
   {
    "duration": 46,
    "start_time": "2023-05-26T14:03:17.532Z"
   },
   {
    "duration": 19,
    "start_time": "2023-05-26T14:03:17.579Z"
   },
   {
    "duration": 734,
    "start_time": "2023-05-26T14:03:17.599Z"
   },
   {
    "duration": 823,
    "start_time": "2023-05-26T14:03:18.334Z"
   },
   {
    "duration": 28,
    "start_time": "2023-05-26T14:03:19.158Z"
   },
   {
    "duration": 30,
    "start_time": "2023-05-26T14:03:19.187Z"
   },
   {
    "duration": 848,
    "start_time": "2023-05-26T14:03:19.219Z"
   },
   {
    "duration": 0,
    "start_time": "2023-05-26T14:03:20.069Z"
   },
   {
    "duration": 0,
    "start_time": "2023-05-26T14:03:20.070Z"
   },
   {
    "duration": 0,
    "start_time": "2023-05-26T14:03:20.071Z"
   },
   {
    "duration": 28,
    "start_time": "2023-05-26T14:05:54.478Z"
   },
   {
    "duration": 33,
    "start_time": "2023-05-26T14:06:03.801Z"
   },
   {
    "duration": 30,
    "start_time": "2023-05-26T14:06:15.111Z"
   },
   {
    "duration": 30,
    "start_time": "2023-05-26T14:07:38.001Z"
   },
   {
    "duration": 23,
    "start_time": "2023-05-26T14:07:43.653Z"
   },
   {
    "duration": 18,
    "start_time": "2023-05-26T14:08:02.863Z"
   },
   {
    "duration": 29,
    "start_time": "2023-05-26T14:09:30.773Z"
   },
   {
    "duration": 40,
    "start_time": "2023-05-26T14:10:34.856Z"
   },
   {
    "duration": 26,
    "start_time": "2023-05-26T14:10:48.899Z"
   },
   {
    "duration": 18,
    "start_time": "2023-05-26T14:10:51.857Z"
   },
   {
    "duration": 762,
    "start_time": "2023-05-26T14:15:52.058Z"
   },
   {
    "duration": 48,
    "start_time": "2023-05-27T14:05:20.942Z"
   },
   {
    "duration": 1248,
    "start_time": "2023-05-27T14:05:27.375Z"
   },
   {
    "duration": 341,
    "start_time": "2023-05-27T14:05:28.625Z"
   },
   {
    "duration": 11,
    "start_time": "2023-05-27T14:05:28.968Z"
   },
   {
    "duration": 8,
    "start_time": "2023-05-27T14:05:28.980Z"
   },
   {
    "duration": 34,
    "start_time": "2023-05-27T14:05:28.991Z"
   },
   {
    "duration": 16,
    "start_time": "2023-05-27T14:05:29.026Z"
   },
   {
    "duration": 11,
    "start_time": "2023-05-27T14:05:29.044Z"
   },
   {
    "duration": 11,
    "start_time": "2023-05-27T14:05:29.057Z"
   },
   {
    "duration": 19,
    "start_time": "2023-05-27T14:05:29.069Z"
   },
   {
    "duration": 10,
    "start_time": "2023-05-27T14:05:29.090Z"
   },
   {
    "duration": 37,
    "start_time": "2023-05-27T14:05:29.102Z"
   },
   {
    "duration": 10,
    "start_time": "2023-05-27T14:05:29.140Z"
   },
   {
    "duration": 10,
    "start_time": "2023-05-27T14:05:29.151Z"
   },
   {
    "duration": 15,
    "start_time": "2023-05-27T14:05:29.164Z"
   },
   {
    "duration": 12,
    "start_time": "2023-05-27T14:05:29.180Z"
   },
   {
    "duration": 4,
    "start_time": "2023-05-27T14:05:29.193Z"
   },
   {
    "duration": 16,
    "start_time": "2023-05-27T14:05:29.199Z"
   },
   {
    "duration": 10,
    "start_time": "2023-05-27T14:05:29.216Z"
   },
   {
    "duration": 12,
    "start_time": "2023-05-27T14:05:29.228Z"
   },
   {
    "duration": 14,
    "start_time": "2023-05-27T14:05:29.241Z"
   },
   {
    "duration": 11,
    "start_time": "2023-05-27T14:05:29.256Z"
   },
   {
    "duration": 14,
    "start_time": "2023-05-27T14:05:29.268Z"
   },
   {
    "duration": 7,
    "start_time": "2023-05-27T14:05:29.284Z"
   },
   {
    "duration": 4,
    "start_time": "2023-05-27T14:05:29.292Z"
   },
   {
    "duration": 9,
    "start_time": "2023-05-27T14:05:29.298Z"
   },
   {
    "duration": 25,
    "start_time": "2023-05-27T14:05:29.308Z"
   },
   {
    "duration": 23,
    "start_time": "2023-05-27T14:05:29.334Z"
   },
   {
    "duration": 9,
    "start_time": "2023-05-27T14:05:29.359Z"
   },
   {
    "duration": 25,
    "start_time": "2023-05-27T14:05:29.369Z"
   },
   {
    "duration": 5,
    "start_time": "2023-05-27T14:05:29.396Z"
   },
   {
    "duration": 11,
    "start_time": "2023-05-27T14:05:29.403Z"
   },
   {
    "duration": 26,
    "start_time": "2023-05-27T14:05:29.416Z"
   },
   {
    "duration": 12,
    "start_time": "2023-05-27T14:05:29.443Z"
   },
   {
    "duration": 19,
    "start_time": "2023-05-27T14:05:29.456Z"
   },
   {
    "duration": 11,
    "start_time": "2023-05-27T14:05:29.476Z"
   },
   {
    "duration": 201,
    "start_time": "2023-05-27T14:05:29.488Z"
   },
   {
    "duration": 19,
    "start_time": "2023-05-27T14:05:29.691Z"
   },
   {
    "duration": 231,
    "start_time": "2023-05-27T14:05:29.712Z"
   },
   {
    "duration": 12,
    "start_time": "2023-05-27T14:05:29.945Z"
   },
   {
    "duration": 23,
    "start_time": "2023-05-27T14:05:29.958Z"
   },
   {
    "duration": 13,
    "start_time": "2023-05-27T14:05:29.985Z"
   },
   {
    "duration": 169,
    "start_time": "2023-05-27T14:05:30.000Z"
   },
   {
    "duration": 73,
    "start_time": "2023-05-27T14:05:30.171Z"
   },
   {
    "duration": 6,
    "start_time": "2023-05-27T14:05:30.246Z"
   },
   {
    "duration": 30,
    "start_time": "2023-05-27T14:05:30.253Z"
   },
   {
    "duration": 201,
    "start_time": "2023-05-27T14:05:30.284Z"
   },
   {
    "duration": 8,
    "start_time": "2023-05-27T14:05:30.487Z"
   },
   {
    "duration": 454,
    "start_time": "2023-05-27T14:05:30.496Z"
   },
   {
    "duration": 8,
    "start_time": "2023-05-27T14:05:30.951Z"
   },
   {
    "duration": 458,
    "start_time": "2023-05-27T14:05:30.961Z"
   },
   {
    "duration": 20,
    "start_time": "2023-05-27T14:05:31.425Z"
   },
   {
    "duration": 76,
    "start_time": "2023-05-27T14:05:31.446Z"
   },
   {
    "duration": 47,
    "start_time": "2023-05-27T14:05:31.524Z"
   },
   {
    "duration": 50,
    "start_time": "2023-05-27T14:05:31.572Z"
   },
   {
    "duration": 36,
    "start_time": "2023-05-27T14:05:31.624Z"
   },
   {
    "duration": 725,
    "start_time": "2023-05-27T14:05:31.662Z"
   },
   {
    "duration": 813,
    "start_time": "2023-05-27T14:05:32.389Z"
   },
   {
    "duration": 32,
    "start_time": "2023-05-27T14:05:33.204Z"
   },
   {
    "duration": 817,
    "start_time": "2023-05-27T14:05:33.238Z"
   },
   {
    "duration": 0,
    "start_time": "2023-05-27T14:05:34.057Z"
   },
   {
    "duration": 0,
    "start_time": "2023-05-27T14:05:34.058Z"
   },
   {
    "duration": 0,
    "start_time": "2023-05-27T14:05:34.059Z"
   },
   {
    "duration": 0,
    "start_time": "2023-05-27T14:05:34.060Z"
   },
   {
    "duration": 0,
    "start_time": "2023-05-27T14:05:34.062Z"
   },
   {
    "duration": 0,
    "start_time": "2023-05-27T14:05:34.063Z"
   },
   {
    "duration": 4,
    "start_time": "2023-05-27T14:05:49.712Z"
   },
   {
    "duration": 19,
    "start_time": "2023-05-27T14:05:54.935Z"
   },
   {
    "duration": 28,
    "start_time": "2023-05-27T14:06:35.353Z"
   },
   {
    "duration": 17,
    "start_time": "2023-05-27T14:06:47.490Z"
   },
   {
    "duration": 19,
    "start_time": "2023-05-27T14:09:25.478Z"
   },
   {
    "duration": 18,
    "start_time": "2023-05-27T14:09:26.451Z"
   },
   {
    "duration": 5,
    "start_time": "2023-05-27T14:09:37.101Z"
   },
   {
    "duration": 17,
    "start_time": "2023-05-27T14:09:37.856Z"
   },
   {
    "duration": 6,
    "start_time": "2023-05-27T14:10:29.557Z"
   },
   {
    "duration": 7,
    "start_time": "2023-05-27T14:10:30.005Z"
   },
   {
    "duration": 22,
    "start_time": "2023-05-27T14:10:30.420Z"
   },
   {
    "duration": 12,
    "start_time": "2023-05-27T14:10:44.186Z"
   },
   {
    "duration": 19,
    "start_time": "2023-05-27T14:11:52.978Z"
   },
   {
    "duration": 16,
    "start_time": "2023-05-27T14:12:15.045Z"
   },
   {
    "duration": 748,
    "start_time": "2023-05-27T14:14:10.645Z"
   },
   {
    "duration": 120,
    "start_time": "2023-05-27T14:14:21.793Z"
   },
   {
    "duration": 822,
    "start_time": "2023-05-27T14:14:33.458Z"
   },
   {
    "duration": 778,
    "start_time": "2023-05-27T14:14:41.726Z"
   },
   {
    "duration": 778,
    "start_time": "2023-05-27T14:14:45.713Z"
   },
   {
    "duration": 770,
    "start_time": "2023-05-27T14:15:17.219Z"
   },
   {
    "duration": 120,
    "start_time": "2023-05-27T14:15:30.130Z"
   },
   {
    "duration": 117,
    "start_time": "2023-05-27T14:15:38.900Z"
   },
   {
    "duration": 17,
    "start_time": "2023-05-27T14:16:49.524Z"
   },
   {
    "duration": 113,
    "start_time": "2023-05-27T14:16:51.600Z"
   },
   {
    "duration": 17,
    "start_time": "2023-05-27T14:24:44.394Z"
   },
   {
    "duration": 13,
    "start_time": "2023-05-27T14:25:11.487Z"
   },
   {
    "duration": 128,
    "start_time": "2023-05-27T14:25:21.460Z"
   },
   {
    "duration": 139,
    "start_time": "2023-05-27T14:25:43.892Z"
   },
   {
    "duration": 1135,
    "start_time": "2023-05-27T14:26:03.444Z"
   },
   {
    "duration": 71,
    "start_time": "2023-05-27T14:26:04.581Z"
   },
   {
    "duration": 11,
    "start_time": "2023-05-27T14:26:04.654Z"
   },
   {
    "duration": 8,
    "start_time": "2023-05-27T14:26:04.667Z"
   },
   {
    "duration": 18,
    "start_time": "2023-05-27T14:26:04.677Z"
   },
   {
    "duration": 11,
    "start_time": "2023-05-27T14:26:04.697Z"
   },
   {
    "duration": 23,
    "start_time": "2023-05-27T14:26:04.710Z"
   },
   {
    "duration": 14,
    "start_time": "2023-05-27T14:26:04.737Z"
   },
   {
    "duration": 20,
    "start_time": "2023-05-27T14:26:04.752Z"
   },
   {
    "duration": 10,
    "start_time": "2023-05-27T14:26:04.774Z"
   },
   {
    "duration": 6,
    "start_time": "2023-05-27T14:26:04.786Z"
   },
   {
    "duration": 12,
    "start_time": "2023-05-27T14:26:04.794Z"
   },
   {
    "duration": 13,
    "start_time": "2023-05-27T14:26:04.826Z"
   },
   {
    "duration": 4,
    "start_time": "2023-05-27T14:26:04.848Z"
   },
   {
    "duration": 9,
    "start_time": "2023-05-27T14:26:04.854Z"
   },
   {
    "duration": 6,
    "start_time": "2023-05-27T14:26:04.865Z"
   },
   {
    "duration": 11,
    "start_time": "2023-05-27T14:26:04.873Z"
   },
   {
    "duration": 47,
    "start_time": "2023-05-27T14:26:04.886Z"
   },
   {
    "duration": 9,
    "start_time": "2023-05-27T14:26:04.936Z"
   },
   {
    "duration": 7,
    "start_time": "2023-05-27T14:26:04.947Z"
   },
   {
    "duration": 9,
    "start_time": "2023-05-27T14:26:04.955Z"
   },
   {
    "duration": 12,
    "start_time": "2023-05-27T14:26:04.965Z"
   },
   {
    "duration": 9,
    "start_time": "2023-05-27T14:26:04.978Z"
   },
   {
    "duration": 5,
    "start_time": "2023-05-27T14:26:04.988Z"
   },
   {
    "duration": 13,
    "start_time": "2023-05-27T14:26:05.026Z"
   },
   {
    "duration": 6,
    "start_time": "2023-05-27T14:26:05.042Z"
   },
   {
    "duration": 13,
    "start_time": "2023-05-27T14:26:05.049Z"
   },
   {
    "duration": 5,
    "start_time": "2023-05-27T14:26:05.063Z"
   },
   {
    "duration": 8,
    "start_time": "2023-05-27T14:26:05.070Z"
   },
   {
    "duration": 4,
    "start_time": "2023-05-27T14:26:05.080Z"
   },
   {
    "duration": 45,
    "start_time": "2023-05-27T14:26:05.086Z"
   },
   {
    "duration": 6,
    "start_time": "2023-05-27T14:26:05.133Z"
   },
   {
    "duration": 16,
    "start_time": "2023-05-27T14:26:05.141Z"
   },
   {
    "duration": 29,
    "start_time": "2023-05-27T14:26:05.159Z"
   },
   {
    "duration": 27,
    "start_time": "2023-05-27T14:26:05.190Z"
   },
   {
    "duration": 216,
    "start_time": "2023-05-27T14:26:05.219Z"
   },
   {
    "duration": 21,
    "start_time": "2023-05-27T14:26:05.436Z"
   },
   {
    "duration": 203,
    "start_time": "2023-05-27T14:26:05.459Z"
   },
   {
    "duration": 13,
    "start_time": "2023-05-27T14:26:05.663Z"
   },
   {
    "duration": 12,
    "start_time": "2023-05-27T14:26:05.678Z"
   },
   {
    "duration": 11,
    "start_time": "2023-05-27T14:26:05.694Z"
   },
   {
    "duration": 165,
    "start_time": "2023-05-27T14:26:05.725Z"
   },
   {
    "duration": 85,
    "start_time": "2023-05-27T14:26:05.892Z"
   },
   {
    "duration": 5,
    "start_time": "2023-05-27T14:26:05.979Z"
   },
   {
    "duration": 13,
    "start_time": "2023-05-27T14:26:05.986Z"
   },
   {
    "duration": 205,
    "start_time": "2023-05-27T14:26:06.000Z"
   },
   {
    "duration": 21,
    "start_time": "2023-05-27T14:26:06.207Z"
   },
   {
    "duration": 384,
    "start_time": "2023-05-27T14:26:06.230Z"
   },
   {
    "duration": 16,
    "start_time": "2023-05-27T14:26:06.615Z"
   },
   {
    "duration": 481,
    "start_time": "2023-05-27T14:26:06.633Z"
   },
   {
    "duration": 21,
    "start_time": "2023-05-27T14:26:07.115Z"
   },
   {
    "duration": 13,
    "start_time": "2023-05-27T14:26:07.142Z"
   },
   {
    "duration": 22,
    "start_time": "2023-05-27T14:26:07.157Z"
   },
   {
    "duration": 18,
    "start_time": "2023-05-27T14:26:07.181Z"
   },
   {
    "duration": 48,
    "start_time": "2023-05-27T14:26:07.200Z"
   },
   {
    "duration": 765,
    "start_time": "2023-05-27T14:26:07.249Z"
   },
   {
    "duration": 806,
    "start_time": "2023-05-27T14:26:08.016Z"
   },
   {
    "duration": 25,
    "start_time": "2023-05-27T14:26:08.826Z"
   },
   {
    "duration": 911,
    "start_time": "2023-05-27T14:26:08.853Z"
   },
   {
    "duration": 14,
    "start_time": "2023-05-27T14:26:09.766Z"
   },
   {
    "duration": 174,
    "start_time": "2023-05-27T14:26:09.782Z"
   },
   {
    "duration": 3,
    "start_time": "2023-05-27T14:51:22.403Z"
   },
   {
    "duration": 72,
    "start_time": "2023-05-27T14:54:08.221Z"
   },
   {
    "duration": 71,
    "start_time": "2023-05-27T15:09:16.350Z"
   },
   {
    "duration": 29,
    "start_time": "2023-05-27T15:10:16.520Z"
   },
   {
    "duration": 40,
    "start_time": "2023-05-27T15:10:29.642Z"
   },
   {
    "duration": 103,
    "start_time": "2023-05-27T15:12:39.135Z"
   },
   {
    "duration": 13,
    "start_time": "2023-05-27T15:12:51.809Z"
   },
   {
    "duration": 43,
    "start_time": "2023-05-27T15:13:10.459Z"
   },
   {
    "duration": 4,
    "start_time": "2023-05-27T15:13:25.311Z"
   },
   {
    "duration": 6,
    "start_time": "2023-05-27T15:13:34.379Z"
   },
   {
    "duration": 7,
    "start_time": "2023-05-27T15:13:51.151Z"
   },
   {
    "duration": 5,
    "start_time": "2023-05-27T15:14:18.140Z"
   },
   {
    "duration": 9,
    "start_time": "2023-05-27T15:14:57.157Z"
   },
   {
    "duration": 1143,
    "start_time": "2023-05-27T15:15:35.411Z"
   },
   {
    "duration": 66,
    "start_time": "2023-05-27T15:15:36.556Z"
   },
   {
    "duration": 11,
    "start_time": "2023-05-27T15:15:36.624Z"
   },
   {
    "duration": 8,
    "start_time": "2023-05-27T15:15:36.636Z"
   },
   {
    "duration": 14,
    "start_time": "2023-05-27T15:15:36.645Z"
   },
   {
    "duration": 10,
    "start_time": "2023-05-27T15:15:36.660Z"
   },
   {
    "duration": 10,
    "start_time": "2023-05-27T15:15:36.671Z"
   },
   {
    "duration": 8,
    "start_time": "2023-05-27T15:15:36.682Z"
   },
   {
    "duration": 46,
    "start_time": "2023-05-27T15:15:36.691Z"
   },
   {
    "duration": 11,
    "start_time": "2023-05-27T15:15:36.739Z"
   },
   {
    "duration": 6,
    "start_time": "2023-05-27T15:15:36.752Z"
   },
   {
    "duration": 10,
    "start_time": "2023-05-27T15:15:36.760Z"
   },
   {
    "duration": 10,
    "start_time": "2023-05-27T15:15:36.771Z"
   },
   {
    "duration": 8,
    "start_time": "2023-05-27T15:15:36.782Z"
   },
   {
    "duration": 37,
    "start_time": "2023-05-27T15:15:36.791Z"
   },
   {
    "duration": 5,
    "start_time": "2023-05-27T15:15:36.830Z"
   },
   {
    "duration": 17,
    "start_time": "2023-05-27T15:15:36.837Z"
   },
   {
    "duration": 5,
    "start_time": "2023-05-27T15:15:36.855Z"
   },
   {
    "duration": 9,
    "start_time": "2023-05-27T15:15:36.861Z"
   },
   {
    "duration": 4,
    "start_time": "2023-05-27T15:15:36.872Z"
   },
   {
    "duration": 9,
    "start_time": "2023-05-27T15:15:36.878Z"
   },
   {
    "duration": 42,
    "start_time": "2023-05-27T15:15:36.888Z"
   },
   {
    "duration": 8,
    "start_time": "2023-05-27T15:15:36.932Z"
   },
   {
    "duration": 5,
    "start_time": "2023-05-27T15:15:36.941Z"
   },
   {
    "duration": 30,
    "start_time": "2023-05-27T15:15:36.947Z"
   },
   {
    "duration": 5,
    "start_time": "2023-05-27T15:15:36.978Z"
   },
   {
    "duration": 11,
    "start_time": "2023-05-27T15:15:36.984Z"
   },
   {
    "duration": 6,
    "start_time": "2023-05-27T15:15:36.999Z"
   },
   {
    "duration": 20,
    "start_time": "2023-05-27T15:15:37.006Z"
   },
   {
    "duration": 5,
    "start_time": "2023-05-27T15:15:37.027Z"
   },
   {
    "duration": 7,
    "start_time": "2023-05-27T15:15:37.033Z"
   },
   {
    "duration": 5,
    "start_time": "2023-05-27T15:15:37.041Z"
   },
   {
    "duration": 5,
    "start_time": "2023-05-27T15:15:37.048Z"
   },
   {
    "duration": 14,
    "start_time": "2023-05-27T15:15:37.054Z"
   },
   {
    "duration": 16,
    "start_time": "2023-05-27T15:15:37.070Z"
   },
   {
    "duration": 205,
    "start_time": "2023-05-27T15:15:37.087Z"
   },
   {
    "duration": 18,
    "start_time": "2023-05-27T15:15:37.294Z"
   },
   {
    "duration": 179,
    "start_time": "2023-05-27T15:15:37.324Z"
   },
   {
    "duration": 12,
    "start_time": "2023-05-27T15:15:37.505Z"
   },
   {
    "duration": 10,
    "start_time": "2023-05-27T15:15:37.518Z"
   },
   {
    "duration": 11,
    "start_time": "2023-05-27T15:15:37.530Z"
   },
   {
    "duration": 150,
    "start_time": "2023-05-27T15:15:37.543Z"
   },
   {
    "duration": 70,
    "start_time": "2023-05-27T15:15:37.695Z"
   },
   {
    "duration": 5,
    "start_time": "2023-05-27T15:15:37.766Z"
   },
   {
    "duration": 15,
    "start_time": "2023-05-27T15:15:37.773Z"
   },
   {
    "duration": 189,
    "start_time": "2023-05-27T15:15:37.789Z"
   },
   {
    "duration": 8,
    "start_time": "2023-05-27T15:15:37.980Z"
   },
   {
    "duration": 419,
    "start_time": "2023-05-27T15:15:37.990Z"
   },
   {
    "duration": 15,
    "start_time": "2023-05-27T15:15:38.411Z"
   },
   {
    "duration": 496,
    "start_time": "2023-05-27T15:15:38.427Z"
   },
   {
    "duration": 12,
    "start_time": "2023-05-27T15:15:38.924Z"
   },
   {
    "duration": 16,
    "start_time": "2023-05-27T15:15:38.938Z"
   },
   {
    "duration": 29,
    "start_time": "2023-05-27T15:15:38.955Z"
   },
   {
    "duration": 40,
    "start_time": "2023-05-27T15:15:38.986Z"
   },
   {
    "duration": 17,
    "start_time": "2023-05-27T15:15:39.028Z"
   },
   {
    "duration": 793,
    "start_time": "2023-05-27T15:15:39.047Z"
   },
   {
    "duration": 853,
    "start_time": "2023-05-27T15:15:39.842Z"
   },
   {
    "duration": 17,
    "start_time": "2023-05-27T15:15:40.696Z"
   },
   {
    "duration": 857,
    "start_time": "2023-05-27T15:15:40.725Z"
   },
   {
    "duration": 11,
    "start_time": "2023-05-27T15:15:41.583Z"
   },
   {
    "duration": 132,
    "start_time": "2023-05-27T15:15:41.595Z"
   },
   {
    "duration": 28,
    "start_time": "2023-05-27T15:15:41.729Z"
   },
   {
    "duration": 17,
    "start_time": "2023-05-27T15:15:41.758Z"
   },
   {
    "duration": 90,
    "start_time": "2023-05-27T15:15:41.776Z"
   },
   {
    "duration": 0,
    "start_time": "2023-05-27T15:15:41.867Z"
   },
   {
    "duration": 22,
    "start_time": "2023-05-27T15:15:54.508Z"
   },
   {
    "duration": 14,
    "start_time": "2023-05-27T15:16:18.149Z"
   },
   {
    "duration": 5,
    "start_time": "2023-05-27T15:18:19.372Z"
   },
   {
    "duration": 9,
    "start_time": "2023-05-27T15:18:38.483Z"
   },
   {
    "duration": 8,
    "start_time": "2023-05-27T15:18:49.766Z"
   },
   {
    "duration": 6,
    "start_time": "2023-05-27T15:19:28.100Z"
   },
   {
    "duration": 5,
    "start_time": "2023-05-27T15:19:40.726Z"
   },
   {
    "duration": 5,
    "start_time": "2023-05-27T15:19:44.906Z"
   },
   {
    "duration": 6,
    "start_time": "2023-05-27T15:29:43.539Z"
   },
   {
    "duration": 6,
    "start_time": "2023-05-27T15:29:49.119Z"
   },
   {
    "duration": 6,
    "start_time": "2023-05-27T15:35:36.995Z"
   },
   {
    "duration": 4,
    "start_time": "2023-05-27T15:40:24.513Z"
   },
   {
    "duration": 5,
    "start_time": "2023-05-27T15:40:32.742Z"
   },
   {
    "duration": 6,
    "start_time": "2023-05-27T15:41:36.782Z"
   },
   {
    "duration": 6,
    "start_time": "2023-05-27T15:42:09.142Z"
   },
   {
    "duration": 5,
    "start_time": "2023-05-27T15:42:16.418Z"
   },
   {
    "duration": 5,
    "start_time": "2023-05-27T15:43:31.379Z"
   },
   {
    "duration": 6,
    "start_time": "2023-05-27T15:44:50.061Z"
   },
   {
    "duration": 5,
    "start_time": "2023-05-27T16:02:15.599Z"
   },
   {
    "duration": 18,
    "start_time": "2023-05-27T16:02:19.885Z"
   },
   {
    "duration": 6,
    "start_time": "2023-05-27T16:02:38.396Z"
   },
   {
    "duration": 6,
    "start_time": "2023-05-27T16:02:58.362Z"
   },
   {
    "duration": 5,
    "start_time": "2023-05-27T16:03:10.408Z"
   },
   {
    "duration": 6,
    "start_time": "2023-05-27T16:03:35.744Z"
   },
   {
    "duration": 6,
    "start_time": "2023-05-27T16:12:39.639Z"
   },
   {
    "duration": 6,
    "start_time": "2023-05-27T16:29:27.621Z"
   },
   {
    "duration": 5,
    "start_time": "2023-05-27T16:29:59.291Z"
   },
   {
    "duration": 57,
    "start_time": "2023-05-28T06:57:06.682Z"
   },
   {
    "duration": 1336,
    "start_time": "2023-05-28T06:57:15.699Z"
   },
   {
    "duration": 200,
    "start_time": "2023-05-28T06:57:17.037Z"
   },
   {
    "duration": 11,
    "start_time": "2023-05-28T06:57:17.239Z"
   },
   {
    "duration": 18,
    "start_time": "2023-05-28T06:57:17.252Z"
   },
   {
    "duration": 22,
    "start_time": "2023-05-28T06:57:17.272Z"
   },
   {
    "duration": 24,
    "start_time": "2023-05-28T06:57:17.296Z"
   },
   {
    "duration": 32,
    "start_time": "2023-05-28T06:57:17.322Z"
   },
   {
    "duration": 18,
    "start_time": "2023-05-28T06:57:17.356Z"
   },
   {
    "duration": 28,
    "start_time": "2023-05-28T06:57:17.376Z"
   },
   {
    "duration": 11,
    "start_time": "2023-05-28T06:57:17.406Z"
   },
   {
    "duration": 30,
    "start_time": "2023-05-28T06:57:17.418Z"
   },
   {
    "duration": 17,
    "start_time": "2023-05-28T06:57:17.450Z"
   },
   {
    "duration": 9,
    "start_time": "2023-05-28T06:57:17.469Z"
   },
   {
    "duration": 6,
    "start_time": "2023-05-28T06:57:17.480Z"
   },
   {
    "duration": 12,
    "start_time": "2023-05-28T06:57:17.487Z"
   },
   {
    "duration": 58,
    "start_time": "2023-05-28T06:57:17.500Z"
   },
   {
    "duration": 34,
    "start_time": "2023-05-28T06:57:17.560Z"
   },
   {
    "duration": 26,
    "start_time": "2023-05-28T06:57:17.596Z"
   },
   {
    "duration": 35,
    "start_time": "2023-05-28T06:57:17.623Z"
   },
   {
    "duration": 11,
    "start_time": "2023-05-28T06:57:17.660Z"
   },
   {
    "duration": 22,
    "start_time": "2023-05-28T06:57:17.672Z"
   },
   {
    "duration": 14,
    "start_time": "2023-05-28T06:57:17.695Z"
   },
   {
    "duration": 11,
    "start_time": "2023-05-28T06:57:17.711Z"
   },
   {
    "duration": 36,
    "start_time": "2023-05-28T06:57:17.723Z"
   },
   {
    "duration": 21,
    "start_time": "2023-05-28T06:57:17.760Z"
   },
   {
    "duration": 13,
    "start_time": "2023-05-28T06:57:17.782Z"
   },
   {
    "duration": 24,
    "start_time": "2023-05-28T06:57:17.797Z"
   },
   {
    "duration": 43,
    "start_time": "2023-05-28T06:57:17.826Z"
   },
   {
    "duration": 35,
    "start_time": "2023-05-28T06:57:17.870Z"
   },
   {
    "duration": 43,
    "start_time": "2023-05-28T06:57:17.907Z"
   },
   {
    "duration": 45,
    "start_time": "2023-05-28T06:57:17.952Z"
   },
   {
    "duration": 38,
    "start_time": "2023-05-28T06:57:17.998Z"
   },
   {
    "duration": 38,
    "start_time": "2023-05-28T06:57:18.037Z"
   },
   {
    "duration": 37,
    "start_time": "2023-05-28T06:57:18.077Z"
   },
   {
    "duration": 43,
    "start_time": "2023-05-28T06:57:18.116Z"
   },
   {
    "duration": 195,
    "start_time": "2023-05-28T06:57:18.161Z"
   },
   {
    "duration": 16,
    "start_time": "2023-05-28T06:57:18.357Z"
   },
   {
    "duration": 192,
    "start_time": "2023-05-28T06:57:18.375Z"
   },
   {
    "duration": 11,
    "start_time": "2023-05-28T06:57:18.569Z"
   },
   {
    "duration": 42,
    "start_time": "2023-05-28T06:57:18.581Z"
   },
   {
    "duration": 49,
    "start_time": "2023-05-28T06:57:18.625Z"
   },
   {
    "duration": 227,
    "start_time": "2023-05-28T06:57:18.676Z"
   },
   {
    "duration": 81,
    "start_time": "2023-05-28T06:57:18.905Z"
   },
   {
    "duration": 6,
    "start_time": "2023-05-28T06:57:18.987Z"
   },
   {
    "duration": 24,
    "start_time": "2023-05-28T06:57:18.995Z"
   },
   {
    "duration": 203,
    "start_time": "2023-05-28T06:57:19.021Z"
   },
   {
    "duration": 13,
    "start_time": "2023-05-28T06:57:19.227Z"
   },
   {
    "duration": 715,
    "start_time": "2023-05-28T06:57:19.242Z"
   },
   {
    "duration": 10,
    "start_time": "2023-05-28T06:57:19.959Z"
   },
   {
    "duration": 962,
    "start_time": "2023-05-28T06:57:19.971Z"
   },
   {
    "duration": 14,
    "start_time": "2023-05-28T06:57:20.935Z"
   },
   {
    "duration": 88,
    "start_time": "2023-05-28T06:57:20.950Z"
   },
   {
    "duration": 147,
    "start_time": "2023-05-28T06:57:21.041Z"
   },
   {
    "duration": 62,
    "start_time": "2023-05-28T06:57:21.190Z"
   },
   {
    "duration": 89,
    "start_time": "2023-05-28T06:57:21.255Z"
   },
   {
    "duration": 880,
    "start_time": "2023-05-28T06:57:21.346Z"
   },
   {
    "duration": 945,
    "start_time": "2023-05-28T06:57:22.231Z"
   },
   {
    "duration": 18,
    "start_time": "2023-05-28T06:57:23.178Z"
   },
   {
    "duration": 883,
    "start_time": "2023-05-28T06:57:23.198Z"
   },
   {
    "duration": 12,
    "start_time": "2023-05-28T06:57:24.083Z"
   },
   {
    "duration": 175,
    "start_time": "2023-05-28T06:57:24.097Z"
   },
   {
    "duration": 6,
    "start_time": "2023-05-28T06:57:24.274Z"
   },
   {
    "duration": 34,
    "start_time": "2023-05-28T06:57:24.282Z"
   },
   {
    "duration": 68,
    "start_time": "2023-05-28T06:57:24.318Z"
   },
   {
    "duration": 29,
    "start_time": "2023-05-28T06:57:24.388Z"
   },
   {
    "duration": 31063,
    "start_time": "2023-05-28T07:17:15.598Z"
   },
   {
    "duration": 0,
    "start_time": "2023-05-28T07:27:08.355Z"
   },
   {
    "duration": 295,
    "start_time": "2023-05-28T07:31:24.923Z"
   },
   {
    "duration": 197,
    "start_time": "2023-05-28T07:33:03.116Z"
   },
   {
    "duration": 232,
    "start_time": "2023-05-28T07:33:06.554Z"
   },
   {
    "duration": 247,
    "start_time": "2023-05-28T07:33:31.536Z"
   },
   {
    "duration": 7,
    "start_time": "2023-05-28T07:39:46.023Z"
   },
   {
    "duration": 214,
    "start_time": "2023-05-28T07:40:34.818Z"
   },
   {
    "duration": 85,
    "start_time": "2023-05-28T07:41:12.040Z"
   },
   {
    "duration": 186,
    "start_time": "2023-05-28T07:41:15.686Z"
   },
   {
    "duration": 1101,
    "start_time": "2023-05-28T07:44:41.998Z"
   },
   {
    "duration": 2652,
    "start_time": "2023-05-28T07:45:15.120Z"
   },
   {
    "duration": 1540,
    "start_time": "2023-05-28T07:45:26.716Z"
   },
   {
    "duration": 2670,
    "start_time": "2023-05-28T07:46:08.376Z"
   },
   {
    "duration": 1435,
    "start_time": "2023-05-28T07:47:07.606Z"
   },
   {
    "duration": 2495,
    "start_time": "2023-05-28T07:47:20.170Z"
   },
   {
    "duration": 1191,
    "start_time": "2023-05-28T07:47:55.955Z"
   },
   {
    "duration": 1061,
    "start_time": "2023-05-28T07:48:01.654Z"
   },
   {
    "duration": 2801,
    "start_time": "2023-05-28T07:48:09.711Z"
   },
   {
    "duration": 1185,
    "start_time": "2023-05-28T21:31:00.251Z"
   },
   {
    "duration": 194,
    "start_time": "2023-05-28T21:31:01.438Z"
   },
   {
    "duration": 12,
    "start_time": "2023-05-28T21:31:01.633Z"
   },
   {
    "duration": 27,
    "start_time": "2023-05-28T21:31:01.647Z"
   },
   {
    "duration": 64,
    "start_time": "2023-05-28T21:31:01.676Z"
   },
   {
    "duration": 35,
    "start_time": "2023-05-28T21:31:01.742Z"
   },
   {
    "duration": 29,
    "start_time": "2023-05-28T21:31:01.779Z"
   },
   {
    "duration": 54,
    "start_time": "2023-05-28T21:31:01.810Z"
   },
   {
    "duration": 61,
    "start_time": "2023-05-28T21:31:01.865Z"
   },
   {
    "duration": 12,
    "start_time": "2023-05-28T21:31:01.928Z"
   },
   {
    "duration": 19,
    "start_time": "2023-05-28T21:31:01.941Z"
   },
   {
    "duration": 24,
    "start_time": "2023-05-28T21:31:01.961Z"
   },
   {
    "duration": 17,
    "start_time": "2023-05-28T21:31:01.987Z"
   },
   {
    "duration": 11,
    "start_time": "2023-05-28T21:31:02.005Z"
   },
   {
    "duration": 9,
    "start_time": "2023-05-28T21:31:02.017Z"
   },
   {
    "duration": 24,
    "start_time": "2023-05-28T21:31:02.027Z"
   },
   {
    "duration": 13,
    "start_time": "2023-05-28T21:31:02.052Z"
   },
   {
    "duration": 12,
    "start_time": "2023-05-28T21:31:02.066Z"
   },
   {
    "duration": 29,
    "start_time": "2023-05-28T21:31:02.079Z"
   },
   {
    "duration": 11,
    "start_time": "2023-05-28T21:31:02.110Z"
   },
   {
    "duration": 10,
    "start_time": "2023-05-28T21:31:02.122Z"
   },
   {
    "duration": 10,
    "start_time": "2023-05-28T21:31:02.133Z"
   },
   {
    "duration": 7,
    "start_time": "2023-05-28T21:31:02.145Z"
   },
   {
    "duration": 11,
    "start_time": "2023-05-28T21:31:02.153Z"
   },
   {
    "duration": 10,
    "start_time": "2023-05-28T21:31:02.165Z"
   },
   {
    "duration": 26,
    "start_time": "2023-05-28T21:31:02.176Z"
   },
   {
    "duration": 15,
    "start_time": "2023-05-28T21:31:02.203Z"
   },
   {
    "duration": 5,
    "start_time": "2023-05-28T21:31:02.221Z"
   },
   {
    "duration": 10,
    "start_time": "2023-05-28T21:31:02.227Z"
   },
   {
    "duration": 6,
    "start_time": "2023-05-28T21:31:02.238Z"
   },
   {
    "duration": 9,
    "start_time": "2023-05-28T21:31:02.245Z"
   },
   {
    "duration": 7,
    "start_time": "2023-05-28T21:31:02.255Z"
   },
   {
    "duration": 6,
    "start_time": "2023-05-28T21:31:02.263Z"
   },
   {
    "duration": 11,
    "start_time": "2023-05-28T21:31:02.271Z"
   },
   {
    "duration": 18,
    "start_time": "2023-05-28T21:31:02.283Z"
   },
   {
    "duration": 157,
    "start_time": "2023-05-28T21:31:02.303Z"
   },
   {
    "duration": 15,
    "start_time": "2023-05-28T21:31:02.461Z"
   },
   {
    "duration": 156,
    "start_time": "2023-05-28T21:31:02.477Z"
   },
   {
    "duration": 11,
    "start_time": "2023-05-28T21:31:02.634Z"
   },
   {
    "duration": 8,
    "start_time": "2023-05-28T21:31:02.646Z"
   },
   {
    "duration": 12,
    "start_time": "2023-05-28T21:31:02.655Z"
   },
   {
    "duration": 139,
    "start_time": "2023-05-28T21:31:02.668Z"
   },
   {
    "duration": 57,
    "start_time": "2023-05-28T21:31:02.808Z"
   },
   {
    "duration": 18,
    "start_time": "2023-05-28T21:31:02.867Z"
   },
   {
    "duration": 6,
    "start_time": "2023-05-28T21:31:02.886Z"
   },
   {
    "duration": 160,
    "start_time": "2023-05-28T21:31:02.893Z"
   },
   {
    "duration": 7,
    "start_time": "2023-05-28T21:31:03.054Z"
   },
   {
    "duration": 392,
    "start_time": "2023-05-28T21:31:03.062Z"
   },
   {
    "duration": 7,
    "start_time": "2023-05-28T21:31:03.455Z"
   },
   {
    "duration": 403,
    "start_time": "2023-05-28T21:31:03.463Z"
   },
   {
    "duration": 11,
    "start_time": "2023-05-28T21:31:03.868Z"
   },
   {
    "duration": 11,
    "start_time": "2023-05-28T21:31:03.885Z"
   },
   {
    "duration": 24,
    "start_time": "2023-05-28T21:31:03.898Z"
   },
   {
    "duration": 18,
    "start_time": "2023-05-28T21:31:03.923Z"
   },
   {
    "duration": 42,
    "start_time": "2023-05-28T21:31:03.943Z"
   },
   {
    "duration": 643,
    "start_time": "2023-05-28T21:31:03.987Z"
   },
   {
    "duration": 691,
    "start_time": "2023-05-28T21:31:04.631Z"
   },
   {
    "duration": 14,
    "start_time": "2023-05-28T21:31:05.323Z"
   },
   {
    "duration": 771,
    "start_time": "2023-05-28T21:31:05.339Z"
   },
   {
    "duration": 13,
    "start_time": "2023-05-28T21:31:06.112Z"
   },
   {
    "duration": 154,
    "start_time": "2023-05-28T21:31:06.127Z"
   },
   {
    "duration": 5,
    "start_time": "2023-05-28T21:31:06.283Z"
   },
   {
    "duration": 8,
    "start_time": "2023-05-28T21:31:06.289Z"
   },
   {
    "duration": 10,
    "start_time": "2023-05-28T21:31:06.298Z"
   },
   {
    "duration": 19,
    "start_time": "2023-05-28T21:31:06.309Z"
   },
   {
    "duration": 210,
    "start_time": "2023-05-28T21:31:06.330Z"
   },
   {
    "duration": 145,
    "start_time": "2023-05-28T21:31:06.542Z"
   },
   {
    "duration": 1248,
    "start_time": "2023-05-28T22:35:24.302Z"
   },
   {
    "duration": 91,
    "start_time": "2023-05-28T22:35:25.553Z"
   },
   {
    "duration": 20,
    "start_time": "2023-05-28T22:35:25.646Z"
   },
   {
    "duration": 18,
    "start_time": "2023-05-28T22:35:25.672Z"
   },
   {
    "duration": 20,
    "start_time": "2023-05-28T22:35:25.693Z"
   },
   {
    "duration": 14,
    "start_time": "2023-05-28T22:35:25.715Z"
   },
   {
    "duration": 18,
    "start_time": "2023-05-28T22:35:25.757Z"
   },
   {
    "duration": 12,
    "start_time": "2023-05-28T22:35:25.781Z"
   },
   {
    "duration": 25,
    "start_time": "2023-05-28T22:35:25.795Z"
   },
   {
    "duration": 44,
    "start_time": "2023-05-28T22:35:25.822Z"
   },
   {
    "duration": 8,
    "start_time": "2023-05-28T22:35:25.870Z"
   },
   {
    "duration": 18,
    "start_time": "2023-05-28T22:35:25.879Z"
   },
   {
    "duration": 12,
    "start_time": "2023-05-28T22:35:25.899Z"
   },
   {
    "duration": 5,
    "start_time": "2023-05-28T22:35:25.915Z"
   },
   {
    "duration": 39,
    "start_time": "2023-05-28T22:35:25.921Z"
   },
   {
    "duration": 14,
    "start_time": "2023-05-28T22:35:25.962Z"
   },
   {
    "duration": 19,
    "start_time": "2023-05-28T22:35:25.979Z"
   },
   {
    "duration": 5,
    "start_time": "2023-05-28T22:35:26.000Z"
   },
   {
    "duration": 12,
    "start_time": "2023-05-28T22:35:26.007Z"
   },
   {
    "duration": 40,
    "start_time": "2023-05-28T22:35:26.021Z"
   },
   {
    "duration": 17,
    "start_time": "2023-05-28T22:35:26.063Z"
   },
   {
    "duration": 13,
    "start_time": "2023-05-28T22:35:26.082Z"
   },
   {
    "duration": 15,
    "start_time": "2023-05-28T22:35:26.097Z"
   },
   {
    "duration": 13,
    "start_time": "2023-05-28T22:35:26.114Z"
   },
   {
    "duration": 10,
    "start_time": "2023-05-28T22:35:26.166Z"
   },
   {
    "duration": 13,
    "start_time": "2023-05-28T22:35:26.178Z"
   },
   {
    "duration": 12,
    "start_time": "2023-05-28T22:35:26.193Z"
   },
   {
    "duration": 7,
    "start_time": "2023-05-28T22:35:26.207Z"
   },
   {
    "duration": 56,
    "start_time": "2023-05-28T22:35:26.216Z"
   },
   {
    "duration": 9,
    "start_time": "2023-05-28T22:35:26.274Z"
   },
   {
    "duration": 8,
    "start_time": "2023-05-28T22:35:26.284Z"
   },
   {
    "duration": 10,
    "start_time": "2023-05-28T22:35:26.295Z"
   },
   {
    "duration": 7,
    "start_time": "2023-05-28T22:35:26.307Z"
   },
   {
    "duration": 54,
    "start_time": "2023-05-28T22:35:26.316Z"
   },
   {
    "duration": 67,
    "start_time": "2023-05-28T22:35:26.371Z"
   },
   {
    "duration": 208,
    "start_time": "2023-05-28T22:35:26.440Z"
   },
   {
    "duration": 27,
    "start_time": "2023-05-28T22:35:26.650Z"
   },
   {
    "duration": 221,
    "start_time": "2023-05-28T22:35:26.680Z"
   },
   {
    "duration": 20,
    "start_time": "2023-05-28T22:35:26.903Z"
   },
   {
    "duration": 8,
    "start_time": "2023-05-28T22:35:26.925Z"
   },
   {
    "duration": 15,
    "start_time": "2023-05-28T22:35:26.966Z"
   },
   {
    "duration": 222,
    "start_time": "2023-05-28T22:35:26.984Z"
   },
   {
    "duration": 103,
    "start_time": "2023-05-28T22:35:27.209Z"
   },
   {
    "duration": 6,
    "start_time": "2023-05-28T22:35:27.314Z"
   },
   {
    "duration": 11,
    "start_time": "2023-05-28T22:35:27.322Z"
   },
   {
    "duration": 257,
    "start_time": "2023-05-28T22:35:27.335Z"
   },
   {
    "duration": 10,
    "start_time": "2023-05-28T22:35:27.594Z"
   },
   {
    "duration": 476,
    "start_time": "2023-05-28T22:35:27.606Z"
   },
   {
    "duration": 10,
    "start_time": "2023-05-28T22:35:28.084Z"
   },
   {
    "duration": 492,
    "start_time": "2023-05-28T22:35:28.096Z"
   },
   {
    "duration": 20,
    "start_time": "2023-05-28T22:35:28.589Z"
   },
   {
    "duration": 23,
    "start_time": "2023-05-28T22:35:28.611Z"
   },
   {
    "duration": 57,
    "start_time": "2023-05-28T22:35:28.636Z"
   },
   {
    "duration": 29,
    "start_time": "2023-05-28T22:35:28.695Z"
   },
   {
    "duration": 59,
    "start_time": "2023-05-28T22:35:28.727Z"
   },
   {
    "duration": 774,
    "start_time": "2023-05-28T22:35:28.788Z"
   },
   {
    "duration": 1098,
    "start_time": "2023-05-28T22:35:29.564Z"
   },
   {
    "duration": 28,
    "start_time": "2023-05-28T22:35:30.664Z"
   },
   {
    "duration": 1196,
    "start_time": "2023-05-28T22:35:30.702Z"
   },
   {
    "duration": 16,
    "start_time": "2023-05-28T22:35:31.900Z"
   },
   {
    "duration": 184,
    "start_time": "2023-05-28T22:35:31.918Z"
   },
   {
    "duration": 8,
    "start_time": "2023-05-28T22:35:32.104Z"
   },
   {
    "duration": 25,
    "start_time": "2023-05-28T22:35:32.114Z"
   },
   {
    "duration": 21,
    "start_time": "2023-05-28T22:35:32.143Z"
   },
   {
    "duration": 39,
    "start_time": "2023-05-28T22:35:32.175Z"
   },
   {
    "duration": 307,
    "start_time": "2023-05-28T22:35:32.216Z"
   },
   {
    "duration": 244,
    "start_time": "2023-05-28T22:35:32.525Z"
   },
   {
    "duration": 7,
    "start_time": "2023-05-28T22:41:32.708Z"
   },
   {
    "duration": 16,
    "start_time": "2023-05-28T22:41:35.183Z"
   },
   {
    "duration": 1313,
    "start_time": "2023-05-29T11:38:35.373Z"
   },
   {
    "duration": 206,
    "start_time": "2023-05-29T11:38:36.689Z"
   },
   {
    "duration": 16,
    "start_time": "2023-05-29T11:38:36.898Z"
   },
   {
    "duration": 7,
    "start_time": "2023-05-29T11:38:36.915Z"
   },
   {
    "duration": 16,
    "start_time": "2023-05-29T11:38:36.924Z"
   },
   {
    "duration": 11,
    "start_time": "2023-05-29T11:38:36.942Z"
   },
   {
    "duration": 17,
    "start_time": "2023-05-29T11:38:36.955Z"
   },
   {
    "duration": 20,
    "start_time": "2023-05-29T11:38:36.974Z"
   },
   {
    "duration": 39,
    "start_time": "2023-05-29T11:38:36.996Z"
   },
   {
    "duration": 11,
    "start_time": "2023-05-29T11:38:37.038Z"
   },
   {
    "duration": 7,
    "start_time": "2023-05-29T11:38:37.051Z"
   },
   {
    "duration": 18,
    "start_time": "2023-05-29T11:38:37.060Z"
   },
   {
    "duration": 17,
    "start_time": "2023-05-29T11:38:37.079Z"
   },
   {
    "duration": 29,
    "start_time": "2023-05-29T11:38:37.099Z"
   },
   {
    "duration": 12,
    "start_time": "2023-05-29T11:38:37.130Z"
   },
   {
    "duration": 5,
    "start_time": "2023-05-29T11:38:37.143Z"
   },
   {
    "duration": 10,
    "start_time": "2023-05-29T11:38:37.149Z"
   },
   {
    "duration": 5,
    "start_time": "2023-05-29T11:38:37.160Z"
   },
   {
    "duration": 6,
    "start_time": "2023-05-29T11:38:37.167Z"
   },
   {
    "duration": 3,
    "start_time": "2023-05-29T11:38:37.175Z"
   },
   {
    "duration": 10,
    "start_time": "2023-05-29T11:38:37.180Z"
   },
   {
    "duration": 32,
    "start_time": "2023-05-29T11:38:37.192Z"
   },
   {
    "duration": 9,
    "start_time": "2023-05-29T11:38:37.226Z"
   },
   {
    "duration": 4,
    "start_time": "2023-05-29T11:38:37.237Z"
   },
   {
    "duration": 14,
    "start_time": "2023-05-29T11:38:37.242Z"
   },
   {
    "duration": 7,
    "start_time": "2023-05-29T11:38:37.257Z"
   },
   {
    "duration": 19,
    "start_time": "2023-05-29T11:38:37.265Z"
   },
   {
    "duration": 30,
    "start_time": "2023-05-29T11:38:37.286Z"
   },
   {
    "duration": 12,
    "start_time": "2023-05-29T11:38:37.318Z"
   },
   {
    "duration": 4,
    "start_time": "2023-05-29T11:38:37.332Z"
   },
   {
    "duration": 23,
    "start_time": "2023-05-29T11:38:37.337Z"
   },
   {
    "duration": 16,
    "start_time": "2023-05-29T11:38:37.362Z"
   },
   {
    "duration": 6,
    "start_time": "2023-05-29T11:38:37.380Z"
   },
   {
    "duration": 13,
    "start_time": "2023-05-29T11:38:37.387Z"
   },
   {
    "duration": 22,
    "start_time": "2023-05-29T11:38:37.401Z"
   },
   {
    "duration": 17,
    "start_time": "2023-05-29T11:38:37.424Z"
   },
   {
    "duration": 183,
    "start_time": "2023-05-29T11:38:37.442Z"
   },
   {
    "duration": 15,
    "start_time": "2023-05-29T11:38:37.627Z"
   },
   {
    "duration": 179,
    "start_time": "2023-05-29T11:38:37.644Z"
   },
   {
    "duration": 11,
    "start_time": "2023-05-29T11:38:37.825Z"
   },
   {
    "duration": 7,
    "start_time": "2023-05-29T11:38:37.840Z"
   },
   {
    "duration": 23,
    "start_time": "2023-05-29T11:38:37.849Z"
   },
   {
    "duration": 143,
    "start_time": "2023-05-29T11:38:37.874Z"
   },
   {
    "duration": 63,
    "start_time": "2023-05-29T11:38:38.019Z"
   },
   {
    "duration": 5,
    "start_time": "2023-05-29T11:38:38.084Z"
   },
   {
    "duration": 28,
    "start_time": "2023-05-29T11:38:38.090Z"
   },
   {
    "duration": 172,
    "start_time": "2023-05-29T11:38:38.120Z"
   },
   {
    "duration": 7,
    "start_time": "2023-05-29T11:38:38.294Z"
   },
   {
    "duration": 385,
    "start_time": "2023-05-29T11:38:38.303Z"
   },
   {
    "duration": 8,
    "start_time": "2023-05-29T11:38:38.689Z"
   },
   {
    "duration": 387,
    "start_time": "2023-05-29T11:38:38.698Z"
   },
   {
    "duration": 12,
    "start_time": "2023-05-29T11:38:39.087Z"
   },
   {
    "duration": 19,
    "start_time": "2023-05-29T11:38:39.100Z"
   },
   {
    "duration": 20,
    "start_time": "2023-05-29T11:38:39.120Z"
   },
   {
    "duration": 19,
    "start_time": "2023-05-29T11:38:39.142Z"
   },
   {
    "duration": 15,
    "start_time": "2023-05-29T11:38:39.162Z"
   },
   {
    "duration": 673,
    "start_time": "2023-05-29T11:38:39.179Z"
   },
   {
    "duration": 1087,
    "start_time": "2023-05-29T11:38:39.854Z"
   },
   {
    "duration": 15,
    "start_time": "2023-05-29T11:38:40.942Z"
   },
   {
    "duration": 1140,
    "start_time": "2023-05-29T11:38:40.958Z"
   },
   {
    "duration": 24,
    "start_time": "2023-05-29T11:38:42.100Z"
   },
   {
    "duration": 138,
    "start_time": "2023-05-29T11:38:42.125Z"
   },
   {
    "duration": 5,
    "start_time": "2023-05-29T11:38:42.265Z"
   },
   {
    "duration": 9,
    "start_time": "2023-05-29T11:38:42.272Z"
   },
   {
    "duration": 28,
    "start_time": "2023-05-29T11:38:42.282Z"
   },
   {
    "duration": 18,
    "start_time": "2023-05-29T11:38:42.311Z"
   },
   {
    "duration": 229,
    "start_time": "2023-05-29T11:38:42.330Z"
   },
   {
    "duration": 161,
    "start_time": "2023-05-29T11:38:42.560Z"
   },
   {
    "duration": 15,
    "start_time": "2023-05-29T11:38:47.516Z"
   },
   {
    "duration": 14,
    "start_time": "2023-05-29T11:42:09.828Z"
   },
   {
    "duration": 7,
    "start_time": "2023-05-29T11:45:27.576Z"
   },
   {
    "duration": 185,
    "start_time": "2023-05-29T11:50:37.095Z"
   },
   {
    "duration": 175,
    "start_time": "2023-05-29T11:51:43.684Z"
   },
   {
    "duration": 227,
    "start_time": "2023-05-29T11:51:49.822Z"
   },
   {
    "duration": 237,
    "start_time": "2023-05-29T11:53:32.402Z"
   },
   {
    "duration": 119,
    "start_time": "2023-05-29T11:54:05.655Z"
   },
   {
    "duration": 118,
    "start_time": "2023-05-29T11:54:39.409Z"
   },
   {
    "duration": 186,
    "start_time": "2023-05-29T11:56:50.384Z"
   },
   {
    "duration": 112,
    "start_time": "2023-05-29T11:56:55.635Z"
   },
   {
    "duration": 103,
    "start_time": "2023-05-29T11:57:02.705Z"
   },
   {
    "duration": 111,
    "start_time": "2023-05-29T11:59:07.740Z"
   },
   {
    "duration": 106,
    "start_time": "2023-05-29T11:59:33.890Z"
   },
   {
    "duration": 107,
    "start_time": "2023-05-29T11:59:38.848Z"
   },
   {
    "duration": 119,
    "start_time": "2023-05-29T11:59:42.432Z"
   },
   {
    "duration": 113,
    "start_time": "2023-05-29T12:00:51.552Z"
   },
   {
    "duration": 181,
    "start_time": "2023-05-29T12:01:59.901Z"
   },
   {
    "duration": 184,
    "start_time": "2023-05-29T12:02:19.987Z"
   },
   {
    "duration": 185,
    "start_time": "2023-05-29T12:02:28.174Z"
   },
   {
    "duration": 161,
    "start_time": "2023-05-29T12:02:33.710Z"
   },
   {
    "duration": 131,
    "start_time": "2023-05-29T12:02:38.724Z"
   },
   {
    "duration": 147,
    "start_time": "2023-05-29T12:02:59.015Z"
   },
   {
    "duration": 123,
    "start_time": "2023-05-29T12:03:36.640Z"
   },
   {
    "duration": 183,
    "start_time": "2023-05-29T12:04:15.184Z"
   },
   {
    "duration": 146,
    "start_time": "2023-05-29T12:04:19.705Z"
   },
   {
    "duration": 143,
    "start_time": "2023-05-29T12:04:29.746Z"
   },
   {
    "duration": 4,
    "start_time": "2023-05-29T12:07:22.757Z"
   },
   {
    "duration": 4,
    "start_time": "2023-05-29T12:08:11.388Z"
   },
   {
    "duration": 5,
    "start_time": "2023-05-29T12:09:15.483Z"
   },
   {
    "duration": 81,
    "start_time": "2023-05-29T12:09:24.243Z"
   },
   {
    "duration": 149,
    "start_time": "2023-05-29T12:09:47.553Z"
   },
   {
    "duration": 7,
    "start_time": "2023-05-29T12:10:37.792Z"
   },
   {
    "duration": 6,
    "start_time": "2023-05-29T12:10:56.344Z"
   },
   {
    "duration": 5,
    "start_time": "2023-05-29T12:12:07.189Z"
   },
   {
    "duration": 6,
    "start_time": "2023-05-29T12:12:34.689Z"
   },
   {
    "duration": 103,
    "start_time": "2023-05-29T12:12:39.340Z"
   },
   {
    "duration": 5,
    "start_time": "2023-05-29T12:12:51.648Z"
   },
   {
    "duration": 6,
    "start_time": "2023-05-29T12:12:54.352Z"
   },
   {
    "duration": 91,
    "start_time": "2023-05-29T12:13:48.812Z"
   },
   {
    "duration": 5,
    "start_time": "2023-05-29T12:13:56.294Z"
   },
   {
    "duration": 7,
    "start_time": "2023-05-29T12:14:57.157Z"
   },
   {
    "duration": 7,
    "start_time": "2023-05-29T12:16:56.340Z"
   },
   {
    "duration": 8,
    "start_time": "2023-05-29T12:17:01.647Z"
   },
   {
    "duration": 5,
    "start_time": "2023-05-29T12:17:04.443Z"
   },
   {
    "duration": 5,
    "start_time": "2023-05-29T12:22:42.085Z"
   },
   {
    "duration": 6,
    "start_time": "2023-05-29T12:22:49.991Z"
   },
   {
    "duration": 6,
    "start_time": "2023-05-29T12:24:18.221Z"
   },
   {
    "duration": 5,
    "start_time": "2023-05-29T12:24:39.049Z"
   },
   {
    "duration": 7,
    "start_time": "2023-05-29T12:24:55.327Z"
   },
   {
    "duration": 5,
    "start_time": "2023-05-29T12:27:09.038Z"
   },
   {
    "duration": 5,
    "start_time": "2023-05-29T12:28:12.931Z"
   },
   {
    "duration": 5,
    "start_time": "2023-05-29T12:29:07.997Z"
   },
   {
    "duration": 96,
    "start_time": "2023-05-29T12:29:41.902Z"
   },
   {
    "duration": 8,
    "start_time": "2023-05-29T13:03:19.106Z"
   },
   {
    "duration": 14,
    "start_time": "2023-05-29T13:03:23.599Z"
   },
   {
    "duration": 1201,
    "start_time": "2023-05-29T13:03:31.364Z"
   },
   {
    "duration": 87,
    "start_time": "2023-05-29T13:03:32.566Z"
   },
   {
    "duration": 11,
    "start_time": "2023-05-29T13:03:32.654Z"
   },
   {
    "duration": 14,
    "start_time": "2023-05-29T13:03:32.667Z"
   },
   {
    "duration": 19,
    "start_time": "2023-05-29T13:03:32.682Z"
   },
   {
    "duration": 10,
    "start_time": "2023-05-29T13:03:32.703Z"
   },
   {
    "duration": 40,
    "start_time": "2023-05-29T13:03:32.715Z"
   },
   {
    "duration": 25,
    "start_time": "2023-05-29T13:03:32.756Z"
   },
   {
    "duration": 19,
    "start_time": "2023-05-29T13:03:32.783Z"
   },
   {
    "duration": 9,
    "start_time": "2023-05-29T13:03:32.805Z"
   },
   {
    "duration": 17,
    "start_time": "2023-05-29T13:03:32.815Z"
   },
   {
    "duration": 40,
    "start_time": "2023-05-29T13:03:32.837Z"
   },
   {
    "duration": 18,
    "start_time": "2023-05-29T13:03:32.879Z"
   },
   {
    "duration": 16,
    "start_time": "2023-05-29T13:03:32.898Z"
   },
   {
    "duration": 47,
    "start_time": "2023-05-29T13:03:32.916Z"
   },
   {
    "duration": 7,
    "start_time": "2023-05-29T13:03:32.965Z"
   },
   {
    "duration": 15,
    "start_time": "2023-05-29T13:03:32.973Z"
   },
   {
    "duration": 14,
    "start_time": "2023-05-29T13:03:32.989Z"
   },
   {
    "duration": 10,
    "start_time": "2023-05-29T13:03:33.005Z"
   },
   {
    "duration": 53,
    "start_time": "2023-05-29T13:03:33.023Z"
   },
   {
    "duration": 37,
    "start_time": "2023-05-29T13:03:33.078Z"
   },
   {
    "duration": 47,
    "start_time": "2023-05-29T13:03:33.117Z"
   },
   {
    "duration": 26,
    "start_time": "2023-05-29T13:03:33.166Z"
   },
   {
    "duration": 10,
    "start_time": "2023-05-29T13:03:33.194Z"
   },
   {
    "duration": 48,
    "start_time": "2023-05-29T13:03:33.206Z"
   },
   {
    "duration": 44,
    "start_time": "2023-05-29T13:03:33.255Z"
   },
   {
    "duration": 21,
    "start_time": "2023-05-29T13:03:33.300Z"
   },
   {
    "duration": 27,
    "start_time": "2023-05-29T13:03:33.328Z"
   },
   {
    "duration": 33,
    "start_time": "2023-05-29T13:03:33.356Z"
   },
   {
    "duration": 12,
    "start_time": "2023-05-29T13:03:33.391Z"
   },
   {
    "duration": 19,
    "start_time": "2023-05-29T13:03:33.405Z"
   },
   {
    "duration": 24,
    "start_time": "2023-05-29T13:03:33.435Z"
   },
   {
    "duration": 14,
    "start_time": "2023-05-29T13:03:33.461Z"
   },
   {
    "duration": 18,
    "start_time": "2023-05-29T13:03:33.477Z"
   },
   {
    "duration": 16,
    "start_time": "2023-05-29T13:03:33.497Z"
   },
   {
    "duration": 65,
    "start_time": "2023-05-29T13:03:33.515Z"
   },
   {
    "duration": 22,
    "start_time": "2023-05-29T13:03:33.582Z"
   },
   {
    "duration": 323,
    "start_time": "2023-05-29T13:03:33.606Z"
   },
   {
    "duration": 31,
    "start_time": "2023-05-29T13:03:33.930Z"
   },
   {
    "duration": 383,
    "start_time": "2023-05-29T13:03:33.963Z"
   },
   {
    "duration": 12,
    "start_time": "2023-05-29T13:03:34.348Z"
   },
   {
    "duration": 10,
    "start_time": "2023-05-29T13:03:34.361Z"
   },
   {
    "duration": 16,
    "start_time": "2023-05-29T13:03:34.373Z"
   },
   {
    "duration": 174,
    "start_time": "2023-05-29T13:03:34.391Z"
   },
   {
    "duration": 97,
    "start_time": "2023-05-29T13:03:34.566Z"
   },
   {
    "duration": 7,
    "start_time": "2023-05-29T13:03:34.664Z"
   },
   {
    "duration": 27,
    "start_time": "2023-05-29T13:03:34.672Z"
   },
   {
    "duration": 191,
    "start_time": "2023-05-29T13:03:34.701Z"
   },
   {
    "duration": 138,
    "start_time": "2023-05-29T13:03:34.895Z"
   },
   {
    "duration": 13,
    "start_time": "2023-05-29T13:03:35.034Z"
   },
   {
    "duration": 529,
    "start_time": "2023-05-29T13:03:35.049Z"
   },
   {
    "duration": 155,
    "start_time": "2023-05-29T13:03:35.580Z"
   },
   {
    "duration": 9,
    "start_time": "2023-05-29T13:03:35.736Z"
   },
   {
    "duration": 402,
    "start_time": "2023-05-29T13:03:35.747Z"
   },
   {
    "duration": 211,
    "start_time": "2023-05-29T13:03:36.151Z"
   },
   {
    "duration": 12,
    "start_time": "2023-05-29T13:03:36.363Z"
   },
   {
    "duration": 6,
    "start_time": "2023-05-29T13:03:36.377Z"
   },
   {
    "duration": 47,
    "start_time": "2023-05-29T13:03:36.384Z"
   },
   {
    "duration": 14,
    "start_time": "2023-05-29T13:03:36.442Z"
   },
   {
    "duration": 24,
    "start_time": "2023-05-29T13:03:36.458Z"
   },
   {
    "duration": 4,
    "start_time": "2023-05-29T13:03:36.483Z"
   },
   {
    "duration": 40,
    "start_time": "2023-05-29T13:03:36.489Z"
   },
   {
    "duration": 23,
    "start_time": "2023-05-29T13:03:36.530Z"
   },
   {
    "duration": 701,
    "start_time": "2023-05-29T13:03:36.555Z"
   },
   {
    "duration": 740,
    "start_time": "2023-05-29T13:03:37.258Z"
   },
   {
    "duration": 33,
    "start_time": "2023-05-29T13:03:38.000Z"
   },
   {
    "duration": 891,
    "start_time": "2023-05-29T13:03:38.034Z"
   },
   {
    "duration": 19,
    "start_time": "2023-05-29T13:03:38.926Z"
   },
   {
    "duration": 202,
    "start_time": "2023-05-29T13:03:38.951Z"
   },
   {
    "duration": 6,
    "start_time": "2023-05-29T13:03:39.158Z"
   },
   {
    "duration": 8,
    "start_time": "2023-05-29T13:03:39.166Z"
   },
   {
    "duration": 23,
    "start_time": "2023-05-29T13:03:39.176Z"
   },
   {
    "duration": 51,
    "start_time": "2023-05-29T13:03:39.201Z"
   },
   {
    "duration": 234,
    "start_time": "2023-05-29T13:03:39.256Z"
   },
   {
    "duration": 162,
    "start_time": "2023-05-29T13:03:39.491Z"
   },
   {
    "duration": 21,
    "start_time": "2023-05-29T13:03:39.654Z"
   },
   {
    "duration": 7,
    "start_time": "2023-05-29T13:04:04.607Z"
   },
   {
    "duration": 6,
    "start_time": "2023-05-29T13:04:08.148Z"
   },
   {
    "duration": 4,
    "start_time": "2023-05-29T13:05:11.248Z"
   },
   {
    "duration": 1171,
    "start_time": "2023-05-29T19:55:01.126Z"
   },
   {
    "duration": 198,
    "start_time": "2023-05-29T19:55:02.299Z"
   },
   {
    "duration": 13,
    "start_time": "2023-05-29T19:55:02.499Z"
   },
   {
    "duration": 24,
    "start_time": "2023-05-29T19:55:02.513Z"
   },
   {
    "duration": 55,
    "start_time": "2023-05-29T19:55:02.539Z"
   },
   {
    "duration": 11,
    "start_time": "2023-05-29T19:55:02.596Z"
   },
   {
    "duration": 23,
    "start_time": "2023-05-29T19:55:02.609Z"
   },
   {
    "duration": 10,
    "start_time": "2023-05-29T19:55:02.634Z"
   },
   {
    "duration": 28,
    "start_time": "2023-05-29T19:55:02.645Z"
   },
   {
    "duration": 12,
    "start_time": "2023-05-29T19:55:02.674Z"
   },
   {
    "duration": 15,
    "start_time": "2023-05-29T19:55:02.688Z"
   },
   {
    "duration": 10,
    "start_time": "2023-05-29T19:55:02.705Z"
   },
   {
    "duration": 16,
    "start_time": "2023-05-29T19:55:02.717Z"
   },
   {
    "duration": 4,
    "start_time": "2023-05-29T19:55:02.737Z"
   },
   {
    "duration": 15,
    "start_time": "2023-05-29T19:55:02.743Z"
   },
   {
    "duration": 13,
    "start_time": "2023-05-29T19:55:02.760Z"
   },
   {
    "duration": 24,
    "start_time": "2023-05-29T19:55:02.774Z"
   },
   {
    "duration": 5,
    "start_time": "2023-05-29T19:55:02.800Z"
   },
   {
    "duration": 16,
    "start_time": "2023-05-29T19:55:02.807Z"
   },
   {
    "duration": 5,
    "start_time": "2023-05-29T19:55:02.825Z"
   },
   {
    "duration": 10,
    "start_time": "2023-05-29T19:55:02.831Z"
   },
   {
    "duration": 13,
    "start_time": "2023-05-29T19:55:02.843Z"
   },
   {
    "duration": 41,
    "start_time": "2023-05-29T19:55:02.858Z"
   },
   {
    "duration": 4,
    "start_time": "2023-05-29T19:55:02.901Z"
   },
   {
    "duration": 16,
    "start_time": "2023-05-29T19:55:02.907Z"
   },
   {
    "duration": 6,
    "start_time": "2023-05-29T19:55:02.925Z"
   },
   {
    "duration": 14,
    "start_time": "2023-05-29T19:55:02.933Z"
   },
   {
    "duration": 11,
    "start_time": "2023-05-29T19:55:02.949Z"
   },
   {
    "duration": 20,
    "start_time": "2023-05-29T19:55:02.962Z"
   },
   {
    "duration": 15,
    "start_time": "2023-05-29T19:55:02.983Z"
   },
   {
    "duration": 8,
    "start_time": "2023-05-29T19:55:02.999Z"
   },
   {
    "duration": 6,
    "start_time": "2023-05-29T19:55:03.008Z"
   },
   {
    "duration": 11,
    "start_time": "2023-05-29T19:55:03.016Z"
   },
   {
    "duration": 13,
    "start_time": "2023-05-29T19:55:03.028Z"
   },
   {
    "duration": 15,
    "start_time": "2023-05-29T19:55:03.043Z"
   },
   {
    "duration": 38,
    "start_time": "2023-05-29T19:55:03.060Z"
   },
   {
    "duration": 14,
    "start_time": "2023-05-29T19:55:03.100Z"
   },
   {
    "duration": 212,
    "start_time": "2023-05-29T19:55:03.116Z"
   },
   {
    "duration": 16,
    "start_time": "2023-05-29T19:55:03.330Z"
   },
   {
    "duration": 198,
    "start_time": "2023-05-29T19:55:03.348Z"
   },
   {
    "duration": 12,
    "start_time": "2023-05-29T19:55:03.550Z"
   },
   {
    "duration": 10,
    "start_time": "2023-05-29T19:55:03.563Z"
   },
   {
    "duration": 27,
    "start_time": "2023-05-29T19:55:03.574Z"
   },
   {
    "duration": 139,
    "start_time": "2023-05-29T19:55:03.603Z"
   },
   {
    "duration": 74,
    "start_time": "2023-05-29T19:55:03.744Z"
   },
   {
    "duration": 5,
    "start_time": "2023-05-29T19:55:03.820Z"
   },
   {
    "duration": 16,
    "start_time": "2023-05-29T19:55:03.826Z"
   },
   {
    "duration": 193,
    "start_time": "2023-05-29T19:55:03.843Z"
   },
   {
    "duration": 122,
    "start_time": "2023-05-29T19:55:04.037Z"
   },
   {
    "duration": 8,
    "start_time": "2023-05-29T19:55:04.161Z"
   },
   {
    "duration": 456,
    "start_time": "2023-05-29T19:55:04.170Z"
   },
   {
    "duration": 155,
    "start_time": "2023-05-29T19:55:04.628Z"
   },
   {
    "duration": 14,
    "start_time": "2023-05-29T19:55:04.784Z"
   },
   {
    "duration": 492,
    "start_time": "2023-05-29T19:55:04.799Z"
   },
   {
    "duration": 227,
    "start_time": "2023-05-29T19:55:05.292Z"
   },
   {
    "duration": 11,
    "start_time": "2023-05-29T19:55:05.520Z"
   },
   {
    "duration": 12,
    "start_time": "2023-05-29T19:55:05.533Z"
   },
   {
    "duration": 22,
    "start_time": "2023-05-29T19:55:05.547Z"
   },
   {
    "duration": 8,
    "start_time": "2023-05-29T19:55:05.570Z"
   },
   {
    "duration": 30,
    "start_time": "2023-05-29T19:55:05.579Z"
   },
   {
    "duration": 3,
    "start_time": "2023-05-29T19:55:05.611Z"
   },
   {
    "duration": 31,
    "start_time": "2023-05-29T19:55:05.616Z"
   },
   {
    "duration": 16,
    "start_time": "2023-05-29T19:55:05.649Z"
   },
   {
    "duration": 810,
    "start_time": "2023-05-29T19:55:05.667Z"
   },
   {
    "duration": 698,
    "start_time": "2023-05-29T19:55:06.479Z"
   },
   {
    "duration": 23,
    "start_time": "2023-05-29T19:55:07.178Z"
   },
   {
    "duration": 780,
    "start_time": "2023-05-29T19:55:07.203Z"
   },
   {
    "duration": 15,
    "start_time": "2023-05-29T19:55:07.984Z"
   },
   {
    "duration": 144,
    "start_time": "2023-05-29T19:55:08.000Z"
   },
   {
    "duration": 7,
    "start_time": "2023-05-29T19:55:08.147Z"
   },
   {
    "duration": 11,
    "start_time": "2023-05-29T19:55:08.156Z"
   },
   {
    "duration": 9,
    "start_time": "2023-05-29T19:55:08.169Z"
   },
   {
    "duration": 21,
    "start_time": "2023-05-29T19:55:08.179Z"
   },
   {
    "duration": 285,
    "start_time": "2023-05-29T19:55:08.201Z"
   },
   {
    "duration": 183,
    "start_time": "2023-05-29T19:55:08.488Z"
   }
  ],
  "kernelspec": {
   "display_name": "Python 3 (ipykernel)",
   "language": "python",
   "name": "python3"
  },
  "language_info": {
   "codemirror_mode": {
    "name": "ipython",
    "version": 3
   },
   "file_extension": ".py",
   "mimetype": "text/x-python",
   "name": "python",
   "nbconvert_exporter": "python",
   "pygments_lexer": "ipython3",
   "version": "3.9.5"
  },
  "toc": {
   "base_numbering": 1,
   "nav_menu": {},
   "number_sections": true,
   "sideBar": true,
   "skip_h1_title": true,
   "title_cell": "Table of Contents",
   "title_sidebar": "Contents",
   "toc_cell": false,
   "toc_position": {
    "height": "calc(100% - 180px)",
    "left": "10px",
    "top": "150px",
    "width": "165px"
   },
   "toc_section_display": true,
   "toc_window_display": true
  }
 },
 "nbformat": 4,
 "nbformat_minor": 5
}
