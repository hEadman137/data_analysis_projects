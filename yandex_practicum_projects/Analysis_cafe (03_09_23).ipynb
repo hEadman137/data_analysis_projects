{
 "cells": [
  {
   "cell_type": "markdown",
   "metadata": {},
   "source": [
    "# Анализ рынка заведений общественного питания Москвы"
   ]
  },
  {
   "cell_type": "markdown",
   "metadata": {},
   "source": [
    "## Загрузка данных и подготовка их к анализу."
   ]
  },
  {
   "cell_type": "markdown",
   "metadata": {},
   "source": [
    "### Импортируем нужные модули."
   ]
  },
  {
   "cell_type": "code",
   "execution_count": null,
   "metadata": {},
   "outputs": [],
   "source": [
    "import pandas as pd\n",
    "import os\n",
    "import numpy as np\n",
    "from datetime import datetime, timedelta\n",
    "import seaborn as sns\n",
    "from matplotlib import pyplot as plt\n",
    "import matplotlib.pyplot as plt\n",
    "import scipy.stats as stats\n",
    "import math as mth\n",
    "import warnings\n",
    "warnings.filterwarnings('ignore')\n",
    "import plotly.express as px"
   ]
  },
  {
   "cell_type": "markdown",
   "metadata": {},
   "source": [
    "### Загрузим данные."
   ]
  },
  {
   "cell_type": "code",
   "execution_count": null,
   "metadata": {},
   "outputs": [],
   "source": [
    "path = '/datasets/moscow_places.csv'\n",
    "\n",
    "if os.path.exists(path):\n",
    "    data = pd.read_csv(path)\n",
    "else:\n",
    "    print('Something is wrong')"
   ]
  },
  {
   "cell_type": "code",
   "execution_count": null,
   "metadata": {},
   "outputs": [
    {
     "data": {
      "text/html": [
       "<div>\n",
       "<style scoped>\n",
       "    .dataframe tbody tr th:only-of-type {\n",
       "        vertical-align: middle;\n",
       "    }\n",
       "\n",
       "    .dataframe tbody tr th {\n",
       "        vertical-align: top;\n",
       "    }\n",
       "\n",
       "    .dataframe thead th {\n",
       "        text-align: right;\n",
       "    }\n",
       "</style>\n",
       "<table border=\"1\" class=\"dataframe\">\n",
       "  <thead>\n",
       "    <tr style=\"text-align: right;\">\n",
       "      <th></th>\n",
       "      <th>name</th>\n",
       "      <th>category</th>\n",
       "      <th>address</th>\n",
       "      <th>district</th>\n",
       "      <th>hours</th>\n",
       "      <th>lat</th>\n",
       "      <th>lng</th>\n",
       "      <th>rating</th>\n",
       "      <th>price</th>\n",
       "      <th>avg_bill</th>\n",
       "      <th>middle_avg_bill</th>\n",
       "      <th>middle_coffee_cup</th>\n",
       "      <th>chain</th>\n",
       "      <th>seats</th>\n",
       "    </tr>\n",
       "  </thead>\n",
       "  <tbody>\n",
       "    <tr>\n",
       "      <th>0</th>\n",
       "      <td>WoWфли</td>\n",
       "      <td>кафе</td>\n",
       "      <td>Москва, улица Дыбенко, 7/1</td>\n",
       "      <td>Северный административный округ</td>\n",
       "      <td>ежедневно, 10:00–22:00</td>\n",
       "      <td>55.878494</td>\n",
       "      <td>37.478860</td>\n",
       "      <td>5.0</td>\n",
       "      <td>NaN</td>\n",
       "      <td>NaN</td>\n",
       "      <td>NaN</td>\n",
       "      <td>NaN</td>\n",
       "      <td>0</td>\n",
       "      <td>NaN</td>\n",
       "    </tr>\n",
       "    <tr>\n",
       "      <th>1</th>\n",
       "      <td>Четыре комнаты</td>\n",
       "      <td>ресторан</td>\n",
       "      <td>Москва, улица Дыбенко, 36, корп. 1</td>\n",
       "      <td>Северный административный округ</td>\n",
       "      <td>ежедневно, 10:00–22:00</td>\n",
       "      <td>55.875801</td>\n",
       "      <td>37.484479</td>\n",
       "      <td>4.5</td>\n",
       "      <td>выше среднего</td>\n",
       "      <td>Средний счёт:1500–1600 ₽</td>\n",
       "      <td>1550.0</td>\n",
       "      <td>NaN</td>\n",
       "      <td>0</td>\n",
       "      <td>4.0</td>\n",
       "    </tr>\n",
       "    <tr>\n",
       "      <th>2</th>\n",
       "      <td>Хазри</td>\n",
       "      <td>кафе</td>\n",
       "      <td>Москва, Клязьминская улица, 15</td>\n",
       "      <td>Северный административный округ</td>\n",
       "      <td>пн-чт 11:00–02:00; пт,сб 11:00–05:00; вс 11:00...</td>\n",
       "      <td>55.889146</td>\n",
       "      <td>37.525901</td>\n",
       "      <td>4.6</td>\n",
       "      <td>средние</td>\n",
       "      <td>Средний счёт:от 1000 ₽</td>\n",
       "      <td>1000.0</td>\n",
       "      <td>NaN</td>\n",
       "      <td>0</td>\n",
       "      <td>45.0</td>\n",
       "    </tr>\n",
       "    <tr>\n",
       "      <th>3</th>\n",
       "      <td>Dormouse Coffee Shop</td>\n",
       "      <td>кофейня</td>\n",
       "      <td>Москва, улица Маршала Федоренко, 12</td>\n",
       "      <td>Северный административный округ</td>\n",
       "      <td>ежедневно, 09:00–22:00</td>\n",
       "      <td>55.881608</td>\n",
       "      <td>37.488860</td>\n",
       "      <td>5.0</td>\n",
       "      <td>NaN</td>\n",
       "      <td>Цена чашки капучино:155–185 ₽</td>\n",
       "      <td>NaN</td>\n",
       "      <td>170.0</td>\n",
       "      <td>0</td>\n",
       "      <td>NaN</td>\n",
       "    </tr>\n",
       "    <tr>\n",
       "      <th>4</th>\n",
       "      <td>Иль Марко</td>\n",
       "      <td>пиццерия</td>\n",
       "      <td>Москва, Правобережная улица, 1Б</td>\n",
       "      <td>Северный административный округ</td>\n",
       "      <td>ежедневно, 10:00–22:00</td>\n",
       "      <td>55.881166</td>\n",
       "      <td>37.449357</td>\n",
       "      <td>5.0</td>\n",
       "      <td>средние</td>\n",
       "      <td>Средний счёт:400–600 ₽</td>\n",
       "      <td>500.0</td>\n",
       "      <td>NaN</td>\n",
       "      <td>1</td>\n",
       "      <td>148.0</td>\n",
       "    </tr>\n",
       "    <tr>\n",
       "      <th>...</th>\n",
       "      <td>...</td>\n",
       "      <td>...</td>\n",
       "      <td>...</td>\n",
       "      <td>...</td>\n",
       "      <td>...</td>\n",
       "      <td>...</td>\n",
       "      <td>...</td>\n",
       "      <td>...</td>\n",
       "      <td>...</td>\n",
       "      <td>...</td>\n",
       "      <td>...</td>\n",
       "      <td>...</td>\n",
       "      <td>...</td>\n",
       "      <td>...</td>\n",
       "    </tr>\n",
       "    <tr>\n",
       "      <th>8401</th>\n",
       "      <td>Суши Мания</td>\n",
       "      <td>кафе</td>\n",
       "      <td>Москва, Профсоюзная улица, 56</td>\n",
       "      <td>Юго-Западный административный округ</td>\n",
       "      <td>ежедневно, 09:00–02:00</td>\n",
       "      <td>55.670021</td>\n",
       "      <td>37.552480</td>\n",
       "      <td>4.4</td>\n",
       "      <td>NaN</td>\n",
       "      <td>NaN</td>\n",
       "      <td>NaN</td>\n",
       "      <td>NaN</td>\n",
       "      <td>0</td>\n",
       "      <td>86.0</td>\n",
       "    </tr>\n",
       "    <tr>\n",
       "      <th>8402</th>\n",
       "      <td>Миславнес</td>\n",
       "      <td>кафе</td>\n",
       "      <td>Москва, Пролетарский проспект, 19, корп. 1</td>\n",
       "      <td>Южный административный округ</td>\n",
       "      <td>ежедневно, 08:00–22:00</td>\n",
       "      <td>55.640875</td>\n",
       "      <td>37.656553</td>\n",
       "      <td>4.8</td>\n",
       "      <td>NaN</td>\n",
       "      <td>NaN</td>\n",
       "      <td>NaN</td>\n",
       "      <td>NaN</td>\n",
       "      <td>0</td>\n",
       "      <td>150.0</td>\n",
       "    </tr>\n",
       "    <tr>\n",
       "      <th>8403</th>\n",
       "      <td>Самовар</td>\n",
       "      <td>кафе</td>\n",
       "      <td>Москва, Люблинская улица, 112А, стр. 1</td>\n",
       "      <td>Юго-Восточный административный округ</td>\n",
       "      <td>ежедневно, круглосуточно</td>\n",
       "      <td>55.648859</td>\n",
       "      <td>37.743219</td>\n",
       "      <td>3.9</td>\n",
       "      <td>NaN</td>\n",
       "      <td>Средний счёт:от 150 ₽</td>\n",
       "      <td>150.0</td>\n",
       "      <td>NaN</td>\n",
       "      <td>0</td>\n",
       "      <td>150.0</td>\n",
       "    </tr>\n",
       "    <tr>\n",
       "      <th>8404</th>\n",
       "      <td>Чайхана Sabr</td>\n",
       "      <td>кафе</td>\n",
       "      <td>Москва, Люблинская улица, 112А, стр. 1</td>\n",
       "      <td>Юго-Восточный административный округ</td>\n",
       "      <td>ежедневно, круглосуточно</td>\n",
       "      <td>55.648849</td>\n",
       "      <td>37.743222</td>\n",
       "      <td>4.2</td>\n",
       "      <td>NaN</td>\n",
       "      <td>NaN</td>\n",
       "      <td>NaN</td>\n",
       "      <td>NaN</td>\n",
       "      <td>1</td>\n",
       "      <td>150.0</td>\n",
       "    </tr>\n",
       "    <tr>\n",
       "      <th>8405</th>\n",
       "      <td>Kebab Time</td>\n",
       "      <td>кафе</td>\n",
       "      <td>Москва, Россошанский проезд, 6</td>\n",
       "      <td>Южный административный округ</td>\n",
       "      <td>ежедневно, круглосуточно</td>\n",
       "      <td>55.598229</td>\n",
       "      <td>37.604702</td>\n",
       "      <td>3.9</td>\n",
       "      <td>NaN</td>\n",
       "      <td>NaN</td>\n",
       "      <td>NaN</td>\n",
       "      <td>NaN</td>\n",
       "      <td>0</td>\n",
       "      <td>12.0</td>\n",
       "    </tr>\n",
       "  </tbody>\n",
       "</table>\n",
       "<p>8406 rows × 14 columns</p>\n",
       "</div>"
      ],
      "text/plain": [
       "                      name  category  \\\n",
       "0                   WoWфли      кафе   \n",
       "1           Четыре комнаты  ресторан   \n",
       "2                    Хазри      кафе   \n",
       "3     Dormouse Coffee Shop   кофейня   \n",
       "4                Иль Марко  пиццерия   \n",
       "...                    ...       ...   \n",
       "8401            Суши Мания      кафе   \n",
       "8402             Миславнес      кафе   \n",
       "8403               Самовар      кафе   \n",
       "8404          Чайхана Sabr      кафе   \n",
       "8405            Kebab Time      кафе   \n",
       "\n",
       "                                         address  \\\n",
       "0                     Москва, улица Дыбенко, 7/1   \n",
       "1             Москва, улица Дыбенко, 36, корп. 1   \n",
       "2                 Москва, Клязьминская улица, 15   \n",
       "3            Москва, улица Маршала Федоренко, 12   \n",
       "4                Москва, Правобережная улица, 1Б   \n",
       "...                                          ...   \n",
       "8401               Москва, Профсоюзная улица, 56   \n",
       "8402  Москва, Пролетарский проспект, 19, корп. 1   \n",
       "8403      Москва, Люблинская улица, 112А, стр. 1   \n",
       "8404      Москва, Люблинская улица, 112А, стр. 1   \n",
       "8405              Москва, Россошанский проезд, 6   \n",
       "\n",
       "                                  district  \\\n",
       "0          Северный административный округ   \n",
       "1          Северный административный округ   \n",
       "2          Северный административный округ   \n",
       "3          Северный административный округ   \n",
       "4          Северный административный округ   \n",
       "...                                    ...   \n",
       "8401   Юго-Западный административный округ   \n",
       "8402          Южный административный округ   \n",
       "8403  Юго-Восточный административный округ   \n",
       "8404  Юго-Восточный административный округ   \n",
       "8405          Южный административный округ   \n",
       "\n",
       "                                                  hours        lat        lng  \\\n",
       "0                                ежедневно, 10:00–22:00  55.878494  37.478860   \n",
       "1                                ежедневно, 10:00–22:00  55.875801  37.484479   \n",
       "2     пн-чт 11:00–02:00; пт,сб 11:00–05:00; вс 11:00...  55.889146  37.525901   \n",
       "3                                ежедневно, 09:00–22:00  55.881608  37.488860   \n",
       "4                                ежедневно, 10:00–22:00  55.881166  37.449357   \n",
       "...                                                 ...        ...        ...   \n",
       "8401                             ежедневно, 09:00–02:00  55.670021  37.552480   \n",
       "8402                             ежедневно, 08:00–22:00  55.640875  37.656553   \n",
       "8403                           ежедневно, круглосуточно  55.648859  37.743219   \n",
       "8404                           ежедневно, круглосуточно  55.648849  37.743222   \n",
       "8405                           ежедневно, круглосуточно  55.598229  37.604702   \n",
       "\n",
       "      rating          price                       avg_bill  middle_avg_bill  \\\n",
       "0        5.0            NaN                            NaN              NaN   \n",
       "1        4.5  выше среднего       Средний счёт:1500–1600 ₽           1550.0   \n",
       "2        4.6        средние         Средний счёт:от 1000 ₽           1000.0   \n",
       "3        5.0            NaN  Цена чашки капучино:155–185 ₽              NaN   \n",
       "4        5.0        средние         Средний счёт:400–600 ₽            500.0   \n",
       "...      ...            ...                            ...              ...   \n",
       "8401     4.4            NaN                            NaN              NaN   \n",
       "8402     4.8            NaN                            NaN              NaN   \n",
       "8403     3.9            NaN          Средний счёт:от 150 ₽            150.0   \n",
       "8404     4.2            NaN                            NaN              NaN   \n",
       "8405     3.9            NaN                            NaN              NaN   \n",
       "\n",
       "      middle_coffee_cup  chain  seats  \n",
       "0                   NaN      0    NaN  \n",
       "1                   NaN      0    4.0  \n",
       "2                   NaN      0   45.0  \n",
       "3                 170.0      0    NaN  \n",
       "4                   NaN      1  148.0  \n",
       "...                 ...    ...    ...  \n",
       "8401                NaN      0   86.0  \n",
       "8402                NaN      0  150.0  \n",
       "8403                NaN      0  150.0  \n",
       "8404                NaN      1  150.0  \n",
       "8405                NaN      0   12.0  \n",
       "\n",
       "[8406 rows x 14 columns]"
      ]
     },
     "metadata": {},
     "output_type": "display_data"
    }
   ],
   "source": [
    "data"
   ]
  },
  {
   "cell_type": "markdown",
   "metadata": {},
   "source": [
    "### Изучение представленных данных."
   ]
  },
  {
   "cell_type": "markdown",
   "metadata": {},
   "source": [
    "1. Опишем, что значит каждый столбец в датафрейме."
   ]
  },
  {
   "cell_type": "markdown",
   "metadata": {},
   "source": [
    "**Файл 'moscow_places' содержит информацию:**\n",
    "* name — название заведения;\n",
    "* address — адрес заведения;\n",
    "* category — категория заведения, например «кафе», «пиццерия» или «кофейня»;\n",
    "* hours — информация о днях и часах работы;\n",
    "* lat — широта географической точки, в которой находится заведение;\n",
    "* lng — долгота географической точки, в которой находится заведение;\n",
    "* rating — рейтинг заведения по оценкам пользователей в Яндекс Картах (высшая оценка — 5.0);\n",
    "* price — категория цен в заведении, например «средние», «ниже среднего», «выше среднего» и так далее;\n",
    "* avg_bill — строка, которая хранит среднюю стоимость заказа в виде диапазона.\n",
    "* middle_avg_bill — число с оценкой среднего чека, которое указано только для значений из столбца avg_bill, начинающихся с подстроки «Средний счёт»:\n",
    "* middle_coffee_cup — число с оценкой одной чашки капучино, которое указано только для значений из столбца avg_bill, начинающихся с подстроки «Цена одной чашки капучино»:\n",
    "* chain — число, выраженное 0 или 1, которое показывает, является ли заведение сетевым (для маленьких сетей могут встречаться ошибки):\n",
    "* district — административный район, в котором находится заведение, например Центральный административный округ;\n",
    "* seats — количество посадочных мест."
   ]
  },
  {
   "cell_type": "markdown",
   "metadata": {},
   "source": [
    "2. Определим размерность нашего датафрейма."
   ]
  },
  {
   "cell_type": "code",
   "execution_count": null,
   "metadata": {},
   "outputs": [
    {
     "data": {
      "text/plain": [
       "(8406, 14)"
      ]
     },
     "metadata": {},
     "output_type": "display_data"
    }
   ],
   "source": [
    "data.shape"
   ]
  },
  {
   "cell_type": "markdown",
   "metadata": {},
   "source": [
    "**Вывод:** из выведенных данных, мы можем заметить, что датафрейм состоит из 8406 записей и 14 полей."
   ]
  },
  {
   "cell_type": "markdown",
   "metadata": {},
   "source": [
    "3. Выведем общую информацию с помощью метода info()."
   ]
  },
  {
   "cell_type": "code",
   "execution_count": null,
   "metadata": {},
   "outputs": [
    {
     "name": "stdout",
     "output_type": "stream",
     "text": [
      "<class 'pandas.core.frame.DataFrame'>\n",
      "RangeIndex: 8406 entries, 0 to 8405\n",
      "Data columns (total 14 columns):\n",
      " #   Column             Non-Null Count  Dtype  \n",
      "---  ------             --------------  -----  \n",
      " 0   name               8406 non-null   object \n",
      " 1   category           8406 non-null   object \n",
      " 2   address            8406 non-null   object \n",
      " 3   district           8406 non-null   object \n",
      " 4   hours              7870 non-null   object \n",
      " 5   lat                8406 non-null   float64\n",
      " 6   lng                8406 non-null   float64\n",
      " 7   rating             8406 non-null   float64\n",
      " 8   price              3315 non-null   object \n",
      " 9   avg_bill           3816 non-null   object \n",
      " 10  middle_avg_bill    3149 non-null   float64\n",
      " 11  middle_coffee_cup  535 non-null    float64\n",
      " 12  chain              8406 non-null   int64  \n",
      " 13  seats              4795 non-null   float64\n",
      "dtypes: float64(6), int64(1), object(7)\n",
      "memory usage: 919.5+ KB\n"
     ]
    }
   ],
   "source": [
    "data.info()"
   ]
  },
  {
   "cell_type": "markdown",
   "metadata": {},
   "source": [
    "**Вывод:** из выведенных данных, мы можем заметить, что в датафрейме присутствуют пропуски, названия столбцов написаны в правильном формате, таблицу необходимо проверить на наличие аномалий, а также проверить тип данных у всех столбцов."
   ]
  },
  {
   "cell_type": "markdown",
   "metadata": {},
   "source": [
    "4. Выведем общую информацию о данных типа 'float64' с помощью метода - describe()"
   ]
  },
  {
   "cell_type": "code",
   "execution_count": null,
   "metadata": {},
   "outputs": [
    {
     "data": {
      "text/html": [
       "<div>\n",
       "<style scoped>\n",
       "    .dataframe tbody tr th:only-of-type {\n",
       "        vertical-align: middle;\n",
       "    }\n",
       "\n",
       "    .dataframe tbody tr th {\n",
       "        vertical-align: top;\n",
       "    }\n",
       "\n",
       "    .dataframe thead th {\n",
       "        text-align: right;\n",
       "    }\n",
       "</style>\n",
       "<table border=\"1\" class=\"dataframe\">\n",
       "  <thead>\n",
       "    <tr style=\"text-align: right;\">\n",
       "      <th></th>\n",
       "      <th>lat</th>\n",
       "      <th>lng</th>\n",
       "      <th>rating</th>\n",
       "      <th>middle_avg_bill</th>\n",
       "      <th>middle_coffee_cup</th>\n",
       "      <th>chain</th>\n",
       "      <th>seats</th>\n",
       "    </tr>\n",
       "  </thead>\n",
       "  <tbody>\n",
       "    <tr>\n",
       "      <th>count</th>\n",
       "      <td>8406.000000</td>\n",
       "      <td>8406.000000</td>\n",
       "      <td>8406.000000</td>\n",
       "      <td>3149.000000</td>\n",
       "      <td>535.000000</td>\n",
       "      <td>8406.000000</td>\n",
       "      <td>4795.000000</td>\n",
       "    </tr>\n",
       "    <tr>\n",
       "      <th>mean</th>\n",
       "      <td>55.750109</td>\n",
       "      <td>37.608570</td>\n",
       "      <td>4.229895</td>\n",
       "      <td>958.053668</td>\n",
       "      <td>174.721495</td>\n",
       "      <td>0.381275</td>\n",
       "      <td>108.421689</td>\n",
       "    </tr>\n",
       "    <tr>\n",
       "      <th>std</th>\n",
       "      <td>0.069658</td>\n",
       "      <td>0.098597</td>\n",
       "      <td>0.470348</td>\n",
       "      <td>1009.732845</td>\n",
       "      <td>88.951103</td>\n",
       "      <td>0.485729</td>\n",
       "      <td>122.833396</td>\n",
       "    </tr>\n",
       "    <tr>\n",
       "      <th>min</th>\n",
       "      <td>55.573942</td>\n",
       "      <td>37.355651</td>\n",
       "      <td>1.000000</td>\n",
       "      <td>0.000000</td>\n",
       "      <td>60.000000</td>\n",
       "      <td>0.000000</td>\n",
       "      <td>0.000000</td>\n",
       "    </tr>\n",
       "    <tr>\n",
       "      <th>25%</th>\n",
       "      <td>55.705155</td>\n",
       "      <td>37.538583</td>\n",
       "      <td>4.100000</td>\n",
       "      <td>375.000000</td>\n",
       "      <td>124.500000</td>\n",
       "      <td>0.000000</td>\n",
       "      <td>40.000000</td>\n",
       "    </tr>\n",
       "    <tr>\n",
       "      <th>50%</th>\n",
       "      <td>55.753425</td>\n",
       "      <td>37.605246</td>\n",
       "      <td>4.300000</td>\n",
       "      <td>750.000000</td>\n",
       "      <td>169.000000</td>\n",
       "      <td>0.000000</td>\n",
       "      <td>75.000000</td>\n",
       "    </tr>\n",
       "    <tr>\n",
       "      <th>75%</th>\n",
       "      <td>55.795041</td>\n",
       "      <td>37.664792</td>\n",
       "      <td>4.400000</td>\n",
       "      <td>1250.000000</td>\n",
       "      <td>225.000000</td>\n",
       "      <td>1.000000</td>\n",
       "      <td>140.000000</td>\n",
       "    </tr>\n",
       "    <tr>\n",
       "      <th>max</th>\n",
       "      <td>55.928943</td>\n",
       "      <td>37.874466</td>\n",
       "      <td>5.000000</td>\n",
       "      <td>35000.000000</td>\n",
       "      <td>1568.000000</td>\n",
       "      <td>1.000000</td>\n",
       "      <td>1288.000000</td>\n",
       "    </tr>\n",
       "  </tbody>\n",
       "</table>\n",
       "</div>"
      ],
      "text/plain": [
       "               lat          lng       rating  middle_avg_bill  \\\n",
       "count  8406.000000  8406.000000  8406.000000      3149.000000   \n",
       "mean     55.750109    37.608570     4.229895       958.053668   \n",
       "std       0.069658     0.098597     0.470348      1009.732845   \n",
       "min      55.573942    37.355651     1.000000         0.000000   \n",
       "25%      55.705155    37.538583     4.100000       375.000000   \n",
       "50%      55.753425    37.605246     4.300000       750.000000   \n",
       "75%      55.795041    37.664792     4.400000      1250.000000   \n",
       "max      55.928943    37.874466     5.000000     35000.000000   \n",
       "\n",
       "       middle_coffee_cup        chain        seats  \n",
       "count         535.000000  8406.000000  4795.000000  \n",
       "mean          174.721495     0.381275   108.421689  \n",
       "std            88.951103     0.485729   122.833396  \n",
       "min            60.000000     0.000000     0.000000  \n",
       "25%           124.500000     0.000000    40.000000  \n",
       "50%           169.000000     0.000000    75.000000  \n",
       "75%           225.000000     1.000000   140.000000  \n",
       "max          1568.000000     1.000000  1288.000000  "
      ]
     },
     "metadata": {},
     "output_type": "display_data"
    }
   ],
   "source": [
    "data.describe().astype('float64')"
   ]
  },
  {
   "cell_type": "markdown",
   "metadata": {},
   "source": [
    "**Вывод:** На текущий момент, мы можем сделать некоторые выводы: средний рейтинг заведений около ±4.23 из 5, средний чек около 958 рублей, средняя стоимость одного стакана кофе около 174 рублей. "
   ]
  },
  {
   "cell_type": "markdown",
   "metadata": {},
   "source": [
    "5. С помощью метода hist() выведем возможные графики для визуализации."
   ]
  },
  {
   "cell_type": "code",
   "execution_count": null,
   "metadata": {},
   "outputs": [
    {
     "data": {
      "image/png": "[encoded data removed]",
      "text/plain": [
       "<Figure size 720x720 with 9 Axes>"
      ]
     },
     "metadata": {},
     "output_type": "display_data"
    }
   ],
   "source": [
    "data.hist(figsize=(10,10));"
   ]
  },
  {
   "cell_type": "markdown",
   "metadata": {},
   "source": [
    "**Вывод:** с помощью функции hist() было выведено 7 графиков на разные виды данных. По ним тяжело что-то сказать, так как данные еще не были преобработаны, но как и из прошлого шага, можем сделать предположительные выводы: рейтинг заведений преобладает от 4 до 5, преимущественно заведения не являются сетевыми, а количество мест в них неболее 110.\n",
    "\n"
   ]
  },
  {
   "cell_type": "markdown",
   "metadata": {},
   "source": [
    "### Преобработка данных."
   ]
  },
  {
   "cell_type": "markdown",
   "metadata": {},
   "source": [
    "#### Предобработка данных столбца 'name'."
   ]
  },
  {
   "cell_type": "markdown",
   "metadata": {},
   "source": [
    "1. Для общего понимания выведем 15 строк данного столбца."
   ]
  },
  {
   "cell_type": "code",
   "execution_count": null,
   "metadata": {},
   "outputs": [
    {
     "data": {
      "text/plain": [
       "0                   WoWфли\n",
       "1           Четыре комнаты\n",
       "2                    Хазри\n",
       "3     Dormouse Coffee Shop\n",
       "4                Иль Марко\n",
       "5             Sergio Pizza\n",
       "6              Огни города\n",
       "7               Mr. Уголёк\n",
       "8              Donna Maria\n",
       "9                   Готика\n",
       "10          Great Room Bar\n",
       "11             Шашлык Шефф\n",
       "12                Заправка\n",
       "13                 Буханка\n",
       "14                У Сильвы\n",
       "Name: name, dtype: object"
      ]
     },
     "metadata": {},
     "output_type": "display_data"
    }
   ],
   "source": [
    "data['name'].head(15)"
   ]
  },
  {
   "cell_type": "markdown",
   "metadata": {},
   "source": [
    "2. Проверим столбец на пропуски."
   ]
  },
  {
   "cell_type": "code",
   "execution_count": null,
   "metadata": {},
   "outputs": [
    {
     "data": {
      "text/plain": [
       "0"
      ]
     },
     "metadata": {},
     "output_type": "display_data"
    }
   ],
   "source": [
    "data['name'].isna().sum()"
   ]
  },
  {
   "cell_type": "markdown",
   "metadata": {},
   "source": [
    "**Вывод:** в столбце пропуски отсутствуют."
   ]
  },
  {
   "cell_type": "markdown",
   "metadata": {},
   "source": [
    "3. Проверим столбец на дубликаты."
   ]
  },
  {
   "cell_type": "code",
   "execution_count": null,
   "metadata": {},
   "outputs": [
    {
     "data": {
      "text/plain": [
       "2792"
      ]
     },
     "metadata": {},
     "output_type": "display_data"
    }
   ],
   "source": [
    "data['name'].duplicated().sum()"
   ]
  },
  {
   "cell_type": "markdown",
   "metadata": {},
   "source": [
    "**Вывод:** мы видим, что в данном столбце присутстуют дубликаты, но не стоит забывать, что в датафрейме есть сетевые заведения, которых в Москве может быть несколько штук, поэтому их мы удалять не будем. "
   ]
  },
  {
   "cell_type": "markdown",
   "metadata": {},
   "source": [
    "4. Проверим столбец на тип данных."
   ]
  },
  {
   "cell_type": "code",
   "execution_count": null,
   "metadata": {},
   "outputs": [
    {
     "name": "stdout",
     "output_type": "stream",
     "text": [
      "<class 'pandas.core.frame.DataFrame'>\n",
      "RangeIndex: 8406 entries, 0 to 8405\n",
      "Data columns (total 14 columns):\n",
      " #   Column             Non-Null Count  Dtype  \n",
      "---  ------             --------------  -----  \n",
      " 0   name               8406 non-null   object \n",
      " 1   category           8406 non-null   object \n",
      " 2   address            8406 non-null   object \n",
      " 3   district           8406 non-null   object \n",
      " 4   hours              7870 non-null   object \n",
      " 5   lat                8406 non-null   float64\n",
      " 6   lng                8406 non-null   float64\n",
      " 7   rating             8406 non-null   float64\n",
      " 8   price              3315 non-null   object \n",
      " 9   avg_bill           3816 non-null   object \n",
      " 10  middle_avg_bill    3149 non-null   float64\n",
      " 11  middle_coffee_cup  535 non-null    float64\n",
      " 12  chain              8406 non-null   int64  \n",
      " 13  seats              4795 non-null   float64\n",
      "dtypes: float64(6), int64(1), object(7)\n",
      "memory usage: 919.5+ KB\n"
     ]
    }
   ],
   "source": [
    "data.info()"
   ]
  },
  {
   "cell_type": "markdown",
   "metadata": {},
   "source": [
    "**Вывод:** тип данных столбца - 'object', выбран верно."
   ]
  },
  {
   "cell_type": "markdown",
   "metadata": {},
   "source": [
    "#### Предобработка данных столбца 'category'."
   ]
  },
  {
   "cell_type": "markdown",
   "metadata": {},
   "source": [
    "1. Для наглядности выведем 15 строк данного столбца."
   ]
  },
  {
   "cell_type": "code",
   "execution_count": null,
   "metadata": {},
   "outputs": [
    {
     "data": {
      "text/plain": [
       "0                кафе\n",
       "1            ресторан\n",
       "2                кафе\n",
       "3             кофейня\n",
       "4            пиццерия\n",
       "5            пиццерия\n",
       "6             бар,паб\n",
       "7     быстрое питание\n",
       "8            ресторан\n",
       "9                кафе\n",
       "10            бар,паб\n",
       "11               кафе\n",
       "12               кафе\n",
       "13           булочная\n",
       "14            бар,паб\n",
       "Name: category, dtype: object"
      ]
     },
     "metadata": {},
     "output_type": "display_data"
    }
   ],
   "source": [
    "data['category'].head(15)"
   ]
  },
  {
   "cell_type": "markdown",
   "metadata": {},
   "source": [
    "2. Проверим столбец на пропуски."
   ]
  },
  {
   "cell_type": "code",
   "execution_count": null,
   "metadata": {},
   "outputs": [
    {
     "data": {
      "text/plain": [
       "0"
      ]
     },
     "metadata": {},
     "output_type": "display_data"
    }
   ],
   "source": [
    "data['category'].isna().sum()"
   ]
  },
  {
   "cell_type": "markdown",
   "metadata": {},
   "source": [
    "**Вывод:** в столбце пропуски отсутствуют."
   ]
  },
  {
   "cell_type": "markdown",
   "metadata": {},
   "source": [
    "3. Выведем все уникальные значения в даннном столбце."
   ]
  },
  {
   "cell_type": "code",
   "execution_count": null,
   "metadata": {},
   "outputs": [
    {
     "data": {
      "text/plain": [
       "array(['кафе', 'ресторан', 'кофейня', 'пиццерия', 'бар,паб',\n",
       "       'быстрое питание', 'булочная', 'столовая'], dtype=object)"
      ]
     },
     "metadata": {},
     "output_type": "display_data"
    }
   ],
   "source": [
    "data['category'].unique()"
   ]
  },
  {
   "cell_type": "markdown",
   "metadata": {},
   "source": [
    "**Вывод:** в столбце присутствует 9 уникальных видов категорий. Неявных дубликатов не обнуружено. На дубликаты проверять столбец нет смысла."
   ]
  },
  {
   "cell_type": "markdown",
   "metadata": {},
   "source": [
    "4. Проверим столбец на тип данных."
   ]
  },
  {
   "cell_type": "code",
   "execution_count": null,
   "metadata": {},
   "outputs": [
    {
     "name": "stdout",
     "output_type": "stream",
     "text": [
      "<class 'pandas.core.frame.DataFrame'>\n",
      "RangeIndex: 8406 entries, 0 to 8405\n",
      "Data columns (total 14 columns):\n",
      " #   Column             Non-Null Count  Dtype  \n",
      "---  ------             --------------  -----  \n",
      " 0   name               8406 non-null   object \n",
      " 1   category           8406 non-null   object \n",
      " 2   address            8406 non-null   object \n",
      " 3   district           8406 non-null   object \n",
      " 4   hours              7870 non-null   object \n",
      " 5   lat                8406 non-null   float64\n",
      " 6   lng                8406 non-null   float64\n",
      " 7   rating             8406 non-null   float64\n",
      " 8   price              3315 non-null   object \n",
      " 9   avg_bill           3816 non-null   object \n",
      " 10  middle_avg_bill    3149 non-null   float64\n",
      " 11  middle_coffee_cup  535 non-null    float64\n",
      " 12  chain              8406 non-null   int64  \n",
      " 13  seats              4795 non-null   float64\n",
      "dtypes: float64(6), int64(1), object(7)\n",
      "memory usage: 919.5+ KB\n"
     ]
    }
   ],
   "source": [
    "data.info()"
   ]
  },
  {
   "cell_type": "markdown",
   "metadata": {},
   "source": [
    "**Вывод:** тип данных столбца - 'object', выбран верно."
   ]
  },
  {
   "cell_type": "markdown",
   "metadata": {},
   "source": [
    "#### Предобработка данных столбца 'address'."
   ]
  },
  {
   "cell_type": "markdown",
   "metadata": {},
   "source": [
    "1. Для наглядности выведем 15 строк данного столбца."
   ]
  },
  {
   "cell_type": "code",
   "execution_count": null,
   "metadata": {},
   "outputs": [
    {
     "data": {
      "text/plain": [
       "0                  Москва, улица Дыбенко, 7/1\n",
       "1          Москва, улица Дыбенко, 36, корп. 1\n",
       "2              Москва, Клязьминская улица, 15\n",
       "3         Москва, улица Маршала Федоренко, 12\n",
       "4             Москва, Правобережная улица, 1Б\n",
       "5                Москва, Ижорская улица, вл8Б\n",
       "6       Москва, Клязьминская улица, 9, стр. 3\n",
       "7       Москва, Клязьминская улица, 9, стр. 3\n",
       "8     Москва, Дмитровское шоссе, 107, корп. 4\n",
       "9                 Москва, Ангарская улица, 39\n",
       "10             Москва, Левобережная улица, 12\n",
       "11      Москва, улица Маршала Федоренко, 10с1\n",
       "12             Москва, МКАД, 80-й километр, 1\n",
       "13       Москва, Базовская улица, 15, корп. 1\n",
       "14              Москва, Ангарская улица, 42с1\n",
       "Name: address, dtype: object"
      ]
     },
     "metadata": {},
     "output_type": "display_data"
    }
   ],
   "source": [
    "data['address'].head(15)"
   ]
  },
  {
   "cell_type": "markdown",
   "metadata": {},
   "source": [
    "2. Проверим столбец на пропуски."
   ]
  },
  {
   "cell_type": "code",
   "execution_count": null,
   "metadata": {},
   "outputs": [
    {
     "data": {
      "text/plain": [
       "0"
      ]
     },
     "metadata": {},
     "output_type": "display_data"
    }
   ],
   "source": [
    "data['address'].isna().sum()"
   ]
  },
  {
   "cell_type": "markdown",
   "metadata": {},
   "source": [
    "**Вывод:** в столбце пропуски отсутствуют."
   ]
  },
  {
   "cell_type": "markdown",
   "metadata": {},
   "source": [
    "3. Проверим столбец на дубликаты."
   ]
  },
  {
   "cell_type": "code",
   "execution_count": null,
   "metadata": {},
   "outputs": [
    {
     "data": {
      "text/plain": [
       "2653"
      ]
     },
     "metadata": {},
     "output_type": "display_data"
    }
   ],
   "source": [
    "data['address'].duplicated().sum()"
   ]
  },
  {
   "cell_type": "markdown",
   "metadata": {},
   "source": [
    "**Вывод:** мы видим, что в данном столбце, присутствуют дубликаты. Удалять мы их не будем, так как есть вероятность того, что некоторые заведения, могут находиться в одном и том же здании."
   ]
  },
  {
   "cell_type": "markdown",
   "metadata": {},
   "source": [
    "4. Проверим столбец на тип данных."
   ]
  },
  {
   "cell_type": "code",
   "execution_count": null,
   "metadata": {},
   "outputs": [
    {
     "name": "stdout",
     "output_type": "stream",
     "text": [
      "<class 'pandas.core.frame.DataFrame'>\n",
      "RangeIndex: 8406 entries, 0 to 8405\n",
      "Data columns (total 14 columns):\n",
      " #   Column             Non-Null Count  Dtype  \n",
      "---  ------             --------------  -----  \n",
      " 0   name               8406 non-null   object \n",
      " 1   category           8406 non-null   object \n",
      " 2   address            8406 non-null   object \n",
      " 3   district           8406 non-null   object \n",
      " 4   hours              7870 non-null   object \n",
      " 5   lat                8406 non-null   float64\n",
      " 6   lng                8406 non-null   float64\n",
      " 7   rating             8406 non-null   float64\n",
      " 8   price              3315 non-null   object \n",
      " 9   avg_bill           3816 non-null   object \n",
      " 10  middle_avg_bill    3149 non-null   float64\n",
      " 11  middle_coffee_cup  535 non-null    float64\n",
      " 12  chain              8406 non-null   int64  \n",
      " 13  seats              4795 non-null   float64\n",
      "dtypes: float64(6), int64(1), object(7)\n",
      "memory usage: 919.5+ KB\n"
     ]
    }
   ],
   "source": [
    "data.info()"
   ]
  },
  {
   "cell_type": "markdown",
   "metadata": {},
   "source": [
    "**Вывод:** тип данных столбца - 'object', выбран верно."
   ]
  },
  {
   "cell_type": "markdown",
   "metadata": {},
   "source": [
    "#### Предобработка данных столбца 'district'."
   ]
  },
  {
   "cell_type": "markdown",
   "metadata": {},
   "source": [
    "1. Для наглядности выведем последние 15 строк данного столбца."
   ]
  },
  {
   "cell_type": "code",
   "execution_count": null,
   "metadata": {},
   "outputs": [
    {
     "data": {
      "text/plain": [
       "8391    Юго-Восточный административный округ\n",
       "8392        Восточный административный округ\n",
       "8393    Юго-Восточный административный округ\n",
       "8394    Юго-Восточный административный округ\n",
       "8395    Юго-Восточный административный округ\n",
       "8396         Западный административный округ\n",
       "8397         Западный административный округ\n",
       "8398     Юго-Западный административный округ\n",
       "8399     Юго-Западный административный округ\n",
       "8400     Юго-Западный административный округ\n",
       "8401     Юго-Западный административный округ\n",
       "8402            Южный административный округ\n",
       "8403    Юго-Восточный административный округ\n",
       "8404    Юго-Восточный административный округ\n",
       "8405            Южный административный округ\n",
       "Name: district, dtype: object"
      ]
     },
     "metadata": {},
     "output_type": "display_data"
    }
   ],
   "source": [
    "data['district'].tail(15)"
   ]
  },
  {
   "cell_type": "markdown",
   "metadata": {},
   "source": [
    "2. Проверим столбец на пропуски."
   ]
  },
  {
   "cell_type": "code",
   "execution_count": null,
   "metadata": {},
   "outputs": [
    {
     "data": {
      "text/plain": [
       "0"
      ]
     },
     "metadata": {},
     "output_type": "display_data"
    }
   ],
   "source": [
    "data['district'].isna().sum()"
   ]
  },
  {
   "cell_type": "markdown",
   "metadata": {},
   "source": [
    "**Вывод:** в столбце пропуски отсутствуют."
   ]
  },
  {
   "cell_type": "markdown",
   "metadata": {},
   "source": [
    "3. Выведем все уникальные значения данного столбца."
   ]
  },
  {
   "cell_type": "code",
   "execution_count": null,
   "metadata": {},
   "outputs": [
    {
     "data": {
      "text/plain": [
       "array(['Северный административный округ',\n",
       "       'Северо-Восточный административный округ',\n",
       "       'Северо-Западный административный округ',\n",
       "       'Западный административный округ',\n",
       "       'Центральный административный округ',\n",
       "       'Восточный административный округ',\n",
       "       'Юго-Восточный административный округ',\n",
       "       'Южный административный округ',\n",
       "       'Юго-Западный административный округ'], dtype=object)"
      ]
     },
     "metadata": {},
     "output_type": "display_data"
    }
   ],
   "source": [
    "data['district'].unique()"
   ]
  },
  {
   "cell_type": "markdown",
   "metadata": {},
   "source": [
    "**Вывод:** в датафрейме присутсует информация о 9 районах Москвы. На дубликаты проверять столбец нет смысла."
   ]
  },
  {
   "cell_type": "markdown",
   "metadata": {},
   "source": [
    "4. Проверим тип данных столбца."
   ]
  },
  {
   "cell_type": "code",
   "execution_count": null,
   "metadata": {},
   "outputs": [
    {
     "name": "stdout",
     "output_type": "stream",
     "text": [
      "<class 'pandas.core.frame.DataFrame'>\n",
      "RangeIndex: 8406 entries, 0 to 8405\n",
      "Data columns (total 14 columns):\n",
      " #   Column             Non-Null Count  Dtype  \n",
      "---  ------             --------------  -----  \n",
      " 0   name               8406 non-null   object \n",
      " 1   category           8406 non-null   object \n",
      " 2   address            8406 non-null   object \n",
      " 3   district           8406 non-null   object \n",
      " 4   hours              7870 non-null   object \n",
      " 5   lat                8406 non-null   float64\n",
      " 6   lng                8406 non-null   float64\n",
      " 7   rating             8406 non-null   float64\n",
      " 8   price              3315 non-null   object \n",
      " 9   avg_bill           3816 non-null   object \n",
      " 10  middle_avg_bill    3149 non-null   float64\n",
      " 11  middle_coffee_cup  535 non-null    float64\n",
      " 12  chain              8406 non-null   int64  \n",
      " 13  seats              4795 non-null   float64\n",
      "dtypes: float64(6), int64(1), object(7)\n",
      "memory usage: 919.5+ KB\n"
     ]
    }
   ],
   "source": [
    "data.info()"
   ]
  },
  {
   "cell_type": "markdown",
   "metadata": {},
   "source": [
    "**Вывод:** тип данных столбца - 'object', выбран верно."
   ]
  },
  {
   "cell_type": "markdown",
   "metadata": {},
   "source": [
    "#### Предобработка данных столбца 'hours'."
   ]
  },
  {
   "cell_type": "markdown",
   "metadata": {},
   "source": [
    "1. Для наглядности выведем первые 10 строк данного столбца."
   ]
  },
  {
   "cell_type": "code",
   "execution_count": null,
   "metadata": {},
   "outputs": [
    {
     "data": {
      "text/plain": [
       "0                               ежедневно, 10:00–22:00\n",
       "1                               ежедневно, 10:00–22:00\n",
       "2    пн-чт 11:00–02:00; пт,сб 11:00–05:00; вс 11:00...\n",
       "3                               ежедневно, 09:00–22:00\n",
       "4                               ежедневно, 10:00–22:00\n",
       "5                               ежедневно, 10:00–23:00\n",
       "6                    пн 15:00–04:00; вт-вс 15:00–05:00\n",
       "7    пн-чт 10:00–22:00; пт,сб 10:00–23:00; вс 10:00...\n",
       "8                               ежедневно, 10:00–22:00\n",
       "9                               ежедневно, 12:00–00:00\n",
       "Name: hours, dtype: object"
      ]
     },
     "metadata": {},
     "output_type": "display_data"
    }
   ],
   "source": [
    "data['hours'].head(10)"
   ]
  },
  {
   "cell_type": "markdown",
   "metadata": {},
   "source": [
    "2. Проверим столбец на пропуски.\n"
   ]
  },
  {
   "cell_type": "code",
   "execution_count": null,
   "metadata": {},
   "outputs": [
    {
     "data": {
      "text/plain": [
       "536"
      ]
     },
     "metadata": {},
     "output_type": "display_data"
    }
   ],
   "source": [
    "data['hours'].isna().sum()"
   ]
  },
  {
   "cell_type": "markdown",
   "metadata": {},
   "source": [
    "**Вывод:** в столбце присутстует 536 пропусков, скорей всего, время работы не было указано."
   ]
  },
  {
   "cell_type": "markdown",
   "metadata": {},
   "source": [
    "3. Заменим пропуски на значение 'Не указано'."
   ]
  },
  {
   "cell_type": "code",
   "execution_count": null,
   "metadata": {},
   "outputs": [],
   "source": [
    "data['hours'] = data['hours'].fillna('Не указано')"
   ]
  },
  {
   "cell_type": "markdown",
   "metadata": {},
   "source": [
    "4. Проверим тип данных."
   ]
  },
  {
   "cell_type": "code",
   "execution_count": null,
   "metadata": {},
   "outputs": [
    {
     "name": "stdout",
     "output_type": "stream",
     "text": [
      "<class 'pandas.core.frame.DataFrame'>\n",
      "RangeIndex: 8406 entries, 0 to 8405\n",
      "Data columns (total 14 columns):\n",
      " #   Column             Non-Null Count  Dtype  \n",
      "---  ------             --------------  -----  \n",
      " 0   name               8406 non-null   object \n",
      " 1   category           8406 non-null   object \n",
      " 2   address            8406 non-null   object \n",
      " 3   district           8406 non-null   object \n",
      " 4   hours              8406 non-null   object \n",
      " 5   lat                8406 non-null   float64\n",
      " 6   lng                8406 non-null   float64\n",
      " 7   rating             8406 non-null   float64\n",
      " 8   price              3315 non-null   object \n",
      " 9   avg_bill           3816 non-null   object \n",
      " 10  middle_avg_bill    3149 non-null   float64\n",
      " 11  middle_coffee_cup  535 non-null    float64\n",
      " 12  chain              8406 non-null   int64  \n",
      " 13  seats              4795 non-null   float64\n",
      "dtypes: float64(6), int64(1), object(7)\n",
      "memory usage: 919.5+ KB\n"
     ]
    }
   ],
   "source": [
    "data.info()"
   ]
  },
  {
   "cell_type": "markdown",
   "metadata": {},
   "source": [
    "**Вывод:** тип данных столбца - 'object', выбран верно."
   ]
  },
  {
   "cell_type": "markdown",
   "metadata": {},
   "source": [
    "#### Предобработка данных столбцов 'lat' и 'lng'."
   ]
  },
  {
   "cell_type": "markdown",
   "metadata": {},
   "source": [
    "1. Так как столбцы 'lat' и 'lng' содержат в себе координаты заведения, предлагаю предобработать их вместе. Выведем первые 10 строк."
   ]
  },
  {
   "cell_type": "code",
   "execution_count": null,
   "metadata": {},
   "outputs": [
    {
     "data": {
      "text/html": [
       "<div>\n",
       "<style scoped>\n",
       "    .dataframe tbody tr th:only-of-type {\n",
       "        vertical-align: middle;\n",
       "    }\n",
       "\n",
       "    .dataframe tbody tr th {\n",
       "        vertical-align: top;\n",
       "    }\n",
       "\n",
       "    .dataframe thead th {\n",
       "        text-align: right;\n",
       "    }\n",
       "</style>\n",
       "<table border=\"1\" class=\"dataframe\">\n",
       "  <thead>\n",
       "    <tr style=\"text-align: right;\">\n",
       "      <th></th>\n",
       "      <th>lat</th>\n",
       "      <th>lng</th>\n",
       "    </tr>\n",
       "  </thead>\n",
       "  <tbody>\n",
       "    <tr>\n",
       "      <th>0</th>\n",
       "      <td>55.878494</td>\n",
       "      <td>37.478860</td>\n",
       "    </tr>\n",
       "    <tr>\n",
       "      <th>1</th>\n",
       "      <td>55.875801</td>\n",
       "      <td>37.484479</td>\n",
       "    </tr>\n",
       "    <tr>\n",
       "      <th>2</th>\n",
       "      <td>55.889146</td>\n",
       "      <td>37.525901</td>\n",
       "    </tr>\n",
       "    <tr>\n",
       "      <th>3</th>\n",
       "      <td>55.881608</td>\n",
       "      <td>37.488860</td>\n",
       "    </tr>\n",
       "    <tr>\n",
       "      <th>4</th>\n",
       "      <td>55.881166</td>\n",
       "      <td>37.449357</td>\n",
       "    </tr>\n",
       "    <tr>\n",
       "      <th>5</th>\n",
       "      <td>55.888010</td>\n",
       "      <td>37.509573</td>\n",
       "    </tr>\n",
       "    <tr>\n",
       "      <th>6</th>\n",
       "      <td>55.890752</td>\n",
       "      <td>37.524653</td>\n",
       "    </tr>\n",
       "    <tr>\n",
       "      <th>7</th>\n",
       "      <td>55.890636</td>\n",
       "      <td>37.524303</td>\n",
       "    </tr>\n",
       "    <tr>\n",
       "      <th>8</th>\n",
       "      <td>55.880045</td>\n",
       "      <td>37.539006</td>\n",
       "    </tr>\n",
       "    <tr>\n",
       "      <th>9</th>\n",
       "      <td>55.879038</td>\n",
       "      <td>37.524487</td>\n",
       "    </tr>\n",
       "  </tbody>\n",
       "</table>\n",
       "</div>"
      ],
      "text/plain": [
       "         lat        lng\n",
       "0  55.878494  37.478860\n",
       "1  55.875801  37.484479\n",
       "2  55.889146  37.525901\n",
       "3  55.881608  37.488860\n",
       "4  55.881166  37.449357\n",
       "5  55.888010  37.509573\n",
       "6  55.890752  37.524653\n",
       "7  55.890636  37.524303\n",
       "8  55.880045  37.539006\n",
       "9  55.879038  37.524487"
      ]
     },
     "metadata": {},
     "output_type": "display_data"
    }
   ],
   "source": [
    "data[['lat', 'lng']].head(10)"
   ]
  },
  {
   "cell_type": "markdown",
   "metadata": {},
   "source": [
    "2. Проверим на пропуски."
   ]
  },
  {
   "cell_type": "code",
   "execution_count": null,
   "metadata": {},
   "outputs": [
    {
     "data": {
      "text/plain": [
       "lat    0\n",
       "lng    0\n",
       "dtype: int64"
      ]
     },
     "metadata": {},
     "output_type": "display_data"
    }
   ],
   "source": [
    "data[['lat', 'lng']].isna().sum()"
   ]
  },
  {
   "cell_type": "markdown",
   "metadata": {},
   "source": [
    "**Вывод:** в столбцах пропуски отсутствуют."
   ]
  },
  {
   "cell_type": "markdown",
   "metadata": {},
   "source": [
    "3. Проверим столбцы на дубликаты."
   ]
  },
  {
   "cell_type": "code",
   "execution_count": null,
   "metadata": {},
   "outputs": [
    {
     "data": {
      "text/plain": [
       "34"
      ]
     },
     "metadata": {},
     "output_type": "display_data"
    }
   ],
   "source": [
    "data[['lat', 'lng']].duplicated().sum()"
   ]
  },
  {
   "cell_type": "markdown",
   "metadata": {},
   "source": [
    "**Вывод:** в столбце присутствует 34 дубликат, скорей всего, заведения находятся в одном и том же здании, их удалять не будем."
   ]
  },
  {
   "cell_type": "markdown",
   "metadata": {},
   "source": [
    "#### Предобработка данных столбцов 'rating'."
   ]
  },
  {
   "cell_type": "markdown",
   "metadata": {},
   "source": [
    "1. Выведем первые 10 строк данного столбца."
   ]
  },
  {
   "cell_type": "code",
   "execution_count": null,
   "metadata": {},
   "outputs": [
    {
     "data": {
      "text/plain": [
       "0    5.0\n",
       "1    4.5\n",
       "2    4.6\n",
       "3    5.0\n",
       "4    5.0\n",
       "5    4.6\n",
       "6    4.4\n",
       "7    4.7\n",
       "8    4.8\n",
       "9    4.3\n",
       "Name: rating, dtype: float64"
      ]
     },
     "metadata": {},
     "output_type": "display_data"
    }
   ],
   "source": [
    "data['rating'].head(10)"
   ]
  },
  {
   "cell_type": "markdown",
   "metadata": {},
   "source": [
    "2. Проверим столбец на пропуски."
   ]
  },
  {
   "cell_type": "code",
   "execution_count": null,
   "metadata": {},
   "outputs": [
    {
     "data": {
      "text/plain": [
       "0"
      ]
     },
     "metadata": {},
     "output_type": "display_data"
    }
   ],
   "source": [
    "data['rating'].isna().sum()"
   ]
  },
  {
   "cell_type": "markdown",
   "metadata": {},
   "source": [
    "**Вывод:** в столбце пропуски отсутствуют."
   ]
  },
  {
   "cell_type": "markdown",
   "metadata": {},
   "source": [
    "3. Проверим тип данных столбца."
   ]
  },
  {
   "cell_type": "code",
   "execution_count": null,
   "metadata": {},
   "outputs": [
    {
     "name": "stdout",
     "output_type": "stream",
     "text": [
      "<class 'pandas.core.frame.DataFrame'>\n",
      "RangeIndex: 8406 entries, 0 to 8405\n",
      "Data columns (total 14 columns):\n",
      " #   Column             Non-Null Count  Dtype  \n",
      "---  ------             --------------  -----  \n",
      " 0   name               8406 non-null   object \n",
      " 1   category           8406 non-null   object \n",
      " 2   address            8406 non-null   object \n",
      " 3   district           8406 non-null   object \n",
      " 4   hours              8406 non-null   object \n",
      " 5   lat                8406 non-null   float64\n",
      " 6   lng                8406 non-null   float64\n",
      " 7   rating             8406 non-null   float64\n",
      " 8   price              3315 non-null   object \n",
      " 9   avg_bill           3816 non-null   object \n",
      " 10  middle_avg_bill    3149 non-null   float64\n",
      " 11  middle_coffee_cup  535 non-null    float64\n",
      " 12  chain              8406 non-null   int64  \n",
      " 13  seats              4795 non-null   float64\n",
      "dtypes: float64(6), int64(1), object(7)\n",
      "memory usage: 919.5+ KB\n"
     ]
    }
   ],
   "source": [
    "data.info()"
   ]
  },
  {
   "cell_type": "markdown",
   "metadata": {},
   "source": [
    "**Вывод:** тип данных выбран верно."
   ]
  },
  {
   "cell_type": "markdown",
   "metadata": {},
   "source": [
    "#### Предобработка данных столбцов 'price'."
   ]
  },
  {
   "cell_type": "markdown",
   "metadata": {},
   "source": [
    "1. Выведем первые 10 строк данного столбца."
   ]
  },
  {
   "cell_type": "code",
   "execution_count": null,
   "metadata": {},
   "outputs": [
    {
     "data": {
      "text/plain": [
       "0              NaN\n",
       "1    выше среднего\n",
       "2          средние\n",
       "3              NaN\n",
       "4          средние\n",
       "Name: price, dtype: object"
      ]
     },
     "metadata": {},
     "output_type": "display_data"
    }
   ],
   "source": [
    "data['price'].head()"
   ]
  },
  {
   "cell_type": "markdown",
   "metadata": {},
   "source": [
    "2. Посчитаем, сколько пропусков в столбце."
   ]
  },
  {
   "cell_type": "code",
   "execution_count": null,
   "metadata": {},
   "outputs": [
    {
     "data": {
      "text/plain": [
       "5091"
      ]
     },
     "metadata": {},
     "output_type": "display_data"
    }
   ],
   "source": [
    "data['price'].isna().sum()"
   ]
  },
  {
   "cell_type": "markdown",
   "metadata": {},
   "source": [
    "3. Вместо пропусков укажем, что значения были не указаны, чтобы в дальнейшем использовать эту информацию для подсчета."
   ]
  },
  {
   "cell_type": "code",
   "execution_count": null,
   "metadata": {},
   "outputs": [],
   "source": [
    "data['price'] = data['price'].fillna('Не указано')"
   ]
  },
  {
   "cell_type": "markdown",
   "metadata": {},
   "source": [
    "**Вывод:** в столбце 5091 пропуск, удалять их не будем, а заменим на значение 'Не указано'."
   ]
  },
  {
   "cell_type": "markdown",
   "metadata": {},
   "source": [
    "3. Проверим тип данных столбца."
   ]
  },
  {
   "cell_type": "code",
   "execution_count": null,
   "metadata": {},
   "outputs": [
    {
     "name": "stdout",
     "output_type": "stream",
     "text": [
      "<class 'pandas.core.frame.DataFrame'>\n",
      "RangeIndex: 8406 entries, 0 to 8405\n",
      "Data columns (total 14 columns):\n",
      " #   Column             Non-Null Count  Dtype  \n",
      "---  ------             --------------  -----  \n",
      " 0   name               8406 non-null   object \n",
      " 1   category           8406 non-null   object \n",
      " 2   address            8406 non-null   object \n",
      " 3   district           8406 non-null   object \n",
      " 4   hours              8406 non-null   object \n",
      " 5   lat                8406 non-null   float64\n",
      " 6   lng                8406 non-null   float64\n",
      " 7   rating             8406 non-null   float64\n",
      " 8   price              8406 non-null   object \n",
      " 9   avg_bill           3816 non-null   object \n",
      " 10  middle_avg_bill    3149 non-null   float64\n",
      " 11  middle_coffee_cup  535 non-null    float64\n",
      " 12  chain              8406 non-null   int64  \n",
      " 13  seats              4795 non-null   float64\n",
      "dtypes: float64(6), int64(1), object(7)\n",
      "memory usage: 919.5+ KB\n"
     ]
    }
   ],
   "source": [
    "data.info()"
   ]
  },
  {
   "cell_type": "markdown",
   "metadata": {},
   "source": [
    "**Вывод:** тип данных был выбран верно."
   ]
  },
  {
   "cell_type": "markdown",
   "metadata": {},
   "source": [
    "#### Предобработка данных столбцов 'avg_bill'."
   ]
  },
  {
   "cell_type": "markdown",
   "metadata": {},
   "source": [
    "1. Выведем на экран первые 10 строк столбца."
   ]
  },
  {
   "cell_type": "code",
   "execution_count": null,
   "metadata": {},
   "outputs": [
    {
     "data": {
      "text/plain": [
       "0                              NaN\n",
       "1         Средний счёт:1500–1600 ₽\n",
       "2           Средний счёт:от 1000 ₽\n",
       "3    Цена чашки капучино:155–185 ₽\n",
       "4           Средний счёт:400–600 ₽\n",
       "5                              NaN\n",
       "6               Средний счёт:199 ₽\n",
       "7           Средний счёт:200–300 ₽\n",
       "8            Средний счёт:от 500 ₽\n",
       "9         Средний счёт:1000–1200 ₽\n",
       "Name: avg_bill, dtype: object"
      ]
     },
     "metadata": {},
     "output_type": "display_data"
    }
   ],
   "source": [
    "data['avg_bill'].head(10)"
   ]
  },
  {
   "cell_type": "markdown",
   "metadata": {},
   "source": [
    "2. Посчитаем количество пропусков."
   ]
  },
  {
   "cell_type": "code",
   "execution_count": null,
   "metadata": {},
   "outputs": [
    {
     "data": {
      "text/plain": [
       "4590"
      ]
     },
     "metadata": {},
     "output_type": "display_data"
    }
   ],
   "source": [
    "data['avg_bill'].isna().sum()"
   ]
  },
  {
   "cell_type": "markdown",
   "metadata": {},
   "source": [
    "**Вывод:** в столбце 4590 пропусков, скорей всего, цена была не указана. Предлагаю нулевое значение заменить на 'Не указано'"
   ]
  },
  {
   "cell_type": "markdown",
   "metadata": {},
   "source": [
    "3. Заменим пропуски значением 'Не указано'."
   ]
  },
  {
   "cell_type": "code",
   "execution_count": null,
   "metadata": {},
   "outputs": [],
   "source": [
    "data['avg_bill'] = data['avg_bill'].fillna('Не указано')"
   ]
  },
  {
   "cell_type": "markdown",
   "metadata": {},
   "source": [
    "4. Проверим тип данных."
   ]
  },
  {
   "cell_type": "code",
   "execution_count": null,
   "metadata": {},
   "outputs": [
    {
     "name": "stdout",
     "output_type": "stream",
     "text": [
      "<class 'pandas.core.frame.DataFrame'>\n",
      "RangeIndex: 8406 entries, 0 to 8405\n",
      "Data columns (total 14 columns):\n",
      " #   Column             Non-Null Count  Dtype  \n",
      "---  ------             --------------  -----  \n",
      " 0   name               8406 non-null   object \n",
      " 1   category           8406 non-null   object \n",
      " 2   address            8406 non-null   object \n",
      " 3   district           8406 non-null   object \n",
      " 4   hours              8406 non-null   object \n",
      " 5   lat                8406 non-null   float64\n",
      " 6   lng                8406 non-null   float64\n",
      " 7   rating             8406 non-null   float64\n",
      " 8   price              8406 non-null   object \n",
      " 9   avg_bill           8406 non-null   object \n",
      " 10  middle_avg_bill    3149 non-null   float64\n",
      " 11  middle_coffee_cup  535 non-null    float64\n",
      " 12  chain              8406 non-null   int64  \n",
      " 13  seats              4795 non-null   float64\n",
      "dtypes: float64(6), int64(1), object(7)\n",
      "memory usage: 919.5+ KB\n"
     ]
    }
   ],
   "source": [
    "data.info()"
   ]
  },
  {
   "cell_type": "markdown",
   "metadata": {},
   "source": [
    "**Вывод:** так как в столбце помимо цен есть буквы, тип данных должен быть 'object'."
   ]
  },
  {
   "cell_type": "code",
   "execution_count": null,
   "metadata": {},
   "outputs": [
    {
     "data": {
      "text/html": [
       "<div>\n",
       "<style scoped>\n",
       "    .dataframe tbody tr th:only-of-type {\n",
       "        vertical-align: middle;\n",
       "    }\n",
       "\n",
       "    .dataframe tbody tr th {\n",
       "        vertical-align: top;\n",
       "    }\n",
       "\n",
       "    .dataframe thead th {\n",
       "        text-align: right;\n",
       "    }\n",
       "</style>\n",
       "<table border=\"1\" class=\"dataframe\">\n",
       "  <thead>\n",
       "    <tr style=\"text-align: right;\">\n",
       "      <th></th>\n",
       "      <th>name</th>\n",
       "      <th>category</th>\n",
       "      <th>address</th>\n",
       "      <th>district</th>\n",
       "      <th>hours</th>\n",
       "      <th>lat</th>\n",
       "      <th>lng</th>\n",
       "      <th>rating</th>\n",
       "      <th>price</th>\n",
       "      <th>avg_bill</th>\n",
       "      <th>middle_avg_bill</th>\n",
       "      <th>middle_coffee_cup</th>\n",
       "      <th>chain</th>\n",
       "      <th>seats</th>\n",
       "    </tr>\n",
       "  </thead>\n",
       "  <tbody>\n",
       "    <tr>\n",
       "      <th>0</th>\n",
       "      <td>WoWфли</td>\n",
       "      <td>кафе</td>\n",
       "      <td>Москва, улица Дыбенко, 7/1</td>\n",
       "      <td>Северный административный округ</td>\n",
       "      <td>ежедневно, 10:00–22:00</td>\n",
       "      <td>55.878494</td>\n",
       "      <td>37.478860</td>\n",
       "      <td>5.0</td>\n",
       "      <td>Не указано</td>\n",
       "      <td>Не указано</td>\n",
       "      <td>NaN</td>\n",
       "      <td>NaN</td>\n",
       "      <td>0</td>\n",
       "      <td>NaN</td>\n",
       "    </tr>\n",
       "    <tr>\n",
       "      <th>1</th>\n",
       "      <td>Четыре комнаты</td>\n",
       "      <td>ресторан</td>\n",
       "      <td>Москва, улица Дыбенко, 36, корп. 1</td>\n",
       "      <td>Северный административный округ</td>\n",
       "      <td>ежедневно, 10:00–22:00</td>\n",
       "      <td>55.875801</td>\n",
       "      <td>37.484479</td>\n",
       "      <td>4.5</td>\n",
       "      <td>выше среднего</td>\n",
       "      <td>Средний счёт:1500–1600 ₽</td>\n",
       "      <td>1550.0</td>\n",
       "      <td>NaN</td>\n",
       "      <td>0</td>\n",
       "      <td>4.0</td>\n",
       "    </tr>\n",
       "    <tr>\n",
       "      <th>2</th>\n",
       "      <td>Хазри</td>\n",
       "      <td>кафе</td>\n",
       "      <td>Москва, Клязьминская улица, 15</td>\n",
       "      <td>Северный административный округ</td>\n",
       "      <td>пн-чт 11:00–02:00; пт,сб 11:00–05:00; вс 11:00...</td>\n",
       "      <td>55.889146</td>\n",
       "      <td>37.525901</td>\n",
       "      <td>4.6</td>\n",
       "      <td>средние</td>\n",
       "      <td>Средний счёт:от 1000 ₽</td>\n",
       "      <td>1000.0</td>\n",
       "      <td>NaN</td>\n",
       "      <td>0</td>\n",
       "      <td>45.0</td>\n",
       "    </tr>\n",
       "    <tr>\n",
       "      <th>3</th>\n",
       "      <td>Dormouse Coffee Shop</td>\n",
       "      <td>кофейня</td>\n",
       "      <td>Москва, улица Маршала Федоренко, 12</td>\n",
       "      <td>Северный административный округ</td>\n",
       "      <td>ежедневно, 09:00–22:00</td>\n",
       "      <td>55.881608</td>\n",
       "      <td>37.488860</td>\n",
       "      <td>5.0</td>\n",
       "      <td>Не указано</td>\n",
       "      <td>Цена чашки капучино:155–185 ₽</td>\n",
       "      <td>NaN</td>\n",
       "      <td>170.0</td>\n",
       "      <td>0</td>\n",
       "      <td>NaN</td>\n",
       "    </tr>\n",
       "    <tr>\n",
       "      <th>4</th>\n",
       "      <td>Иль Марко</td>\n",
       "      <td>пиццерия</td>\n",
       "      <td>Москва, Правобережная улица, 1Б</td>\n",
       "      <td>Северный административный округ</td>\n",
       "      <td>ежедневно, 10:00–22:00</td>\n",
       "      <td>55.881166</td>\n",
       "      <td>37.449357</td>\n",
       "      <td>5.0</td>\n",
       "      <td>средние</td>\n",
       "      <td>Средний счёт:400–600 ₽</td>\n",
       "      <td>500.0</td>\n",
       "      <td>NaN</td>\n",
       "      <td>1</td>\n",
       "      <td>148.0</td>\n",
       "    </tr>\n",
       "    <tr>\n",
       "      <th>...</th>\n",
       "      <td>...</td>\n",
       "      <td>...</td>\n",
       "      <td>...</td>\n",
       "      <td>...</td>\n",
       "      <td>...</td>\n",
       "      <td>...</td>\n",
       "      <td>...</td>\n",
       "      <td>...</td>\n",
       "      <td>...</td>\n",
       "      <td>...</td>\n",
       "      <td>...</td>\n",
       "      <td>...</td>\n",
       "      <td>...</td>\n",
       "      <td>...</td>\n",
       "    </tr>\n",
       "    <tr>\n",
       "      <th>8401</th>\n",
       "      <td>Суши Мания</td>\n",
       "      <td>кафе</td>\n",
       "      <td>Москва, Профсоюзная улица, 56</td>\n",
       "      <td>Юго-Западный административный округ</td>\n",
       "      <td>ежедневно, 09:00–02:00</td>\n",
       "      <td>55.670021</td>\n",
       "      <td>37.552480</td>\n",
       "      <td>4.4</td>\n",
       "      <td>Не указано</td>\n",
       "      <td>Не указано</td>\n",
       "      <td>NaN</td>\n",
       "      <td>NaN</td>\n",
       "      <td>0</td>\n",
       "      <td>86.0</td>\n",
       "    </tr>\n",
       "    <tr>\n",
       "      <th>8402</th>\n",
       "      <td>Миславнес</td>\n",
       "      <td>кафе</td>\n",
       "      <td>Москва, Пролетарский проспект, 19, корп. 1</td>\n",
       "      <td>Южный административный округ</td>\n",
       "      <td>ежедневно, 08:00–22:00</td>\n",
       "      <td>55.640875</td>\n",
       "      <td>37.656553</td>\n",
       "      <td>4.8</td>\n",
       "      <td>Не указано</td>\n",
       "      <td>Не указано</td>\n",
       "      <td>NaN</td>\n",
       "      <td>NaN</td>\n",
       "      <td>0</td>\n",
       "      <td>150.0</td>\n",
       "    </tr>\n",
       "    <tr>\n",
       "      <th>8403</th>\n",
       "      <td>Самовар</td>\n",
       "      <td>кафе</td>\n",
       "      <td>Москва, Люблинская улица, 112А, стр. 1</td>\n",
       "      <td>Юго-Восточный административный округ</td>\n",
       "      <td>ежедневно, круглосуточно</td>\n",
       "      <td>55.648859</td>\n",
       "      <td>37.743219</td>\n",
       "      <td>3.9</td>\n",
       "      <td>Не указано</td>\n",
       "      <td>Средний счёт:от 150 ₽</td>\n",
       "      <td>150.0</td>\n",
       "      <td>NaN</td>\n",
       "      <td>0</td>\n",
       "      <td>150.0</td>\n",
       "    </tr>\n",
       "    <tr>\n",
       "      <th>8404</th>\n",
       "      <td>Чайхана Sabr</td>\n",
       "      <td>кафе</td>\n",
       "      <td>Москва, Люблинская улица, 112А, стр. 1</td>\n",
       "      <td>Юго-Восточный административный округ</td>\n",
       "      <td>ежедневно, круглосуточно</td>\n",
       "      <td>55.648849</td>\n",
       "      <td>37.743222</td>\n",
       "      <td>4.2</td>\n",
       "      <td>Не указано</td>\n",
       "      <td>Не указано</td>\n",
       "      <td>NaN</td>\n",
       "      <td>NaN</td>\n",
       "      <td>1</td>\n",
       "      <td>150.0</td>\n",
       "    </tr>\n",
       "    <tr>\n",
       "      <th>8405</th>\n",
       "      <td>Kebab Time</td>\n",
       "      <td>кафе</td>\n",
       "      <td>Москва, Россошанский проезд, 6</td>\n",
       "      <td>Южный административный округ</td>\n",
       "      <td>ежедневно, круглосуточно</td>\n",
       "      <td>55.598229</td>\n",
       "      <td>37.604702</td>\n",
       "      <td>3.9</td>\n",
       "      <td>Не указано</td>\n",
       "      <td>Не указано</td>\n",
       "      <td>NaN</td>\n",
       "      <td>NaN</td>\n",
       "      <td>0</td>\n",
       "      <td>12.0</td>\n",
       "    </tr>\n",
       "  </tbody>\n",
       "</table>\n",
       "<p>8406 rows × 14 columns</p>\n",
       "</div>"
      ],
      "text/plain": [
       "                      name  category  \\\n",
       "0                   WoWфли      кафе   \n",
       "1           Четыре комнаты  ресторан   \n",
       "2                    Хазри      кафе   \n",
       "3     Dormouse Coffee Shop   кофейня   \n",
       "4                Иль Марко  пиццерия   \n",
       "...                    ...       ...   \n",
       "8401            Суши Мания      кафе   \n",
       "8402             Миславнес      кафе   \n",
       "8403               Самовар      кафе   \n",
       "8404          Чайхана Sabr      кафе   \n",
       "8405            Kebab Time      кафе   \n",
       "\n",
       "                                         address  \\\n",
       "0                     Москва, улица Дыбенко, 7/1   \n",
       "1             Москва, улица Дыбенко, 36, корп. 1   \n",
       "2                 Москва, Клязьминская улица, 15   \n",
       "3            Москва, улица Маршала Федоренко, 12   \n",
       "4                Москва, Правобережная улица, 1Б   \n",
       "...                                          ...   \n",
       "8401               Москва, Профсоюзная улица, 56   \n",
       "8402  Москва, Пролетарский проспект, 19, корп. 1   \n",
       "8403      Москва, Люблинская улица, 112А, стр. 1   \n",
       "8404      Москва, Люблинская улица, 112А, стр. 1   \n",
       "8405              Москва, Россошанский проезд, 6   \n",
       "\n",
       "                                  district  \\\n",
       "0          Северный административный округ   \n",
       "1          Северный административный округ   \n",
       "2          Северный административный округ   \n",
       "3          Северный административный округ   \n",
       "4          Северный административный округ   \n",
       "...                                    ...   \n",
       "8401   Юго-Западный административный округ   \n",
       "8402          Южный административный округ   \n",
       "8403  Юго-Восточный административный округ   \n",
       "8404  Юго-Восточный административный округ   \n",
       "8405          Южный административный округ   \n",
       "\n",
       "                                                  hours        lat        lng  \\\n",
       "0                                ежедневно, 10:00–22:00  55.878494  37.478860   \n",
       "1                                ежедневно, 10:00–22:00  55.875801  37.484479   \n",
       "2     пн-чт 11:00–02:00; пт,сб 11:00–05:00; вс 11:00...  55.889146  37.525901   \n",
       "3                                ежедневно, 09:00–22:00  55.881608  37.488860   \n",
       "4                                ежедневно, 10:00–22:00  55.881166  37.449357   \n",
       "...                                                 ...        ...        ...   \n",
       "8401                             ежедневно, 09:00–02:00  55.670021  37.552480   \n",
       "8402                             ежедневно, 08:00–22:00  55.640875  37.656553   \n",
       "8403                           ежедневно, круглосуточно  55.648859  37.743219   \n",
       "8404                           ежедневно, круглосуточно  55.648849  37.743222   \n",
       "8405                           ежедневно, круглосуточно  55.598229  37.604702   \n",
       "\n",
       "      rating          price                       avg_bill  middle_avg_bill  \\\n",
       "0        5.0     Не указано                     Не указано              NaN   \n",
       "1        4.5  выше среднего       Средний счёт:1500–1600 ₽           1550.0   \n",
       "2        4.6        средние         Средний счёт:от 1000 ₽           1000.0   \n",
       "3        5.0     Не указано  Цена чашки капучино:155–185 ₽              NaN   \n",
       "4        5.0        средние         Средний счёт:400–600 ₽            500.0   \n",
       "...      ...            ...                            ...              ...   \n",
       "8401     4.4     Не указано                     Не указано              NaN   \n",
       "8402     4.8     Не указано                     Не указано              NaN   \n",
       "8403     3.9     Не указано          Средний счёт:от 150 ₽            150.0   \n",
       "8404     4.2     Не указано                     Не указано              NaN   \n",
       "8405     3.9     Не указано                     Не указано              NaN   \n",
       "\n",
       "      middle_coffee_cup  chain  seats  \n",
       "0                   NaN      0    NaN  \n",
       "1                   NaN      0    4.0  \n",
       "2                   NaN      0   45.0  \n",
       "3                 170.0      0    NaN  \n",
       "4                   NaN      1  148.0  \n",
       "...                 ...    ...    ...  \n",
       "8401                NaN      0   86.0  \n",
       "8402                NaN      0  150.0  \n",
       "8403                NaN      0  150.0  \n",
       "8404                NaN      1  150.0  \n",
       "8405                NaN      0   12.0  \n",
       "\n",
       "[8406 rows x 14 columns]"
      ]
     },
     "metadata": {},
     "output_type": "display_data"
    }
   ],
   "source": [
    "data"
   ]
  },
  {
   "cell_type": "markdown",
   "metadata": {},
   "source": [
    "#### Предобработка данных столбца 'middle_avg_bill'."
   ]
  },
  {
   "cell_type": "markdown",
   "metadata": {},
   "source": [
    "1. Выведем первые 10 строк данного столбца."
   ]
  },
  {
   "cell_type": "code",
   "execution_count": null,
   "metadata": {},
   "outputs": [
    {
     "data": {
      "text/html": [
       "<div>\n",
       "<style scoped>\n",
       "    .dataframe tbody tr th:only-of-type {\n",
       "        vertical-align: middle;\n",
       "    }\n",
       "\n",
       "    .dataframe tbody tr th {\n",
       "        vertical-align: top;\n",
       "    }\n",
       "\n",
       "    .dataframe thead th {\n",
       "        text-align: right;\n",
       "    }\n",
       "</style>\n",
       "<table border=\"1\" class=\"dataframe\">\n",
       "  <thead>\n",
       "    <tr style=\"text-align: right;\">\n",
       "      <th></th>\n",
       "      <th>middle_avg_bill</th>\n",
       "    </tr>\n",
       "  </thead>\n",
       "  <tbody>\n",
       "    <tr>\n",
       "      <th>0</th>\n",
       "      <td>NaN</td>\n",
       "    </tr>\n",
       "    <tr>\n",
       "      <th>1</th>\n",
       "      <td>1550.0</td>\n",
       "    </tr>\n",
       "    <tr>\n",
       "      <th>2</th>\n",
       "      <td>1000.0</td>\n",
       "    </tr>\n",
       "    <tr>\n",
       "      <th>3</th>\n",
       "      <td>NaN</td>\n",
       "    </tr>\n",
       "    <tr>\n",
       "      <th>4</th>\n",
       "      <td>500.0</td>\n",
       "    </tr>\n",
       "  </tbody>\n",
       "</table>\n",
       "</div>"
      ],
      "text/plain": [
       "   middle_avg_bill\n",
       "0              NaN\n",
       "1           1550.0\n",
       "2           1000.0\n",
       "3              NaN\n",
       "4            500.0"
      ]
     },
     "metadata": {},
     "output_type": "display_data"
    }
   ],
   "source": [
    "data[['middle_avg_bill']].head(5)"
   ]
  },
  {
   "cell_type": "markdown",
   "metadata": {},
   "source": [
    "2. Проверим столбец на пропуски."
   ]
  },
  {
   "cell_type": "code",
   "execution_count": null,
   "metadata": {},
   "outputs": [
    {
     "data": {
      "text/plain": [
       "5257"
      ]
     },
     "metadata": {},
     "output_type": "display_data"
    }
   ],
   "source": [
    "data['middle_avg_bill'].isna().sum()"
   ]
  },
  {
   "cell_type": "markdown",
   "metadata": {},
   "source": [
    "**Вывод:** в столбце 5257 пропусков, что больше половины. На ноль или 'заглушки' заменять нельзя, так как показатель среднего значения и медианы сильно измениться. Предлагаю оставить так, как есть."
   ]
  },
  {
   "cell_type": "markdown",
   "metadata": {},
   "source": [
    "3. Проверим тип данных."
   ]
  },
  {
   "cell_type": "code",
   "execution_count": null,
   "metadata": {},
   "outputs": [
    {
     "name": "stdout",
     "output_type": "stream",
     "text": [
      "<class 'pandas.core.frame.DataFrame'>\n",
      "RangeIndex: 8406 entries, 0 to 8405\n",
      "Data columns (total 14 columns):\n",
      " #   Column             Non-Null Count  Dtype  \n",
      "---  ------             --------------  -----  \n",
      " 0   name               8406 non-null   object \n",
      " 1   category           8406 non-null   object \n",
      " 2   address            8406 non-null   object \n",
      " 3   district           8406 non-null   object \n",
      " 4   hours              8406 non-null   object \n",
      " 5   lat                8406 non-null   float64\n",
      " 6   lng                8406 non-null   float64\n",
      " 7   rating             8406 non-null   float64\n",
      " 8   price              8406 non-null   object \n",
      " 9   avg_bill           8406 non-null   object \n",
      " 10  middle_avg_bill    3149 non-null   float64\n",
      " 11  middle_coffee_cup  535 non-null    float64\n",
      " 12  chain              8406 non-null   int64  \n",
      " 13  seats              4795 non-null   float64\n",
      "dtypes: float64(6), int64(1), object(7)\n",
      "memory usage: 919.5+ KB\n"
     ]
    }
   ],
   "source": [
    "data.info()"
   ]
  },
  {
   "cell_type": "markdown",
   "metadata": {},
   "source": [
    "**Вывод:** так как столбце пропуски, мы не можем изменить столбец на тип данных 'int', оставляем как есть."
   ]
  },
  {
   "cell_type": "markdown",
   "metadata": {},
   "source": [
    "#### Предобработка данных столбца 'middle_coffee_cup'."
   ]
  },
  {
   "cell_type": "markdown",
   "metadata": {},
   "source": [
    "1. Выведем 10 первых строк столбца."
   ]
  },
  {
   "cell_type": "code",
   "execution_count": null,
   "metadata": {},
   "outputs": [
    {
     "data": {
      "text/plain": [
       "0         NaN\n",
       "1         NaN\n",
       "2         NaN\n",
       "3       170.0\n",
       "4         NaN\n",
       "        ...  \n",
       "8401      NaN\n",
       "8402      NaN\n",
       "8403      NaN\n",
       "8404      NaN\n",
       "8405      NaN\n",
       "Name: middle_coffee_cup, Length: 8406, dtype: float64"
      ]
     },
     "metadata": {},
     "output_type": "display_data"
    }
   ],
   "source": [
    "data['middle_coffee_cup']"
   ]
  },
  {
   "cell_type": "markdown",
   "metadata": {},
   "source": [
    "2. Узнаем количество пропусков в столбце."
   ]
  },
  {
   "cell_type": "code",
   "execution_count": null,
   "metadata": {},
   "outputs": [
    {
     "data": {
      "text/plain": [
       "7871"
      ]
     },
     "metadata": {},
     "output_type": "display_data"
    }
   ],
   "source": [
    "data['middle_coffee_cup'].isna().sum()"
   ]
  },
  {
   "cell_type": "markdown",
   "metadata": {},
   "source": [
    "**Вывод:** в столбце 7871 пропуск, значения либо не указаны, либо такого товара в некоторых заведениях нет. Для того, чтобы не испортить данные, предлагаю не заменять пропуски на заглушки."
   ]
  },
  {
   "cell_type": "markdown",
   "metadata": {},
   "source": [
    "3. Узнаем тип данных."
   ]
  },
  {
   "cell_type": "code",
   "execution_count": null,
   "metadata": {},
   "outputs": [
    {
     "name": "stdout",
     "output_type": "stream",
     "text": [
      "<class 'pandas.core.frame.DataFrame'>\n",
      "RangeIndex: 8406 entries, 0 to 8405\n",
      "Data columns (total 14 columns):\n",
      " #   Column             Non-Null Count  Dtype  \n",
      "---  ------             --------------  -----  \n",
      " 0   name               8406 non-null   object \n",
      " 1   category           8406 non-null   object \n",
      " 2   address            8406 non-null   object \n",
      " 3   district           8406 non-null   object \n",
      " 4   hours              8406 non-null   object \n",
      " 5   lat                8406 non-null   float64\n",
      " 6   lng                8406 non-null   float64\n",
      " 7   rating             8406 non-null   float64\n",
      " 8   price              8406 non-null   object \n",
      " 9   avg_bill           8406 non-null   object \n",
      " 10  middle_avg_bill    3149 non-null   float64\n",
      " 11  middle_coffee_cup  535 non-null    float64\n",
      " 12  chain              8406 non-null   int64  \n",
      " 13  seats              4795 non-null   float64\n",
      "dtypes: float64(6), int64(1), object(7)\n",
      "memory usage: 919.5+ KB\n"
     ]
    }
   ],
   "source": [
    "data.info()"
   ]
  },
  {
   "cell_type": "markdown",
   "metadata": {},
   "source": [
    "**Вывод:** тип данных 'float64' из-за пропусков поменять на другой мы не можем, оставляем всё как есть."
   ]
  },
  {
   "cell_type": "markdown",
   "metadata": {},
   "source": [
    "#### Предобработка данных столбца 'chain'."
   ]
  },
  {
   "cell_type": "markdown",
   "metadata": {},
   "source": [
    "1. Выведем 10 первых строк столбца."
   ]
  },
  {
   "cell_type": "code",
   "execution_count": null,
   "metadata": {},
   "outputs": [
    {
     "data": {
      "text/plain": [
       "0    0\n",
       "1    0\n",
       "2    0\n",
       "3    0\n",
       "4    1\n",
       "5    0\n",
       "6    0\n",
       "7    0\n",
       "8    0\n",
       "9    0\n",
       "Name: chain, dtype: int64"
      ]
     },
     "metadata": {},
     "output_type": "display_data"
    }
   ],
   "source": [
    "data['chain'].head(10)"
   ]
  },
  {
   "cell_type": "markdown",
   "metadata": {},
   "source": [
    "2. Узнаем количество пропусков."
   ]
  },
  {
   "cell_type": "code",
   "execution_count": null,
   "metadata": {},
   "outputs": [
    {
     "data": {
      "text/plain": [
       "0"
      ]
     },
     "metadata": {},
     "output_type": "display_data"
    }
   ],
   "source": [
    "data['chain'].isna().sum()"
   ]
  },
  {
   "cell_type": "markdown",
   "metadata": {},
   "source": [
    "**Вывод:** в данном столбце пропуски отсутствуют."
   ]
  },
  {
   "cell_type": "markdown",
   "metadata": {},
   "source": [
    "3. из 1 шага видим, что тип данных выбран верно."
   ]
  },
  {
   "cell_type": "markdown",
   "metadata": {},
   "source": [
    "#### Предобработка данных столбца 'seats'."
   ]
  },
  {
   "cell_type": "markdown",
   "metadata": {},
   "source": [
    "1. Выведем 10 первых строк столбца."
   ]
  },
  {
   "cell_type": "code",
   "execution_count": null,
   "metadata": {},
   "outputs": [
    {
     "data": {
      "text/plain": [
       "0      NaN\n",
       "1      4.0\n",
       "2     45.0\n",
       "3      NaN\n",
       "4    148.0\n",
       "5      NaN\n",
       "6     45.0\n",
       "7     45.0\n",
       "8     79.0\n",
       "9     65.0\n",
       "Name: seats, dtype: float64"
      ]
     },
     "metadata": {},
     "output_type": "display_data"
    }
   ],
   "source": [
    "data['seats'].head(10)"
   ]
  },
  {
   "cell_type": "markdown",
   "metadata": {},
   "source": [
    "2. Узнаем количество пропусков."
   ]
  },
  {
   "cell_type": "code",
   "execution_count": null,
   "metadata": {},
   "outputs": [
    {
     "data": {
      "text/plain": [
       "3611"
      ]
     },
     "metadata": {},
     "output_type": "display_data"
    }
   ],
   "source": [
    "data['seats'].isna().sum()"
   ]
  },
  {
   "cell_type": "markdown",
   "metadata": {},
   "source": [
    "**Вывод:** в столбце 3611 пропусков."
   ]
  },
  {
   "cell_type": "markdown",
   "metadata": {},
   "source": [
    "3. Предлагаю пропуски заменить на медианное значение столбца."
   ]
  },
  {
   "cell_type": "code",
   "execution_count": null,
   "metadata": {},
   "outputs": [],
   "source": [
    "# В переменную median_seats поместим меианное значение столбца\n",
    "median_seats = data['seats'].median()"
   ]
  },
  {
   "cell_type": "code",
   "execution_count": null,
   "metadata": {},
   "outputs": [],
   "source": [
    "data['seats'] = data['seats'].fillna(median_seats)"
   ]
  },
  {
   "cell_type": "code",
   "execution_count": null,
   "metadata": {},
   "outputs": [
    {
     "data": {
      "text/html": [
       "<div>\n",
       "<style scoped>\n",
       "    .dataframe tbody tr th:only-of-type {\n",
       "        vertical-align: middle;\n",
       "    }\n",
       "\n",
       "    .dataframe tbody tr th {\n",
       "        vertical-align: top;\n",
       "    }\n",
       "\n",
       "    .dataframe thead th {\n",
       "        text-align: right;\n",
       "    }\n",
       "</style>\n",
       "<table border=\"1\" class=\"dataframe\">\n",
       "  <thead>\n",
       "    <tr style=\"text-align: right;\">\n",
       "      <th></th>\n",
       "      <th>name</th>\n",
       "      <th>category</th>\n",
       "      <th>address</th>\n",
       "      <th>district</th>\n",
       "      <th>hours</th>\n",
       "      <th>lat</th>\n",
       "      <th>lng</th>\n",
       "      <th>rating</th>\n",
       "      <th>price</th>\n",
       "      <th>avg_bill</th>\n",
       "      <th>middle_avg_bill</th>\n",
       "      <th>middle_coffee_cup</th>\n",
       "      <th>chain</th>\n",
       "      <th>seats</th>\n",
       "    </tr>\n",
       "  </thead>\n",
       "  <tbody>\n",
       "    <tr>\n",
       "      <th>0</th>\n",
       "      <td>WoWфли</td>\n",
       "      <td>кафе</td>\n",
       "      <td>Москва, улица Дыбенко, 7/1</td>\n",
       "      <td>Северный административный округ</td>\n",
       "      <td>ежедневно, 10:00–22:00</td>\n",
       "      <td>55.878494</td>\n",
       "      <td>37.478860</td>\n",
       "      <td>5.0</td>\n",
       "      <td>Не указано</td>\n",
       "      <td>Не указано</td>\n",
       "      <td>NaN</td>\n",
       "      <td>NaN</td>\n",
       "      <td>0</td>\n",
       "      <td>75.0</td>\n",
       "    </tr>\n",
       "    <tr>\n",
       "      <th>1</th>\n",
       "      <td>Четыре комнаты</td>\n",
       "      <td>ресторан</td>\n",
       "      <td>Москва, улица Дыбенко, 36, корп. 1</td>\n",
       "      <td>Северный административный округ</td>\n",
       "      <td>ежедневно, 10:00–22:00</td>\n",
       "      <td>55.875801</td>\n",
       "      <td>37.484479</td>\n",
       "      <td>4.5</td>\n",
       "      <td>выше среднего</td>\n",
       "      <td>Средний счёт:1500–1600 ₽</td>\n",
       "      <td>1550.0</td>\n",
       "      <td>NaN</td>\n",
       "      <td>0</td>\n",
       "      <td>4.0</td>\n",
       "    </tr>\n",
       "    <tr>\n",
       "      <th>2</th>\n",
       "      <td>Хазри</td>\n",
       "      <td>кафе</td>\n",
       "      <td>Москва, Клязьминская улица, 15</td>\n",
       "      <td>Северный административный округ</td>\n",
       "      <td>пн-чт 11:00–02:00; пт,сб 11:00–05:00; вс 11:00...</td>\n",
       "      <td>55.889146</td>\n",
       "      <td>37.525901</td>\n",
       "      <td>4.6</td>\n",
       "      <td>средние</td>\n",
       "      <td>Средний счёт:от 1000 ₽</td>\n",
       "      <td>1000.0</td>\n",
       "      <td>NaN</td>\n",
       "      <td>0</td>\n",
       "      <td>45.0</td>\n",
       "    </tr>\n",
       "    <tr>\n",
       "      <th>3</th>\n",
       "      <td>Dormouse Coffee Shop</td>\n",
       "      <td>кофейня</td>\n",
       "      <td>Москва, улица Маршала Федоренко, 12</td>\n",
       "      <td>Северный административный округ</td>\n",
       "      <td>ежедневно, 09:00–22:00</td>\n",
       "      <td>55.881608</td>\n",
       "      <td>37.488860</td>\n",
       "      <td>5.0</td>\n",
       "      <td>Не указано</td>\n",
       "      <td>Цена чашки капучино:155–185 ₽</td>\n",
       "      <td>NaN</td>\n",
       "      <td>170.0</td>\n",
       "      <td>0</td>\n",
       "      <td>75.0</td>\n",
       "    </tr>\n",
       "    <tr>\n",
       "      <th>4</th>\n",
       "      <td>Иль Марко</td>\n",
       "      <td>пиццерия</td>\n",
       "      <td>Москва, Правобережная улица, 1Б</td>\n",
       "      <td>Северный административный округ</td>\n",
       "      <td>ежедневно, 10:00–22:00</td>\n",
       "      <td>55.881166</td>\n",
       "      <td>37.449357</td>\n",
       "      <td>5.0</td>\n",
       "      <td>средние</td>\n",
       "      <td>Средний счёт:400–600 ₽</td>\n",
       "      <td>500.0</td>\n",
       "      <td>NaN</td>\n",
       "      <td>1</td>\n",
       "      <td>148.0</td>\n",
       "    </tr>\n",
       "    <tr>\n",
       "      <th>...</th>\n",
       "      <td>...</td>\n",
       "      <td>...</td>\n",
       "      <td>...</td>\n",
       "      <td>...</td>\n",
       "      <td>...</td>\n",
       "      <td>...</td>\n",
       "      <td>...</td>\n",
       "      <td>...</td>\n",
       "      <td>...</td>\n",
       "      <td>...</td>\n",
       "      <td>...</td>\n",
       "      <td>...</td>\n",
       "      <td>...</td>\n",
       "      <td>...</td>\n",
       "    </tr>\n",
       "    <tr>\n",
       "      <th>8401</th>\n",
       "      <td>Суши Мания</td>\n",
       "      <td>кафе</td>\n",
       "      <td>Москва, Профсоюзная улица, 56</td>\n",
       "      <td>Юго-Западный административный округ</td>\n",
       "      <td>ежедневно, 09:00–02:00</td>\n",
       "      <td>55.670021</td>\n",
       "      <td>37.552480</td>\n",
       "      <td>4.4</td>\n",
       "      <td>Не указано</td>\n",
       "      <td>Не указано</td>\n",
       "      <td>NaN</td>\n",
       "      <td>NaN</td>\n",
       "      <td>0</td>\n",
       "      <td>86.0</td>\n",
       "    </tr>\n",
       "    <tr>\n",
       "      <th>8402</th>\n",
       "      <td>Миславнес</td>\n",
       "      <td>кафе</td>\n",
       "      <td>Москва, Пролетарский проспект, 19, корп. 1</td>\n",
       "      <td>Южный административный округ</td>\n",
       "      <td>ежедневно, 08:00–22:00</td>\n",
       "      <td>55.640875</td>\n",
       "      <td>37.656553</td>\n",
       "      <td>4.8</td>\n",
       "      <td>Не указано</td>\n",
       "      <td>Не указано</td>\n",
       "      <td>NaN</td>\n",
       "      <td>NaN</td>\n",
       "      <td>0</td>\n",
       "      <td>150.0</td>\n",
       "    </tr>\n",
       "    <tr>\n",
       "      <th>8403</th>\n",
       "      <td>Самовар</td>\n",
       "      <td>кафе</td>\n",
       "      <td>Москва, Люблинская улица, 112А, стр. 1</td>\n",
       "      <td>Юго-Восточный административный округ</td>\n",
       "      <td>ежедневно, круглосуточно</td>\n",
       "      <td>55.648859</td>\n",
       "      <td>37.743219</td>\n",
       "      <td>3.9</td>\n",
       "      <td>Не указано</td>\n",
       "      <td>Средний счёт:от 150 ₽</td>\n",
       "      <td>150.0</td>\n",
       "      <td>NaN</td>\n",
       "      <td>0</td>\n",
       "      <td>150.0</td>\n",
       "    </tr>\n",
       "    <tr>\n",
       "      <th>8404</th>\n",
       "      <td>Чайхана Sabr</td>\n",
       "      <td>кафе</td>\n",
       "      <td>Москва, Люблинская улица, 112А, стр. 1</td>\n",
       "      <td>Юго-Восточный административный округ</td>\n",
       "      <td>ежедневно, круглосуточно</td>\n",
       "      <td>55.648849</td>\n",
       "      <td>37.743222</td>\n",
       "      <td>4.2</td>\n",
       "      <td>Не указано</td>\n",
       "      <td>Не указано</td>\n",
       "      <td>NaN</td>\n",
       "      <td>NaN</td>\n",
       "      <td>1</td>\n",
       "      <td>150.0</td>\n",
       "    </tr>\n",
       "    <tr>\n",
       "      <th>8405</th>\n",
       "      <td>Kebab Time</td>\n",
       "      <td>кафе</td>\n",
       "      <td>Москва, Россошанский проезд, 6</td>\n",
       "      <td>Южный административный округ</td>\n",
       "      <td>ежедневно, круглосуточно</td>\n",
       "      <td>55.598229</td>\n",
       "      <td>37.604702</td>\n",
       "      <td>3.9</td>\n",
       "      <td>Не указано</td>\n",
       "      <td>Не указано</td>\n",
       "      <td>NaN</td>\n",
       "      <td>NaN</td>\n",
       "      <td>0</td>\n",
       "      <td>12.0</td>\n",
       "    </tr>\n",
       "  </tbody>\n",
       "</table>\n",
       "<p>8406 rows × 14 columns</p>\n",
       "</div>"
      ],
      "text/plain": [
       "                      name  category  \\\n",
       "0                   WoWфли      кафе   \n",
       "1           Четыре комнаты  ресторан   \n",
       "2                    Хазри      кафе   \n",
       "3     Dormouse Coffee Shop   кофейня   \n",
       "4                Иль Марко  пиццерия   \n",
       "...                    ...       ...   \n",
       "8401            Суши Мания      кафе   \n",
       "8402             Миславнес      кафе   \n",
       "8403               Самовар      кафе   \n",
       "8404          Чайхана Sabr      кафе   \n",
       "8405            Kebab Time      кафе   \n",
       "\n",
       "                                         address  \\\n",
       "0                     Москва, улица Дыбенко, 7/1   \n",
       "1             Москва, улица Дыбенко, 36, корп. 1   \n",
       "2                 Москва, Клязьминская улица, 15   \n",
       "3            Москва, улица Маршала Федоренко, 12   \n",
       "4                Москва, Правобережная улица, 1Б   \n",
       "...                                          ...   \n",
       "8401               Москва, Профсоюзная улица, 56   \n",
       "8402  Москва, Пролетарский проспект, 19, корп. 1   \n",
       "8403      Москва, Люблинская улица, 112А, стр. 1   \n",
       "8404      Москва, Люблинская улица, 112А, стр. 1   \n",
       "8405              Москва, Россошанский проезд, 6   \n",
       "\n",
       "                                  district  \\\n",
       "0          Северный административный округ   \n",
       "1          Северный административный округ   \n",
       "2          Северный административный округ   \n",
       "3          Северный административный округ   \n",
       "4          Северный административный округ   \n",
       "...                                    ...   \n",
       "8401   Юго-Западный административный округ   \n",
       "8402          Южный административный округ   \n",
       "8403  Юго-Восточный административный округ   \n",
       "8404  Юго-Восточный административный округ   \n",
       "8405          Южный административный округ   \n",
       "\n",
       "                                                  hours        lat        lng  \\\n",
       "0                                ежедневно, 10:00–22:00  55.878494  37.478860   \n",
       "1                                ежедневно, 10:00–22:00  55.875801  37.484479   \n",
       "2     пн-чт 11:00–02:00; пт,сб 11:00–05:00; вс 11:00...  55.889146  37.525901   \n",
       "3                                ежедневно, 09:00–22:00  55.881608  37.488860   \n",
       "4                                ежедневно, 10:00–22:00  55.881166  37.449357   \n",
       "...                                                 ...        ...        ...   \n",
       "8401                             ежедневно, 09:00–02:00  55.670021  37.552480   \n",
       "8402                             ежедневно, 08:00–22:00  55.640875  37.656553   \n",
       "8403                           ежедневно, круглосуточно  55.648859  37.743219   \n",
       "8404                           ежедневно, круглосуточно  55.648849  37.743222   \n",
       "8405                           ежедневно, круглосуточно  55.598229  37.604702   \n",
       "\n",
       "      rating          price                       avg_bill  middle_avg_bill  \\\n",
       "0        5.0     Не указано                     Не указано              NaN   \n",
       "1        4.5  выше среднего       Средний счёт:1500–1600 ₽           1550.0   \n",
       "2        4.6        средние         Средний счёт:от 1000 ₽           1000.0   \n",
       "3        5.0     Не указано  Цена чашки капучино:155–185 ₽              NaN   \n",
       "4        5.0        средние         Средний счёт:400–600 ₽            500.0   \n",
       "...      ...            ...                            ...              ...   \n",
       "8401     4.4     Не указано                     Не указано              NaN   \n",
       "8402     4.8     Не указано                     Не указано              NaN   \n",
       "8403     3.9     Не указано          Средний счёт:от 150 ₽            150.0   \n",
       "8404     4.2     Не указано                     Не указано              NaN   \n",
       "8405     3.9     Не указано                     Не указано              NaN   \n",
       "\n",
       "      middle_coffee_cup  chain  seats  \n",
       "0                   NaN      0   75.0  \n",
       "1                   NaN      0    4.0  \n",
       "2                   NaN      0   45.0  \n",
       "3                 170.0      0   75.0  \n",
       "4                   NaN      1  148.0  \n",
       "...                 ...    ...    ...  \n",
       "8401                NaN      0   86.0  \n",
       "8402                NaN      0  150.0  \n",
       "8403                NaN      0  150.0  \n",
       "8404                NaN      1  150.0  \n",
       "8405                NaN      0   12.0  \n",
       "\n",
       "[8406 rows x 14 columns]"
      ]
     },
     "metadata": {},
     "output_type": "display_data"
    }
   ],
   "source": [
    "data"
   ]
  },
  {
   "cell_type": "markdown",
   "metadata": {},
   "source": [
    "4. Заменим тип данных с 'float64' на 'int64'"
   ]
  },
  {
   "cell_type": "code",
   "execution_count": null,
   "metadata": {},
   "outputs": [],
   "source": [
    "data['seats'] = data['seats'].astype('int64')"
   ]
  },
  {
   "cell_type": "code",
   "execution_count": null,
   "metadata": {},
   "outputs": [
    {
     "name": "stdout",
     "output_type": "stream",
     "text": [
      "<class 'pandas.core.frame.DataFrame'>\n",
      "RangeIndex: 8406 entries, 0 to 8405\n",
      "Data columns (total 14 columns):\n",
      " #   Column             Non-Null Count  Dtype  \n",
      "---  ------             --------------  -----  \n",
      " 0   name               8406 non-null   object \n",
      " 1   category           8406 non-null   object \n",
      " 2   address            8406 non-null   object \n",
      " 3   district           8406 non-null   object \n",
      " 4   hours              8406 non-null   object \n",
      " 5   lat                8406 non-null   float64\n",
      " 6   lng                8406 non-null   float64\n",
      " 7   rating             8406 non-null   float64\n",
      " 8   price              8406 non-null   object \n",
      " 9   avg_bill           8406 non-null   object \n",
      " 10  middle_avg_bill    3149 non-null   float64\n",
      " 11  middle_coffee_cup  535 non-null    float64\n",
      " 12  chain              8406 non-null   int64  \n",
      " 13  seats              8406 non-null   int64  \n",
      "dtypes: float64(5), int64(2), object(7)\n",
      "memory usage: 919.5+ KB\n"
     ]
    }
   ],
   "source": [
    "data.info()"
   ]
  },
  {
   "cell_type": "markdown",
   "metadata": {},
   "source": [
    "### Добавление нового столбца 'street'."
   ]
  },
  {
   "cell_type": "markdown",
   "metadata": {},
   "source": [
    "1. Создадим столбец 'street' с названиями улиц из столбца с адресом."
   ]
  },
  {
   "cell_type": "code",
   "execution_count": null,
   "metadata": {},
   "outputs": [],
   "source": [
    "data['street'] = data['address'].str.split(',').str[1].str.strip()"
   ]
  },
  {
   "cell_type": "code",
   "execution_count": null,
   "metadata": {},
   "outputs": [
    {
     "data": {
      "text/html": [
       "<div>\n",
       "<style scoped>\n",
       "    .dataframe tbody tr th:only-of-type {\n",
       "        vertical-align: middle;\n",
       "    }\n",
       "\n",
       "    .dataframe tbody tr th {\n",
       "        vertical-align: top;\n",
       "    }\n",
       "\n",
       "    .dataframe thead th {\n",
       "        text-align: right;\n",
       "    }\n",
       "</style>\n",
       "<table border=\"1\" class=\"dataframe\">\n",
       "  <thead>\n",
       "    <tr style=\"text-align: right;\">\n",
       "      <th></th>\n",
       "      <th>name</th>\n",
       "      <th>category</th>\n",
       "      <th>address</th>\n",
       "      <th>district</th>\n",
       "      <th>hours</th>\n",
       "      <th>lat</th>\n",
       "      <th>lng</th>\n",
       "      <th>rating</th>\n",
       "      <th>price</th>\n",
       "      <th>avg_bill</th>\n",
       "      <th>middle_avg_bill</th>\n",
       "      <th>middle_coffee_cup</th>\n",
       "      <th>chain</th>\n",
       "      <th>seats</th>\n",
       "      <th>street</th>\n",
       "    </tr>\n",
       "  </thead>\n",
       "  <tbody>\n",
       "    <tr>\n",
       "      <th>0</th>\n",
       "      <td>WoWфли</td>\n",
       "      <td>кафе</td>\n",
       "      <td>Москва, улица Дыбенко, 7/1</td>\n",
       "      <td>Северный административный округ</td>\n",
       "      <td>ежедневно, 10:00–22:00</td>\n",
       "      <td>55.878494</td>\n",
       "      <td>37.478860</td>\n",
       "      <td>5.0</td>\n",
       "      <td>Не указано</td>\n",
       "      <td>Не указано</td>\n",
       "      <td>NaN</td>\n",
       "      <td>NaN</td>\n",
       "      <td>0</td>\n",
       "      <td>75</td>\n",
       "      <td>улица Дыбенко</td>\n",
       "    </tr>\n",
       "    <tr>\n",
       "      <th>1</th>\n",
       "      <td>Четыре комнаты</td>\n",
       "      <td>ресторан</td>\n",
       "      <td>Москва, улица Дыбенко, 36, корп. 1</td>\n",
       "      <td>Северный административный округ</td>\n",
       "      <td>ежедневно, 10:00–22:00</td>\n",
       "      <td>55.875801</td>\n",
       "      <td>37.484479</td>\n",
       "      <td>4.5</td>\n",
       "      <td>выше среднего</td>\n",
       "      <td>Средний счёт:1500–1600 ₽</td>\n",
       "      <td>1550.0</td>\n",
       "      <td>NaN</td>\n",
       "      <td>0</td>\n",
       "      <td>4</td>\n",
       "      <td>улица Дыбенко</td>\n",
       "    </tr>\n",
       "    <tr>\n",
       "      <th>2</th>\n",
       "      <td>Хазри</td>\n",
       "      <td>кафе</td>\n",
       "      <td>Москва, Клязьминская улица, 15</td>\n",
       "      <td>Северный административный округ</td>\n",
       "      <td>пн-чт 11:00–02:00; пт,сб 11:00–05:00; вс 11:00...</td>\n",
       "      <td>55.889146</td>\n",
       "      <td>37.525901</td>\n",
       "      <td>4.6</td>\n",
       "      <td>средние</td>\n",
       "      <td>Средний счёт:от 1000 ₽</td>\n",
       "      <td>1000.0</td>\n",
       "      <td>NaN</td>\n",
       "      <td>0</td>\n",
       "      <td>45</td>\n",
       "      <td>Клязьминская улица</td>\n",
       "    </tr>\n",
       "    <tr>\n",
       "      <th>3</th>\n",
       "      <td>Dormouse Coffee Shop</td>\n",
       "      <td>кофейня</td>\n",
       "      <td>Москва, улица Маршала Федоренко, 12</td>\n",
       "      <td>Северный административный округ</td>\n",
       "      <td>ежедневно, 09:00–22:00</td>\n",
       "      <td>55.881608</td>\n",
       "      <td>37.488860</td>\n",
       "      <td>5.0</td>\n",
       "      <td>Не указано</td>\n",
       "      <td>Цена чашки капучино:155–185 ₽</td>\n",
       "      <td>NaN</td>\n",
       "      <td>170.0</td>\n",
       "      <td>0</td>\n",
       "      <td>75</td>\n",
       "      <td>улица Маршала Федоренко</td>\n",
       "    </tr>\n",
       "    <tr>\n",
       "      <th>4</th>\n",
       "      <td>Иль Марко</td>\n",
       "      <td>пиццерия</td>\n",
       "      <td>Москва, Правобережная улица, 1Б</td>\n",
       "      <td>Северный административный округ</td>\n",
       "      <td>ежедневно, 10:00–22:00</td>\n",
       "      <td>55.881166</td>\n",
       "      <td>37.449357</td>\n",
       "      <td>5.0</td>\n",
       "      <td>средние</td>\n",
       "      <td>Средний счёт:400–600 ₽</td>\n",
       "      <td>500.0</td>\n",
       "      <td>NaN</td>\n",
       "      <td>1</td>\n",
       "      <td>148</td>\n",
       "      <td>Правобережная улица</td>\n",
       "    </tr>\n",
       "    <tr>\n",
       "      <th>...</th>\n",
       "      <td>...</td>\n",
       "      <td>...</td>\n",
       "      <td>...</td>\n",
       "      <td>...</td>\n",
       "      <td>...</td>\n",
       "      <td>...</td>\n",
       "      <td>...</td>\n",
       "      <td>...</td>\n",
       "      <td>...</td>\n",
       "      <td>...</td>\n",
       "      <td>...</td>\n",
       "      <td>...</td>\n",
       "      <td>...</td>\n",
       "      <td>...</td>\n",
       "      <td>...</td>\n",
       "    </tr>\n",
       "    <tr>\n",
       "      <th>8401</th>\n",
       "      <td>Суши Мания</td>\n",
       "      <td>кафе</td>\n",
       "      <td>Москва, Профсоюзная улица, 56</td>\n",
       "      <td>Юго-Западный административный округ</td>\n",
       "      <td>ежедневно, 09:00–02:00</td>\n",
       "      <td>55.670021</td>\n",
       "      <td>37.552480</td>\n",
       "      <td>4.4</td>\n",
       "      <td>Не указано</td>\n",
       "      <td>Не указано</td>\n",
       "      <td>NaN</td>\n",
       "      <td>NaN</td>\n",
       "      <td>0</td>\n",
       "      <td>86</td>\n",
       "      <td>Профсоюзная улица</td>\n",
       "    </tr>\n",
       "    <tr>\n",
       "      <th>8402</th>\n",
       "      <td>Миславнес</td>\n",
       "      <td>кафе</td>\n",
       "      <td>Москва, Пролетарский проспект, 19, корп. 1</td>\n",
       "      <td>Южный административный округ</td>\n",
       "      <td>ежедневно, 08:00–22:00</td>\n",
       "      <td>55.640875</td>\n",
       "      <td>37.656553</td>\n",
       "      <td>4.8</td>\n",
       "      <td>Не указано</td>\n",
       "      <td>Не указано</td>\n",
       "      <td>NaN</td>\n",
       "      <td>NaN</td>\n",
       "      <td>0</td>\n",
       "      <td>150</td>\n",
       "      <td>Пролетарский проспект</td>\n",
       "    </tr>\n",
       "    <tr>\n",
       "      <th>8403</th>\n",
       "      <td>Самовар</td>\n",
       "      <td>кафе</td>\n",
       "      <td>Москва, Люблинская улица, 112А, стр. 1</td>\n",
       "      <td>Юго-Восточный административный округ</td>\n",
       "      <td>ежедневно, круглосуточно</td>\n",
       "      <td>55.648859</td>\n",
       "      <td>37.743219</td>\n",
       "      <td>3.9</td>\n",
       "      <td>Не указано</td>\n",
       "      <td>Средний счёт:от 150 ₽</td>\n",
       "      <td>150.0</td>\n",
       "      <td>NaN</td>\n",
       "      <td>0</td>\n",
       "      <td>150</td>\n",
       "      <td>Люблинская улица</td>\n",
       "    </tr>\n",
       "    <tr>\n",
       "      <th>8404</th>\n",
       "      <td>Чайхана Sabr</td>\n",
       "      <td>кафе</td>\n",
       "      <td>Москва, Люблинская улица, 112А, стр. 1</td>\n",
       "      <td>Юго-Восточный административный округ</td>\n",
       "      <td>ежедневно, круглосуточно</td>\n",
       "      <td>55.648849</td>\n",
       "      <td>37.743222</td>\n",
       "      <td>4.2</td>\n",
       "      <td>Не указано</td>\n",
       "      <td>Не указано</td>\n",
       "      <td>NaN</td>\n",
       "      <td>NaN</td>\n",
       "      <td>1</td>\n",
       "      <td>150</td>\n",
       "      <td>Люблинская улица</td>\n",
       "    </tr>\n",
       "    <tr>\n",
       "      <th>8405</th>\n",
       "      <td>Kebab Time</td>\n",
       "      <td>кафе</td>\n",
       "      <td>Москва, Россошанский проезд, 6</td>\n",
       "      <td>Южный административный округ</td>\n",
       "      <td>ежедневно, круглосуточно</td>\n",
       "      <td>55.598229</td>\n",
       "      <td>37.604702</td>\n",
       "      <td>3.9</td>\n",
       "      <td>Не указано</td>\n",
       "      <td>Не указано</td>\n",
       "      <td>NaN</td>\n",
       "      <td>NaN</td>\n",
       "      <td>0</td>\n",
       "      <td>12</td>\n",
       "      <td>Россошанский проезд</td>\n",
       "    </tr>\n",
       "  </tbody>\n",
       "</table>\n",
       "<p>8406 rows × 15 columns</p>\n",
       "</div>"
      ],
      "text/plain": [
       "                      name  category  \\\n",
       "0                   WoWфли      кафе   \n",
       "1           Четыре комнаты  ресторан   \n",
       "2                    Хазри      кафе   \n",
       "3     Dormouse Coffee Shop   кофейня   \n",
       "4                Иль Марко  пиццерия   \n",
       "...                    ...       ...   \n",
       "8401            Суши Мания      кафе   \n",
       "8402             Миславнес      кафе   \n",
       "8403               Самовар      кафе   \n",
       "8404          Чайхана Sabr      кафе   \n",
       "8405            Kebab Time      кафе   \n",
       "\n",
       "                                         address  \\\n",
       "0                     Москва, улица Дыбенко, 7/1   \n",
       "1             Москва, улица Дыбенко, 36, корп. 1   \n",
       "2                 Москва, Клязьминская улица, 15   \n",
       "3            Москва, улица Маршала Федоренко, 12   \n",
       "4                Москва, Правобережная улица, 1Б   \n",
       "...                                          ...   \n",
       "8401               Москва, Профсоюзная улица, 56   \n",
       "8402  Москва, Пролетарский проспект, 19, корп. 1   \n",
       "8403      Москва, Люблинская улица, 112А, стр. 1   \n",
       "8404      Москва, Люблинская улица, 112А, стр. 1   \n",
       "8405              Москва, Россошанский проезд, 6   \n",
       "\n",
       "                                  district  \\\n",
       "0          Северный административный округ   \n",
       "1          Северный административный округ   \n",
       "2          Северный административный округ   \n",
       "3          Северный административный округ   \n",
       "4          Северный административный округ   \n",
       "...                                    ...   \n",
       "8401   Юго-Западный административный округ   \n",
       "8402          Южный административный округ   \n",
       "8403  Юго-Восточный административный округ   \n",
       "8404  Юго-Восточный административный округ   \n",
       "8405          Южный административный округ   \n",
       "\n",
       "                                                  hours        lat        lng  \\\n",
       "0                                ежедневно, 10:00–22:00  55.878494  37.478860   \n",
       "1                                ежедневно, 10:00–22:00  55.875801  37.484479   \n",
       "2     пн-чт 11:00–02:00; пт,сб 11:00–05:00; вс 11:00...  55.889146  37.525901   \n",
       "3                                ежедневно, 09:00–22:00  55.881608  37.488860   \n",
       "4                                ежедневно, 10:00–22:00  55.881166  37.449357   \n",
       "...                                                 ...        ...        ...   \n",
       "8401                             ежедневно, 09:00–02:00  55.670021  37.552480   \n",
       "8402                             ежедневно, 08:00–22:00  55.640875  37.656553   \n",
       "8403                           ежедневно, круглосуточно  55.648859  37.743219   \n",
       "8404                           ежедневно, круглосуточно  55.648849  37.743222   \n",
       "8405                           ежедневно, круглосуточно  55.598229  37.604702   \n",
       "\n",
       "      rating          price                       avg_bill  middle_avg_bill  \\\n",
       "0        5.0     Не указано                     Не указано              NaN   \n",
       "1        4.5  выше среднего       Средний счёт:1500–1600 ₽           1550.0   \n",
       "2        4.6        средние         Средний счёт:от 1000 ₽           1000.0   \n",
       "3        5.0     Не указано  Цена чашки капучино:155–185 ₽              NaN   \n",
       "4        5.0        средние         Средний счёт:400–600 ₽            500.0   \n",
       "...      ...            ...                            ...              ...   \n",
       "8401     4.4     Не указано                     Не указано              NaN   \n",
       "8402     4.8     Не указано                     Не указано              NaN   \n",
       "8403     3.9     Не указано          Средний счёт:от 150 ₽            150.0   \n",
       "8404     4.2     Не указано                     Не указано              NaN   \n",
       "8405     3.9     Не указано                     Не указано              NaN   \n",
       "\n",
       "      middle_coffee_cup  chain  seats                   street  \n",
       "0                   NaN      0     75            улица Дыбенко  \n",
       "1                   NaN      0      4            улица Дыбенко  \n",
       "2                   NaN      0     45       Клязьминская улица  \n",
       "3                 170.0      0     75  улица Маршала Федоренко  \n",
       "4                   NaN      1    148      Правобережная улица  \n",
       "...                 ...    ...    ...                      ...  \n",
       "8401                NaN      0     86        Профсоюзная улица  \n",
       "8402                NaN      0    150    Пролетарский проспект  \n",
       "8403                NaN      0    150         Люблинская улица  \n",
       "8404                NaN      1    150         Люблинская улица  \n",
       "8405                NaN      0     12      Россошанский проезд  \n",
       "\n",
       "[8406 rows x 15 columns]"
      ]
     },
     "metadata": {},
     "output_type": "display_data"
    }
   ],
   "source": [
    "data"
   ]
  },
  {
   "cell_type": "markdown",
   "metadata": {},
   "source": [
    "**Вывод:** был создан столбец 'street', в котором содержатся только названия улиц."
   ]
  },
  {
   "cell_type": "markdown",
   "metadata": {},
   "source": [
    "### Создадим столбец 'is_24/7' с обозначением, что заведение работает ежедневно и круглосуточно (24/7):"
   ]
  },
  {
   "cell_type": "markdown",
   "metadata": {},
   "source": [
    "1. С помощью фильтрации создадим столбец 'is_24/7', который будет показывать, круглосуточно ли работает заведение."
   ]
  },
  {
   "cell_type": "code",
   "execution_count": null,
   "metadata": {},
   "outputs": [],
   "source": [
    "data['is_24/7'] = data['hours'].apply(lambda x: True if 'круглосуточно' in x else False)\n",
    "data.loc[data['is_24/7'] == True, 'hours'] = 'ежедневно, круглосуточно'"
   ]
  },
  {
   "cell_type": "code",
   "execution_count": null,
   "metadata": {},
   "outputs": [
    {
     "data": {
      "text/html": [
       "<div>\n",
       "<style scoped>\n",
       "    .dataframe tbody tr th:only-of-type {\n",
       "        vertical-align: middle;\n",
       "    }\n",
       "\n",
       "    .dataframe tbody tr th {\n",
       "        vertical-align: top;\n",
       "    }\n",
       "\n",
       "    .dataframe thead th {\n",
       "        text-align: right;\n",
       "    }\n",
       "</style>\n",
       "<table border=\"1\" class=\"dataframe\">\n",
       "  <thead>\n",
       "    <tr style=\"text-align: right;\">\n",
       "      <th></th>\n",
       "      <th>name</th>\n",
       "      <th>category</th>\n",
       "      <th>address</th>\n",
       "      <th>district</th>\n",
       "      <th>hours</th>\n",
       "      <th>lat</th>\n",
       "      <th>lng</th>\n",
       "      <th>rating</th>\n",
       "      <th>price</th>\n",
       "      <th>avg_bill</th>\n",
       "      <th>middle_avg_bill</th>\n",
       "      <th>middle_coffee_cup</th>\n",
       "      <th>chain</th>\n",
       "      <th>seats</th>\n",
       "      <th>street</th>\n",
       "      <th>is_24/7</th>\n",
       "    </tr>\n",
       "  </thead>\n",
       "  <tbody>\n",
       "    <tr>\n",
       "      <th>0</th>\n",
       "      <td>WoWфли</td>\n",
       "      <td>кафе</td>\n",
       "      <td>Москва, улица Дыбенко, 7/1</td>\n",
       "      <td>Северный административный округ</td>\n",
       "      <td>ежедневно, 10:00–22:00</td>\n",
       "      <td>55.878494</td>\n",
       "      <td>37.478860</td>\n",
       "      <td>5.0</td>\n",
       "      <td>Не указано</td>\n",
       "      <td>Не указано</td>\n",
       "      <td>NaN</td>\n",
       "      <td>NaN</td>\n",
       "      <td>0</td>\n",
       "      <td>75</td>\n",
       "      <td>улица Дыбенко</td>\n",
       "      <td>False</td>\n",
       "    </tr>\n",
       "    <tr>\n",
       "      <th>1</th>\n",
       "      <td>Четыре комнаты</td>\n",
       "      <td>ресторан</td>\n",
       "      <td>Москва, улица Дыбенко, 36, корп. 1</td>\n",
       "      <td>Северный административный округ</td>\n",
       "      <td>ежедневно, 10:00–22:00</td>\n",
       "      <td>55.875801</td>\n",
       "      <td>37.484479</td>\n",
       "      <td>4.5</td>\n",
       "      <td>выше среднего</td>\n",
       "      <td>Средний счёт:1500–1600 ₽</td>\n",
       "      <td>1550.0</td>\n",
       "      <td>NaN</td>\n",
       "      <td>0</td>\n",
       "      <td>4</td>\n",
       "      <td>улица Дыбенко</td>\n",
       "      <td>False</td>\n",
       "    </tr>\n",
       "    <tr>\n",
       "      <th>2</th>\n",
       "      <td>Хазри</td>\n",
       "      <td>кафе</td>\n",
       "      <td>Москва, Клязьминская улица, 15</td>\n",
       "      <td>Северный административный округ</td>\n",
       "      <td>пн-чт 11:00–02:00; пт,сб 11:00–05:00; вс 11:00...</td>\n",
       "      <td>55.889146</td>\n",
       "      <td>37.525901</td>\n",
       "      <td>4.6</td>\n",
       "      <td>средние</td>\n",
       "      <td>Средний счёт:от 1000 ₽</td>\n",
       "      <td>1000.0</td>\n",
       "      <td>NaN</td>\n",
       "      <td>0</td>\n",
       "      <td>45</td>\n",
       "      <td>Клязьминская улица</td>\n",
       "      <td>False</td>\n",
       "    </tr>\n",
       "    <tr>\n",
       "      <th>3</th>\n",
       "      <td>Dormouse Coffee Shop</td>\n",
       "      <td>кофейня</td>\n",
       "      <td>Москва, улица Маршала Федоренко, 12</td>\n",
       "      <td>Северный административный округ</td>\n",
       "      <td>ежедневно, 09:00–22:00</td>\n",
       "      <td>55.881608</td>\n",
       "      <td>37.488860</td>\n",
       "      <td>5.0</td>\n",
       "      <td>Не указано</td>\n",
       "      <td>Цена чашки капучино:155–185 ₽</td>\n",
       "      <td>NaN</td>\n",
       "      <td>170.0</td>\n",
       "      <td>0</td>\n",
       "      <td>75</td>\n",
       "      <td>улица Маршала Федоренко</td>\n",
       "      <td>False</td>\n",
       "    </tr>\n",
       "    <tr>\n",
       "      <th>4</th>\n",
       "      <td>Иль Марко</td>\n",
       "      <td>пиццерия</td>\n",
       "      <td>Москва, Правобережная улица, 1Б</td>\n",
       "      <td>Северный административный округ</td>\n",
       "      <td>ежедневно, 10:00–22:00</td>\n",
       "      <td>55.881166</td>\n",
       "      <td>37.449357</td>\n",
       "      <td>5.0</td>\n",
       "      <td>средние</td>\n",
       "      <td>Средний счёт:400–600 ₽</td>\n",
       "      <td>500.0</td>\n",
       "      <td>NaN</td>\n",
       "      <td>1</td>\n",
       "      <td>148</td>\n",
       "      <td>Правобережная улица</td>\n",
       "      <td>False</td>\n",
       "    </tr>\n",
       "    <tr>\n",
       "      <th>...</th>\n",
       "      <td>...</td>\n",
       "      <td>...</td>\n",
       "      <td>...</td>\n",
       "      <td>...</td>\n",
       "      <td>...</td>\n",
       "      <td>...</td>\n",
       "      <td>...</td>\n",
       "      <td>...</td>\n",
       "      <td>...</td>\n",
       "      <td>...</td>\n",
       "      <td>...</td>\n",
       "      <td>...</td>\n",
       "      <td>...</td>\n",
       "      <td>...</td>\n",
       "      <td>...</td>\n",
       "      <td>...</td>\n",
       "    </tr>\n",
       "    <tr>\n",
       "      <th>8401</th>\n",
       "      <td>Суши Мания</td>\n",
       "      <td>кафе</td>\n",
       "      <td>Москва, Профсоюзная улица, 56</td>\n",
       "      <td>Юго-Западный административный округ</td>\n",
       "      <td>ежедневно, 09:00–02:00</td>\n",
       "      <td>55.670021</td>\n",
       "      <td>37.552480</td>\n",
       "      <td>4.4</td>\n",
       "      <td>Не указано</td>\n",
       "      <td>Не указано</td>\n",
       "      <td>NaN</td>\n",
       "      <td>NaN</td>\n",
       "      <td>0</td>\n",
       "      <td>86</td>\n",
       "      <td>Профсоюзная улица</td>\n",
       "      <td>False</td>\n",
       "    </tr>\n",
       "    <tr>\n",
       "      <th>8402</th>\n",
       "      <td>Миславнес</td>\n",
       "      <td>кафе</td>\n",
       "      <td>Москва, Пролетарский проспект, 19, корп. 1</td>\n",
       "      <td>Южный административный округ</td>\n",
       "      <td>ежедневно, 08:00–22:00</td>\n",
       "      <td>55.640875</td>\n",
       "      <td>37.656553</td>\n",
       "      <td>4.8</td>\n",
       "      <td>Не указано</td>\n",
       "      <td>Не указано</td>\n",
       "      <td>NaN</td>\n",
       "      <td>NaN</td>\n",
       "      <td>0</td>\n",
       "      <td>150</td>\n",
       "      <td>Пролетарский проспект</td>\n",
       "      <td>False</td>\n",
       "    </tr>\n",
       "    <tr>\n",
       "      <th>8403</th>\n",
       "      <td>Самовар</td>\n",
       "      <td>кафе</td>\n",
       "      <td>Москва, Люблинская улица, 112А, стр. 1</td>\n",
       "      <td>Юго-Восточный административный округ</td>\n",
       "      <td>ежедневно, круглосуточно</td>\n",
       "      <td>55.648859</td>\n",
       "      <td>37.743219</td>\n",
       "      <td>3.9</td>\n",
       "      <td>Не указано</td>\n",
       "      <td>Средний счёт:от 150 ₽</td>\n",
       "      <td>150.0</td>\n",
       "      <td>NaN</td>\n",
       "      <td>0</td>\n",
       "      <td>150</td>\n",
       "      <td>Люблинская улица</td>\n",
       "      <td>True</td>\n",
       "    </tr>\n",
       "    <tr>\n",
       "      <th>8404</th>\n",
       "      <td>Чайхана Sabr</td>\n",
       "      <td>кафе</td>\n",
       "      <td>Москва, Люблинская улица, 112А, стр. 1</td>\n",
       "      <td>Юго-Восточный административный округ</td>\n",
       "      <td>ежедневно, круглосуточно</td>\n",
       "      <td>55.648849</td>\n",
       "      <td>37.743222</td>\n",
       "      <td>4.2</td>\n",
       "      <td>Не указано</td>\n",
       "      <td>Не указано</td>\n",
       "      <td>NaN</td>\n",
       "      <td>NaN</td>\n",
       "      <td>1</td>\n",
       "      <td>150</td>\n",
       "      <td>Люблинская улица</td>\n",
       "      <td>True</td>\n",
       "    </tr>\n",
       "    <tr>\n",
       "      <th>8405</th>\n",
       "      <td>Kebab Time</td>\n",
       "      <td>кафе</td>\n",
       "      <td>Москва, Россошанский проезд, 6</td>\n",
       "      <td>Южный административный округ</td>\n",
       "      <td>ежедневно, круглосуточно</td>\n",
       "      <td>55.598229</td>\n",
       "      <td>37.604702</td>\n",
       "      <td>3.9</td>\n",
       "      <td>Не указано</td>\n",
       "      <td>Не указано</td>\n",
       "      <td>NaN</td>\n",
       "      <td>NaN</td>\n",
       "      <td>0</td>\n",
       "      <td>12</td>\n",
       "      <td>Россошанский проезд</td>\n",
       "      <td>True</td>\n",
       "    </tr>\n",
       "  </tbody>\n",
       "</table>\n",
       "<p>8406 rows × 16 columns</p>\n",
       "</div>"
      ],
      "text/plain": [
       "                      name  category  \\\n",
       "0                   WoWфли      кафе   \n",
       "1           Четыре комнаты  ресторан   \n",
       "2                    Хазри      кафе   \n",
       "3     Dormouse Coffee Shop   кофейня   \n",
       "4                Иль Марко  пиццерия   \n",
       "...                    ...       ...   \n",
       "8401            Суши Мания      кафе   \n",
       "8402             Миславнес      кафе   \n",
       "8403               Самовар      кафе   \n",
       "8404          Чайхана Sabr      кафе   \n",
       "8405            Kebab Time      кафе   \n",
       "\n",
       "                                         address  \\\n",
       "0                     Москва, улица Дыбенко, 7/1   \n",
       "1             Москва, улица Дыбенко, 36, корп. 1   \n",
       "2                 Москва, Клязьминская улица, 15   \n",
       "3            Москва, улица Маршала Федоренко, 12   \n",
       "4                Москва, Правобережная улица, 1Б   \n",
       "...                                          ...   \n",
       "8401               Москва, Профсоюзная улица, 56   \n",
       "8402  Москва, Пролетарский проспект, 19, корп. 1   \n",
       "8403      Москва, Люблинская улица, 112А, стр. 1   \n",
       "8404      Москва, Люблинская улица, 112А, стр. 1   \n",
       "8405              Москва, Россошанский проезд, 6   \n",
       "\n",
       "                                  district  \\\n",
       "0          Северный административный округ   \n",
       "1          Северный административный округ   \n",
       "2          Северный административный округ   \n",
       "3          Северный административный округ   \n",
       "4          Северный административный округ   \n",
       "...                                    ...   \n",
       "8401   Юго-Западный административный округ   \n",
       "8402          Южный административный округ   \n",
       "8403  Юго-Восточный административный округ   \n",
       "8404  Юго-Восточный административный округ   \n",
       "8405          Южный административный округ   \n",
       "\n",
       "                                                  hours        lat        lng  \\\n",
       "0                                ежедневно, 10:00–22:00  55.878494  37.478860   \n",
       "1                                ежедневно, 10:00–22:00  55.875801  37.484479   \n",
       "2     пн-чт 11:00–02:00; пт,сб 11:00–05:00; вс 11:00...  55.889146  37.525901   \n",
       "3                                ежедневно, 09:00–22:00  55.881608  37.488860   \n",
       "4                                ежедневно, 10:00–22:00  55.881166  37.449357   \n",
       "...                                                 ...        ...        ...   \n",
       "8401                             ежедневно, 09:00–02:00  55.670021  37.552480   \n",
       "8402                             ежедневно, 08:00–22:00  55.640875  37.656553   \n",
       "8403                           ежедневно, круглосуточно  55.648859  37.743219   \n",
       "8404                           ежедневно, круглосуточно  55.648849  37.743222   \n",
       "8405                           ежедневно, круглосуточно  55.598229  37.604702   \n",
       "\n",
       "      rating          price                       avg_bill  middle_avg_bill  \\\n",
       "0        5.0     Не указано                     Не указано              NaN   \n",
       "1        4.5  выше среднего       Средний счёт:1500–1600 ₽           1550.0   \n",
       "2        4.6        средние         Средний счёт:от 1000 ₽           1000.0   \n",
       "3        5.0     Не указано  Цена чашки капучино:155–185 ₽              NaN   \n",
       "4        5.0        средние         Средний счёт:400–600 ₽            500.0   \n",
       "...      ...            ...                            ...              ...   \n",
       "8401     4.4     Не указано                     Не указано              NaN   \n",
       "8402     4.8     Не указано                     Не указано              NaN   \n",
       "8403     3.9     Не указано          Средний счёт:от 150 ₽            150.0   \n",
       "8404     4.2     Не указано                     Не указано              NaN   \n",
       "8405     3.9     Не указано                     Не указано              NaN   \n",
       "\n",
       "      middle_coffee_cup  chain  seats                   street  is_24/7  \n",
       "0                   NaN      0     75            улица Дыбенко    False  \n",
       "1                   NaN      0      4            улица Дыбенко    False  \n",
       "2                   NaN      0     45       Клязьминская улица    False  \n",
       "3                 170.0      0     75  улица Маршала Федоренко    False  \n",
       "4                   NaN      1    148      Правобережная улица    False  \n",
       "...                 ...    ...    ...                      ...      ...  \n",
       "8401                NaN      0     86        Профсоюзная улица    False  \n",
       "8402                NaN      0    150    Пролетарский проспект    False  \n",
       "8403                NaN      0    150         Люблинская улица     True  \n",
       "8404                NaN      1    150         Люблинская улица     True  \n",
       "8405                NaN      0     12      Россошанский проезд     True  \n",
       "\n",
       "[8406 rows x 16 columns]"
      ]
     },
     "metadata": {},
     "output_type": "display_data"
    }
   ],
   "source": [
    "data"
   ]
  },
  {
   "cell_type": "markdown",
   "metadata": {},
   "source": [
    "**Общий вывод по разделу:** в данном разделе мы загрузили основной датафрейм, предобработали его: удалили дубликаты, проверили на пропуски, в некоторых местах заменили пропуски на другие значения. Добавили два новых столбца: с улицей, где расположено каждое заведение и работает ли оно круглосуточно или нет. Датасет готов для дальнейшего анализа."
   ]
  },
  {
   "cell_type": "code",
   "execution_count": null,
   "metadata": {},
   "outputs": [],
   "source": []
  }
 ],
 "metadata": {
  "ExecuteTimeLog": [
   {
    "duration": 1472,
    "start_time": "2023-08-23T09:42:11.717Z"
   },
   {
    "duration": 581,
    "start_time": "2023-08-23T09:42:26.997Z"
   },
   {
    "duration": 90,
    "start_time": "2023-08-23T09:42:29.293Z"
   },
   {
    "duration": 75,
    "start_time": "2023-08-23T09:42:52.245Z"
   },
   {
    "duration": 65,
    "start_time": "2023-08-23T09:45:32.431Z"
   },
   {
    "duration": 65,
    "start_time": "2023-08-23T09:45:51.078Z"
   },
   {
    "duration": 4,
    "start_time": "2023-08-23T09:45:55.613Z"
   },
   {
    "duration": 4,
    "start_time": "2023-08-23T09:46:05.465Z"
   },
   {
    "duration": 65,
    "start_time": "2023-08-23T09:46:06.079Z"
   },
   {
    "duration": 4,
    "start_time": "2023-08-23T09:46:06.449Z"
   },
   {
    "duration": 22,
    "start_time": "2023-08-23T09:46:15.250Z"
   },
   {
    "duration": 1303,
    "start_time": "2023-08-23T09:46:23.586Z"
   },
   {
    "duration": 64,
    "start_time": "2023-08-23T09:46:24.891Z"
   },
   {
    "duration": 27,
    "start_time": "2023-08-23T09:46:24.957Z"
   },
   {
    "duration": 14,
    "start_time": "2023-08-23T09:48:01.588Z"
   },
   {
    "duration": 26,
    "start_time": "2023-08-23T09:52:50.050Z"
   },
   {
    "duration": 128,
    "start_time": "2023-08-23T09:56:48.953Z"
   },
   {
    "duration": 3,
    "start_time": "2023-08-23T09:56:56.430Z"
   },
   {
    "duration": 4,
    "start_time": "2023-08-23T09:57:22.962Z"
   },
   {
    "duration": 30,
    "start_time": "2023-08-23T09:57:53.953Z"
   },
   {
    "duration": 731,
    "start_time": "2023-08-23T10:01:23.436Z"
   },
   {
    "duration": 7,
    "start_time": "2023-08-23T10:05:51.100Z"
   },
   {
    "duration": 5,
    "start_time": "2023-08-23T10:05:54.408Z"
   },
   {
    "duration": 6,
    "start_time": "2023-08-23T10:06:03.228Z"
   },
   {
    "duration": 20,
    "start_time": "2023-08-23T10:06:31.132Z"
   },
   {
    "duration": 15,
    "start_time": "2023-08-23T10:06:34.553Z"
   },
   {
    "duration": 5,
    "start_time": "2023-08-23T10:07:50.886Z"
   },
   {
    "duration": 28,
    "start_time": "2023-08-23T10:08:01.577Z"
   },
   {
    "duration": 12,
    "start_time": "2023-08-23T10:08:34.553Z"
   },
   {
    "duration": 13,
    "start_time": "2023-08-23T10:08:42.740Z"
   },
   {
    "duration": 10,
    "start_time": "2023-08-23T10:08:52.518Z"
   },
   {
    "duration": 9,
    "start_time": "2023-08-23T10:08:58.608Z"
   },
   {
    "duration": 11,
    "start_time": "2023-08-23T10:09:10.599Z"
   },
   {
    "duration": 15,
    "start_time": "2023-08-23T10:09:17.379Z"
   },
   {
    "duration": 25,
    "start_time": "2023-08-23T10:09:30.277Z"
   },
   {
    "duration": 6,
    "start_time": "2023-08-23T10:10:19.309Z"
   },
   {
    "duration": 5,
    "start_time": "2023-08-23T10:10:31.489Z"
   },
   {
    "duration": 5,
    "start_time": "2023-08-23T10:11:33.393Z"
   },
   {
    "duration": 7,
    "start_time": "2023-08-23T10:12:02.432Z"
   },
   {
    "duration": 5,
    "start_time": "2023-08-23T10:12:45.827Z"
   },
   {
    "duration": 21,
    "start_time": "2023-08-23T10:14:24.542Z"
   },
   {
    "duration": 6,
    "start_time": "2023-08-23T10:14:36.409Z"
   },
   {
    "duration": 18,
    "start_time": "2023-08-23T10:15:27.537Z"
   },
   {
    "duration": 7,
    "start_time": "2023-08-23T10:15:34.496Z"
   },
   {
    "duration": 8,
    "start_time": "2023-08-23T10:15:41.741Z"
   },
   {
    "duration": 17,
    "start_time": "2023-08-23T10:16:21.902Z"
   },
   {
    "duration": 10,
    "start_time": "2023-08-23T10:16:41.002Z"
   },
   {
    "duration": 25,
    "start_time": "2023-08-23T10:18:19.979Z"
   },
   {
    "duration": 36,
    "start_time": "2023-08-23T10:19:58.453Z"
   },
   {
    "duration": 6,
    "start_time": "2023-08-23T10:20:21.307Z"
   },
   {
    "duration": 6,
    "start_time": "2023-08-23T10:20:25.084Z"
   },
   {
    "duration": 10,
    "start_time": "2023-08-23T10:20:45.605Z"
   },
   {
    "duration": 7,
    "start_time": "2023-08-23T10:20:53.222Z"
   },
   {
    "duration": 5,
    "start_time": "2023-08-23T10:21:32.594Z"
   },
   {
    "duration": 6,
    "start_time": "2023-08-23T10:22:56.789Z"
   },
   {
    "duration": 5,
    "start_time": "2023-08-23T10:23:19.751Z"
   },
   {
    "duration": 141,
    "start_time": "2023-08-23T10:23:49.533Z"
   },
   {
    "duration": 6,
    "start_time": "2023-08-23T10:24:02.032Z"
   },
   {
    "duration": 13,
    "start_time": "2023-08-23T10:26:11.023Z"
   },
   {
    "duration": 14,
    "start_time": "2023-08-23T10:26:58.782Z"
   },
   {
    "duration": 13,
    "start_time": "2023-08-23T10:27:28.494Z"
   },
   {
    "duration": 6,
    "start_time": "2023-08-23T10:28:19.025Z"
   },
   {
    "duration": 6,
    "start_time": "2023-08-23T10:28:32.699Z"
   },
   {
    "duration": 6,
    "start_time": "2023-08-23T10:28:36.781Z"
   },
   {
    "duration": 6,
    "start_time": "2023-08-23T10:28:58.282Z"
   },
   {
    "duration": 7,
    "start_time": "2023-08-23T10:29:03.225Z"
   },
   {
    "duration": 6,
    "start_time": "2023-08-23T10:29:39.277Z"
   },
   {
    "duration": 87,
    "start_time": "2023-08-23T10:30:02.758Z"
   },
   {
    "duration": 6,
    "start_time": "2023-08-23T10:30:17.407Z"
   },
   {
    "duration": 14,
    "start_time": "2023-08-23T10:31:47.028Z"
   },
   {
    "duration": 5,
    "start_time": "2023-08-23T10:33:24.367Z"
   },
   {
    "duration": 8,
    "start_time": "2023-08-23T10:34:19.085Z"
   },
   {
    "duration": 13,
    "start_time": "2023-08-23T10:35:33.308Z"
   },
   {
    "duration": 21,
    "start_time": "2023-08-23T10:35:40.755Z"
   },
   {
    "duration": 11,
    "start_time": "2023-08-23T10:36:37.043Z"
   },
   {
    "duration": 14,
    "start_time": "2023-08-23T10:37:27.871Z"
   },
   {
    "duration": 7,
    "start_time": "2023-08-23T10:37:49.814Z"
   },
   {
    "duration": 8,
    "start_time": "2023-08-23T10:39:28.184Z"
   },
   {
    "duration": 25,
    "start_time": "2023-08-23T10:40:32.081Z"
   },
   {
    "duration": 5,
    "start_time": "2023-08-23T10:44:15.263Z"
   },
   {
    "duration": 5,
    "start_time": "2023-08-23T10:44:44.585Z"
   },
   {
    "duration": 14,
    "start_time": "2023-08-23T10:45:23.834Z"
   },
   {
    "duration": 5,
    "start_time": "2023-08-23T10:47:36.242Z"
   },
   {
    "duration": 6,
    "start_time": "2023-08-23T10:48:04.280Z"
   },
   {
    "duration": 14,
    "start_time": "2023-08-23T10:54:40.377Z"
   },
   {
    "duration": 5,
    "start_time": "2023-08-23T11:02:23.121Z"
   },
   {
    "duration": 6,
    "start_time": "2023-08-23T11:02:27.575Z"
   },
   {
    "duration": 4,
    "start_time": "2023-08-23T11:02:36.394Z"
   },
   {
    "duration": 7,
    "start_time": "2023-08-23T11:02:37.273Z"
   },
   {
    "duration": 1312,
    "start_time": "2023-08-23T11:02:43.353Z"
   },
   {
    "duration": 69,
    "start_time": "2023-08-23T11:02:44.668Z"
   },
   {
    "duration": 30,
    "start_time": "2023-08-23T11:02:44.739Z"
   },
   {
    "duration": 4,
    "start_time": "2023-08-23T11:02:44.771Z"
   },
   {
    "duration": 45,
    "start_time": "2023-08-23T11:02:44.777Z"
   },
   {
    "duration": 33,
    "start_time": "2023-08-23T11:02:44.824Z"
   },
   {
    "duration": 708,
    "start_time": "2023-08-23T11:02:44.859Z"
   },
   {
    "duration": 6,
    "start_time": "2023-08-23T11:02:45.568Z"
   },
   {
    "duration": 12,
    "start_time": "2023-08-23T11:02:45.576Z"
   },
   {
    "duration": 15,
    "start_time": "2023-08-23T11:02:45.589Z"
   },
   {
    "duration": 31,
    "start_time": "2023-08-23T11:02:45.605Z"
   },
   {
    "duration": 5,
    "start_time": "2023-08-23T11:02:45.637Z"
   },
   {
    "duration": 13,
    "start_time": "2023-08-23T11:02:45.643Z"
   },
   {
    "duration": 4,
    "start_time": "2023-08-23T11:02:45.659Z"
   },
   {
    "duration": 13,
    "start_time": "2023-08-23T11:02:45.665Z"
   },
   {
    "duration": 11,
    "start_time": "2023-08-23T11:02:45.680Z"
   },
   {
    "duration": 15,
    "start_time": "2023-08-23T11:02:45.693Z"
   },
   {
    "duration": 7,
    "start_time": "2023-08-23T11:02:45.710Z"
   },
   {
    "duration": 16,
    "start_time": "2023-08-23T11:02:45.718Z"
   },
   {
    "duration": 5,
    "start_time": "2023-08-23T11:02:45.736Z"
   },
   {
    "duration": 25,
    "start_time": "2023-08-23T11:02:45.742Z"
   },
   {
    "duration": 6,
    "start_time": "2023-08-23T11:02:45.768Z"
   },
   {
    "duration": 12,
    "start_time": "2023-08-23T11:02:45.776Z"
   },
   {
    "duration": 6,
    "start_time": "2023-08-23T11:02:45.790Z"
   },
   {
    "duration": 6,
    "start_time": "2023-08-23T11:02:45.797Z"
   },
   {
    "duration": 13,
    "start_time": "2023-08-23T11:02:45.805Z"
   },
   {
    "duration": 41,
    "start_time": "2023-08-23T11:02:45.819Z"
   },
   {
    "duration": 9,
    "start_time": "2023-08-23T11:02:45.862Z"
   },
   {
    "duration": 16,
    "start_time": "2023-08-23T11:02:45.872Z"
   },
   {
    "duration": 15,
    "start_time": "2023-08-23T11:02:45.890Z"
   },
   {
    "duration": 6,
    "start_time": "2023-08-23T11:02:45.906Z"
   },
   {
    "duration": 14,
    "start_time": "2023-08-23T11:02:45.913Z"
   },
   {
    "duration": 5,
    "start_time": "2023-08-23T11:02:45.928Z"
   },
   {
    "duration": 8,
    "start_time": "2023-08-23T11:02:45.934Z"
   },
   {
    "duration": 3,
    "start_time": "2023-08-23T11:02:45.957Z"
   },
   {
    "duration": 7,
    "start_time": "2023-08-23T11:02:45.962Z"
   },
   {
    "duration": 13,
    "start_time": "2023-08-23T11:02:45.970Z"
   },
   {
    "duration": 7,
    "start_time": "2023-08-23T11:03:03.402Z"
   },
   {
    "duration": 5,
    "start_time": "2023-08-23T11:04:14.229Z"
   },
   {
    "duration": 23,
    "start_time": "2023-08-23T11:04:17.722Z"
   },
   {
    "duration": 4,
    "start_time": "2023-08-23T11:04:29.187Z"
   }
  ],
  "kernelspec": {
   "display_name": "Python 3 (ipykernel)",
   "language": "python",
   "name": "python3"
  },
  "language_info": {
   "codemirror_mode": {
    "name": "ipython",
    "version": 3
   },
   "file_extension": ".py",
   "mimetype": "text/x-python",
   "name": "python",
   "nbconvert_exporter": "python",
   "pygments_lexer": "ipython3",
   "version": "3.9.5"
  },
  "toc": {
   "base_numbering": 1,
   "nav_menu": {},
   "number_sections": true,
   "sideBar": true,
   "skip_h1_title": true,
   "title_cell": "Table of Contents",
   "title_sidebar": "Contents",
   "toc_cell": false,
   "toc_position": {
    "height": "calc(100% - 180px)",
    "left": "10px",
    "top": "150px",
    "width": "419.098px"
   },
   "toc_section_display": true,
   "toc_window_display": true
  }
 },
 "nbformat": 4,
 "nbformat_minor": 2
}
