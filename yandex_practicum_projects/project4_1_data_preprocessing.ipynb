{
 "cells": [
  {
   "cell_type": "markdown",
   "id": "386f2ae7",
   "metadata": {
    "deletable": false,
    "editable": false,
    "id": "386f2ae7"
   },
   "source": [
    "# Исследование надежности заемщиков\n"
   ]
  },
  {
   "cell_type": "markdown",
   "id": "ffe86f65",
   "metadata": {
    "deletable": false,
    "editable": false,
    "id": "ffe86f65"
   },
   "source": [
    "Во второй части проекта вы выполните шаги 3 и 4. Их вручную проверит ревьюер.\n",
    "Чтобы вам не пришлось писать код заново для шагов 1 и 2, мы добавили авторские решения в ячейки с кодом. \n",
    "\n"
   ]
  },
  {
   "cell_type": "markdown",
   "id": "26613308",
   "metadata": {
    "deletable": false,
    "editable": false,
    "id": "26613308"
   },
   "source": [
    "## Откройте таблицу и изучите общую информацию о данных"
   ]
  },
  {
   "cell_type": "markdown",
   "id": "3c9f838e",
   "metadata": {
    "deletable": false,
    "editable": false,
    "id": "3c9f838e"
   },
   "source": [
    "**Задание 1. Импортируйте библиотеку pandas. Считайте данные из csv-файла в датафрейм и сохраните в переменную `data`. Путь к файлу:**\n",
    "\n",
    "`/datasets/data.csv`"
   ]
  },
  {
   "cell_type": "code",
   "execution_count": 1,
   "id": "77a68a90",
   "metadata": {
    "deletable": false,
    "id": "77a68a90"
   },
   "outputs": [],
   "source": [
    "import pandas as pd\n",
    "\n",
    "try:\n",
    "    data = pd.read_csv('/datasets/data.csv')\n",
    "except:\n",
    "    data = pd.read_csv('https://code.s3.yandex.net/datasets/data.csv')"
   ]
  },
  {
   "cell_type": "markdown",
   "id": "45365635",
   "metadata": {
    "deletable": false,
    "editable": false,
    "id": "45365635"
   },
   "source": [
    "**Задание 2. Выведите первые 20 строчек датафрейма `data` на экран.**"
   ]
  },
  {
   "cell_type": "code",
   "execution_count": 2,
   "id": "b0451a9a",
   "metadata": {
    "deletable": false,
    "id": "b0451a9a",
    "outputId": "1a8f3ef2-d323-4ec2-ddf7-89670b5944c4"
   },
   "outputs": [
    {
     "data": {
      "text/html": [
       "<div>\n",
       "<style scoped>\n",
       "    .dataframe tbody tr th:only-of-type {\n",
       "        vertical-align: middle;\n",
       "    }\n",
       "\n",
       "    .dataframe tbody tr th {\n",
       "        vertical-align: top;\n",
       "    }\n",
       "\n",
       "    .dataframe thead th {\n",
       "        text-align: right;\n",
       "    }\n",
       "</style>\n",
       "<table border=\"1\" class=\"dataframe\">\n",
       "  <thead>\n",
       "    <tr style=\"text-align: right;\">\n",
       "      <th></th>\n",
       "      <th>children</th>\n",
       "      <th>days_employed</th>\n",
       "      <th>dob_years</th>\n",
       "      <th>education</th>\n",
       "      <th>education_id</th>\n",
       "      <th>family_status</th>\n",
       "      <th>family_status_id</th>\n",
       "      <th>gender</th>\n",
       "      <th>income_type</th>\n",
       "      <th>debt</th>\n",
       "      <th>total_income</th>\n",
       "      <th>purpose</th>\n",
       "    </tr>\n",
       "  </thead>\n",
       "  <tbody>\n",
       "    <tr>\n",
       "      <th>0</th>\n",
       "      <td>1</td>\n",
       "      <td>-8437.673028</td>\n",
       "      <td>42</td>\n",
       "      <td>высшее</td>\n",
       "      <td>0</td>\n",
       "      <td>женат / замужем</td>\n",
       "      <td>0</td>\n",
       "      <td>F</td>\n",
       "      <td>сотрудник</td>\n",
       "      <td>0</td>\n",
       "      <td>253875.639453</td>\n",
       "      <td>покупка жилья</td>\n",
       "    </tr>\n",
       "    <tr>\n",
       "      <th>1</th>\n",
       "      <td>1</td>\n",
       "      <td>-4024.803754</td>\n",
       "      <td>36</td>\n",
       "      <td>среднее</td>\n",
       "      <td>1</td>\n",
       "      <td>женат / замужем</td>\n",
       "      <td>0</td>\n",
       "      <td>F</td>\n",
       "      <td>сотрудник</td>\n",
       "      <td>0</td>\n",
       "      <td>112080.014102</td>\n",
       "      <td>приобретение автомобиля</td>\n",
       "    </tr>\n",
       "    <tr>\n",
       "      <th>2</th>\n",
       "      <td>0</td>\n",
       "      <td>-5623.422610</td>\n",
       "      <td>33</td>\n",
       "      <td>Среднее</td>\n",
       "      <td>1</td>\n",
       "      <td>женат / замужем</td>\n",
       "      <td>0</td>\n",
       "      <td>M</td>\n",
       "      <td>сотрудник</td>\n",
       "      <td>0</td>\n",
       "      <td>145885.952297</td>\n",
       "      <td>покупка жилья</td>\n",
       "    </tr>\n",
       "    <tr>\n",
       "      <th>3</th>\n",
       "      <td>3</td>\n",
       "      <td>-4124.747207</td>\n",
       "      <td>32</td>\n",
       "      <td>среднее</td>\n",
       "      <td>1</td>\n",
       "      <td>женат / замужем</td>\n",
       "      <td>0</td>\n",
       "      <td>M</td>\n",
       "      <td>сотрудник</td>\n",
       "      <td>0</td>\n",
       "      <td>267628.550329</td>\n",
       "      <td>дополнительное образование</td>\n",
       "    </tr>\n",
       "    <tr>\n",
       "      <th>4</th>\n",
       "      <td>0</td>\n",
       "      <td>340266.072047</td>\n",
       "      <td>53</td>\n",
       "      <td>среднее</td>\n",
       "      <td>1</td>\n",
       "      <td>гражданский брак</td>\n",
       "      <td>1</td>\n",
       "      <td>F</td>\n",
       "      <td>пенсионер</td>\n",
       "      <td>0</td>\n",
       "      <td>158616.077870</td>\n",
       "      <td>сыграть свадьбу</td>\n",
       "    </tr>\n",
       "    <tr>\n",
       "      <th>5</th>\n",
       "      <td>0</td>\n",
       "      <td>-926.185831</td>\n",
       "      <td>27</td>\n",
       "      <td>высшее</td>\n",
       "      <td>0</td>\n",
       "      <td>гражданский брак</td>\n",
       "      <td>1</td>\n",
       "      <td>M</td>\n",
       "      <td>компаньон</td>\n",
       "      <td>0</td>\n",
       "      <td>255763.565419</td>\n",
       "      <td>покупка жилья</td>\n",
       "    </tr>\n",
       "    <tr>\n",
       "      <th>6</th>\n",
       "      <td>0</td>\n",
       "      <td>-2879.202052</td>\n",
       "      <td>43</td>\n",
       "      <td>высшее</td>\n",
       "      <td>0</td>\n",
       "      <td>женат / замужем</td>\n",
       "      <td>0</td>\n",
       "      <td>F</td>\n",
       "      <td>компаньон</td>\n",
       "      <td>0</td>\n",
       "      <td>240525.971920</td>\n",
       "      <td>операции с жильем</td>\n",
       "    </tr>\n",
       "    <tr>\n",
       "      <th>7</th>\n",
       "      <td>0</td>\n",
       "      <td>-152.779569</td>\n",
       "      <td>50</td>\n",
       "      <td>СРЕДНЕЕ</td>\n",
       "      <td>1</td>\n",
       "      <td>женат / замужем</td>\n",
       "      <td>0</td>\n",
       "      <td>M</td>\n",
       "      <td>сотрудник</td>\n",
       "      <td>0</td>\n",
       "      <td>135823.934197</td>\n",
       "      <td>образование</td>\n",
       "    </tr>\n",
       "    <tr>\n",
       "      <th>8</th>\n",
       "      <td>2</td>\n",
       "      <td>-6929.865299</td>\n",
       "      <td>35</td>\n",
       "      <td>ВЫСШЕЕ</td>\n",
       "      <td>0</td>\n",
       "      <td>гражданский брак</td>\n",
       "      <td>1</td>\n",
       "      <td>F</td>\n",
       "      <td>сотрудник</td>\n",
       "      <td>0</td>\n",
       "      <td>95856.832424</td>\n",
       "      <td>на проведение свадьбы</td>\n",
       "    </tr>\n",
       "    <tr>\n",
       "      <th>9</th>\n",
       "      <td>0</td>\n",
       "      <td>-2188.756445</td>\n",
       "      <td>41</td>\n",
       "      <td>среднее</td>\n",
       "      <td>1</td>\n",
       "      <td>женат / замужем</td>\n",
       "      <td>0</td>\n",
       "      <td>M</td>\n",
       "      <td>сотрудник</td>\n",
       "      <td>0</td>\n",
       "      <td>144425.938277</td>\n",
       "      <td>покупка жилья для семьи</td>\n",
       "    </tr>\n",
       "    <tr>\n",
       "      <th>10</th>\n",
       "      <td>2</td>\n",
       "      <td>-4171.483647</td>\n",
       "      <td>36</td>\n",
       "      <td>высшее</td>\n",
       "      <td>0</td>\n",
       "      <td>женат / замужем</td>\n",
       "      <td>0</td>\n",
       "      <td>M</td>\n",
       "      <td>компаньон</td>\n",
       "      <td>0</td>\n",
       "      <td>113943.491460</td>\n",
       "      <td>покупка недвижимости</td>\n",
       "    </tr>\n",
       "    <tr>\n",
       "      <th>11</th>\n",
       "      <td>0</td>\n",
       "      <td>-792.701887</td>\n",
       "      <td>40</td>\n",
       "      <td>среднее</td>\n",
       "      <td>1</td>\n",
       "      <td>женат / замужем</td>\n",
       "      <td>0</td>\n",
       "      <td>F</td>\n",
       "      <td>сотрудник</td>\n",
       "      <td>0</td>\n",
       "      <td>77069.234271</td>\n",
       "      <td>покупка коммерческой недвижимости</td>\n",
       "    </tr>\n",
       "    <tr>\n",
       "      <th>12</th>\n",
       "      <td>0</td>\n",
       "      <td>NaN</td>\n",
       "      <td>65</td>\n",
       "      <td>среднее</td>\n",
       "      <td>1</td>\n",
       "      <td>гражданский брак</td>\n",
       "      <td>1</td>\n",
       "      <td>M</td>\n",
       "      <td>пенсионер</td>\n",
       "      <td>0</td>\n",
       "      <td>NaN</td>\n",
       "      <td>сыграть свадьбу</td>\n",
       "    </tr>\n",
       "    <tr>\n",
       "      <th>13</th>\n",
       "      <td>0</td>\n",
       "      <td>-1846.641941</td>\n",
       "      <td>54</td>\n",
       "      <td>неоконченное высшее</td>\n",
       "      <td>2</td>\n",
       "      <td>женат / замужем</td>\n",
       "      <td>0</td>\n",
       "      <td>F</td>\n",
       "      <td>сотрудник</td>\n",
       "      <td>0</td>\n",
       "      <td>130458.228857</td>\n",
       "      <td>приобретение автомобиля</td>\n",
       "    </tr>\n",
       "    <tr>\n",
       "      <th>14</th>\n",
       "      <td>0</td>\n",
       "      <td>-1844.956182</td>\n",
       "      <td>56</td>\n",
       "      <td>высшее</td>\n",
       "      <td>0</td>\n",
       "      <td>гражданский брак</td>\n",
       "      <td>1</td>\n",
       "      <td>F</td>\n",
       "      <td>компаньон</td>\n",
       "      <td>1</td>\n",
       "      <td>165127.911772</td>\n",
       "      <td>покупка жилой недвижимости</td>\n",
       "    </tr>\n",
       "    <tr>\n",
       "      <th>15</th>\n",
       "      <td>1</td>\n",
       "      <td>-972.364419</td>\n",
       "      <td>26</td>\n",
       "      <td>среднее</td>\n",
       "      <td>1</td>\n",
       "      <td>женат / замужем</td>\n",
       "      <td>0</td>\n",
       "      <td>F</td>\n",
       "      <td>сотрудник</td>\n",
       "      <td>0</td>\n",
       "      <td>116820.904450</td>\n",
       "      <td>строительство собственной недвижимости</td>\n",
       "    </tr>\n",
       "    <tr>\n",
       "      <th>16</th>\n",
       "      <td>0</td>\n",
       "      <td>-1719.934226</td>\n",
       "      <td>35</td>\n",
       "      <td>среднее</td>\n",
       "      <td>1</td>\n",
       "      <td>женат / замужем</td>\n",
       "      <td>0</td>\n",
       "      <td>F</td>\n",
       "      <td>сотрудник</td>\n",
       "      <td>0</td>\n",
       "      <td>289202.704229</td>\n",
       "      <td>недвижимость</td>\n",
       "    </tr>\n",
       "    <tr>\n",
       "      <th>17</th>\n",
       "      <td>0</td>\n",
       "      <td>-2369.999720</td>\n",
       "      <td>33</td>\n",
       "      <td>высшее</td>\n",
       "      <td>0</td>\n",
       "      <td>гражданский брак</td>\n",
       "      <td>1</td>\n",
       "      <td>M</td>\n",
       "      <td>сотрудник</td>\n",
       "      <td>0</td>\n",
       "      <td>90410.586745</td>\n",
       "      <td>строительство недвижимости</td>\n",
       "    </tr>\n",
       "    <tr>\n",
       "      <th>18</th>\n",
       "      <td>0</td>\n",
       "      <td>400281.136913</td>\n",
       "      <td>53</td>\n",
       "      <td>среднее</td>\n",
       "      <td>1</td>\n",
       "      <td>вдовец / вдова</td>\n",
       "      <td>2</td>\n",
       "      <td>F</td>\n",
       "      <td>пенсионер</td>\n",
       "      <td>0</td>\n",
       "      <td>56823.777243</td>\n",
       "      <td>на покупку подержанного автомобиля</td>\n",
       "    </tr>\n",
       "    <tr>\n",
       "      <th>19</th>\n",
       "      <td>0</td>\n",
       "      <td>-10038.818549</td>\n",
       "      <td>48</td>\n",
       "      <td>СРЕДНЕЕ</td>\n",
       "      <td>1</td>\n",
       "      <td>в разводе</td>\n",
       "      <td>3</td>\n",
       "      <td>F</td>\n",
       "      <td>сотрудник</td>\n",
       "      <td>0</td>\n",
       "      <td>242831.107982</td>\n",
       "      <td>на покупку своего автомобиля</td>\n",
       "    </tr>\n",
       "  </tbody>\n",
       "</table>\n",
       "</div>"
      ],
      "text/plain": [
       "    children  days_employed  dob_years            education  education_id  \\\n",
       "0          1   -8437.673028         42               высшее             0   \n",
       "1          1   -4024.803754         36              среднее             1   \n",
       "2          0   -5623.422610         33              Среднее             1   \n",
       "3          3   -4124.747207         32              среднее             1   \n",
       "4          0  340266.072047         53              среднее             1   \n",
       "5          0    -926.185831         27               высшее             0   \n",
       "6          0   -2879.202052         43               высшее             0   \n",
       "7          0    -152.779569         50              СРЕДНЕЕ             1   \n",
       "8          2   -6929.865299         35               ВЫСШЕЕ             0   \n",
       "9          0   -2188.756445         41              среднее             1   \n",
       "10         2   -4171.483647         36               высшее             0   \n",
       "11         0    -792.701887         40              среднее             1   \n",
       "12         0            NaN         65              среднее             1   \n",
       "13         0   -1846.641941         54  неоконченное высшее             2   \n",
       "14         0   -1844.956182         56               высшее             0   \n",
       "15         1    -972.364419         26              среднее             1   \n",
       "16         0   -1719.934226         35              среднее             1   \n",
       "17         0   -2369.999720         33               высшее             0   \n",
       "18         0  400281.136913         53              среднее             1   \n",
       "19         0  -10038.818549         48              СРЕДНЕЕ             1   \n",
       "\n",
       "       family_status  family_status_id gender income_type  debt  \\\n",
       "0    женат / замужем                 0      F   сотрудник     0   \n",
       "1    женат / замужем                 0      F   сотрудник     0   \n",
       "2    женат / замужем                 0      M   сотрудник     0   \n",
       "3    женат / замужем                 0      M   сотрудник     0   \n",
       "4   гражданский брак                 1      F   пенсионер     0   \n",
       "5   гражданский брак                 1      M   компаньон     0   \n",
       "6    женат / замужем                 0      F   компаньон     0   \n",
       "7    женат / замужем                 0      M   сотрудник     0   \n",
       "8   гражданский брак                 1      F   сотрудник     0   \n",
       "9    женат / замужем                 0      M   сотрудник     0   \n",
       "10   женат / замужем                 0      M   компаньон     0   \n",
       "11   женат / замужем                 0      F   сотрудник     0   \n",
       "12  гражданский брак                 1      M   пенсионер     0   \n",
       "13   женат / замужем                 0      F   сотрудник     0   \n",
       "14  гражданский брак                 1      F   компаньон     1   \n",
       "15   женат / замужем                 0      F   сотрудник     0   \n",
       "16   женат / замужем                 0      F   сотрудник     0   \n",
       "17  гражданский брак                 1      M   сотрудник     0   \n",
       "18    вдовец / вдова                 2      F   пенсионер     0   \n",
       "19         в разводе                 3      F   сотрудник     0   \n",
       "\n",
       "     total_income                                 purpose  \n",
       "0   253875.639453                           покупка жилья  \n",
       "1   112080.014102                 приобретение автомобиля  \n",
       "2   145885.952297                           покупка жилья  \n",
       "3   267628.550329              дополнительное образование  \n",
       "4   158616.077870                         сыграть свадьбу  \n",
       "5   255763.565419                           покупка жилья  \n",
       "6   240525.971920                       операции с жильем  \n",
       "7   135823.934197                             образование  \n",
       "8    95856.832424                   на проведение свадьбы  \n",
       "9   144425.938277                 покупка жилья для семьи  \n",
       "10  113943.491460                    покупка недвижимости  \n",
       "11   77069.234271       покупка коммерческой недвижимости  \n",
       "12            NaN                         сыграть свадьбу  \n",
       "13  130458.228857                 приобретение автомобиля  \n",
       "14  165127.911772              покупка жилой недвижимости  \n",
       "15  116820.904450  строительство собственной недвижимости  \n",
       "16  289202.704229                            недвижимость  \n",
       "17   90410.586745              строительство недвижимости  \n",
       "18   56823.777243      на покупку подержанного автомобиля  \n",
       "19  242831.107982            на покупку своего автомобиля  "
      ]
     },
     "execution_count": 2,
     "metadata": {},
     "output_type": "execute_result"
    }
   ],
   "source": [
    "data.head(20)"
   ]
  },
  {
   "cell_type": "markdown",
   "id": "0ed8f27f",
   "metadata": {
    "deletable": false,
    "editable": false,
    "id": "0ed8f27f"
   },
   "source": [
    "**Задание 3. Выведите основную информацию о датафрейме с помощью метода `info()`.**"
   ]
  },
  {
   "cell_type": "code",
   "execution_count": 3,
   "id": "ab3f863b",
   "metadata": {
    "deletable": false,
    "id": "ab3f863b",
    "outputId": "15376089-8dad-46c9-b520-c05248d43158"
   },
   "outputs": [
    {
     "name": "stdout",
     "output_type": "stream",
     "text": [
      "<class 'pandas.core.frame.DataFrame'>\n",
      "RangeIndex: 21525 entries, 0 to 21524\n",
      "Data columns (total 12 columns):\n",
      " #   Column            Non-Null Count  Dtype  \n",
      "---  ------            --------------  -----  \n",
      " 0   children          21525 non-null  int64  \n",
      " 1   days_employed     19351 non-null  float64\n",
      " 2   dob_years         21525 non-null  int64  \n",
      " 3   education         21525 non-null  object \n",
      " 4   education_id      21525 non-null  int64  \n",
      " 5   family_status     21525 non-null  object \n",
      " 6   family_status_id  21525 non-null  int64  \n",
      " 7   gender            21525 non-null  object \n",
      " 8   income_type       21525 non-null  object \n",
      " 9   debt              21525 non-null  int64  \n",
      " 10  total_income      19351 non-null  float64\n",
      " 11  purpose           21525 non-null  object \n",
      "dtypes: float64(2), int64(5), object(5)\n",
      "memory usage: 2.0+ MB\n"
     ]
    }
   ],
   "source": [
    "data.info()"
   ]
  },
  {
   "cell_type": "markdown",
   "id": "60e3e22d",
   "metadata": {
    "deletable": false,
    "editable": false,
    "id": "60e3e22d"
   },
   "source": [
    "## Предобработка данных"
   ]
  },
  {
   "cell_type": "markdown",
   "id": "03dc170c",
   "metadata": {
    "deletable": false,
    "editable": false,
    "id": "03dc170c"
   },
   "source": [
    "### Удаление пропусков"
   ]
  },
  {
   "cell_type": "markdown",
   "id": "a4f54eef",
   "metadata": {
    "deletable": false,
    "editable": false,
    "id": "a4f54eef"
   },
   "source": [
    "**Задание 4. Выведите количество пропущенных значений для каждого столбца. Используйте комбинацию двух методов.**"
   ]
  },
  {
   "cell_type": "code",
   "execution_count": 4,
   "id": "2dc372b2",
   "metadata": {
    "deletable": false,
    "id": "2dc372b2",
    "outputId": "81f4d817-781c-465c-ed15-91ce4446810d"
   },
   "outputs": [
    {
     "data": {
      "text/plain": [
       "children               0\n",
       "days_employed       2174\n",
       "dob_years              0\n",
       "education              0\n",
       "education_id           0\n",
       "family_status          0\n",
       "family_status_id       0\n",
       "gender                 0\n",
       "income_type            0\n",
       "debt                   0\n",
       "total_income        2174\n",
       "purpose                0\n",
       "dtype: int64"
      ]
     },
     "execution_count": 4,
     "metadata": {},
     "output_type": "execute_result"
    }
   ],
   "source": [
    "data.isna().sum()"
   ]
  },
  {
   "cell_type": "markdown",
   "id": "14f011b1",
   "metadata": {
    "deletable": false,
    "editable": false,
    "id": "14f011b1"
   },
   "source": [
    "**Задание 5. В двух столбцах есть пропущенные значения. Один из них — `days_employed`. Пропуски в этом столбце вы обработаете на следующем этапе. Другой столбец с пропущенными значениями — `total_income` — хранит данные о доходах. На сумму дохода сильнее всего влияет тип занятости, поэтому заполнить пропуски в этом столбце нужно медианным значением по каждому типу из столбца `income_type`. Например, у человека с типом занятости `сотрудник` пропуск в столбце `total_income` должен быть заполнен медианным доходом среди всех записей с тем же типом.**"
   ]
  },
  {
   "cell_type": "code",
   "execution_count": 5,
   "id": "bdabfb6e",
   "metadata": {
    "deletable": false,
    "id": "bdabfb6e"
   },
   "outputs": [],
   "source": [
    "for t in data['income_type'].unique():\n",
    "    data.loc[(data['income_type'] == t) & (data['total_income'].isna()), 'total_income'] = \\\n",
    "    data.loc[(data['income_type'] == t), 'total_income'].median()"
   ]
  },
  {
   "cell_type": "markdown",
   "id": "5be34059",
   "metadata": {
    "deletable": false,
    "editable": false,
    "id": "5be34059"
   },
   "source": [
    "### Обработка аномальных значений"
   ]
  },
  {
   "cell_type": "markdown",
   "id": "a87606cb",
   "metadata": {
    "deletable": false,
    "editable": false,
    "id": "a87606cb"
   },
   "source": [
    "**Задание 6. В данных могут встречаться артефакты (аномалии) — значения, которые не отражают действительность и появились по какой-то ошибке. таким артефактом будет отрицательное количество дней трудового стажа в столбце `days_employed`. Для реальных данных это нормально. Обработайте значения в этом столбце: замените все отрицательные значения положительными с помощью метода `abs()`.**"
   ]
  },
  {
   "cell_type": "code",
   "execution_count": 6,
   "id": "020c46cc",
   "metadata": {
    "deletable": false,
    "id": "020c46cc"
   },
   "outputs": [],
   "source": [
    "data['days_employed'] = data['days_employed'].abs()"
   ]
  },
  {
   "cell_type": "markdown",
   "id": "45538a3a",
   "metadata": {
    "deletable": false,
    "editable": false,
    "id": "45538a3a"
   },
   "source": [
    "**Задание 7. Для каждого типа занятости выведите медианное значение трудового стажа `days_employed` в днях.**"
   ]
  },
  {
   "cell_type": "code",
   "execution_count": 7,
   "id": "cd3e6328",
   "metadata": {
    "deletable": false,
    "id": "cd3e6328",
    "outputId": "801ef80e-522b-4668-f34e-565af7432bcf"
   },
   "outputs": [
    {
     "data": {
      "text/plain": [
       "income_type\n",
       "безработный        366413.652744\n",
       "в декрете            3296.759962\n",
       "госслужащий          2689.368353\n",
       "компаньон            1547.382223\n",
       "пенсионер          365213.306266\n",
       "предприниматель       520.848083\n",
       "сотрудник            1574.202821\n",
       "студент               578.751554\n",
       "Name: days_employed, dtype: float64"
      ]
     },
     "execution_count": 7,
     "metadata": {},
     "output_type": "execute_result"
    }
   ],
   "source": [
    "data.groupby('income_type')['days_employed'].agg('median')"
   ]
  },
  {
   "cell_type": "markdown",
   "id": "90c5f058",
   "metadata": {
    "deletable": false,
    "editable": false,
    "id": "90c5f058"
   },
   "source": [
    "У двух типов (безработные и пенсионеры) получатся аномально большие значения. Исправить такие значения сложно, поэтому оставьте их как есть."
   ]
  },
  {
   "cell_type": "markdown",
   "id": "9652e50d",
   "metadata": {
    "deletable": false,
    "editable": false,
    "id": "9652e50d"
   },
   "source": [
    "**Задание 8. Выведите перечень уникальных значений столбца `children`.**"
   ]
  },
  {
   "cell_type": "code",
   "execution_count": 8,
   "id": "dbb37b8e",
   "metadata": {
    "deletable": false,
    "id": "dbb37b8e",
    "outputId": "6975b15c-7f95-4697-d16d-a0c79b657b03"
   },
   "outputs": [
    {
     "data": {
      "text/plain": [
       "array([ 1,  0,  3,  2, -1,  4, 20,  5])"
      ]
     },
     "execution_count": 8,
     "metadata": {},
     "output_type": "execute_result"
    }
   ],
   "source": [
    "data['children'].unique()"
   ]
  },
  {
   "cell_type": "markdown",
   "id": "2b8b0715",
   "metadata": {
    "deletable": false,
    "editable": false,
    "id": "2b8b0715"
   },
   "source": [
    "**Задание 9. В столбце `children` есть два аномальных значения. Удалите строки, в которых встречаются такие аномальные значения из датафрейма `data`.**"
   ]
  },
  {
   "cell_type": "code",
   "execution_count": 9,
   "id": "20009df8",
   "metadata": {
    "deletable": false,
    "id": "20009df8"
   },
   "outputs": [],
   "source": [
    "data = data[(data['children'] != -1) & (data['children'] != 20)]"
   ]
  },
  {
   "cell_type": "markdown",
   "id": "8c6ac9f1",
   "metadata": {
    "deletable": false,
    "editable": false,
    "id": "8c6ac9f1"
   },
   "source": [
    "**Задание 10. Ещё раз выведите перечень уникальных значений столбца `children`, чтобы убедиться, что артефакты удалены.**"
   ]
  },
  {
   "cell_type": "code",
   "execution_count": 10,
   "id": "07337b81",
   "metadata": {
    "deletable": false,
    "id": "07337b81",
    "outputId": "b2097101-d49d-44d9-901b-32a65c9463d1"
   },
   "outputs": [
    {
     "data": {
      "text/plain": [
       "array([1, 0, 3, 2, 4, 5])"
      ]
     },
     "execution_count": 10,
     "metadata": {},
     "output_type": "execute_result"
    }
   ],
   "source": [
    "data['children'].unique()"
   ]
  },
  {
   "cell_type": "markdown",
   "id": "ee3f52d4",
   "metadata": {
    "deletable": false,
    "editable": false,
    "id": "ee3f52d4"
   },
   "source": [
    "### Удаление пропусков (продолжение)"
   ]
  },
  {
   "cell_type": "markdown",
   "id": "a700b0e4",
   "metadata": {
    "deletable": false,
    "editable": false,
    "id": "a700b0e4"
   },
   "source": [
    "**Задание 11. Заполните пропуски в столбце `days_employed` медианными значениями по каждого типа занятости `income_type`.**"
   ]
  },
  {
   "cell_type": "code",
   "execution_count": 11,
   "id": "61946b83",
   "metadata": {
    "deletable": false,
    "id": "61946b83"
   },
   "outputs": [],
   "source": [
    "for t in data['income_type'].unique():\n",
    "    data.loc[(data['income_type'] == t) & (data['days_employed'].isna()), 'days_employed'] = \\\n",
    "    data.loc[(data['income_type'] == t), 'days_employed'].median()"
   ]
  },
  {
   "cell_type": "markdown",
   "id": "550dcd9b",
   "metadata": {
    "deletable": false,
    "editable": false,
    "id": "550dcd9b"
   },
   "source": [
    "**Задание 12. Убедитесь, что все пропуски заполнены. Проверьте себя и ещё раз выведите количество пропущенных значений для каждого столбца с помощью двух методов.**"
   ]
  },
  {
   "cell_type": "code",
   "execution_count": 12,
   "id": "937c7014",
   "metadata": {
    "deletable": false,
    "id": "937c7014",
    "outputId": "8da1e4e1-358e-4e87-98c9-f261bce0a7b2"
   },
   "outputs": [
    {
     "data": {
      "text/plain": [
       "children            0\n",
       "days_employed       0\n",
       "dob_years           0\n",
       "education           0\n",
       "education_id        0\n",
       "family_status       0\n",
       "family_status_id    0\n",
       "gender              0\n",
       "income_type         0\n",
       "debt                0\n",
       "total_income        0\n",
       "purpose             0\n",
       "dtype: int64"
      ]
     },
     "execution_count": 12,
     "metadata": {},
     "output_type": "execute_result"
    }
   ],
   "source": [
    "data.isna().sum()"
   ]
  },
  {
   "cell_type": "markdown",
   "id": "d522e295",
   "metadata": {
    "deletable": false,
    "editable": false,
    "id": "d522e295"
   },
   "source": [
    "### Изменение типов данных"
   ]
  },
  {
   "cell_type": "markdown",
   "id": "c229c581",
   "metadata": {
    "deletable": false,
    "editable": false,
    "id": "c229c581"
   },
   "source": [
    "**Задание 13. Замените вещественный тип данных в столбце `total_income` на целочисленный с помощью метода `astype()`.**"
   ]
  },
  {
   "cell_type": "code",
   "execution_count": 13,
   "id": "31036462",
   "metadata": {
    "deletable": false,
    "id": "31036462"
   },
   "outputs": [],
   "source": [
    "data['total_income'] = data['total_income'].astype(int)"
   ]
  },
  {
   "cell_type": "markdown",
   "id": "b8e3d1d9",
   "metadata": {
    "deletable": false,
    "editable": false,
    "id": "b8e3d1d9"
   },
   "source": [
    "### Обработка дубликатов"
   ]
  },
  {
   "cell_type": "markdown",
   "id": "9be53c49",
   "metadata": {
    "deletable": false,
    "editable": false,
    "id": "9be53c49"
   },
   "source": [
    "**Задание 14. Обработайте неявные дубликаты в столбце `education`. В этом столбце есть одни и те же значения, но записанные по-разному: с использованием заглавных и строчных букв. Приведите их к нижнему регистру.**"
   ]
  },
  {
   "cell_type": "code",
   "execution_count": 14,
   "id": "d89e73e1",
   "metadata": {
    "deletable": false,
    "id": "d89e73e1"
   },
   "outputs": [],
   "source": [
    "data['education'] = data['education'].str.lower()"
   ]
  },
  {
   "cell_type": "markdown",
   "id": "01d4500e",
   "metadata": {
    "deletable": false,
    "editable": false,
    "id": "01d4500e"
   },
   "source": [
    "**Задание 15. Выведите на экран количество строк-дубликатов в данных. Если такие строки присутствуют, удалите их.**"
   ]
  },
  {
   "cell_type": "code",
   "execution_count": 15,
   "id": "e10efb23",
   "metadata": {
    "deletable": false,
    "id": "e10efb23",
    "outputId": "9684deba-1934-42d1-99e1-cda61740f822"
   },
   "outputs": [
    {
     "data": {
      "text/plain": [
       "71"
      ]
     },
     "execution_count": 15,
     "metadata": {},
     "output_type": "execute_result"
    }
   ],
   "source": [
    "data.duplicated().sum()"
   ]
  },
  {
   "cell_type": "code",
   "execution_count": 16,
   "id": "df853f20",
   "metadata": {
    "deletable": false,
    "id": "df853f20"
   },
   "outputs": [],
   "source": [
    "data = data.drop_duplicates()"
   ]
  },
  {
   "cell_type": "markdown",
   "id": "627be38f",
   "metadata": {
    "deletable": false,
    "editable": false,
    "id": "627be38f"
   },
   "source": [
    "### Категоризация данных"
   ]
  },
  {
   "cell_type": "markdown",
   "id": "4684c3e0",
   "metadata": {
    "deletable": false,
    "editable": false,
    "id": "4684c3e0"
   },
   "source": [
    "**Задание 16. На основании диапазонов, указанных ниже, создайте в датафрейме `data` столбец `total_income_category` с категориями:**\n",
    "\n",
    "- 0–30000 — `'E'`;\n",
    "- 30001–50000 — `'D'`;\n",
    "- 50001–200000 — `'C'`;\n",
    "- 200001–1000000 — `'B'`;\n",
    "- 1000001 и выше — `'A'`.\n",
    "\n",
    "\n",
    "**Например, кредитополучателю с доходом 25000 нужно назначить категорию `'E'`, а клиенту, получающему 235000, — `'B'`. Используйте собственную функцию с именем `categorize_income()` и метод `apply()`.**"
   ]
  },
  {
   "cell_type": "code",
   "execution_count": 17,
   "id": "78965238",
   "metadata": {
    "deletable": false,
    "id": "78965238"
   },
   "outputs": [],
   "source": [
    "def categorize_income(income):\n",
    "    try:\n",
    "        if 0 <= income <= 30000:\n",
    "            return 'E'\n",
    "        elif 30001 <= income <= 50000:\n",
    "            return 'D'\n",
    "        elif 50001 <= income <= 200000:\n",
    "            return 'C'\n",
    "        elif 200001 <= income <= 1000000:\n",
    "            return 'B'\n",
    "        elif income >= 1000001:\n",
    "            return 'A'\n",
    "    except:\n",
    "        pass"
   ]
  },
  {
   "cell_type": "code",
   "execution_count": 18,
   "id": "0980ada1",
   "metadata": {
    "deletable": false,
    "id": "0980ada1"
   },
   "outputs": [],
   "source": [
    "data['total_income_category'] = data['total_income'].apply(categorize_income)"
   ]
  },
  {
   "cell_type": "markdown",
   "id": "9917bba0",
   "metadata": {
    "deletable": false,
    "editable": false,
    "id": "9917bba0"
   },
   "source": [
    "**Задание 17. Выведите на экран перечень уникальных целей взятия кредита из столбца `purpose`.**"
   ]
  },
  {
   "cell_type": "code",
   "execution_count": 19,
   "id": "ee07b65e",
   "metadata": {
    "deletable": false,
    "id": "ee07b65e",
    "outputId": "673c12d9-7d7e-4ae0-9812-c622c89dd244"
   },
   "outputs": [
    {
     "data": {
      "text/plain": [
       "array(['покупка жилья', 'приобретение автомобиля',\n",
       "       'дополнительное образование', 'сыграть свадьбу',\n",
       "       'операции с жильем', 'образование', 'на проведение свадьбы',\n",
       "       'покупка жилья для семьи', 'покупка недвижимости',\n",
       "       'покупка коммерческой недвижимости', 'покупка жилой недвижимости',\n",
       "       'строительство собственной недвижимости', 'недвижимость',\n",
       "       'строительство недвижимости', 'на покупку подержанного автомобиля',\n",
       "       'на покупку своего автомобиля',\n",
       "       'операции с коммерческой недвижимостью',\n",
       "       'строительство жилой недвижимости', 'жилье',\n",
       "       'операции со своей недвижимостью', 'автомобили',\n",
       "       'заняться образованием', 'сделка с подержанным автомобилем',\n",
       "       'получение образования', 'автомобиль', 'свадьба',\n",
       "       'получение дополнительного образования', 'покупка своего жилья',\n",
       "       'операции с недвижимостью', 'получение высшего образования',\n",
       "       'свой автомобиль', 'сделка с автомобилем',\n",
       "       'профильное образование', 'высшее образование',\n",
       "       'покупка жилья для сдачи', 'на покупку автомобиля', 'ремонт жилью',\n",
       "       'заняться высшим образованием'], dtype=object)"
      ]
     },
     "execution_count": 19,
     "metadata": {},
     "output_type": "execute_result"
    }
   ],
   "source": [
    "data['purpose'].unique()"
   ]
  },
  {
   "cell_type": "markdown",
   "id": "52b79d56",
   "metadata": {
    "deletable": false,
    "editable": false,
    "id": "52b79d56"
   },
   "source": [
    "**Задание 18. Создайте функцию, которая на основании данных из столбца `purpose` сформирует новый столбец `purpose_category`, в который войдут следующие категории:**\n",
    "\n",
    "- `'операции с автомобилем'`,\n",
    "- `'операции с недвижимостью'`,\n",
    "- `'проведение свадьбы'`,\n",
    "- `'получение образования'`.\n",
    "\n",
    "**Например, если в столбце `purpose` находится подстрока `'на покупку автомобиля'`, то в столбце `purpose_category` должна появиться строка `'операции с автомобилем'`.**\n",
    "\n",
    "**Используйте собственную функцию с именем `categorize_purpose()` и метод `apply()`. Изучите данные в столбце `purpose` и определите, какие подстроки помогут вам правильно определить категорию.**"
   ]
  },
  {
   "cell_type": "code",
   "execution_count": 20,
   "id": "be41da5d",
   "metadata": {
    "deletable": false,
    "id": "be41da5d"
   },
   "outputs": [],
   "source": [
    "def categorize_purpose(row):\n",
    "    try:\n",
    "        if 'автом' in row:\n",
    "            return 'операции с автомобилем'\n",
    "        elif 'жил' in row or 'недвиж' in row:\n",
    "            return 'операции с недвижимостью'\n",
    "        elif 'свад' in row:\n",
    "            return 'проведение свадьбы'\n",
    "        elif 'образов' in row:\n",
    "            return 'получение образования'\n",
    "    except:\n",
    "        return 'нет категории'"
   ]
  },
  {
   "cell_type": "code",
   "execution_count": 21,
   "id": "94c4a19a",
   "metadata": {
    "deletable": false,
    "id": "94c4a19a"
   },
   "outputs": [],
   "source": [
    "data['purpose_category'] = data['purpose'].apply(categorize_purpose)"
   ]
  },
  {
   "cell_type": "markdown",
   "id": "3d596c34",
   "metadata": {
    "deletable": false,
    "editable": false,
    "id": "3d596c34"
   },
   "source": [
    "### Шаг 3. Исследуйте данные и ответьте на вопросы"
   ]
  },
  {
   "cell_type": "markdown",
   "id": "648db036",
   "metadata": {
    "deletable": false,
    "editable": false,
    "id": "648db036"
   },
   "source": [
    "#### 3.1 Есть ли зависимость между количеством детей и возвратом кредита в срок?"
   ]
  },
  {
   "cell_type": "markdown",
   "id": "a1443869",
   "metadata": {},
   "source": [
    "1. Выведем нужные для анализа данных столбцы 'children', 'debt', чтобы взглянуть и понять, что из себя представляют данные."
   ]
  },
  {
   "cell_type": "code",
   "execution_count": 22,
   "id": "a1832454",
   "metadata": {},
   "outputs": [
    {
     "data": {
      "text/html": [
       "<div>\n",
       "<style scoped>\n",
       "    .dataframe tbody tr th:only-of-type {\n",
       "        vertical-align: middle;\n",
       "    }\n",
       "\n",
       "    .dataframe tbody tr th {\n",
       "        vertical-align: top;\n",
       "    }\n",
       "\n",
       "    .dataframe thead th {\n",
       "        text-align: right;\n",
       "    }\n",
       "</style>\n",
       "<table border=\"1\" class=\"dataframe\">\n",
       "  <thead>\n",
       "    <tr style=\"text-align: right;\">\n",
       "      <th></th>\n",
       "      <th>children</th>\n",
       "      <th>debt</th>\n",
       "    </tr>\n",
       "  </thead>\n",
       "  <tbody>\n",
       "    <tr>\n",
       "      <th>0</th>\n",
       "      <td>1</td>\n",
       "      <td>0</td>\n",
       "    </tr>\n",
       "    <tr>\n",
       "      <th>1</th>\n",
       "      <td>1</td>\n",
       "      <td>0</td>\n",
       "    </tr>\n",
       "    <tr>\n",
       "      <th>2</th>\n",
       "      <td>0</td>\n",
       "      <td>0</td>\n",
       "    </tr>\n",
       "    <tr>\n",
       "      <th>3</th>\n",
       "      <td>3</td>\n",
       "      <td>0</td>\n",
       "    </tr>\n",
       "    <tr>\n",
       "      <th>4</th>\n",
       "      <td>0</td>\n",
       "      <td>0</td>\n",
       "    </tr>\n",
       "    <tr>\n",
       "      <th>...</th>\n",
       "      <td>...</td>\n",
       "      <td>...</td>\n",
       "    </tr>\n",
       "    <tr>\n",
       "      <th>21520</th>\n",
       "      <td>1</td>\n",
       "      <td>0</td>\n",
       "    </tr>\n",
       "    <tr>\n",
       "      <th>21521</th>\n",
       "      <td>0</td>\n",
       "      <td>0</td>\n",
       "    </tr>\n",
       "    <tr>\n",
       "      <th>21522</th>\n",
       "      <td>1</td>\n",
       "      <td>1</td>\n",
       "    </tr>\n",
       "    <tr>\n",
       "      <th>21523</th>\n",
       "      <td>3</td>\n",
       "      <td>1</td>\n",
       "    </tr>\n",
       "    <tr>\n",
       "      <th>21524</th>\n",
       "      <td>2</td>\n",
       "      <td>0</td>\n",
       "    </tr>\n",
       "  </tbody>\n",
       "</table>\n",
       "<p>21331 rows × 2 columns</p>\n",
       "</div>"
      ],
      "text/plain": [
       "       children  debt\n",
       "0             1     0\n",
       "1             1     0\n",
       "2             0     0\n",
       "3             3     0\n",
       "4             0     0\n",
       "...         ...   ...\n",
       "21520         1     0\n",
       "21521         0     0\n",
       "21522         1     1\n",
       "21523         3     1\n",
       "21524         2     0\n",
       "\n",
       "[21331 rows x 2 columns]"
      ]
     },
     "execution_count": 22,
     "metadata": {},
     "output_type": "execute_result"
    }
   ],
   "source": [
    "data[['children', 'debt']]"
   ]
  },
  {
   "cell_type": "markdown",
   "id": "d0862cb1",
   "metadata": {},
   "source": [
    "2. Выведем на экран уникальные значения с количеством детей, чтобы проверить, нет ли аномалий в наших данных."
   ]
  },
  {
   "cell_type": "code",
   "execution_count": 23,
   "id": "03284530",
   "metadata": {},
   "outputs": [
    {
     "data": {
      "text/plain": [
       "array([1, 0, 3, 2, 4, 5])"
      ]
     },
     "execution_count": 23,
     "metadata": {},
     "output_type": "execute_result"
    }
   ],
   "source": [
    "data['children'].unique()"
   ]
  },
  {
   "cell_type": "markdown",
   "id": "abf3db25",
   "metadata": {},
   "source": [
    "3. Проверим, чтобы в обоих столбцах не было пустых ячеек. Это мы делаем, для того, чтобы анализ был максимально точным."
   ]
  },
  {
   "cell_type": "code",
   "execution_count": 24,
   "id": "13624a7e",
   "metadata": {},
   "outputs": [
    {
     "data": {
      "text/plain": [
       "0"
      ]
     },
     "execution_count": 24,
     "metadata": {},
     "output_type": "execute_result"
    }
   ],
   "source": [
    "data['children'].isna().sum()"
   ]
  },
  {
   "cell_type": "code",
   "execution_count": 25,
   "id": "40fc6e77",
   "metadata": {},
   "outputs": [
    {
     "data": {
      "text/plain": [
       "0"
      ]
     },
     "execution_count": 25,
     "metadata": {},
     "output_type": "execute_result"
    }
   ],
   "source": [
    "data['debt'].isna().sum()"
   ]
  },
  {
   "cell_type": "markdown",
   "id": "cdf5320a",
   "metadata": {},
   "source": [
    "4. Создадим функцию, которая будет разделять на категории, в зависимости от количестваа детей в семье. Если детей нет - категория \"Нет детей\". Если детей в семье 1-2 - категория \"Есть дети\". Если в семье 3 и более ребенка - категория \"Многодетный\"."
   ]
  },
  {
   "cell_type": "code",
   "execution_count": 26,
   "id": "7fcff25e",
   "metadata": {
    "deletable": false,
    "id": "7fcff25e"
   },
   "outputs": [],
   "source": [
    "def children_category(children):\n",
    "    if 1 <= children <= 2:\n",
    "        return 'Есть дети'\n",
    "    if children >= 3:\n",
    "        return 'Многодетный'\n",
    "    if children == 0:\n",
    "        return 'Нет детей'"
   ]
  },
  {
   "cell_type": "markdown",
   "id": "9a8a8e0f",
   "metadata": {},
   "source": [
    "5. Создадим отдельный столбец в таблице, в котором будет информация о категориях в зависимости от количества детей. Воспользуемся функцией apply() для того, чтобы она применила функцию 'children_category'."
   ]
  },
  {
   "cell_type": "code",
   "execution_count": 27,
   "id": "752ba80d",
   "metadata": {},
   "outputs": [],
   "source": [
    "data['children_category'] = data['children'].apply(children_category)\n"
   ]
  },
  {
   "cell_type": "markdown",
   "id": "deece5ee",
   "metadata": {},
   "source": [
    "6. Для более глубокого анализа создадим сводную таблицу."
   ]
  },
  {
   "cell_type": "code",
   "execution_count": 28,
   "id": "36378681",
   "metadata": {},
   "outputs": [
    {
     "data": {
      "text/html": [
       "<div>\n",
       "<style scoped>\n",
       "    .dataframe tbody tr th:only-of-type {\n",
       "        vertical-align: middle;\n",
       "    }\n",
       "\n",
       "    .dataframe tbody tr th {\n",
       "        vertical-align: top;\n",
       "    }\n",
       "\n",
       "    .dataframe thead th {\n",
       "        text-align: right;\n",
       "    }\n",
       "</style>\n",
       "<table border=\"1\" class=\"dataframe\">\n",
       "  <thead>\n",
       "    <tr style=\"text-align: right;\">\n",
       "      <th></th>\n",
       "      <th>no_debt</th>\n",
       "      <th>debt</th>\n",
       "    </tr>\n",
       "    <tr>\n",
       "      <th>children_category</th>\n",
       "      <th></th>\n",
       "      <th></th>\n",
       "    </tr>\n",
       "  </thead>\n",
       "  <tbody>\n",
       "    <tr>\n",
       "      <th>Есть дети</th>\n",
       "      <td>6222</td>\n",
       "      <td>638</td>\n",
       "    </tr>\n",
       "    <tr>\n",
       "      <th>Многодетный</th>\n",
       "      <td>349</td>\n",
       "      <td>31</td>\n",
       "    </tr>\n",
       "    <tr>\n",
       "      <th>Нет детей</th>\n",
       "      <td>13028</td>\n",
       "      <td>1063</td>\n",
       "    </tr>\n",
       "  </tbody>\n",
       "</table>\n",
       "</div>"
      ],
      "text/plain": [
       "                   no_debt  debt\n",
       "children_category               \n",
       "Есть дети             6222   638\n",
       "Многодетный            349    31\n",
       "Нет детей            13028  1063"
      ]
     },
     "execution_count": 28,
     "metadata": {},
     "output_type": "execute_result"
    }
   ],
   "source": [
    "debt_children = pd.pivot_table(data,\n",
    "              index = ['children_category'], # По какому признаку у нас будет осуществляться агрегация данных\n",
    "              columns = ['debt'], # Определим явно, какие нам нужны для анализа столбцы.\n",
    "              values = ['gender'], # Определяем значение 'gender' для дальнейшей замены 0 и 1 на no_debt и debt.\n",
    "              aggfunc = 'count') # Агрегированная функция, которая считывает все значения в стобцах.\n",
    "debt_children.columns = ['no_debt', 'debt'] # Создаем два столбца недолжник / должник, заменяя значения 'gender' 0 и 1.\n",
    "debt_children"
   ]
  },
  {
   "cell_type": "markdown",
   "id": "1e8f9907",
   "metadata": {},
   "source": [
    "7. По выведенным данным можно уже сделать вывод, но для наглядности выведем еще процентное соотношение между должником и недолжником."
   ]
  },
  {
   "cell_type": "code",
   "execution_count": 29,
   "id": "892fa311",
   "metadata": {},
   "outputs": [
    {
     "data": {
      "text/html": [
       "<div>\n",
       "<style scoped>\n",
       "    .dataframe tbody tr th:only-of-type {\n",
       "        vertical-align: middle;\n",
       "    }\n",
       "\n",
       "    .dataframe tbody tr th {\n",
       "        vertical-align: top;\n",
       "    }\n",
       "\n",
       "    .dataframe thead th {\n",
       "        text-align: right;\n",
       "    }\n",
       "</style>\n",
       "<table border=\"1\" class=\"dataframe\">\n",
       "  <thead>\n",
       "    <tr style=\"text-align: right;\">\n",
       "      <th></th>\n",
       "      <th>no_debt</th>\n",
       "      <th>debt</th>\n",
       "      <th>interest</th>\n",
       "    </tr>\n",
       "    <tr>\n",
       "      <th>children_category</th>\n",
       "      <th></th>\n",
       "      <th></th>\n",
       "      <th></th>\n",
       "    </tr>\n",
       "  </thead>\n",
       "  <tbody>\n",
       "    <tr>\n",
       "      <th>Есть дети</th>\n",
       "      <td>6222</td>\n",
       "      <td>638</td>\n",
       "      <td>9.3%</td>\n",
       "    </tr>\n",
       "    <tr>\n",
       "      <th>Многодетный</th>\n",
       "      <td>349</td>\n",
       "      <td>31</td>\n",
       "      <td>8.2%</td>\n",
       "    </tr>\n",
       "    <tr>\n",
       "      <th>Нет детей</th>\n",
       "      <td>13028</td>\n",
       "      <td>1063</td>\n",
       "      <td>7.5%</td>\n",
       "    </tr>\n",
       "  </tbody>\n",
       "</table>\n",
       "</div>"
      ],
      "text/plain": [
       "                   no_debt  debt interest\n",
       "children_category                        \n",
       "Есть дети             6222   638     9.3%\n",
       "Многодетный            349    31     8.2%\n",
       "Нет детей            13028  1063     7.5%"
      ]
     },
     "execution_count": 29,
     "metadata": {},
     "output_type": "execute_result"
    }
   ],
   "source": [
    "debt_children['interest'] = (debt_children['debt'] / (debt_children['debt'] + debt_children['no_debt']))\n",
    "debt_children['interest'] = debt_children['interest'].map('{:.1%}'.format) # Вывод в процентном формате.\n",
    "debt_children.sort_values(by = 'interest', ascending = True) # Сортировка по столбцу 'interest' по убыванию.\n",
    "debt_children"
   ]
  },
  {
   "cell_type": "markdown",
   "id": "2eb9088e",
   "metadata": {
    "deletable": false,
    "id": "2eb9088e"
   },
   "source": [
    "**Вывод:**"
   ]
  },
  {
   "cell_type": "markdown",
   "id": "0c33c700",
   "metadata": {},
   "source": [
    "Из приведенной выше таблицы мы можем понять, что семьянины, у которых 1-2 ребенка, являются самыми рисковыми для банка клиентами. По нашим подсчетам 9.3% от общего числа из категории 'Есть дети' - должники. На втором месте идет категория \"Многодетный\" (8.2%), хоть детей больше, чем в предыдущей группе, но процент должников меньше, скорей всего, это связано с тем, что государство помогает многодетным семьям. И те, люди, у которых нет детей (7.5%), являются менее рисковыми для банка. Из этого вывода, мы можем понять, что показатель возврата кредита в срок зависит от количества детей (наличие детей повышает вероятность задолженности), но стоит учесть, что  государство даёт доп.субсидии многодетным семьям."
   ]
  },
  {
   "cell_type": "markdown",
   "id": "74c9b3a7",
   "metadata": {
    "deletable": false,
    "editable": false,
    "id": "74c9b3a7"
   },
   "source": [
    "#### 3.2 Есть ли зависимость между семейным положением и возвратом кредита в срок?"
   ]
  },
  {
   "cell_type": "markdown",
   "id": "fc5a22c3",
   "metadata": {},
   "source": [
    "1. Выведем нужные для анализа данных столбцы 'family_status', 'debt', чтобы взглянуть и понять, что из себя представляют данные."
   ]
  },
  {
   "cell_type": "code",
   "execution_count": 30,
   "id": "76500601",
   "metadata": {},
   "outputs": [
    {
     "data": {
      "text/html": [
       "<div>\n",
       "<style scoped>\n",
       "    .dataframe tbody tr th:only-of-type {\n",
       "        vertical-align: middle;\n",
       "    }\n",
       "\n",
       "    .dataframe tbody tr th {\n",
       "        vertical-align: top;\n",
       "    }\n",
       "\n",
       "    .dataframe thead th {\n",
       "        text-align: right;\n",
       "    }\n",
       "</style>\n",
       "<table border=\"1\" class=\"dataframe\">\n",
       "  <thead>\n",
       "    <tr style=\"text-align: right;\">\n",
       "      <th></th>\n",
       "      <th>family_status</th>\n",
       "      <th>debt</th>\n",
       "    </tr>\n",
       "  </thead>\n",
       "  <tbody>\n",
       "    <tr>\n",
       "      <th>0</th>\n",
       "      <td>женат / замужем</td>\n",
       "      <td>0</td>\n",
       "    </tr>\n",
       "    <tr>\n",
       "      <th>1</th>\n",
       "      <td>женат / замужем</td>\n",
       "      <td>0</td>\n",
       "    </tr>\n",
       "    <tr>\n",
       "      <th>2</th>\n",
       "      <td>женат / замужем</td>\n",
       "      <td>0</td>\n",
       "    </tr>\n",
       "    <tr>\n",
       "      <th>3</th>\n",
       "      <td>женат / замужем</td>\n",
       "      <td>0</td>\n",
       "    </tr>\n",
       "    <tr>\n",
       "      <th>4</th>\n",
       "      <td>гражданский брак</td>\n",
       "      <td>0</td>\n",
       "    </tr>\n",
       "    <tr>\n",
       "      <th>...</th>\n",
       "      <td>...</td>\n",
       "      <td>...</td>\n",
       "    </tr>\n",
       "    <tr>\n",
       "      <th>21520</th>\n",
       "      <td>гражданский брак</td>\n",
       "      <td>0</td>\n",
       "    </tr>\n",
       "    <tr>\n",
       "      <th>21521</th>\n",
       "      <td>женат / замужем</td>\n",
       "      <td>0</td>\n",
       "    </tr>\n",
       "    <tr>\n",
       "      <th>21522</th>\n",
       "      <td>гражданский брак</td>\n",
       "      <td>1</td>\n",
       "    </tr>\n",
       "    <tr>\n",
       "      <th>21523</th>\n",
       "      <td>женат / замужем</td>\n",
       "      <td>1</td>\n",
       "    </tr>\n",
       "    <tr>\n",
       "      <th>21524</th>\n",
       "      <td>женат / замужем</td>\n",
       "      <td>0</td>\n",
       "    </tr>\n",
       "  </tbody>\n",
       "</table>\n",
       "<p>21331 rows × 2 columns</p>\n",
       "</div>"
      ],
      "text/plain": [
       "          family_status  debt\n",
       "0       женат / замужем     0\n",
       "1       женат / замужем     0\n",
       "2       женат / замужем     0\n",
       "3       женат / замужем     0\n",
       "4      гражданский брак     0\n",
       "...                 ...   ...\n",
       "21520  гражданский брак     0\n",
       "21521   женат / замужем     0\n",
       "21522  гражданский брак     1\n",
       "21523   женат / замужем     1\n",
       "21524   женат / замужем     0\n",
       "\n",
       "[21331 rows x 2 columns]"
      ]
     },
     "execution_count": 30,
     "metadata": {},
     "output_type": "execute_result"
    }
   ],
   "source": [
    "data[['family_status', 'debt']]"
   ]
  },
  {
   "cell_type": "markdown",
   "id": "176bc145",
   "metadata": {},
   "source": [
    "2. Выведем уникальные значения столбца 'family_status', чтобы проверить нет ли дубликатов значений."
   ]
  },
  {
   "cell_type": "code",
   "execution_count": 31,
   "id": "8098ab3b",
   "metadata": {
    "deletable": false,
    "id": "8098ab3b"
   },
   "outputs": [
    {
     "data": {
      "text/plain": [
       "array(['женат / замужем', 'гражданский брак', 'вдовец / вдова',\n",
       "       'в разводе', 'Не женат / не замужем'], dtype=object)"
      ]
     },
     "execution_count": 31,
     "metadata": {},
     "output_type": "execute_result"
    }
   ],
   "source": [
    "data['family_status'].unique()"
   ]
  },
  {
   "cell_type": "markdown",
   "id": "cfd06f56",
   "metadata": {},
   "source": [
    "3. Проверим нет ли пропусков в столбцах, которые нам нужны для анализа."
   ]
  },
  {
   "cell_type": "code",
   "execution_count": 32,
   "id": "9767a8a5",
   "metadata": {},
   "outputs": [
    {
     "data": {
      "text/plain": [
       "0"
      ]
     },
     "execution_count": 32,
     "metadata": {},
     "output_type": "execute_result"
    }
   ],
   "source": [
    "data['family_status'].isna().sum()"
   ]
  },
  {
   "cell_type": "code",
   "execution_count": 33,
   "id": "5ec05133",
   "metadata": {},
   "outputs": [
    {
     "data": {
      "text/plain": [
       "0"
      ]
     },
     "execution_count": 33,
     "metadata": {},
     "output_type": "execute_result"
    }
   ],
   "source": [
    "data['debt'].isna().sum()"
   ]
  },
  {
   "cell_type": "markdown",
   "id": "201ec4ea",
   "metadata": {},
   "source": [
    "4. Создадим сводную таблицу, в которой главным столбцом будет 'family_status' и два столбца 'no_debt' и 'debt', показывающие должник или недолжник наш клиент."
   ]
  },
  {
   "cell_type": "code",
   "execution_count": 34,
   "id": "6589b913",
   "metadata": {},
   "outputs": [
    {
     "data": {
      "text/html": [
       "<div>\n",
       "<style scoped>\n",
       "    .dataframe tbody tr th:only-of-type {\n",
       "        vertical-align: middle;\n",
       "    }\n",
       "\n",
       "    .dataframe tbody tr th {\n",
       "        vertical-align: top;\n",
       "    }\n",
       "\n",
       "    .dataframe thead th {\n",
       "        text-align: right;\n",
       "    }\n",
       "</style>\n",
       "<table border=\"1\" class=\"dataframe\">\n",
       "  <thead>\n",
       "    <tr style=\"text-align: right;\">\n",
       "      <th></th>\n",
       "      <th>no_debt</th>\n",
       "      <th>debt</th>\n",
       "    </tr>\n",
       "    <tr>\n",
       "      <th>family_status</th>\n",
       "      <th></th>\n",
       "      <th></th>\n",
       "    </tr>\n",
       "  </thead>\n",
       "  <tbody>\n",
       "    <tr>\n",
       "      <th>Не женат / не замужем</th>\n",
       "      <td>2523</td>\n",
       "      <td>273</td>\n",
       "    </tr>\n",
       "    <tr>\n",
       "      <th>в разводе</th>\n",
       "      <td>1105</td>\n",
       "      <td>84</td>\n",
       "    </tr>\n",
       "    <tr>\n",
       "      <th>вдовец / вдова</th>\n",
       "      <td>888</td>\n",
       "      <td>63</td>\n",
       "    </tr>\n",
       "    <tr>\n",
       "      <th>гражданский брак</th>\n",
       "      <td>3749</td>\n",
       "      <td>385</td>\n",
       "    </tr>\n",
       "    <tr>\n",
       "      <th>женат / замужем</th>\n",
       "      <td>11334</td>\n",
       "      <td>927</td>\n",
       "    </tr>\n",
       "  </tbody>\n",
       "</table>\n",
       "</div>"
      ],
      "text/plain": [
       "                       no_debt  debt\n",
       "family_status                       \n",
       "Не женат / не замужем     2523   273\n",
       "в разводе                 1105    84\n",
       "вдовец / вдова             888    63\n",
       "гражданский брак          3749   385\n",
       "женат / замужем          11334   927"
      ]
     },
     "execution_count": 34,
     "metadata": {},
     "output_type": "execute_result"
    }
   ],
   "source": [
    "family_st_debt = pd.pivot_table(data,\n",
    "                               index = ['family_status'], # По какому признаку у нас будет осуществляться агрегация данных\n",
    "                               columns = ['debt'], # Определим явно, какие нам нужны для анализа столбцы.\n",
    "                               values = ['gender'], # Определяем значение 'gender' для дальнейшей замены 0 и 1 на no_debt и debt.\n",
    "                               aggfunc = 'count') # Агрегированная функция, которая считывает все значения в стобцах.\n",
    "family_st_debt.columns = ['no_debt', 'debt'] # Создаем два столбца недолжник / должник, заменяя значения 'gender' 0 и 1.и\n",
    "family_st_debt"
   ]
  },
  {
   "cell_type": "markdown",
   "id": "f7ec46b9",
   "metadata": {},
   "source": [
    "5. Создадим новый столбец 'interest', в котором будет изображен процент соотношения дожников на общее количество в определенном семейном статусе."
   ]
  },
  {
   "cell_type": "code",
   "execution_count": 35,
   "id": "51ca2284",
   "metadata": {},
   "outputs": [
    {
     "data": {
      "text/html": [
       "<div>\n",
       "<style scoped>\n",
       "    .dataframe tbody tr th:only-of-type {\n",
       "        vertical-align: middle;\n",
       "    }\n",
       "\n",
       "    .dataframe tbody tr th {\n",
       "        vertical-align: top;\n",
       "    }\n",
       "\n",
       "    .dataframe thead th {\n",
       "        text-align: right;\n",
       "    }\n",
       "</style>\n",
       "<table border=\"1\" class=\"dataframe\">\n",
       "  <thead>\n",
       "    <tr style=\"text-align: right;\">\n",
       "      <th></th>\n",
       "      <th>no_debt</th>\n",
       "      <th>debt</th>\n",
       "      <th>interest</th>\n",
       "    </tr>\n",
       "    <tr>\n",
       "      <th>family_status</th>\n",
       "      <th></th>\n",
       "      <th></th>\n",
       "      <th></th>\n",
       "    </tr>\n",
       "  </thead>\n",
       "  <tbody>\n",
       "    <tr>\n",
       "      <th>Не женат / не замужем</th>\n",
       "      <td>2523</td>\n",
       "      <td>273</td>\n",
       "      <td>9.8%</td>\n",
       "    </tr>\n",
       "    <tr>\n",
       "      <th>гражданский брак</th>\n",
       "      <td>3749</td>\n",
       "      <td>385</td>\n",
       "      <td>9.3%</td>\n",
       "    </tr>\n",
       "    <tr>\n",
       "      <th>женат / замужем</th>\n",
       "      <td>11334</td>\n",
       "      <td>927</td>\n",
       "      <td>7.6%</td>\n",
       "    </tr>\n",
       "    <tr>\n",
       "      <th>в разводе</th>\n",
       "      <td>1105</td>\n",
       "      <td>84</td>\n",
       "      <td>7.1%</td>\n",
       "    </tr>\n",
       "    <tr>\n",
       "      <th>вдовец / вдова</th>\n",
       "      <td>888</td>\n",
       "      <td>63</td>\n",
       "      <td>6.6%</td>\n",
       "    </tr>\n",
       "  </tbody>\n",
       "</table>\n",
       "</div>"
      ],
      "text/plain": [
       "                       no_debt  debt interest\n",
       "family_status                                \n",
       "Не женат / не замужем     2523   273     9.8%\n",
       "гражданский брак          3749   385     9.3%\n",
       "женат / замужем          11334   927     7.6%\n",
       "в разводе                 1105    84     7.1%\n",
       "вдовец / вдова             888    63     6.6%"
      ]
     },
     "execution_count": 35,
     "metadata": {},
     "output_type": "execute_result"
    }
   ],
   "source": [
    "family_st_debt['interest'] = (family_st_debt['debt'] / (family_st_debt['debt'] + family_st_debt['no_debt'])) \n",
    "family_st_debt['interest'] = family_st_debt['interest'].map('{:.1%}'.format) # Вывод в процентном формате.\n",
    "family_st_debt.sort_values(by = 'interest', ascending = False) # Сортировка по столбцу 'interest' по убыванию.\n"
   ]
  },
  {
   "cell_type": "markdown",
   "id": "c389ca63",
   "metadata": {
    "deletable": false,
    "id": "c389ca63"
   },
   "source": [
    "**Вывод:**"
   ]
  },
  {
   "cell_type": "markdown",
   "id": "d7b17b81",
   "metadata": {},
   "source": [
    "Из приведенной выше таблице, мы видим, что самый рисковый клиент для выдачи кредитов является неженатые люди (±9.8%) - они имеют самый высокий процент по задолженностям среди других, это можно объяснить тем, что неженатые люди, чаще всего не имеют чувства ответственности, поэтому делают легкомысленные покупки, не имея возможности отдать долг. На втором месте по проценту задолженности - люди в гражданском браке (±9.3%). На третьем месте расположились - женатые (7.6%). Четвертое - люди в разводе (7.1%). Пятое - вдовец / вдова (6.6%).\n",
    "\n"
   ]
  },
  {
   "cell_type": "markdown",
   "id": "9529de68",
   "metadata": {
    "deletable": false,
    "editable": false,
    "id": "9529de68"
   },
   "source": [
    "#### 3.3 Есть ли зависимость между уровнем дохода и возвратом кредита в срок?"
   ]
  },
  {
   "cell_type": "markdown",
   "id": "c8ba22d5",
   "metadata": {},
   "source": [
    "1. Выведем нужные для анализа данных столбцы 'total_income', 'debt', чтобы взглянуть и понять, что из себя представляют данные."
   ]
  },
  {
   "cell_type": "code",
   "execution_count": 36,
   "id": "8787f44a",
   "metadata": {
    "deletable": false,
    "id": "8787f44a"
   },
   "outputs": [
    {
     "data": {
      "text/html": [
       "<div>\n",
       "<style scoped>\n",
       "    .dataframe tbody tr th:only-of-type {\n",
       "        vertical-align: middle;\n",
       "    }\n",
       "\n",
       "    .dataframe tbody tr th {\n",
       "        vertical-align: top;\n",
       "    }\n",
       "\n",
       "    .dataframe thead th {\n",
       "        text-align: right;\n",
       "    }\n",
       "</style>\n",
       "<table border=\"1\" class=\"dataframe\">\n",
       "  <thead>\n",
       "    <tr style=\"text-align: right;\">\n",
       "      <th></th>\n",
       "      <th>total_income</th>\n",
       "      <th>debt</th>\n",
       "    </tr>\n",
       "  </thead>\n",
       "  <tbody>\n",
       "    <tr>\n",
       "      <th>0</th>\n",
       "      <td>253875</td>\n",
       "      <td>0</td>\n",
       "    </tr>\n",
       "    <tr>\n",
       "      <th>1</th>\n",
       "      <td>112080</td>\n",
       "      <td>0</td>\n",
       "    </tr>\n",
       "    <tr>\n",
       "      <th>2</th>\n",
       "      <td>145885</td>\n",
       "      <td>0</td>\n",
       "    </tr>\n",
       "    <tr>\n",
       "      <th>3</th>\n",
       "      <td>267628</td>\n",
       "      <td>0</td>\n",
       "    </tr>\n",
       "    <tr>\n",
       "      <th>4</th>\n",
       "      <td>158616</td>\n",
       "      <td>0</td>\n",
       "    </tr>\n",
       "    <tr>\n",
       "      <th>...</th>\n",
       "      <td>...</td>\n",
       "      <td>...</td>\n",
       "    </tr>\n",
       "    <tr>\n",
       "      <th>21520</th>\n",
       "      <td>224791</td>\n",
       "      <td>0</td>\n",
       "    </tr>\n",
       "    <tr>\n",
       "      <th>21521</th>\n",
       "      <td>155999</td>\n",
       "      <td>0</td>\n",
       "    </tr>\n",
       "    <tr>\n",
       "      <th>21522</th>\n",
       "      <td>89672</td>\n",
       "      <td>1</td>\n",
       "    </tr>\n",
       "    <tr>\n",
       "      <th>21523</th>\n",
       "      <td>244093</td>\n",
       "      <td>1</td>\n",
       "    </tr>\n",
       "    <tr>\n",
       "      <th>21524</th>\n",
       "      <td>82047</td>\n",
       "      <td>0</td>\n",
       "    </tr>\n",
       "  </tbody>\n",
       "</table>\n",
       "<p>21331 rows × 2 columns</p>\n",
       "</div>"
      ],
      "text/plain": [
       "       total_income  debt\n",
       "0            253875     0\n",
       "1            112080     0\n",
       "2            145885     0\n",
       "3            267628     0\n",
       "4            158616     0\n",
       "...             ...   ...\n",
       "21520        224791     0\n",
       "21521        155999     0\n",
       "21522         89672     1\n",
       "21523        244093     1\n",
       "21524         82047     0\n",
       "\n",
       "[21331 rows x 2 columns]"
      ]
     },
     "execution_count": 36,
     "metadata": {},
     "output_type": "execute_result"
    }
   ],
   "source": [
    "data[['total_income', 'debt']]"
   ]
  },
  {
   "cell_type": "markdown",
   "id": "1fd1139a",
   "metadata": {},
   "source": [
    "2. Проверим, чтобы в обоих столбцах не было пропущенных ячеек. Это мы делаем, для того, чтобы анализ был максимально точным."
   ]
  },
  {
   "cell_type": "code",
   "execution_count": 37,
   "id": "fa5af150",
   "metadata": {},
   "outputs": [
    {
     "data": {
      "text/plain": [
       "0"
      ]
     },
     "execution_count": 37,
     "metadata": {},
     "output_type": "execute_result"
    }
   ],
   "source": [
    "data['total_income'].isna().sum()"
   ]
  },
  {
   "cell_type": "code",
   "execution_count": 38,
   "id": "eabb5b61",
   "metadata": {},
   "outputs": [
    {
     "data": {
      "text/plain": [
       "0"
      ]
     },
     "execution_count": 38,
     "metadata": {},
     "output_type": "execute_result"
    }
   ],
   "source": [
    "data['debt'].isna().sum()"
   ]
  },
  {
   "cell_type": "markdown",
   "id": "75ca057a",
   "metadata": {},
   "source": [
    "3. Создаем функцию 'income_category' для того, чтобы разделить доход на несколько категорий 'A', 'B', 'C', 'D', 'E'. Категория 'A' - до 30000, 'B' - от 30001 до 50000, 'C' - от 50001 до 200000, 'D' - от 200001 до 1000000, 'E' - больше 1000000.\n"
   ]
  },
  {
   "cell_type": "code",
   "execution_count": 39,
   "id": "4a921702",
   "metadata": {},
   "outputs": [],
   "source": [
    "def income_category(total_income):\n",
    "    \n",
    "    if 0 <= total_income <= 30000:\n",
    "        return 'E'\n",
    "    elif 30001 <= total_income <= 50000:\n",
    "        return 'D'\n",
    "    elif 50001 <= total_income <= 200000:\n",
    "        return 'C'\n",
    "    elif 200001 <= total_income <= 1000000:\n",
    "        return 'B'\n",
    "    elif total_income >= 1000001:\n",
    "        return 'A'\n"
   ]
  },
  {
   "cell_type": "markdown",
   "id": "dd41a675",
   "metadata": {},
   "source": [
    "4. Создадим отдельный столбец в таблице, в котором будет информация о категориях в зависимости от уровня дохода. Воспользуемся функцией apply() для того, чтобы она применила функцию 'income_category'."
   ]
  },
  {
   "cell_type": "code",
   "execution_count": 40,
   "id": "d41f99d0",
   "metadata": {
    "scrolled": true
   },
   "outputs": [
    {
     "data": {
      "text/html": [
       "<div>\n",
       "<style scoped>\n",
       "    .dataframe tbody tr th:only-of-type {\n",
       "        vertical-align: middle;\n",
       "    }\n",
       "\n",
       "    .dataframe tbody tr th {\n",
       "        vertical-align: top;\n",
       "    }\n",
       "\n",
       "    .dataframe thead th {\n",
       "        text-align: right;\n",
       "    }\n",
       "</style>\n",
       "<table border=\"1\" class=\"dataframe\">\n",
       "  <thead>\n",
       "    <tr style=\"text-align: right;\">\n",
       "      <th></th>\n",
       "      <th>children</th>\n",
       "      <th>days_employed</th>\n",
       "      <th>dob_years</th>\n",
       "      <th>education</th>\n",
       "      <th>education_id</th>\n",
       "      <th>family_status</th>\n",
       "      <th>family_status_id</th>\n",
       "      <th>gender</th>\n",
       "      <th>income_type</th>\n",
       "      <th>debt</th>\n",
       "      <th>total_income</th>\n",
       "      <th>purpose</th>\n",
       "      <th>total_income_category</th>\n",
       "      <th>purpose_category</th>\n",
       "      <th>children_category</th>\n",
       "      <th>income_category</th>\n",
       "    </tr>\n",
       "  </thead>\n",
       "  <tbody>\n",
       "    <tr>\n",
       "      <th>0</th>\n",
       "      <td>1</td>\n",
       "      <td>8437.673028</td>\n",
       "      <td>42</td>\n",
       "      <td>высшее</td>\n",
       "      <td>0</td>\n",
       "      <td>женат / замужем</td>\n",
       "      <td>0</td>\n",
       "      <td>F</td>\n",
       "      <td>сотрудник</td>\n",
       "      <td>0</td>\n",
       "      <td>253875</td>\n",
       "      <td>покупка жилья</td>\n",
       "      <td>B</td>\n",
       "      <td>операции с недвижимостью</td>\n",
       "      <td>Есть дети</td>\n",
       "      <td>B</td>\n",
       "    </tr>\n",
       "    <tr>\n",
       "      <th>1</th>\n",
       "      <td>1</td>\n",
       "      <td>4024.803754</td>\n",
       "      <td>36</td>\n",
       "      <td>среднее</td>\n",
       "      <td>1</td>\n",
       "      <td>женат / замужем</td>\n",
       "      <td>0</td>\n",
       "      <td>F</td>\n",
       "      <td>сотрудник</td>\n",
       "      <td>0</td>\n",
       "      <td>112080</td>\n",
       "      <td>приобретение автомобиля</td>\n",
       "      <td>C</td>\n",
       "      <td>операции с автомобилем</td>\n",
       "      <td>Есть дети</td>\n",
       "      <td>C</td>\n",
       "    </tr>\n",
       "    <tr>\n",
       "      <th>2</th>\n",
       "      <td>0</td>\n",
       "      <td>5623.422610</td>\n",
       "      <td>33</td>\n",
       "      <td>среднее</td>\n",
       "      <td>1</td>\n",
       "      <td>женат / замужем</td>\n",
       "      <td>0</td>\n",
       "      <td>M</td>\n",
       "      <td>сотрудник</td>\n",
       "      <td>0</td>\n",
       "      <td>145885</td>\n",
       "      <td>покупка жилья</td>\n",
       "      <td>C</td>\n",
       "      <td>операции с недвижимостью</td>\n",
       "      <td>Нет детей</td>\n",
       "      <td>C</td>\n",
       "    </tr>\n",
       "    <tr>\n",
       "      <th>3</th>\n",
       "      <td>3</td>\n",
       "      <td>4124.747207</td>\n",
       "      <td>32</td>\n",
       "      <td>среднее</td>\n",
       "      <td>1</td>\n",
       "      <td>женат / замужем</td>\n",
       "      <td>0</td>\n",
       "      <td>M</td>\n",
       "      <td>сотрудник</td>\n",
       "      <td>0</td>\n",
       "      <td>267628</td>\n",
       "      <td>дополнительное образование</td>\n",
       "      <td>B</td>\n",
       "      <td>получение образования</td>\n",
       "      <td>Многодетный</td>\n",
       "      <td>B</td>\n",
       "    </tr>\n",
       "    <tr>\n",
       "      <th>4</th>\n",
       "      <td>0</td>\n",
       "      <td>340266.072047</td>\n",
       "      <td>53</td>\n",
       "      <td>среднее</td>\n",
       "      <td>1</td>\n",
       "      <td>гражданский брак</td>\n",
       "      <td>1</td>\n",
       "      <td>F</td>\n",
       "      <td>пенсионер</td>\n",
       "      <td>0</td>\n",
       "      <td>158616</td>\n",
       "      <td>сыграть свадьбу</td>\n",
       "      <td>C</td>\n",
       "      <td>проведение свадьбы</td>\n",
       "      <td>Нет детей</td>\n",
       "      <td>C</td>\n",
       "    </tr>\n",
       "    <tr>\n",
       "      <th>...</th>\n",
       "      <td>...</td>\n",
       "      <td>...</td>\n",
       "      <td>...</td>\n",
       "      <td>...</td>\n",
       "      <td>...</td>\n",
       "      <td>...</td>\n",
       "      <td>...</td>\n",
       "      <td>...</td>\n",
       "      <td>...</td>\n",
       "      <td>...</td>\n",
       "      <td>...</td>\n",
       "      <td>...</td>\n",
       "      <td>...</td>\n",
       "      <td>...</td>\n",
       "      <td>...</td>\n",
       "      <td>...</td>\n",
       "    </tr>\n",
       "    <tr>\n",
       "      <th>21520</th>\n",
       "      <td>1</td>\n",
       "      <td>4529.316663</td>\n",
       "      <td>43</td>\n",
       "      <td>среднее</td>\n",
       "      <td>1</td>\n",
       "      <td>гражданский брак</td>\n",
       "      <td>1</td>\n",
       "      <td>F</td>\n",
       "      <td>компаньон</td>\n",
       "      <td>0</td>\n",
       "      <td>224791</td>\n",
       "      <td>операции с жильем</td>\n",
       "      <td>B</td>\n",
       "      <td>операции с недвижимостью</td>\n",
       "      <td>Есть дети</td>\n",
       "      <td>B</td>\n",
       "    </tr>\n",
       "    <tr>\n",
       "      <th>21521</th>\n",
       "      <td>0</td>\n",
       "      <td>343937.404131</td>\n",
       "      <td>67</td>\n",
       "      <td>среднее</td>\n",
       "      <td>1</td>\n",
       "      <td>женат / замужем</td>\n",
       "      <td>0</td>\n",
       "      <td>F</td>\n",
       "      <td>пенсионер</td>\n",
       "      <td>0</td>\n",
       "      <td>155999</td>\n",
       "      <td>сделка с автомобилем</td>\n",
       "      <td>C</td>\n",
       "      <td>операции с автомобилем</td>\n",
       "      <td>Нет детей</td>\n",
       "      <td>C</td>\n",
       "    </tr>\n",
       "    <tr>\n",
       "      <th>21522</th>\n",
       "      <td>1</td>\n",
       "      <td>2113.346888</td>\n",
       "      <td>38</td>\n",
       "      <td>среднее</td>\n",
       "      <td>1</td>\n",
       "      <td>гражданский брак</td>\n",
       "      <td>1</td>\n",
       "      <td>M</td>\n",
       "      <td>сотрудник</td>\n",
       "      <td>1</td>\n",
       "      <td>89672</td>\n",
       "      <td>недвижимость</td>\n",
       "      <td>C</td>\n",
       "      <td>операции с недвижимостью</td>\n",
       "      <td>Есть дети</td>\n",
       "      <td>C</td>\n",
       "    </tr>\n",
       "    <tr>\n",
       "      <th>21523</th>\n",
       "      <td>3</td>\n",
       "      <td>3112.481705</td>\n",
       "      <td>38</td>\n",
       "      <td>среднее</td>\n",
       "      <td>1</td>\n",
       "      <td>женат / замужем</td>\n",
       "      <td>0</td>\n",
       "      <td>M</td>\n",
       "      <td>сотрудник</td>\n",
       "      <td>1</td>\n",
       "      <td>244093</td>\n",
       "      <td>на покупку своего автомобиля</td>\n",
       "      <td>B</td>\n",
       "      <td>операции с автомобилем</td>\n",
       "      <td>Многодетный</td>\n",
       "      <td>B</td>\n",
       "    </tr>\n",
       "    <tr>\n",
       "      <th>21524</th>\n",
       "      <td>2</td>\n",
       "      <td>1984.507589</td>\n",
       "      <td>40</td>\n",
       "      <td>среднее</td>\n",
       "      <td>1</td>\n",
       "      <td>женат / замужем</td>\n",
       "      <td>0</td>\n",
       "      <td>F</td>\n",
       "      <td>сотрудник</td>\n",
       "      <td>0</td>\n",
       "      <td>82047</td>\n",
       "      <td>на покупку автомобиля</td>\n",
       "      <td>C</td>\n",
       "      <td>операции с автомобилем</td>\n",
       "      <td>Есть дети</td>\n",
       "      <td>C</td>\n",
       "    </tr>\n",
       "  </tbody>\n",
       "</table>\n",
       "<p>21331 rows × 16 columns</p>\n",
       "</div>"
      ],
      "text/plain": [
       "       children  days_employed  dob_years education  education_id  \\\n",
       "0             1    8437.673028         42    высшее             0   \n",
       "1             1    4024.803754         36   среднее             1   \n",
       "2             0    5623.422610         33   среднее             1   \n",
       "3             3    4124.747207         32   среднее             1   \n",
       "4             0  340266.072047         53   среднее             1   \n",
       "...         ...            ...        ...       ...           ...   \n",
       "21520         1    4529.316663         43   среднее             1   \n",
       "21521         0  343937.404131         67   среднее             1   \n",
       "21522         1    2113.346888         38   среднее             1   \n",
       "21523         3    3112.481705         38   среднее             1   \n",
       "21524         2    1984.507589         40   среднее             1   \n",
       "\n",
       "          family_status  family_status_id gender income_type  debt  \\\n",
       "0       женат / замужем                 0      F   сотрудник     0   \n",
       "1       женат / замужем                 0      F   сотрудник     0   \n",
       "2       женат / замужем                 0      M   сотрудник     0   \n",
       "3       женат / замужем                 0      M   сотрудник     0   \n",
       "4      гражданский брак                 1      F   пенсионер     0   \n",
       "...                 ...               ...    ...         ...   ...   \n",
       "21520  гражданский брак                 1      F   компаньон     0   \n",
       "21521   женат / замужем                 0      F   пенсионер     0   \n",
       "21522  гражданский брак                 1      M   сотрудник     1   \n",
       "21523   женат / замужем                 0      M   сотрудник     1   \n",
       "21524   женат / замужем                 0      F   сотрудник     0   \n",
       "\n",
       "       total_income                       purpose total_income_category  \\\n",
       "0            253875                 покупка жилья                     B   \n",
       "1            112080       приобретение автомобиля                     C   \n",
       "2            145885                 покупка жилья                     C   \n",
       "3            267628    дополнительное образование                     B   \n",
       "4            158616               сыграть свадьбу                     C   \n",
       "...             ...                           ...                   ...   \n",
       "21520        224791             операции с жильем                     B   \n",
       "21521        155999          сделка с автомобилем                     C   \n",
       "21522         89672                  недвижимость                     C   \n",
       "21523        244093  на покупку своего автомобиля                     B   \n",
       "21524         82047         на покупку автомобиля                     C   \n",
       "\n",
       "               purpose_category children_category income_category  \n",
       "0      операции с недвижимостью         Есть дети               B  \n",
       "1        операции с автомобилем         Есть дети               C  \n",
       "2      операции с недвижимостью         Нет детей               C  \n",
       "3         получение образования       Многодетный               B  \n",
       "4            проведение свадьбы         Нет детей               C  \n",
       "...                         ...               ...             ...  \n",
       "21520  операции с недвижимостью         Есть дети               B  \n",
       "21521    операции с автомобилем         Нет детей               C  \n",
       "21522  операции с недвижимостью         Есть дети               C  \n",
       "21523    операции с автомобилем       Многодетный               B  \n",
       "21524    операции с автомобилем         Есть дети               C  \n",
       "\n",
       "[21331 rows x 16 columns]"
      ]
     },
     "execution_count": 40,
     "metadata": {},
     "output_type": "execute_result"
    }
   ],
   "source": [
    "data['income_category'] = data['total_income'].apply(income_category)\n",
    "data"
   ]
  },
  {
   "cell_type": "markdown",
   "id": "f1a1b151",
   "metadata": {},
   "source": [
    "5. Создадим сводную таблицу, в которой главным столбцом будет 'income_category' и два столбца 'no_debt' и 'debt', показывающие должник или недолжник наш клиент."
   ]
  },
  {
   "cell_type": "code",
   "execution_count": 41,
   "id": "09a30965",
   "metadata": {
    "scrolled": true
   },
   "outputs": [
    {
     "data": {
      "text/html": [
       "<div>\n",
       "<style scoped>\n",
       "    .dataframe tbody tr th:only-of-type {\n",
       "        vertical-align: middle;\n",
       "    }\n",
       "\n",
       "    .dataframe tbody tr th {\n",
       "        vertical-align: top;\n",
       "    }\n",
       "\n",
       "    .dataframe thead th {\n",
       "        text-align: right;\n",
       "    }\n",
       "</style>\n",
       "<table border=\"1\" class=\"dataframe\">\n",
       "  <thead>\n",
       "    <tr style=\"text-align: right;\">\n",
       "      <th></th>\n",
       "      <th>no_debt</th>\n",
       "      <th>debt</th>\n",
       "    </tr>\n",
       "    <tr>\n",
       "      <th>income_category</th>\n",
       "      <th></th>\n",
       "      <th></th>\n",
       "    </tr>\n",
       "  </thead>\n",
       "  <tbody>\n",
       "    <tr>\n",
       "      <th>A</th>\n",
       "      <td>23</td>\n",
       "      <td>2</td>\n",
       "    </tr>\n",
       "    <tr>\n",
       "      <th>B</th>\n",
       "      <td>4660</td>\n",
       "      <td>354</td>\n",
       "    </tr>\n",
       "    <tr>\n",
       "      <th>C</th>\n",
       "      <td>14568</td>\n",
       "      <td>1353</td>\n",
       "    </tr>\n",
       "    <tr>\n",
       "      <th>D</th>\n",
       "      <td>328</td>\n",
       "      <td>21</td>\n",
       "    </tr>\n",
       "    <tr>\n",
       "      <th>E</th>\n",
       "      <td>20</td>\n",
       "      <td>2</td>\n",
       "    </tr>\n",
       "  </tbody>\n",
       "</table>\n",
       "</div>"
      ],
      "text/plain": [
       "                 no_debt  debt\n",
       "income_category               \n",
       "A                     23     2\n",
       "B                   4660   354\n",
       "C                  14568  1353\n",
       "D                    328    21\n",
       "E                     20     2"
      ]
     },
     "execution_count": 41,
     "metadata": {},
     "output_type": "execute_result"
    }
   ],
   "source": [
    "income_debt = pd.pivot_table(data,\n",
    "                            index = ['income_category'], # По столбцу 'income_category' у нас будет осуществляться агрегация данных\n",
    "                            columns = ['debt'], # Определим явно, какие нам нужны для анализа столбцы.\n",
    "                            values = ['gender'], # Определяем значение 'gender' для дальнейшей замены 0 и 1 на no_debt и debt.\n",
    "                            aggfunc = 'count') # Агрегатная функция, подсчет всех значений.\n",
    "income_debt.columns = ['no_debt', 'debt'] # Создание двух столбцов 'no_debt' и 'debt' (вместо 0 и 1)\n",
    "                            \n",
    "\n",
    "income_debt"
   ]
  },
  {
   "cell_type": "markdown",
   "id": "58029850",
   "metadata": {},
   "source": [
    "6. Создадим новый столбец 'interest', в котором будет изображен процент соотношения дожников на общее количество в определенной категории по уровню дохода."
   ]
  },
  {
   "cell_type": "code",
   "execution_count": 42,
   "id": "07774a71",
   "metadata": {},
   "outputs": [
    {
     "data": {
      "text/html": [
       "<div>\n",
       "<style scoped>\n",
       "    .dataframe tbody tr th:only-of-type {\n",
       "        vertical-align: middle;\n",
       "    }\n",
       "\n",
       "    .dataframe tbody tr th {\n",
       "        vertical-align: top;\n",
       "    }\n",
       "\n",
       "    .dataframe thead th {\n",
       "        text-align: right;\n",
       "    }\n",
       "</style>\n",
       "<table border=\"1\" class=\"dataframe\">\n",
       "  <thead>\n",
       "    <tr style=\"text-align: right;\">\n",
       "      <th></th>\n",
       "      <th>no_debt</th>\n",
       "      <th>debt</th>\n",
       "      <th>interest</th>\n",
       "    </tr>\n",
       "    <tr>\n",
       "      <th>income_category</th>\n",
       "      <th></th>\n",
       "      <th></th>\n",
       "      <th></th>\n",
       "    </tr>\n",
       "  </thead>\n",
       "  <tbody>\n",
       "    <tr>\n",
       "      <th>E</th>\n",
       "      <td>20</td>\n",
       "      <td>2</td>\n",
       "      <td>9.1%</td>\n",
       "    </tr>\n",
       "    <tr>\n",
       "      <th>C</th>\n",
       "      <td>14568</td>\n",
       "      <td>1353</td>\n",
       "      <td>8.5%</td>\n",
       "    </tr>\n",
       "    <tr>\n",
       "      <th>A</th>\n",
       "      <td>23</td>\n",
       "      <td>2</td>\n",
       "      <td>8.0%</td>\n",
       "    </tr>\n",
       "    <tr>\n",
       "      <th>B</th>\n",
       "      <td>4660</td>\n",
       "      <td>354</td>\n",
       "      <td>7.1%</td>\n",
       "    </tr>\n",
       "    <tr>\n",
       "      <th>D</th>\n",
       "      <td>328</td>\n",
       "      <td>21</td>\n",
       "      <td>6.0%</td>\n",
       "    </tr>\n",
       "  </tbody>\n",
       "</table>\n",
       "</div>"
      ],
      "text/plain": [
       "                 no_debt  debt interest\n",
       "income_category                        \n",
       "E                     20     2     9.1%\n",
       "C                  14568  1353     8.5%\n",
       "A                     23     2     8.0%\n",
       "B                   4660   354     7.1%\n",
       "D                    328    21     6.0%"
      ]
     },
     "execution_count": 42,
     "metadata": {},
     "output_type": "execute_result"
    }
   ],
   "source": [
    "income_debt['interest'] = (income_debt['debt'] / (income_debt['debt'] + income_debt['no_debt']))\n",
    "income_debt['interest'] = income_debt['interest'].map('{:.1%}'.format) # Вывод в процентном формате.\n",
    "income_debt.sort_values(by = 'interest', ascending = False) # Сортировка по убыванию по столбцу 'interest'"
   ]
  },
  {
   "cell_type": "markdown",
   "id": "6dd14b57",
   "metadata": {
    "deletable": false,
    "id": "6dd14b57"
   },
   "source": [
    "**Вывод:** "
   ]
  },
  {
   "cell_type": "markdown",
   "id": "a5d2f342",
   "metadata": {},
   "source": [
    "Из приведенной выше таблицы, мы можем увидеть, что у строк с категориями 'E', 'A', 'D' мало данных по отношению с другими категориями. Необходимо проверить правильность переноса данных в таблицу из базы данных, задать вопрос разработчикам, действительно ли столь мало людей берут кредит из данных категорий. Поэтому, пока что, мы опустим показатели этих категорий и возьмем для анализа данные из категорий 'C' и 'B'. Из таблицы видно, что категория ('C') людей с заработком от 50001 - 200000 является наиболее подверженой риску быть должниками. На втором месте идут люди получающие от 200001 до 1000000 (категория 'B').\n"
   ]
  },
  {
   "cell_type": "markdown",
   "id": "1dcc9b12",
   "metadata": {
    "deletable": false,
    "editable": false,
    "id": "1dcc9b12"
   },
   "source": [
    "#### 3.4 Как разные цели кредита влияют на его возврат в срок?"
   ]
  },
  {
   "cell_type": "markdown",
   "id": "40d11369",
   "metadata": {},
   "source": [
    "1. Для того, чтобы понимать, с какими данными нам придется работать, выведем оба столбца 'purpose' - цель взятия кредита, 'dept' - имел ли наш клиент задолженность по возврату кредитов до этого."
   ]
  },
  {
   "cell_type": "code",
   "execution_count": 43,
   "id": "c602bc8b",
   "metadata": {
    "deletable": false,
    "id": "c602bc8b"
   },
   "outputs": [
    {
     "data": {
      "text/html": [
       "<div>\n",
       "<style scoped>\n",
       "    .dataframe tbody tr th:only-of-type {\n",
       "        vertical-align: middle;\n",
       "    }\n",
       "\n",
       "    .dataframe tbody tr th {\n",
       "        vertical-align: top;\n",
       "    }\n",
       "\n",
       "    .dataframe thead th {\n",
       "        text-align: right;\n",
       "    }\n",
       "</style>\n",
       "<table border=\"1\" class=\"dataframe\">\n",
       "  <thead>\n",
       "    <tr style=\"text-align: right;\">\n",
       "      <th></th>\n",
       "      <th>purpose</th>\n",
       "      <th>debt</th>\n",
       "    </tr>\n",
       "  </thead>\n",
       "  <tbody>\n",
       "    <tr>\n",
       "      <th>0</th>\n",
       "      <td>покупка жилья</td>\n",
       "      <td>0</td>\n",
       "    </tr>\n",
       "    <tr>\n",
       "      <th>1</th>\n",
       "      <td>приобретение автомобиля</td>\n",
       "      <td>0</td>\n",
       "    </tr>\n",
       "    <tr>\n",
       "      <th>2</th>\n",
       "      <td>покупка жилья</td>\n",
       "      <td>0</td>\n",
       "    </tr>\n",
       "    <tr>\n",
       "      <th>3</th>\n",
       "      <td>дополнительное образование</td>\n",
       "      <td>0</td>\n",
       "    </tr>\n",
       "    <tr>\n",
       "      <th>4</th>\n",
       "      <td>сыграть свадьбу</td>\n",
       "      <td>0</td>\n",
       "    </tr>\n",
       "    <tr>\n",
       "      <th>...</th>\n",
       "      <td>...</td>\n",
       "      <td>...</td>\n",
       "    </tr>\n",
       "    <tr>\n",
       "      <th>21520</th>\n",
       "      <td>операции с жильем</td>\n",
       "      <td>0</td>\n",
       "    </tr>\n",
       "    <tr>\n",
       "      <th>21521</th>\n",
       "      <td>сделка с автомобилем</td>\n",
       "      <td>0</td>\n",
       "    </tr>\n",
       "    <tr>\n",
       "      <th>21522</th>\n",
       "      <td>недвижимость</td>\n",
       "      <td>1</td>\n",
       "    </tr>\n",
       "    <tr>\n",
       "      <th>21523</th>\n",
       "      <td>на покупку своего автомобиля</td>\n",
       "      <td>1</td>\n",
       "    </tr>\n",
       "    <tr>\n",
       "      <th>21524</th>\n",
       "      <td>на покупку автомобиля</td>\n",
       "      <td>0</td>\n",
       "    </tr>\n",
       "  </tbody>\n",
       "</table>\n",
       "<p>21331 rows × 2 columns</p>\n",
       "</div>"
      ],
      "text/plain": [
       "                            purpose  debt\n",
       "0                     покупка жилья     0\n",
       "1           приобретение автомобиля     0\n",
       "2                     покупка жилья     0\n",
       "3        дополнительное образование     0\n",
       "4                   сыграть свадьбу     0\n",
       "...                             ...   ...\n",
       "21520             операции с жильем     0\n",
       "21521          сделка с автомобилем     0\n",
       "21522                  недвижимость     1\n",
       "21523  на покупку своего автомобиля     1\n",
       "21524         на покупку автомобиля     0\n",
       "\n",
       "[21331 rows x 2 columns]"
      ]
     },
     "execution_count": 43,
     "metadata": {},
     "output_type": "execute_result"
    }
   ],
   "source": [
    "data[['purpose', 'debt']]"
   ]
  },
  {
   "cell_type": "markdown",
   "id": "7eb4ee57",
   "metadata": {},
   "source": [
    "2. Проверим целостность данных в обоих столбцах (проверим пропуски), для того чтобы анализ был наиболее точный."
   ]
  },
  {
   "cell_type": "code",
   "execution_count": 44,
   "id": "455ee924",
   "metadata": {},
   "outputs": [
    {
     "data": {
      "text/plain": [
       "0"
      ]
     },
     "execution_count": 44,
     "metadata": {},
     "output_type": "execute_result"
    }
   ],
   "source": [
    "data['purpose'].isna().sum()"
   ]
  },
  {
   "cell_type": "code",
   "execution_count": 45,
   "id": "ce45ad14",
   "metadata": {},
   "outputs": [
    {
     "data": {
      "text/plain": [
       "0"
      ]
     },
     "execution_count": 45,
     "metadata": {},
     "output_type": "execute_result"
    }
   ],
   "source": [
    "data['debt'].isna().sum()"
   ]
  },
  {
   "cell_type": "markdown",
   "id": "dd43110b",
   "metadata": {},
   "source": [
    "3. Выведем все уникальные значения в столбце 'purpose', чтобы увидеть основные цели для взятия кредита."
   ]
  },
  {
   "cell_type": "code",
   "execution_count": 46,
   "id": "98e99688",
   "metadata": {},
   "outputs": [
    {
     "data": {
      "text/plain": [
       "array(['покупка жилья', 'приобретение автомобиля',\n",
       "       'дополнительное образование', 'сыграть свадьбу',\n",
       "       'операции с жильем', 'образование', 'на проведение свадьбы',\n",
       "       'покупка жилья для семьи', 'покупка недвижимости',\n",
       "       'покупка коммерческой недвижимости', 'покупка жилой недвижимости',\n",
       "       'строительство собственной недвижимости', 'недвижимость',\n",
       "       'строительство недвижимости', 'на покупку подержанного автомобиля',\n",
       "       'на покупку своего автомобиля',\n",
       "       'операции с коммерческой недвижимостью',\n",
       "       'строительство жилой недвижимости', 'жилье',\n",
       "       'операции со своей недвижимостью', 'автомобили',\n",
       "       'заняться образованием', 'сделка с подержанным автомобилем',\n",
       "       'получение образования', 'автомобиль', 'свадьба',\n",
       "       'получение дополнительного образования', 'покупка своего жилья',\n",
       "       'операции с недвижимостью', 'получение высшего образования',\n",
       "       'свой автомобиль', 'сделка с автомобилем',\n",
       "       'профильное образование', 'высшее образование',\n",
       "       'покупка жилья для сдачи', 'на покупку автомобиля', 'ремонт жилью',\n",
       "       'заняться высшим образованием'], dtype=object)"
      ]
     },
     "execution_count": 46,
     "metadata": {},
     "output_type": "execute_result"
    }
   ],
   "source": [
    "data['purpose'].unique()"
   ]
  },
  {
   "cell_type": "markdown",
   "id": "5e713505",
   "metadata": {},
   "source": [
    "3. Из выше приведенного списка, можно понять, что цели похожи, поэтому сформируем все значения в столбце 'purpose' по категориям взятия кредита с помощью функции categorize_purpose. Категории: 'Покупка/строительство недвижимости', 'Покупка автомобиля', 'Организация свадьбы', 'Получение образования'."
   ]
  },
  {
   "cell_type": "code",
   "execution_count": 47,
   "id": "b78c206b",
   "metadata": {},
   "outputs": [],
   "source": [
    "def categorize_purpose(purpose):\n",
    "    try:\n",
    "        if 'авто' in purpose:\n",
    "            return 'Покупка автомобиля'\n",
    "        if 'свадьб' in purpose:\n",
    "            return 'Организация свадьбы'\n",
    "        if 'образ' in purpose:\n",
    "            return 'Получение образования'\n",
    "        if 'жиль' in purpose or 'недв' in purpose:\n",
    "            return 'Покупка/строительство недвижимости'\n",
    "    except:\n",
    "        return 'Нет категории'"
   ]
  },
  {
   "cell_type": "markdown",
   "id": "3a56339b",
   "metadata": {},
   "source": [
    "4. Создадим отдельный столбец, в который будем выводить категории взятия кредита. Воспользуемся функцией apply() для того, чтобы она применила функцию 'children_category'."
   ]
  },
  {
   "cell_type": "code",
   "execution_count": 48,
   "id": "0fc2d800",
   "metadata": {},
   "outputs": [
    {
     "data": {
      "text/html": [
       "<div>\n",
       "<style scoped>\n",
       "    .dataframe tbody tr th:only-of-type {\n",
       "        vertical-align: middle;\n",
       "    }\n",
       "\n",
       "    .dataframe tbody tr th {\n",
       "        vertical-align: top;\n",
       "    }\n",
       "\n",
       "    .dataframe thead th {\n",
       "        text-align: right;\n",
       "    }\n",
       "</style>\n",
       "<table border=\"1\" class=\"dataframe\">\n",
       "  <thead>\n",
       "    <tr style=\"text-align: right;\">\n",
       "      <th></th>\n",
       "      <th>children</th>\n",
       "      <th>days_employed</th>\n",
       "      <th>dob_years</th>\n",
       "      <th>education</th>\n",
       "      <th>education_id</th>\n",
       "      <th>family_status</th>\n",
       "      <th>family_status_id</th>\n",
       "      <th>gender</th>\n",
       "      <th>income_type</th>\n",
       "      <th>debt</th>\n",
       "      <th>total_income</th>\n",
       "      <th>purpose</th>\n",
       "      <th>total_income_category</th>\n",
       "      <th>purpose_category</th>\n",
       "      <th>children_category</th>\n",
       "      <th>income_category</th>\n",
       "      <th>category_purpose</th>\n",
       "    </tr>\n",
       "  </thead>\n",
       "  <tbody>\n",
       "    <tr>\n",
       "      <th>0</th>\n",
       "      <td>1</td>\n",
       "      <td>8437.673028</td>\n",
       "      <td>42</td>\n",
       "      <td>высшее</td>\n",
       "      <td>0</td>\n",
       "      <td>женат / замужем</td>\n",
       "      <td>0</td>\n",
       "      <td>F</td>\n",
       "      <td>сотрудник</td>\n",
       "      <td>0</td>\n",
       "      <td>253875</td>\n",
       "      <td>покупка жилья</td>\n",
       "      <td>B</td>\n",
       "      <td>операции с недвижимостью</td>\n",
       "      <td>Есть дети</td>\n",
       "      <td>B</td>\n",
       "      <td>Покупка/строительство недвижимости</td>\n",
       "    </tr>\n",
       "    <tr>\n",
       "      <th>1</th>\n",
       "      <td>1</td>\n",
       "      <td>4024.803754</td>\n",
       "      <td>36</td>\n",
       "      <td>среднее</td>\n",
       "      <td>1</td>\n",
       "      <td>женат / замужем</td>\n",
       "      <td>0</td>\n",
       "      <td>F</td>\n",
       "      <td>сотрудник</td>\n",
       "      <td>0</td>\n",
       "      <td>112080</td>\n",
       "      <td>приобретение автомобиля</td>\n",
       "      <td>C</td>\n",
       "      <td>операции с автомобилем</td>\n",
       "      <td>Есть дети</td>\n",
       "      <td>C</td>\n",
       "      <td>Покупка автомобиля</td>\n",
       "    </tr>\n",
       "    <tr>\n",
       "      <th>2</th>\n",
       "      <td>0</td>\n",
       "      <td>5623.422610</td>\n",
       "      <td>33</td>\n",
       "      <td>среднее</td>\n",
       "      <td>1</td>\n",
       "      <td>женат / замужем</td>\n",
       "      <td>0</td>\n",
       "      <td>M</td>\n",
       "      <td>сотрудник</td>\n",
       "      <td>0</td>\n",
       "      <td>145885</td>\n",
       "      <td>покупка жилья</td>\n",
       "      <td>C</td>\n",
       "      <td>операции с недвижимостью</td>\n",
       "      <td>Нет детей</td>\n",
       "      <td>C</td>\n",
       "      <td>Покупка/строительство недвижимости</td>\n",
       "    </tr>\n",
       "    <tr>\n",
       "      <th>3</th>\n",
       "      <td>3</td>\n",
       "      <td>4124.747207</td>\n",
       "      <td>32</td>\n",
       "      <td>среднее</td>\n",
       "      <td>1</td>\n",
       "      <td>женат / замужем</td>\n",
       "      <td>0</td>\n",
       "      <td>M</td>\n",
       "      <td>сотрудник</td>\n",
       "      <td>0</td>\n",
       "      <td>267628</td>\n",
       "      <td>дополнительное образование</td>\n",
       "      <td>B</td>\n",
       "      <td>получение образования</td>\n",
       "      <td>Многодетный</td>\n",
       "      <td>B</td>\n",
       "      <td>Получение образования</td>\n",
       "    </tr>\n",
       "    <tr>\n",
       "      <th>4</th>\n",
       "      <td>0</td>\n",
       "      <td>340266.072047</td>\n",
       "      <td>53</td>\n",
       "      <td>среднее</td>\n",
       "      <td>1</td>\n",
       "      <td>гражданский брак</td>\n",
       "      <td>1</td>\n",
       "      <td>F</td>\n",
       "      <td>пенсионер</td>\n",
       "      <td>0</td>\n",
       "      <td>158616</td>\n",
       "      <td>сыграть свадьбу</td>\n",
       "      <td>C</td>\n",
       "      <td>проведение свадьбы</td>\n",
       "      <td>Нет детей</td>\n",
       "      <td>C</td>\n",
       "      <td>Организация свадьбы</td>\n",
       "    </tr>\n",
       "    <tr>\n",
       "      <th>...</th>\n",
       "      <td>...</td>\n",
       "      <td>...</td>\n",
       "      <td>...</td>\n",
       "      <td>...</td>\n",
       "      <td>...</td>\n",
       "      <td>...</td>\n",
       "      <td>...</td>\n",
       "      <td>...</td>\n",
       "      <td>...</td>\n",
       "      <td>...</td>\n",
       "      <td>...</td>\n",
       "      <td>...</td>\n",
       "      <td>...</td>\n",
       "      <td>...</td>\n",
       "      <td>...</td>\n",
       "      <td>...</td>\n",
       "      <td>...</td>\n",
       "    </tr>\n",
       "    <tr>\n",
       "      <th>21520</th>\n",
       "      <td>1</td>\n",
       "      <td>4529.316663</td>\n",
       "      <td>43</td>\n",
       "      <td>среднее</td>\n",
       "      <td>1</td>\n",
       "      <td>гражданский брак</td>\n",
       "      <td>1</td>\n",
       "      <td>F</td>\n",
       "      <td>компаньон</td>\n",
       "      <td>0</td>\n",
       "      <td>224791</td>\n",
       "      <td>операции с жильем</td>\n",
       "      <td>B</td>\n",
       "      <td>операции с недвижимостью</td>\n",
       "      <td>Есть дети</td>\n",
       "      <td>B</td>\n",
       "      <td>Покупка/строительство недвижимости</td>\n",
       "    </tr>\n",
       "    <tr>\n",
       "      <th>21521</th>\n",
       "      <td>0</td>\n",
       "      <td>343937.404131</td>\n",
       "      <td>67</td>\n",
       "      <td>среднее</td>\n",
       "      <td>1</td>\n",
       "      <td>женат / замужем</td>\n",
       "      <td>0</td>\n",
       "      <td>F</td>\n",
       "      <td>пенсионер</td>\n",
       "      <td>0</td>\n",
       "      <td>155999</td>\n",
       "      <td>сделка с автомобилем</td>\n",
       "      <td>C</td>\n",
       "      <td>операции с автомобилем</td>\n",
       "      <td>Нет детей</td>\n",
       "      <td>C</td>\n",
       "      <td>Покупка автомобиля</td>\n",
       "    </tr>\n",
       "    <tr>\n",
       "      <th>21522</th>\n",
       "      <td>1</td>\n",
       "      <td>2113.346888</td>\n",
       "      <td>38</td>\n",
       "      <td>среднее</td>\n",
       "      <td>1</td>\n",
       "      <td>гражданский брак</td>\n",
       "      <td>1</td>\n",
       "      <td>M</td>\n",
       "      <td>сотрудник</td>\n",
       "      <td>1</td>\n",
       "      <td>89672</td>\n",
       "      <td>недвижимость</td>\n",
       "      <td>C</td>\n",
       "      <td>операции с недвижимостью</td>\n",
       "      <td>Есть дети</td>\n",
       "      <td>C</td>\n",
       "      <td>Покупка/строительство недвижимости</td>\n",
       "    </tr>\n",
       "    <tr>\n",
       "      <th>21523</th>\n",
       "      <td>3</td>\n",
       "      <td>3112.481705</td>\n",
       "      <td>38</td>\n",
       "      <td>среднее</td>\n",
       "      <td>1</td>\n",
       "      <td>женат / замужем</td>\n",
       "      <td>0</td>\n",
       "      <td>M</td>\n",
       "      <td>сотрудник</td>\n",
       "      <td>1</td>\n",
       "      <td>244093</td>\n",
       "      <td>на покупку своего автомобиля</td>\n",
       "      <td>B</td>\n",
       "      <td>операции с автомобилем</td>\n",
       "      <td>Многодетный</td>\n",
       "      <td>B</td>\n",
       "      <td>Покупка автомобиля</td>\n",
       "    </tr>\n",
       "    <tr>\n",
       "      <th>21524</th>\n",
       "      <td>2</td>\n",
       "      <td>1984.507589</td>\n",
       "      <td>40</td>\n",
       "      <td>среднее</td>\n",
       "      <td>1</td>\n",
       "      <td>женат / замужем</td>\n",
       "      <td>0</td>\n",
       "      <td>F</td>\n",
       "      <td>сотрудник</td>\n",
       "      <td>0</td>\n",
       "      <td>82047</td>\n",
       "      <td>на покупку автомобиля</td>\n",
       "      <td>C</td>\n",
       "      <td>операции с автомобилем</td>\n",
       "      <td>Есть дети</td>\n",
       "      <td>C</td>\n",
       "      <td>Покупка автомобиля</td>\n",
       "    </tr>\n",
       "  </tbody>\n",
       "</table>\n",
       "<p>21331 rows × 17 columns</p>\n",
       "</div>"
      ],
      "text/plain": [
       "       children  days_employed  dob_years education  education_id  \\\n",
       "0             1    8437.673028         42    высшее             0   \n",
       "1             1    4024.803754         36   среднее             1   \n",
       "2             0    5623.422610         33   среднее             1   \n",
       "3             3    4124.747207         32   среднее             1   \n",
       "4             0  340266.072047         53   среднее             1   \n",
       "...         ...            ...        ...       ...           ...   \n",
       "21520         1    4529.316663         43   среднее             1   \n",
       "21521         0  343937.404131         67   среднее             1   \n",
       "21522         1    2113.346888         38   среднее             1   \n",
       "21523         3    3112.481705         38   среднее             1   \n",
       "21524         2    1984.507589         40   среднее             1   \n",
       "\n",
       "          family_status  family_status_id gender income_type  debt  \\\n",
       "0       женат / замужем                 0      F   сотрудник     0   \n",
       "1       женат / замужем                 0      F   сотрудник     0   \n",
       "2       женат / замужем                 0      M   сотрудник     0   \n",
       "3       женат / замужем                 0      M   сотрудник     0   \n",
       "4      гражданский брак                 1      F   пенсионер     0   \n",
       "...                 ...               ...    ...         ...   ...   \n",
       "21520  гражданский брак                 1      F   компаньон     0   \n",
       "21521   женат / замужем                 0      F   пенсионер     0   \n",
       "21522  гражданский брак                 1      M   сотрудник     1   \n",
       "21523   женат / замужем                 0      M   сотрудник     1   \n",
       "21524   женат / замужем                 0      F   сотрудник     0   \n",
       "\n",
       "       total_income                       purpose total_income_category  \\\n",
       "0            253875                 покупка жилья                     B   \n",
       "1            112080       приобретение автомобиля                     C   \n",
       "2            145885                 покупка жилья                     C   \n",
       "3            267628    дополнительное образование                     B   \n",
       "4            158616               сыграть свадьбу                     C   \n",
       "...             ...                           ...                   ...   \n",
       "21520        224791             операции с жильем                     B   \n",
       "21521        155999          сделка с автомобилем                     C   \n",
       "21522         89672                  недвижимость                     C   \n",
       "21523        244093  на покупку своего автомобиля                     B   \n",
       "21524         82047         на покупку автомобиля                     C   \n",
       "\n",
       "               purpose_category children_category income_category  \\\n",
       "0      операции с недвижимостью         Есть дети               B   \n",
       "1        операции с автомобилем         Есть дети               C   \n",
       "2      операции с недвижимостью         Нет детей               C   \n",
       "3         получение образования       Многодетный               B   \n",
       "4            проведение свадьбы         Нет детей               C   \n",
       "...                         ...               ...             ...   \n",
       "21520  операции с недвижимостью         Есть дети               B   \n",
       "21521    операции с автомобилем         Нет детей               C   \n",
       "21522  операции с недвижимостью         Есть дети               C   \n",
       "21523    операции с автомобилем       Многодетный               B   \n",
       "21524    операции с автомобилем         Есть дети               C   \n",
       "\n",
       "                         category_purpose  \n",
       "0      Покупка/строительство недвижимости  \n",
       "1                      Покупка автомобиля  \n",
       "2      Покупка/строительство недвижимости  \n",
       "3                   Получение образования  \n",
       "4                     Организация свадьбы  \n",
       "...                                   ...  \n",
       "21520  Покупка/строительство недвижимости  \n",
       "21521                  Покупка автомобиля  \n",
       "21522  Покупка/строительство недвижимости  \n",
       "21523                  Покупка автомобиля  \n",
       "21524                  Покупка автомобиля  \n",
       "\n",
       "[21331 rows x 17 columns]"
      ]
     },
     "execution_count": 48,
     "metadata": {},
     "output_type": "execute_result"
    }
   ],
   "source": [
    "data['category_purpose'] = data['purpose'].apply(categorize_purpose)\n",
    "data"
   ]
  },
  {
   "cell_type": "markdown",
   "id": "08230531",
   "metadata": {},
   "source": [
    "5. Для того, чтобы проверить гипотезу воспользуемся функцией pivot_table(), для создания сводной таблицы, которая покажет нам данные."
   ]
  },
  {
   "cell_type": "code",
   "execution_count": 49,
   "id": "1d322ae4",
   "metadata": {},
   "outputs": [
    {
     "data": {
      "text/html": [
       "<div>\n",
       "<style scoped>\n",
       "    .dataframe tbody tr th:only-of-type {\n",
       "        vertical-align: middle;\n",
       "    }\n",
       "\n",
       "    .dataframe tbody tr th {\n",
       "        vertical-align: top;\n",
       "    }\n",
       "\n",
       "    .dataframe thead th {\n",
       "        text-align: right;\n",
       "    }\n",
       "</style>\n",
       "<table border=\"1\" class=\"dataframe\">\n",
       "  <thead>\n",
       "    <tr style=\"text-align: right;\">\n",
       "      <th></th>\n",
       "      <th>no_debt</th>\n",
       "      <th>debt</th>\n",
       "    </tr>\n",
       "    <tr>\n",
       "      <th>category_purpose</th>\n",
       "      <th></th>\n",
       "      <th></th>\n",
       "    </tr>\n",
       "  </thead>\n",
       "  <tbody>\n",
       "    <tr>\n",
       "      <th>Организация свадьбы</th>\n",
       "      <td>2130</td>\n",
       "      <td>183</td>\n",
       "    </tr>\n",
       "    <tr>\n",
       "      <th>Покупка автомобиля</th>\n",
       "      <td>3879</td>\n",
       "      <td>400</td>\n",
       "    </tr>\n",
       "    <tr>\n",
       "      <th>Покупка/строительство недвижимости</th>\n",
       "      <td>9971</td>\n",
       "      <td>780</td>\n",
       "    </tr>\n",
       "    <tr>\n",
       "      <th>Получение образования</th>\n",
       "      <td>3619</td>\n",
       "      <td>369</td>\n",
       "    </tr>\n",
       "  </tbody>\n",
       "</table>\n",
       "</div>"
      ],
      "text/plain": [
       "                                    no_debt  debt\n",
       "category_purpose                                 \n",
       "Организация свадьбы                    2130   183\n",
       "Покупка автомобиля                     3879   400\n",
       "Покупка/строительство недвижимости     9971   780\n",
       "Получение образования                  3619   369"
      ]
     },
     "execution_count": 49,
     "metadata": {},
     "output_type": "execute_result"
    }
   ],
   "source": [
    "purpose_debt = pd.pivot_table(data,\n",
    "                             index = 'category_purpose', # По столбцу 'category_purpose' у нас будет осуществляться агрегация данных\n",
    "                             columns = 'debt',  # Определим явно, какие нам нужны для анализа столбцы.\n",
    "                             values = 'gender', # Определяем значение 'gender' для дальнейшей замены 0 и 1 на no_debt и debt.\n",
    "                             aggfunc = 'count') # Агрегатная функция, подсчет всех значений.\n",
    "purpose_debt.columns = ['no_debt', 'debt'] # Создание двух столбцов 'no_debt' и 'debt' (вместо 0 и 1)\n",
    "purpose_debt                       "
   ]
  },
  {
   "cell_type": "markdown",
   "id": "af3bbd08",
   "metadata": {},
   "source": [
    "6. Для того, чтобы приведенные данные были понятны, приведем процентное соотношение должников по отношению к общему количеству клиентов в каждой категории."
   ]
  },
  {
   "cell_type": "code",
   "execution_count": 50,
   "id": "3d9c568f",
   "metadata": {},
   "outputs": [
    {
     "data": {
      "text/html": [
       "<div>\n",
       "<style scoped>\n",
       "    .dataframe tbody tr th:only-of-type {\n",
       "        vertical-align: middle;\n",
       "    }\n",
       "\n",
       "    .dataframe tbody tr th {\n",
       "        vertical-align: top;\n",
       "    }\n",
       "\n",
       "    .dataframe thead th {\n",
       "        text-align: right;\n",
       "    }\n",
       "</style>\n",
       "<table border=\"1\" class=\"dataframe\">\n",
       "  <thead>\n",
       "    <tr style=\"text-align: right;\">\n",
       "      <th></th>\n",
       "      <th>no_debt</th>\n",
       "      <th>debt</th>\n",
       "      <th>interest</th>\n",
       "    </tr>\n",
       "    <tr>\n",
       "      <th>category_purpose</th>\n",
       "      <th></th>\n",
       "      <th></th>\n",
       "      <th></th>\n",
       "    </tr>\n",
       "  </thead>\n",
       "  <tbody>\n",
       "    <tr>\n",
       "      <th>Покупка автомобиля</th>\n",
       "      <td>3879</td>\n",
       "      <td>400</td>\n",
       "      <td>9.35%</td>\n",
       "    </tr>\n",
       "    <tr>\n",
       "      <th>Получение образования</th>\n",
       "      <td>3619</td>\n",
       "      <td>369</td>\n",
       "      <td>9.25%</td>\n",
       "    </tr>\n",
       "    <tr>\n",
       "      <th>Организация свадьбы</th>\n",
       "      <td>2130</td>\n",
       "      <td>183</td>\n",
       "      <td>7.91%</td>\n",
       "    </tr>\n",
       "    <tr>\n",
       "      <th>Покупка/строительство недвижимости</th>\n",
       "      <td>9971</td>\n",
       "      <td>780</td>\n",
       "      <td>7.26%</td>\n",
       "    </tr>\n",
       "  </tbody>\n",
       "</table>\n",
       "</div>"
      ],
      "text/plain": [
       "                                    no_debt  debt interest\n",
       "category_purpose                                          \n",
       "Покупка автомобиля                     3879   400    9.35%\n",
       "Получение образования                  3619   369    9.25%\n",
       "Организация свадьбы                    2130   183    7.91%\n",
       "Покупка/строительство недвижимости     9971   780    7.26%"
      ]
     },
     "execution_count": 50,
     "metadata": {},
     "output_type": "execute_result"
    }
   ],
   "source": [
    "purpose_debt['interest'] = purpose_debt ['debt'] / (purpose_debt['debt'] + purpose_debt['no_debt'])\n",
    "purpose_debt['interest'] = purpose_debt['interest'].map('{:.2%}'.format) # Вывод в процентном формате.\n",
    "purpose_debt.sort_values(by = 'interest', ascending = False) # Сортировка столбца 'interest' по убыванию.\n"
   ]
  },
  {
   "cell_type": "markdown",
   "id": "cf05ed63",
   "metadata": {
    "deletable": false,
    "id": "cf05ed63"
   },
   "source": [
    "**Вывод:** "
   ]
  },
  {
   "cell_type": "markdown",
   "id": "6dc6bed8",
   "metadata": {},
   "source": [
    "Из приведенной выше сводной таблицы можно понять, что самая рисковая категория цели на кредит - покупка автомобиля (9.35%) и получение платного образования (9.25%). Перед согласованием кредита, стоит более тщательно проверить людей, которые берут кредит по этим целям, смогут ли они выплатить этот кредит? Также, организация свадьбы (7.91%) и покупка/строительство (7.26%) наиболее надежные категории."
   ]
  },
  {
   "cell_type": "markdown",
   "id": "46c1f10b",
   "metadata": {
    "deletable": false,
    "editable": false,
    "id": "46c1f10b"
   },
   "source": [
    "#### 3.5 Приведите возможные причины появления пропусков в исходных данных."
   ]
  },
  {
   "cell_type": "markdown",
   "id": "3697d2a9",
   "metadata": {
    "deletable": false,
    "id": "3697d2a9"
   },
   "source": [
    "*Ответ:* \n",
    "- Человеческий фактор: ошибки при сборе даннных или ошибки при вводе данных в систему могут привести к пропускам, также к человеческому фактору можно добавить, что клиенты/пользователи могли не предоставить данные (необязательные поля, например, email).\n",
    "- Технический фактор: был составлен неправильный запрос / объединение таблиц, а также пропуски могли возникнуть, если данные были сохранены в неправильном формате или были повреждены при передаче или сохранении."
   ]
  },
  {
   "cell_type": "markdown",
   "id": "3137d257",
   "metadata": {
    "deletable": false,
    "editable": false,
    "id": "3137d257"
   },
   "source": [
    "#### 3.6 Объясните, почему заполнить пропуски медианным значением — лучшее решение для количественных переменных."
   ]
  },
  {
   "cell_type": "markdown",
   "id": "cf40012a",
   "metadata": {
    "deletable": false,
    "id": "cf40012a"
   },
   "source": [
    "*Ответ:* \n",
    "Заполнить пропуски медианным значением - лучшее решение для количественных переменных, потому что в столбце могут встречаться значения, которые сильно отличаются от большего числа значений, и если мы будем заполнять пустые значения средним арифметическим - это будет некорректно, так как показатели будут сильно искажены (из-за аномалий в данных). А если мы будем заполнять пропуски медианным значением, то это позволит нам избежать искажений и проанализровать тщательно данные."
   ]
  },
  {
   "cell_type": "markdown",
   "id": "57bc304e",
   "metadata": {
    "deletable": false,
    "editable": false,
    "id": "57bc304e"
   },
   "source": [
    "### Шаг 4: общий вывод."
   ]
  },
  {
   "cell_type": "markdown",
   "id": "1ab75d1c",
   "metadata": {
    "deletable": false,
    "id": "1ab75d1c"
   },
   "source": [
    "В данном модуле мы изучили основные моменты, связанные с предобработкой данных: работа с пропусками, определение аномальных значений, преобразование типов данных, основные методы поиска дубликатов, работа с несовершенными реальными наборами данных. По окончании модуля мы сделали проект, в котором проанализировали влияние различных показателей друг на друга, и можем сделать вывод по ним: \n",
    "1) Наличие детей повышает вероятность задолженности.\n",
    "\n",
    "2) Категория людей 'Не женат / не замужем' - являются рискованным клиентом для банка. \n",
    "\n",
    "3) Категория людей 'C' с заработком 50001 - 200000 - является наиболее рисковой для выдачи кредита.\n",
    "\n",
    "4) Граждане берущие кредит для покупки автомобиля или платного обучения - наиболее подвержены риску стать должниками.\n",
    "\n",
    "Из выше перечисленного вывода, мы можем составить портрет идеального и наиболее рискованного клиента для банка-заказчика.\n",
    "- **Идеальный клиент для банка**: женатый/замужний человек, без детей, с заработком от 200001 до 1000000, берущий кредит на покупку/строительство недвижимости.\n",
    "- **Наиболее рискованный клиент для банка:** неженатый/незамужний человек, 1-2 ребенка, с заработком от 50001 до 200000, берущий кредит на покупку автомобиля / оплату образования."
   ]
  }
 ],
 "metadata": {
  "ExecuteTimeLog": [
   {
    "duration": 529,
    "start_time": "2023-04-25T16:51:00.909Z"
   },
   {
    "duration": 29,
    "start_time": "2023-04-25T16:51:01.441Z"
   },
   {
    "duration": 52,
    "start_time": "2023-04-25T16:51:01.472Z"
   },
   {
    "duration": 28,
    "start_time": "2023-04-25T16:51:01.525Z"
   },
   {
    "duration": 72,
    "start_time": "2023-04-25T16:51:01.555Z"
   },
   {
    "duration": 7,
    "start_time": "2023-04-25T16:51:01.629Z"
   },
   {
    "duration": 42,
    "start_time": "2023-04-25T16:51:01.638Z"
   },
   {
    "duration": 44,
    "start_time": "2023-04-25T16:51:01.682Z"
   },
   {
    "duration": 35,
    "start_time": "2023-04-25T16:51:01.728Z"
   },
   {
    "duration": 47,
    "start_time": "2023-04-25T16:51:01.765Z"
   },
   {
    "duration": 53,
    "start_time": "2023-04-25T16:51:01.813Z"
   },
   {
    "duration": 13,
    "start_time": "2023-04-25T16:51:01.868Z"
   },
   {
    "duration": 50,
    "start_time": "2023-04-25T16:51:01.883Z"
   },
   {
    "duration": 44,
    "start_time": "2023-04-25T16:51:01.935Z"
   },
   {
    "duration": 41,
    "start_time": "2023-04-25T16:51:01.981Z"
   },
   {
    "duration": 21,
    "start_time": "2023-04-25T16:51:02.024Z"
   },
   {
    "duration": 5,
    "start_time": "2023-04-25T16:51:02.047Z"
   },
   {
    "duration": 20,
    "start_time": "2023-04-25T16:51:02.054Z"
   },
   {
    "duration": 20,
    "start_time": "2023-04-25T16:51:02.076Z"
   },
   {
    "duration": 18,
    "start_time": "2023-04-25T16:51:02.098Z"
   },
   {
    "duration": 38,
    "start_time": "2023-04-25T16:51:02.117Z"
   },
   {
    "duration": 6,
    "start_time": "2023-04-25T16:51:02.157Z"
   },
   {
    "duration": 16,
    "start_time": "2023-04-25T16:51:02.165Z"
   },
   {
    "duration": 17,
    "start_time": "2023-04-25T16:51:02.183Z"
   },
   {
    "duration": 8,
    "start_time": "2023-04-25T16:51:02.201Z"
   },
   {
    "duration": 15,
    "start_time": "2023-04-25T16:51:20.890Z"
   },
   {
    "duration": 815,
    "start_time": "2023-04-25T16:52:23.902Z"
   },
   {
    "duration": 5,
    "start_time": "2023-04-25T16:52:36.940Z"
   },
   {
    "duration": 4,
    "start_time": "2023-04-25T16:53:02.787Z"
   },
   {
    "duration": 4,
    "start_time": "2023-04-25T16:53:12.904Z"
   },
   {
    "duration": 4,
    "start_time": "2023-04-25T16:53:34.946Z"
   },
   {
    "duration": 4,
    "start_time": "2023-04-25T16:53:43.917Z"
   },
   {
    "duration": 15,
    "start_time": "2023-04-25T16:55:34.807Z"
   },
   {
    "duration": 16,
    "start_time": "2023-04-25T16:55:39.654Z"
   },
   {
    "duration": 5,
    "start_time": "2023-04-25T16:55:52.257Z"
   },
   {
    "duration": 8,
    "start_time": "2023-04-25T16:56:27.999Z"
   },
   {
    "duration": 7,
    "start_time": "2023-04-25T16:56:44.342Z"
   },
   {
    "duration": 5,
    "start_time": "2023-04-25T17:01:44.621Z"
   },
   {
    "duration": 10,
    "start_time": "2023-04-25T17:03:16.587Z"
   },
   {
    "duration": 7,
    "start_time": "2023-04-25T17:06:52.281Z"
   },
   {
    "duration": 11,
    "start_time": "2023-04-25T17:07:03.831Z"
   },
   {
    "duration": 5,
    "start_time": "2023-04-25T17:10:07.122Z"
   },
   {
    "duration": 5,
    "start_time": "2023-04-25T17:10:25.243Z"
   },
   {
    "duration": 14,
    "start_time": "2023-04-25T17:13:15.581Z"
   },
   {
    "duration": 10,
    "start_time": "2023-04-25T17:13:30.042Z"
   },
   {
    "duration": 53,
    "start_time": "2023-04-25T17:13:51.323Z"
   },
   {
    "duration": 6,
    "start_time": "2023-04-25T17:13:56.588Z"
   },
   {
    "duration": 793,
    "start_time": "2023-04-25T17:16:27.521Z"
   },
   {
    "duration": 4,
    "start_time": "2023-04-25T17:17:05.956Z"
   },
   {
    "duration": 8,
    "start_time": "2023-04-25T17:29:16.009Z"
   },
   {
    "duration": 3,
    "start_time": "2023-04-25T17:35:22.393Z"
   },
   {
    "duration": 8,
    "start_time": "2023-04-25T17:35:29.314Z"
   },
   {
    "duration": 361,
    "start_time": "2023-04-25T17:36:27.804Z"
   },
   {
    "duration": 727,
    "start_time": "2023-04-25T17:37:17.159Z"
   },
   {
    "duration": 7,
    "start_time": "2023-04-25T17:46:04.953Z"
   },
   {
    "duration": 10,
    "start_time": "2023-04-25T17:46:10.622Z"
   },
   {
    "duration": 4,
    "start_time": "2023-04-25T17:58:02.347Z"
   },
   {
    "duration": 4,
    "start_time": "2023-04-25T17:58:05.221Z"
   },
   {
    "duration": 5,
    "start_time": "2023-04-25T17:58:08.332Z"
   },
   {
    "duration": 4,
    "start_time": "2023-04-25T17:58:15.120Z"
   },
   {
    "duration": 5,
    "start_time": "2023-04-25T17:58:20.879Z"
   },
   {
    "duration": 5,
    "start_time": "2023-04-25T17:58:25.628Z"
   },
   {
    "duration": 4,
    "start_time": "2023-04-25T17:58:27.550Z"
   },
   {
    "duration": 4,
    "start_time": "2023-04-25T17:58:30.880Z"
   },
   {
    "duration": 4,
    "start_time": "2023-04-25T17:58:50.049Z"
   },
   {
    "duration": 4,
    "start_time": "2023-04-25T17:59:17.347Z"
   },
   {
    "duration": 4,
    "start_time": "2023-04-25T17:59:19.801Z"
   },
   {
    "duration": 5,
    "start_time": "2023-04-25T17:59:22.661Z"
   },
   {
    "duration": 55,
    "start_time": "2023-04-25T17:59:36.824Z"
   },
   {
    "duration": 3,
    "start_time": "2023-04-25T17:59:39.925Z"
   },
   {
    "duration": 3,
    "start_time": "2023-04-25T17:59:42.168Z"
   },
   {
    "duration": 4,
    "start_time": "2023-04-25T17:59:46.779Z"
   },
   {
    "duration": 4,
    "start_time": "2023-04-25T17:59:56.119Z"
   },
   {
    "duration": 3,
    "start_time": "2023-04-25T17:59:58.460Z"
   },
   {
    "duration": 4,
    "start_time": "2023-04-25T18:00:06.148Z"
   },
   {
    "duration": 4,
    "start_time": "2023-04-25T18:00:08.061Z"
   },
   {
    "duration": 4,
    "start_time": "2023-04-25T18:00:38.156Z"
   },
   {
    "duration": 4,
    "start_time": "2023-04-25T18:00:42.197Z"
   },
   {
    "duration": 4,
    "start_time": "2023-04-25T18:00:46.016Z"
   },
   {
    "duration": 3,
    "start_time": "2023-04-25T18:00:47.703Z"
   },
   {
    "duration": 5,
    "start_time": "2023-04-25T18:01:01.378Z"
   },
   {
    "duration": 5,
    "start_time": "2023-04-25T18:01:04.044Z"
   },
   {
    "duration": 4,
    "start_time": "2023-04-25T18:01:05.895Z"
   },
   {
    "duration": 4,
    "start_time": "2023-04-25T18:01:09.548Z"
   },
   {
    "duration": 4,
    "start_time": "2023-04-25T18:01:13.651Z"
   },
   {
    "duration": 3,
    "start_time": "2023-04-25T18:03:39.466Z"
   },
   {
    "duration": 8,
    "start_time": "2023-04-25T18:04:10.724Z"
   },
   {
    "duration": 7,
    "start_time": "2023-04-25T18:04:13.591Z"
   },
   {
    "duration": 26,
    "start_time": "2023-04-25T18:04:15.838Z"
   },
   {
    "duration": 29,
    "start_time": "2023-04-25T18:18:07.367Z"
   },
   {
    "duration": 34,
    "start_time": "2023-04-25T18:18:32.420Z"
   },
   {
    "duration": 25,
    "start_time": "2023-04-25T18:18:57.817Z"
   },
   {
    "duration": 17,
    "start_time": "2023-04-25T18:20:28.211Z"
   },
   {
    "duration": 18,
    "start_time": "2023-04-25T18:22:31.780Z"
   },
   {
    "duration": 15,
    "start_time": "2023-04-25T18:22:49.653Z"
   },
   {
    "duration": 19,
    "start_time": "2023-04-25T18:22:54.416Z"
   },
   {
    "duration": 18,
    "start_time": "2023-04-25T18:26:43.921Z"
   },
   {
    "duration": 19,
    "start_time": "2023-04-25T18:26:59.106Z"
   },
   {
    "duration": 19,
    "start_time": "2023-04-25T18:29:56.153Z"
   },
   {
    "duration": 20,
    "start_time": "2023-04-25T18:30:00.654Z"
   },
   {
    "duration": 56,
    "start_time": "2023-04-25T18:30:23.533Z"
   },
   {
    "duration": 19,
    "start_time": "2023-04-25T18:30:27.651Z"
   },
   {
    "duration": 18,
    "start_time": "2023-04-25T18:30:46.131Z"
   },
   {
    "duration": 25,
    "start_time": "2023-04-25T18:31:44.170Z"
   },
   {
    "duration": 674,
    "start_time": "2023-04-26T05:16:10.280Z"
   },
   {
    "duration": 26,
    "start_time": "2023-04-26T05:16:10.957Z"
   },
   {
    "duration": 16,
    "start_time": "2023-04-26T05:16:10.985Z"
   },
   {
    "duration": 10,
    "start_time": "2023-04-26T05:16:11.004Z"
   },
   {
    "duration": 40,
    "start_time": "2023-04-26T05:16:11.015Z"
   },
   {
    "duration": 3,
    "start_time": "2023-04-26T05:16:11.057Z"
   },
   {
    "duration": 9,
    "start_time": "2023-04-26T05:16:11.062Z"
   },
   {
    "duration": 4,
    "start_time": "2023-04-26T05:16:11.072Z"
   },
   {
    "duration": 8,
    "start_time": "2023-04-26T05:16:11.078Z"
   },
   {
    "duration": 4,
    "start_time": "2023-04-26T05:16:11.088Z"
   },
   {
    "duration": 59,
    "start_time": "2023-04-26T05:16:11.093Z"
   },
   {
    "duration": 10,
    "start_time": "2023-04-26T05:16:11.154Z"
   },
   {
    "duration": 4,
    "start_time": "2023-04-26T05:16:11.166Z"
   },
   {
    "duration": 17,
    "start_time": "2023-04-26T05:16:11.171Z"
   },
   {
    "duration": 18,
    "start_time": "2023-04-26T05:16:11.190Z"
   },
   {
    "duration": 44,
    "start_time": "2023-04-26T05:16:11.209Z"
   },
   {
    "duration": 3,
    "start_time": "2023-04-26T05:16:11.255Z"
   },
   {
    "duration": 14,
    "start_time": "2023-04-26T05:16:11.259Z"
   },
   {
    "duration": 8,
    "start_time": "2023-04-26T05:16:11.275Z"
   },
   {
    "duration": 3,
    "start_time": "2023-04-26T05:16:11.285Z"
   },
   {
    "duration": 20,
    "start_time": "2023-04-26T05:16:11.290Z"
   },
   {
    "duration": 5,
    "start_time": "2023-04-26T05:16:11.311Z"
   },
   {
    "duration": 9,
    "start_time": "2023-04-26T05:16:11.317Z"
   },
   {
    "duration": 43,
    "start_time": "2023-04-26T05:16:11.327Z"
   },
   {
    "duration": 2,
    "start_time": "2023-04-26T05:16:11.372Z"
   },
   {
    "duration": 15,
    "start_time": "2023-04-26T05:16:11.375Z"
   },
   {
    "duration": 10,
    "start_time": "2023-04-26T05:16:11.391Z"
   },
   {
    "duration": 5,
    "start_time": "2023-04-26T05:17:46.820Z"
   },
   {
    "duration": 76,
    "start_time": "2023-04-26T05:17:57.577Z"
   },
   {
    "duration": 4,
    "start_time": "2023-04-26T05:18:04.469Z"
   },
   {
    "duration": 18,
    "start_time": "2023-04-26T05:29:31.835Z"
   },
   {
    "duration": 12,
    "start_time": "2023-04-26T05:29:33.705Z"
   },
   {
    "duration": 18,
    "start_time": "2023-04-26T05:29:40.178Z"
   },
   {
    "duration": 34,
    "start_time": "2023-04-26T05:30:11.671Z"
   },
   {
    "duration": 90,
    "start_time": "2023-04-26T05:30:42.773Z"
   },
   {
    "duration": 19,
    "start_time": "2023-04-26T05:30:48.301Z"
   },
   {
    "duration": 35,
    "start_time": "2023-04-26T05:31:01.195Z"
   },
   {
    "duration": 46,
    "start_time": "2023-04-26T05:32:32.907Z"
   },
   {
    "duration": 33,
    "start_time": "2023-04-26T05:32:40.278Z"
   },
   {
    "duration": 92,
    "start_time": "2023-04-26T05:33:02.811Z"
   },
   {
    "duration": 140,
    "start_time": "2023-04-26T05:33:11.381Z"
   },
   {
    "duration": 20,
    "start_time": "2023-04-26T05:33:16.257Z"
   },
   {
    "duration": 16,
    "start_time": "2023-04-26T05:35:04.251Z"
   },
   {
    "duration": 19,
    "start_time": "2023-04-26T05:35:09.013Z"
   },
   {
    "duration": 17,
    "start_time": "2023-04-26T05:37:05.676Z"
   },
   {
    "duration": 11,
    "start_time": "2023-04-26T05:37:25.457Z"
   },
   {
    "duration": 86,
    "start_time": "2023-04-26T05:38:34.580Z"
   },
   {
    "duration": 407,
    "start_time": "2023-04-26T05:42:23.023Z"
   },
   {
    "duration": 450,
    "start_time": "2023-04-26T05:42:43.684Z"
   },
   {
    "duration": 17,
    "start_time": "2023-04-26T05:43:07.880Z"
   },
   {
    "duration": 17,
    "start_time": "2023-04-26T05:46:25.515Z"
   },
   {
    "duration": 0,
    "start_time": "2023-04-26T05:49:31.188Z"
   },
   {
    "duration": 1908,
    "start_time": "2023-04-26T05:49:33.257Z"
   },
   {
    "duration": 3626,
    "start_time": "2023-04-26T05:49:37.823Z"
   },
   {
    "duration": 28,
    "start_time": "2023-04-26T05:49:53.023Z"
   },
   {
    "duration": 13,
    "start_time": "2023-04-26T05:49:54.863Z"
   },
   {
    "duration": 18,
    "start_time": "2023-04-26T06:05:16.173Z"
   },
   {
    "duration": 10,
    "start_time": "2023-04-26T06:05:40.783Z"
   },
   {
    "duration": 7,
    "start_time": "2023-04-26T06:06:13.597Z"
   },
   {
    "duration": 7,
    "start_time": "2023-04-26T06:08:33.463Z"
   },
   {
    "duration": 19,
    "start_time": "2023-04-26T06:08:50.566Z"
   },
   {
    "duration": 5,
    "start_time": "2023-04-26T06:10:05.350Z"
   },
   {
    "duration": 11,
    "start_time": "2023-04-26T06:10:13.368Z"
   },
   {
    "duration": 8,
    "start_time": "2023-04-26T06:11:08.553Z"
   },
   {
    "duration": 10,
    "start_time": "2023-04-26T06:11:15.649Z"
   },
   {
    "duration": 8,
    "start_time": "2023-04-26T06:11:43.554Z"
   },
   {
    "duration": 9,
    "start_time": "2023-04-26T06:11:53.493Z"
   },
   {
    "duration": 9,
    "start_time": "2023-04-26T06:12:31.963Z"
   },
   {
    "duration": 12,
    "start_time": "2023-04-26T06:12:47.427Z"
   },
   {
    "duration": 20,
    "start_time": "2023-04-26T06:15:39.881Z"
   },
   {
    "duration": 9,
    "start_time": "2023-04-26T06:15:53.663Z"
   },
   {
    "duration": 8,
    "start_time": "2023-04-26T06:19:21.148Z"
   },
   {
    "duration": 5,
    "start_time": "2023-04-26T06:19:32.888Z"
   },
   {
    "duration": 4,
    "start_time": "2023-04-26T06:19:41.964Z"
   },
   {
    "duration": 30,
    "start_time": "2023-04-26T06:21:00.197Z"
   },
   {
    "duration": 31,
    "start_time": "2023-04-26T06:22:49.419Z"
   },
   {
    "duration": 44,
    "start_time": "2023-04-26T06:22:54.402Z"
   },
   {
    "duration": 20,
    "start_time": "2023-04-26T06:23:04.805Z"
   },
   {
    "duration": 72,
    "start_time": "2023-04-26T06:23:28.245Z"
   },
   {
    "duration": 36,
    "start_time": "2023-04-26T06:23:33.225Z"
   },
   {
    "duration": 18,
    "start_time": "2023-04-26T06:24:20.471Z"
   },
   {
    "duration": 21,
    "start_time": "2023-04-26T06:24:28.711Z"
   },
   {
    "duration": 28,
    "start_time": "2023-04-26T06:27:04.337Z"
   },
   {
    "duration": 10,
    "start_time": "2023-04-26T06:27:31.071Z"
   },
   {
    "duration": 60,
    "start_time": "2023-04-26T18:10:21.835Z"
   },
   {
    "duration": 7,
    "start_time": "2023-04-26T18:10:23.627Z"
   },
   {
    "duration": 8,
    "start_time": "2023-04-26T18:10:32.028Z"
   },
   {
    "duration": 818,
    "start_time": "2023-04-26T18:10:37.970Z"
   },
   {
    "duration": 34,
    "start_time": "2023-04-26T18:10:38.791Z"
   },
   {
    "duration": 25,
    "start_time": "2023-04-26T18:10:38.827Z"
   },
   {
    "duration": 30,
    "start_time": "2023-04-26T18:10:38.854Z"
   },
   {
    "duration": 40,
    "start_time": "2023-04-26T18:10:38.887Z"
   },
   {
    "duration": 4,
    "start_time": "2023-04-26T18:10:38.929Z"
   },
   {
    "duration": 18,
    "start_time": "2023-04-26T18:10:38.935Z"
   },
   {
    "duration": 39,
    "start_time": "2023-04-26T18:10:38.956Z"
   },
   {
    "duration": 14,
    "start_time": "2023-04-26T18:10:38.998Z"
   },
   {
    "duration": 23,
    "start_time": "2023-04-26T18:10:39.015Z"
   },
   {
    "duration": 79,
    "start_time": "2023-04-26T18:10:39.040Z"
   },
   {
    "duration": 11,
    "start_time": "2023-04-26T18:10:39.122Z"
   },
   {
    "duration": 41,
    "start_time": "2023-04-26T18:10:39.135Z"
   },
   {
    "duration": 31,
    "start_time": "2023-04-26T18:10:39.183Z"
   },
   {
    "duration": 40,
    "start_time": "2023-04-26T18:10:39.217Z"
   },
   {
    "duration": 51,
    "start_time": "2023-04-26T18:10:39.261Z"
   },
   {
    "duration": 4,
    "start_time": "2023-04-26T18:10:39.315Z"
   },
   {
    "duration": 18,
    "start_time": "2023-04-26T18:10:39.321Z"
   },
   {
    "duration": 35,
    "start_time": "2023-04-26T18:10:39.344Z"
   },
   {
    "duration": 10,
    "start_time": "2023-04-26T18:10:39.381Z"
   },
   {
    "duration": 19,
    "start_time": "2023-04-26T18:10:39.393Z"
   },
   {
    "duration": 11,
    "start_time": "2023-04-26T18:10:39.414Z"
   },
   {
    "duration": 6,
    "start_time": "2023-04-26T18:10:39.427Z"
   },
   {
    "duration": 20,
    "start_time": "2023-04-26T18:10:39.435Z"
   },
   {
    "duration": 49,
    "start_time": "2023-04-26T18:10:39.459Z"
   },
   {
    "duration": 11,
    "start_time": "2023-04-26T18:10:39.510Z"
   },
   {
    "duration": 14,
    "start_time": "2023-04-26T18:10:39.523Z"
   },
   {
    "duration": 50,
    "start_time": "2023-04-26T18:10:39.539Z"
   },
   {
    "duration": 11,
    "start_time": "2023-04-26T18:10:39.591Z"
   },
   {
    "duration": 15,
    "start_time": "2023-04-26T18:10:39.604Z"
   },
   {
    "duration": 13,
    "start_time": "2023-04-26T18:10:39.621Z"
   },
   {
    "duration": 67,
    "start_time": "2023-04-26T18:10:39.636Z"
   },
   {
    "duration": 27,
    "start_time": "2023-04-26T18:10:39.705Z"
   },
   {
    "duration": 20,
    "start_time": "2023-04-26T18:10:39.734Z"
   },
   {
    "duration": 135,
    "start_time": "2023-04-26T18:10:39.756Z"
   },
   {
    "duration": 8,
    "start_time": "2023-04-26T18:10:42.573Z"
   },
   {
    "duration": 91,
    "start_time": "2023-04-26T18:20:20.967Z"
   },
   {
    "duration": 15,
    "start_time": "2023-04-26T18:27:59.507Z"
   },
   {
    "duration": 6,
    "start_time": "2023-04-26T18:28:13.732Z"
   },
   {
    "duration": 14,
    "start_time": "2023-04-26T18:28:22.111Z"
   },
   {
    "duration": 13,
    "start_time": "2023-04-26T18:28:34.619Z"
   },
   {
    "duration": 6,
    "start_time": "2023-04-26T18:28:50.975Z"
   },
   {
    "duration": 13,
    "start_time": "2023-04-26T18:29:06.177Z"
   },
   {
    "duration": 6,
    "start_time": "2023-04-26T18:30:50.618Z"
   },
   {
    "duration": 6,
    "start_time": "2023-04-26T18:30:54.223Z"
   },
   {
    "duration": 6,
    "start_time": "2023-04-26T18:31:06.809Z"
   },
   {
    "duration": 11,
    "start_time": "2023-04-26T18:41:23.158Z"
   },
   {
    "duration": 6,
    "start_time": "2023-04-26T18:56:29.531Z"
   },
   {
    "duration": 12,
    "start_time": "2023-04-26T18:56:40.775Z"
   },
   {
    "duration": 97,
    "start_time": "2023-04-26T18:58:32.728Z"
   },
   {
    "duration": 13,
    "start_time": "2023-04-26T18:58:35.838Z"
   },
   {
    "duration": 6,
    "start_time": "2023-04-26T18:58:44.483Z"
   },
   {
    "duration": 170,
    "start_time": "2023-04-26T19:00:54.835Z"
   },
   {
    "duration": 11,
    "start_time": "2023-04-26T19:01:10.300Z"
   },
   {
    "duration": 13,
    "start_time": "2023-04-26T19:02:39.055Z"
   },
   {
    "duration": 5,
    "start_time": "2023-04-26T19:02:50.484Z"
   },
   {
    "duration": 15,
    "start_time": "2023-04-26T19:03:28.273Z"
   },
   {
    "duration": 13,
    "start_time": "2023-04-26T19:03:37.209Z"
   },
   {
    "duration": 382,
    "start_time": "2023-04-26T19:03:47.518Z"
   },
   {
    "duration": 13,
    "start_time": "2023-04-26T19:03:53.427Z"
   },
   {
    "duration": 13,
    "start_time": "2023-04-26T19:04:23.581Z"
   },
   {
    "duration": 709,
    "start_time": "2023-04-27T17:16:31.974Z"
   },
   {
    "duration": 26,
    "start_time": "2023-04-27T17:16:32.685Z"
   },
   {
    "duration": 16,
    "start_time": "2023-04-27T17:16:32.713Z"
   },
   {
    "duration": 11,
    "start_time": "2023-04-27T17:16:32.731Z"
   },
   {
    "duration": 46,
    "start_time": "2023-04-27T17:16:32.744Z"
   },
   {
    "duration": 4,
    "start_time": "2023-04-27T17:16:32.792Z"
   },
   {
    "duration": 14,
    "start_time": "2023-04-27T17:16:32.798Z"
   },
   {
    "duration": 5,
    "start_time": "2023-04-27T17:16:32.814Z"
   },
   {
    "duration": 28,
    "start_time": "2023-04-27T17:16:32.821Z"
   },
   {
    "duration": 11,
    "start_time": "2023-04-27T17:16:32.852Z"
   },
   {
    "duration": 41,
    "start_time": "2023-04-27T17:16:32.865Z"
   },
   {
    "duration": 35,
    "start_time": "2023-04-27T17:16:32.908Z"
   },
   {
    "duration": 5,
    "start_time": "2023-04-27T17:16:32.945Z"
   },
   {
    "duration": 15,
    "start_time": "2023-04-27T17:16:32.952Z"
   },
   {
    "duration": 29,
    "start_time": "2023-04-27T17:16:32.969Z"
   },
   {
    "duration": 41,
    "start_time": "2023-04-27T17:16:33.000Z"
   },
   {
    "duration": 4,
    "start_time": "2023-04-27T17:16:33.043Z"
   },
   {
    "duration": 15,
    "start_time": "2023-04-27T17:16:33.049Z"
   },
   {
    "duration": 11,
    "start_time": "2023-04-27T17:16:33.065Z"
   },
   {
    "duration": 4,
    "start_time": "2023-04-27T17:16:33.078Z"
   },
   {
    "duration": 24,
    "start_time": "2023-04-27T17:16:33.084Z"
   },
   {
    "duration": 23,
    "start_time": "2023-04-27T17:16:33.110Z"
   },
   {
    "duration": 5,
    "start_time": "2023-04-27T17:16:33.140Z"
   },
   {
    "duration": 7,
    "start_time": "2023-04-27T17:16:33.147Z"
   },
   {
    "duration": 7,
    "start_time": "2023-04-27T17:16:33.155Z"
   },
   {
    "duration": 5,
    "start_time": "2023-04-27T17:16:33.163Z"
   },
   {
    "duration": 11,
    "start_time": "2023-04-27T17:16:33.170Z"
   },
   {
    "duration": 58,
    "start_time": "2023-04-27T17:16:33.185Z"
   },
   {
    "duration": 12,
    "start_time": "2023-04-27T17:16:33.244Z"
   },
   {
    "duration": 17,
    "start_time": "2023-04-27T17:16:33.258Z"
   },
   {
    "duration": 9,
    "start_time": "2023-04-27T17:16:33.277Z"
   },
   {
    "duration": 16,
    "start_time": "2023-04-27T17:16:33.288Z"
   },
   {
    "duration": 7,
    "start_time": "2023-04-27T17:16:33.306Z"
   },
   {
    "duration": 43,
    "start_time": "2023-04-27T17:16:33.315Z"
   },
   {
    "duration": 13,
    "start_time": "2023-04-27T17:16:33.360Z"
   },
   {
    "duration": 14,
    "start_time": "2023-04-27T17:16:33.374Z"
   },
   {
    "duration": 14,
    "start_time": "2023-04-27T17:16:33.390Z"
   },
   {
    "duration": 7,
    "start_time": "2023-04-27T17:16:33.406Z"
   },
   {
    "duration": 27,
    "start_time": "2023-04-27T17:16:33.415Z"
   },
   {
    "duration": 37,
    "start_time": "2023-04-27T17:16:33.444Z"
   },
   {
    "duration": 25,
    "start_time": "2023-04-27T17:16:33.483Z"
   },
   {
    "duration": 33,
    "start_time": "2023-04-27T17:16:33.510Z"
   },
   {
    "duration": 2,
    "start_time": "2023-04-27T17:16:33.545Z"
   },
   {
    "duration": 11,
    "start_time": "2023-04-27T17:17:46.315Z"
   },
   {
    "duration": 15,
    "start_time": "2023-04-27T17:17:51.870Z"
   },
   {
    "duration": 7,
    "start_time": "2023-04-27T17:18:24.669Z"
   },
   {
    "duration": 7,
    "start_time": "2023-04-27T17:18:30.400Z"
   },
   {
    "duration": 24,
    "start_time": "2023-04-27T17:20:13.064Z"
   },
   {
    "duration": 553,
    "start_time": "2023-04-27T17:20:44.312Z"
   },
   {
    "duration": 28,
    "start_time": "2023-04-27T17:20:44.868Z"
   },
   {
    "duration": 19,
    "start_time": "2023-04-27T17:20:44.898Z"
   },
   {
    "duration": 13,
    "start_time": "2023-04-27T17:20:44.940Z"
   },
   {
    "duration": 40,
    "start_time": "2023-04-27T17:20:44.957Z"
   },
   {
    "duration": 5,
    "start_time": "2023-04-27T17:20:44.999Z"
   },
   {
    "duration": 45,
    "start_time": "2023-04-27T17:20:45.007Z"
   },
   {
    "duration": 49,
    "start_time": "2023-04-27T17:20:45.055Z"
   },
   {
    "duration": 24,
    "start_time": "2023-04-27T17:20:45.106Z"
   },
   {
    "duration": 5,
    "start_time": "2023-04-27T17:20:45.132Z"
   },
   {
    "duration": 69,
    "start_time": "2023-04-27T17:20:45.139Z"
   },
   {
    "duration": 12,
    "start_time": "2023-04-27T17:20:45.211Z"
   },
   {
    "duration": 5,
    "start_time": "2023-04-27T17:20:45.226Z"
   },
   {
    "duration": 29,
    "start_time": "2023-04-27T17:20:45.235Z"
   },
   {
    "duration": 50,
    "start_time": "2023-04-27T17:20:45.266Z"
   },
   {
    "duration": 61,
    "start_time": "2023-04-27T17:20:45.318Z"
   },
   {
    "duration": 83,
    "start_time": "2023-04-27T17:20:45.381Z"
   },
   {
    "duration": 85,
    "start_time": "2023-04-27T17:20:45.467Z"
   },
   {
    "duration": 30,
    "start_time": "2023-04-27T17:20:45.554Z"
   },
   {
    "duration": 13,
    "start_time": "2023-04-27T17:20:45.586Z"
   },
   {
    "duration": 25,
    "start_time": "2023-04-27T17:20:45.601Z"
   },
   {
    "duration": 23,
    "start_time": "2023-04-27T17:20:45.628Z"
   },
   {
    "duration": 6,
    "start_time": "2023-04-27T17:20:45.652Z"
   },
   {
    "duration": 13,
    "start_time": "2023-04-27T17:20:45.660Z"
   },
   {
    "duration": 21,
    "start_time": "2023-04-27T17:20:45.675Z"
   },
   {
    "duration": 23,
    "start_time": "2023-04-27T17:20:45.699Z"
   },
   {
    "duration": 29,
    "start_time": "2023-04-27T17:20:45.724Z"
   },
   {
    "duration": 43,
    "start_time": "2023-04-27T17:20:45.755Z"
   },
   {
    "duration": 32,
    "start_time": "2023-04-27T17:20:45.800Z"
   },
   {
    "duration": 34,
    "start_time": "2023-04-27T17:20:45.834Z"
   },
   {
    "duration": 19,
    "start_time": "2023-04-27T17:20:45.871Z"
   },
   {
    "duration": 22,
    "start_time": "2023-04-27T17:20:45.892Z"
   },
   {
    "duration": 13,
    "start_time": "2023-04-27T17:20:45.917Z"
   },
   {
    "duration": 40,
    "start_time": "2023-04-27T17:20:45.932Z"
   },
   {
    "duration": 14,
    "start_time": "2023-04-27T17:20:45.975Z"
   },
   {
    "duration": 21,
    "start_time": "2023-04-27T17:20:45.992Z"
   },
   {
    "duration": 18,
    "start_time": "2023-04-27T17:20:46.015Z"
   },
   {
    "duration": 27,
    "start_time": "2023-04-27T17:20:46.042Z"
   },
   {
    "duration": 16,
    "start_time": "2023-04-27T17:20:46.071Z"
   },
   {
    "duration": 64,
    "start_time": "2023-04-27T17:20:46.089Z"
   },
   {
    "duration": 34,
    "start_time": "2023-04-27T17:20:46.157Z"
   },
   {
    "duration": 19,
    "start_time": "2023-04-27T17:20:46.192Z"
   },
   {
    "duration": 39,
    "start_time": "2023-04-27T17:20:46.216Z"
   },
   {
    "duration": 31,
    "start_time": "2023-04-27T17:20:46.258Z"
   },
   {
    "duration": 16,
    "start_time": "2023-04-27T17:20:46.292Z"
   },
   {
    "duration": 14,
    "start_time": "2023-04-27T17:20:46.311Z"
   },
   {
    "duration": 113,
    "start_time": "2023-04-27T17:22:43.527Z"
   },
   {
    "duration": 6,
    "start_time": "2023-04-27T17:24:44.442Z"
   },
   {
    "duration": 3,
    "start_time": "2023-04-27T17:28:46.816Z"
   },
   {
    "duration": 4,
    "start_time": "2023-04-27T17:30:55.928Z"
   },
   {
    "duration": 4,
    "start_time": "2023-04-27T17:30:58.064Z"
   },
   {
    "duration": 5,
    "start_time": "2023-04-27T17:31:19.990Z"
   },
   {
    "duration": 6,
    "start_time": "2023-04-27T17:31:25.557Z"
   },
   {
    "duration": 8,
    "start_time": "2023-04-27T17:32:23.571Z"
   },
   {
    "duration": 6,
    "start_time": "2023-04-27T17:32:34.236Z"
   },
   {
    "duration": 79,
    "start_time": "2023-04-27T17:33:04.118Z"
   },
   {
    "duration": 6,
    "start_time": "2023-04-27T17:33:45.239Z"
   },
   {
    "duration": 4,
    "start_time": "2023-04-27T17:33:51.234Z"
   },
   {
    "duration": 5,
    "start_time": "2023-04-27T17:33:53.328Z"
   },
   {
    "duration": 8,
    "start_time": "2023-04-27T17:33:58.403Z"
   },
   {
    "duration": 4,
    "start_time": "2023-04-27T17:35:12.375Z"
   },
   {
    "duration": 1304,
    "start_time": "2023-04-27T17:38:02.451Z"
   },
   {
    "duration": 1341,
    "start_time": "2023-04-27T17:38:22.581Z"
   },
   {
    "duration": 1402,
    "start_time": "2023-04-27T17:38:30.533Z"
   },
   {
    "duration": 11,
    "start_time": "2023-04-27T17:38:38.464Z"
   },
   {
    "duration": 9,
    "start_time": "2023-04-27T17:38:59.177Z"
   },
   {
    "duration": 13,
    "start_time": "2023-04-27T17:39:01.940Z"
   },
   {
    "duration": 38,
    "start_time": "2023-04-27T17:39:04.144Z"
   },
   {
    "duration": 16,
    "start_time": "2023-04-27T17:41:28.703Z"
   },
   {
    "duration": 11,
    "start_time": "2023-04-27T17:42:33.210Z"
   },
   {
    "duration": 10,
    "start_time": "2023-04-27T17:42:38.724Z"
   },
   {
    "duration": 25,
    "start_time": "2023-04-27T17:42:41.180Z"
   },
   {
    "duration": 25,
    "start_time": "2023-04-27T17:42:48.443Z"
   },
   {
    "duration": 23,
    "start_time": "2023-04-27T17:43:22.488Z"
   },
   {
    "duration": 39,
    "start_time": "2023-04-27T17:43:58.552Z"
   },
   {
    "duration": 20,
    "start_time": "2023-04-27T17:44:25.601Z"
   },
   {
    "duration": 23,
    "start_time": "2023-04-27T17:44:30.101Z"
   },
   {
    "duration": 32,
    "start_time": "2023-04-27T17:45:00.588Z"
   },
   {
    "duration": 10,
    "start_time": "2023-04-27T17:45:41.662Z"
   },
   {
    "duration": 1179,
    "start_time": "2023-04-27T17:45:50.804Z"
   },
   {
    "duration": 1378,
    "start_time": "2023-04-27T17:46:13.228Z"
   },
   {
    "duration": 23,
    "start_time": "2023-04-27T17:46:32.034Z"
   },
   {
    "duration": 1178,
    "start_time": "2023-04-27T17:46:33.925Z"
   },
   {
    "duration": 5,
    "start_time": "2023-04-27T17:46:42.889Z"
   },
   {
    "duration": 11,
    "start_time": "2023-04-27T17:46:54.121Z"
   },
   {
    "duration": 11,
    "start_time": "2023-04-27T17:47:11.200Z"
   },
   {
    "duration": 12,
    "start_time": "2023-04-27T17:47:20.142Z"
   },
   {
    "duration": 5,
    "start_time": "2023-04-27T17:47:50.689Z"
   },
   {
    "duration": 13,
    "start_time": "2023-04-27T17:47:55.841Z"
   },
   {
    "duration": 11,
    "start_time": "2023-04-27T17:48:31.461Z"
   },
   {
    "duration": 10,
    "start_time": "2023-04-27T17:48:51.550Z"
   },
   {
    "duration": 13,
    "start_time": "2023-04-27T17:49:02.304Z"
   },
   {
    "duration": 18,
    "start_time": "2023-04-27T17:49:11.681Z"
   },
   {
    "duration": 1011,
    "start_time": "2023-04-28T05:30:30.049Z"
   },
   {
    "duration": 23,
    "start_time": "2023-04-28T05:30:31.063Z"
   },
   {
    "duration": 53,
    "start_time": "2023-04-28T05:30:31.088Z"
   },
   {
    "duration": 49,
    "start_time": "2023-04-28T05:30:31.143Z"
   },
   {
    "duration": 61,
    "start_time": "2023-04-28T05:30:31.194Z"
   },
   {
    "duration": 4,
    "start_time": "2023-04-28T05:30:31.256Z"
   },
   {
    "duration": 54,
    "start_time": "2023-04-28T05:30:31.261Z"
   },
   {
    "duration": 28,
    "start_time": "2023-04-28T05:30:31.317Z"
   },
   {
    "duration": 53,
    "start_time": "2023-04-28T05:30:31.346Z"
   },
   {
    "duration": 30,
    "start_time": "2023-04-28T05:30:31.403Z"
   },
   {
    "duration": 54,
    "start_time": "2023-04-28T05:30:31.435Z"
   },
   {
    "duration": 14,
    "start_time": "2023-04-28T05:30:31.490Z"
   },
   {
    "duration": 30,
    "start_time": "2023-04-28T05:30:31.505Z"
   },
   {
    "duration": 29,
    "start_time": "2023-04-28T05:30:31.537Z"
   },
   {
    "duration": 45,
    "start_time": "2023-04-28T05:30:31.568Z"
   },
   {
    "duration": 30,
    "start_time": "2023-04-28T05:30:31.615Z"
   },
   {
    "duration": 14,
    "start_time": "2023-04-28T05:30:31.646Z"
   },
   {
    "duration": 31,
    "start_time": "2023-04-28T05:30:31.662Z"
   },
   {
    "duration": 36,
    "start_time": "2023-04-28T05:30:31.695Z"
   },
   {
    "duration": 26,
    "start_time": "2023-04-28T05:30:31.732Z"
   },
   {
    "duration": 29,
    "start_time": "2023-04-28T05:30:31.759Z"
   },
   {
    "duration": 38,
    "start_time": "2023-04-28T05:30:31.790Z"
   },
   {
    "duration": 31,
    "start_time": "2023-04-28T05:30:31.829Z"
   },
   {
    "duration": 25,
    "start_time": "2023-04-28T05:30:31.861Z"
   },
   {
    "duration": 31,
    "start_time": "2023-04-28T05:30:31.887Z"
   },
   {
    "duration": 17,
    "start_time": "2023-04-28T05:30:31.919Z"
   },
   {
    "duration": 24,
    "start_time": "2023-04-28T05:30:31.937Z"
   },
   {
    "duration": 37,
    "start_time": "2023-04-28T05:30:31.963Z"
   },
   {
    "duration": 12,
    "start_time": "2023-04-28T05:30:32.001Z"
   },
   {
    "duration": 56,
    "start_time": "2023-04-28T05:30:32.014Z"
   },
   {
    "duration": 12,
    "start_time": "2023-04-28T05:30:32.071Z"
   },
   {
    "duration": 13,
    "start_time": "2023-04-28T05:30:32.085Z"
   },
   {
    "duration": 6,
    "start_time": "2023-04-28T05:30:32.099Z"
   },
   {
    "duration": 27,
    "start_time": "2023-04-28T05:30:32.106Z"
   },
   {
    "duration": 10,
    "start_time": "2023-04-28T05:30:32.135Z"
   },
   {
    "duration": 16,
    "start_time": "2023-04-28T05:30:32.146Z"
   },
   {
    "duration": 19,
    "start_time": "2023-04-28T05:30:32.164Z"
   },
   {
    "duration": 11,
    "start_time": "2023-04-28T05:30:32.184Z"
   },
   {
    "duration": 9,
    "start_time": "2023-04-28T05:30:32.196Z"
   },
   {
    "duration": 31,
    "start_time": "2023-04-28T05:30:32.207Z"
   },
   {
    "duration": 23,
    "start_time": "2023-04-28T05:30:32.240Z"
   },
   {
    "duration": 13,
    "start_time": "2023-04-28T05:30:32.264Z"
   },
   {
    "duration": 24,
    "start_time": "2023-04-28T05:30:32.278Z"
   },
   {
    "duration": 19,
    "start_time": "2023-04-28T05:30:32.304Z"
   },
   {
    "duration": 21,
    "start_time": "2023-04-28T05:30:32.324Z"
   },
   {
    "duration": 30,
    "start_time": "2023-04-28T05:30:32.346Z"
   },
   {
    "duration": 16,
    "start_time": "2023-04-28T05:30:32.377Z"
   },
   {
    "duration": 59,
    "start_time": "2023-04-28T05:30:32.395Z"
   },
   {
    "duration": 37,
    "start_time": "2023-04-28T05:30:32.455Z"
   },
   {
    "duration": 10,
    "start_time": "2023-04-28T05:30:32.493Z"
   },
   {
    "duration": 513,
    "start_time": "2023-04-28T08:23:23.929Z"
   },
   {
    "duration": 30,
    "start_time": "2023-04-28T08:23:24.445Z"
   },
   {
    "duration": 17,
    "start_time": "2023-04-28T08:23:24.477Z"
   },
   {
    "duration": 10,
    "start_time": "2023-04-28T08:23:24.497Z"
   },
   {
    "duration": 43,
    "start_time": "2023-04-28T08:23:24.509Z"
   },
   {
    "duration": 5,
    "start_time": "2023-04-28T08:23:24.554Z"
   },
   {
    "duration": 32,
    "start_time": "2023-04-28T08:23:24.560Z"
   },
   {
    "duration": 5,
    "start_time": "2023-04-28T08:23:24.594Z"
   },
   {
    "duration": 9,
    "start_time": "2023-04-28T08:23:24.601Z"
   },
   {
    "duration": 5,
    "start_time": "2023-04-28T08:23:24.613Z"
   },
   {
    "duration": 33,
    "start_time": "2023-04-28T08:23:24.619Z"
   },
   {
    "duration": 9,
    "start_time": "2023-04-28T08:23:24.654Z"
   },
   {
    "duration": 5,
    "start_time": "2023-04-28T08:23:24.693Z"
   },
   {
    "duration": 25,
    "start_time": "2023-04-28T08:23:24.700Z"
   },
   {
    "duration": 44,
    "start_time": "2023-04-28T08:23:24.726Z"
   },
   {
    "duration": 19,
    "start_time": "2023-04-28T08:23:24.772Z"
   },
   {
    "duration": 4,
    "start_time": "2023-04-28T08:23:24.794Z"
   },
   {
    "duration": 19,
    "start_time": "2023-04-28T08:23:24.799Z"
   },
   {
    "duration": 8,
    "start_time": "2023-04-28T08:23:24.819Z"
   },
   {
    "duration": 10,
    "start_time": "2023-04-28T08:23:24.829Z"
   },
   {
    "duration": 19,
    "start_time": "2023-04-28T08:23:24.841Z"
   },
   {
    "duration": 16,
    "start_time": "2023-04-28T08:23:24.861Z"
   },
   {
    "duration": 12,
    "start_time": "2023-04-28T08:23:24.879Z"
   },
   {
    "duration": 6,
    "start_time": "2023-04-28T08:23:24.893Z"
   },
   {
    "duration": 19,
    "start_time": "2023-04-28T08:23:24.900Z"
   },
   {
    "duration": 4,
    "start_time": "2023-04-28T08:23:24.920Z"
   },
   {
    "duration": 16,
    "start_time": "2023-04-28T08:23:24.925Z"
   },
   {
    "duration": 31,
    "start_time": "2023-04-28T08:23:24.944Z"
   },
   {
    "duration": 9,
    "start_time": "2023-04-28T08:23:24.977Z"
   },
   {
    "duration": 33,
    "start_time": "2023-04-28T08:23:24.988Z"
   },
   {
    "duration": 28,
    "start_time": "2023-04-28T08:23:25.023Z"
   },
   {
    "duration": 17,
    "start_time": "2023-04-28T08:23:25.053Z"
   },
   {
    "duration": 32,
    "start_time": "2023-04-28T08:23:25.072Z"
   },
   {
    "duration": 52,
    "start_time": "2023-04-28T08:23:25.106Z"
   },
   {
    "duration": 11,
    "start_time": "2023-04-28T08:23:25.160Z"
   },
   {
    "duration": 57,
    "start_time": "2023-04-28T08:23:25.173Z"
   },
   {
    "duration": 9,
    "start_time": "2023-04-28T08:23:25.231Z"
   },
   {
    "duration": 8,
    "start_time": "2023-04-28T08:23:25.241Z"
   },
   {
    "duration": 18,
    "start_time": "2023-04-28T08:23:25.251Z"
   },
   {
    "duration": 49,
    "start_time": "2023-04-28T08:23:25.271Z"
   },
   {
    "duration": 24,
    "start_time": "2023-04-28T08:23:25.322Z"
   },
   {
    "duration": 15,
    "start_time": "2023-04-28T08:23:25.348Z"
   },
   {
    "duration": 32,
    "start_time": "2023-04-28T08:23:25.365Z"
   },
   {
    "duration": 7,
    "start_time": "2023-04-28T08:23:25.399Z"
   },
   {
    "duration": 10,
    "start_time": "2023-04-28T08:23:25.408Z"
   },
   {
    "duration": 12,
    "start_time": "2023-04-28T08:23:25.420Z"
   },
   {
    "duration": 3,
    "start_time": "2023-04-28T08:23:25.434Z"
   },
   {
    "duration": 38,
    "start_time": "2023-04-28T08:23:25.438Z"
   },
   {
    "duration": 34,
    "start_time": "2023-04-28T08:23:25.477Z"
   },
   {
    "duration": 9,
    "start_time": "2023-04-28T08:23:25.513Z"
   },
   {
    "duration": 482,
    "start_time": "2023-04-28T16:03:13.907Z"
   },
   {
    "duration": 27,
    "start_time": "2023-04-28T16:03:14.391Z"
   },
   {
    "duration": 24,
    "start_time": "2023-04-28T16:03:14.420Z"
   },
   {
    "duration": 9,
    "start_time": "2023-04-28T16:03:14.447Z"
   },
   {
    "duration": 62,
    "start_time": "2023-04-28T16:03:14.458Z"
   },
   {
    "duration": 4,
    "start_time": "2023-04-28T16:03:14.522Z"
   },
   {
    "duration": 16,
    "start_time": "2023-04-28T16:03:14.528Z"
   },
   {
    "duration": 10,
    "start_time": "2023-04-28T16:03:14.546Z"
   },
   {
    "duration": 18,
    "start_time": "2023-04-28T16:03:14.558Z"
   },
   {
    "duration": 27,
    "start_time": "2023-04-28T16:03:14.578Z"
   },
   {
    "duration": 39,
    "start_time": "2023-04-28T16:03:14.609Z"
   },
   {
    "duration": 10,
    "start_time": "2023-04-28T16:03:14.650Z"
   },
   {
    "duration": 7,
    "start_time": "2023-04-28T16:03:14.661Z"
   },
   {
    "duration": 35,
    "start_time": "2023-04-28T16:03:14.671Z"
   },
   {
    "duration": 22,
    "start_time": "2023-04-28T16:03:14.708Z"
   },
   {
    "duration": 17,
    "start_time": "2023-04-28T16:03:14.732Z"
   },
   {
    "duration": 3,
    "start_time": "2023-04-28T16:03:14.751Z"
   },
   {
    "duration": 47,
    "start_time": "2023-04-28T16:03:14.757Z"
   },
   {
    "duration": 13,
    "start_time": "2023-04-28T16:03:14.805Z"
   },
   {
    "duration": 3,
    "start_time": "2023-04-28T16:03:14.820Z"
   },
   {
    "duration": 24,
    "start_time": "2023-04-28T16:03:14.825Z"
   },
   {
    "duration": 15,
    "start_time": "2023-04-28T16:03:14.850Z"
   },
   {
    "duration": 4,
    "start_time": "2023-04-28T16:03:14.867Z"
   },
   {
    "duration": 25,
    "start_time": "2023-04-28T16:03:14.872Z"
   },
   {
    "duration": 9,
    "start_time": "2023-04-28T16:03:14.901Z"
   },
   {
    "duration": 34,
    "start_time": "2023-04-28T16:03:14.912Z"
   },
   {
    "duration": 11,
    "start_time": "2023-04-28T16:03:14.948Z"
   },
   {
    "duration": 37,
    "start_time": "2023-04-28T16:03:14.961Z"
   },
   {
    "duration": 13,
    "start_time": "2023-04-28T16:03:14.999Z"
   },
   {
    "duration": 27,
    "start_time": "2023-04-28T16:03:15.014Z"
   },
   {
    "duration": 13,
    "start_time": "2023-04-28T16:03:15.043Z"
   },
   {
    "duration": 6,
    "start_time": "2023-04-28T16:03:15.058Z"
   },
   {
    "duration": 14,
    "start_time": "2023-04-28T16:03:15.066Z"
   },
   {
    "duration": 23,
    "start_time": "2023-04-28T16:03:15.093Z"
   },
   {
    "duration": 11,
    "start_time": "2023-04-28T16:03:15.117Z"
   },
   {
    "duration": 14,
    "start_time": "2023-04-28T16:03:15.129Z"
   },
   {
    "duration": 10,
    "start_time": "2023-04-28T16:03:15.145Z"
   },
   {
    "duration": 11,
    "start_time": "2023-04-28T16:03:15.156Z"
   },
   {
    "duration": 34,
    "start_time": "2023-04-28T16:03:15.168Z"
   },
   {
    "duration": 30,
    "start_time": "2023-04-28T16:03:15.206Z"
   },
   {
    "duration": 23,
    "start_time": "2023-04-28T16:03:15.239Z"
   },
   {
    "duration": 41,
    "start_time": "2023-04-28T16:03:15.263Z"
   },
   {
    "duration": 11,
    "start_time": "2023-04-28T16:03:15.305Z"
   },
   {
    "duration": 9,
    "start_time": "2023-04-28T16:03:15.318Z"
   },
   {
    "duration": 18,
    "start_time": "2023-04-28T16:03:15.329Z"
   },
   {
    "duration": 8,
    "start_time": "2023-04-28T16:03:15.348Z"
   },
   {
    "duration": 9,
    "start_time": "2023-04-28T16:03:15.357Z"
   },
   {
    "duration": 58,
    "start_time": "2023-04-28T16:03:15.367Z"
   },
   {
    "duration": 38,
    "start_time": "2023-04-28T16:03:15.427Z"
   },
   {
    "duration": 11,
    "start_time": "2023-04-28T16:03:15.466Z"
   },
   {
    "duration": 577,
    "start_time": "2023-04-28T18:48:22.949Z"
   },
   {
    "duration": 24,
    "start_time": "2023-04-28T18:48:23.527Z"
   },
   {
    "duration": 17,
    "start_time": "2023-04-28T18:48:23.554Z"
   },
   {
    "duration": 15,
    "start_time": "2023-04-28T18:48:23.574Z"
   },
   {
    "duration": 37,
    "start_time": "2023-04-28T18:48:23.590Z"
   },
   {
    "duration": 4,
    "start_time": "2023-04-28T18:48:23.629Z"
   },
   {
    "duration": 9,
    "start_time": "2023-04-28T18:48:23.635Z"
   },
   {
    "duration": 7,
    "start_time": "2023-04-28T18:48:23.646Z"
   },
   {
    "duration": 35,
    "start_time": "2023-04-28T18:48:23.655Z"
   },
   {
    "duration": 4,
    "start_time": "2023-04-28T18:48:23.694Z"
   },
   {
    "duration": 36,
    "start_time": "2023-04-28T18:48:23.700Z"
   },
   {
    "duration": 10,
    "start_time": "2023-04-28T18:48:23.737Z"
   },
   {
    "duration": 4,
    "start_time": "2023-04-28T18:48:23.749Z"
   },
   {
    "duration": 35,
    "start_time": "2023-04-28T18:48:23.754Z"
   },
   {
    "duration": 25,
    "start_time": "2023-04-28T18:48:23.790Z"
   },
   {
    "duration": 19,
    "start_time": "2023-04-28T18:48:23.817Z"
   },
   {
    "duration": 3,
    "start_time": "2023-04-28T18:48:23.838Z"
   },
   {
    "duration": 43,
    "start_time": "2023-04-28T18:48:23.843Z"
   },
   {
    "duration": 5,
    "start_time": "2023-04-28T18:48:23.888Z"
   },
   {
    "duration": 4,
    "start_time": "2023-04-28T18:48:23.895Z"
   },
   {
    "duration": 13,
    "start_time": "2023-04-28T18:48:23.900Z"
   },
   {
    "duration": 19,
    "start_time": "2023-04-28T18:48:23.914Z"
   },
   {
    "duration": 6,
    "start_time": "2023-04-28T18:48:23.935Z"
   },
   {
    "duration": 6,
    "start_time": "2023-04-28T18:48:23.943Z"
   },
   {
    "duration": 38,
    "start_time": "2023-04-28T18:48:23.951Z"
   },
   {
    "duration": 4,
    "start_time": "2023-04-28T18:48:23.992Z"
   },
   {
    "duration": 11,
    "start_time": "2023-04-28T18:48:23.998Z"
   },
   {
    "duration": 38,
    "start_time": "2023-04-28T18:48:24.014Z"
   },
   {
    "duration": 41,
    "start_time": "2023-04-28T18:48:24.055Z"
   },
   {
    "duration": 17,
    "start_time": "2023-04-28T18:48:24.098Z"
   },
   {
    "duration": 12,
    "start_time": "2023-04-28T18:48:24.117Z"
   },
   {
    "duration": 7,
    "start_time": "2023-04-28T18:48:24.131Z"
   },
   {
    "duration": 7,
    "start_time": "2023-04-28T18:48:24.140Z"
   },
   {
    "duration": 59,
    "start_time": "2023-04-28T18:48:24.149Z"
   },
   {
    "duration": 12,
    "start_time": "2023-04-28T18:48:24.210Z"
   },
   {
    "duration": 24,
    "start_time": "2023-04-28T18:48:24.225Z"
   },
   {
    "duration": 8,
    "start_time": "2023-04-28T18:48:24.251Z"
   },
   {
    "duration": 6,
    "start_time": "2023-04-28T18:48:24.261Z"
   },
   {
    "duration": 4,
    "start_time": "2023-04-28T18:48:24.286Z"
   },
   {
    "duration": 42,
    "start_time": "2023-04-28T18:48:24.292Z"
   },
   {
    "duration": 31,
    "start_time": "2023-04-28T18:48:24.335Z"
   },
   {
    "duration": 28,
    "start_time": "2023-04-28T18:48:24.368Z"
   },
   {
    "duration": 14,
    "start_time": "2023-04-28T18:48:24.398Z"
   },
   {
    "duration": 6,
    "start_time": "2023-04-28T18:48:24.415Z"
   },
   {
    "duration": 5,
    "start_time": "2023-04-28T18:48:24.424Z"
   },
   {
    "duration": 11,
    "start_time": "2023-04-28T18:48:24.431Z"
   },
   {
    "duration": 41,
    "start_time": "2023-04-28T18:48:24.444Z"
   },
   {
    "duration": 33,
    "start_time": "2023-04-28T18:48:24.487Z"
   },
   {
    "duration": 27,
    "start_time": "2023-04-28T18:48:24.521Z"
   },
   {
    "duration": 9,
    "start_time": "2023-04-28T18:48:24.549Z"
   },
   {
    "duration": 60,
    "start_time": "2023-04-29T13:50:02.924Z"
   },
   {
    "duration": 49,
    "start_time": "2023-04-29T13:53:09.725Z"
   }
  ],
  "colab": {
   "provenance": []
  },
  "kernelspec": {
   "display_name": "Python 3 (ipykernel)",
   "language": "python",
   "name": "python3"
  },
  "language_info": {
   "codemirror_mode": {
    "name": "ipython",
    "version": 3
   },
   "file_extension": ".py",
   "mimetype": "text/x-python",
   "name": "python",
   "nbconvert_exporter": "python",
   "pygments_lexer": "ipython3",
   "version": "3.9.5"
  },
  "toc": {
   "base_numbering": 1,
   "nav_menu": {},
   "number_sections": true,
   "sideBar": true,
   "skip_h1_title": true,
   "title_cell": "Table of Contents",
   "title_sidebar": "Contents",
   "toc_cell": false,
   "toc_position": {},
   "toc_section_display": true,
   "toc_window_display": false
  }
 },
 "nbformat": 4,
 "nbformat_minor": 5
}
