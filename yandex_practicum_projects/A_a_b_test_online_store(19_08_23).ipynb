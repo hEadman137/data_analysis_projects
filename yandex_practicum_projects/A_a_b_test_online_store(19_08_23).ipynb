{
 "cells": [
  {
   "cell_type": "markdown",
   "metadata": {},
   "source": [
    "# Анализ интернет-магазина по продаже продуктов питания"
   ]
  },
  {
   "cell_type": "markdown",
   "metadata": {},
   "source": [
    "## Загрузим данные и подготовим их к анализу."
   ]
  },
  {
   "cell_type": "markdown",
   "metadata": {},
   "source": [
    "### Импортируем нужные модули."
   ]
  },
  {
   "cell_type": "code",
   "execution_count": 1,
   "metadata": {},
   "outputs": [],
   "source": [
    "import pandas as pd\n",
    "import os\n",
    "import numpy as np\n",
    "from datetime import datetime, timedelta\n",
    "import seaborn as sns\n",
    "from matplotlib import pyplot as plt\n",
    "import matplotlib.pyplot as plt\n",
    "import scipy.stats as stats\n",
    "import warnings\n",
    "warnings.filterwarnings('ignore')"
   ]
  },
  {
   "cell_type": "markdown",
   "metadata": {},
   "source": [
    "### Загрузим данные."
   ]
  },
  {
   "cell_type": "markdown",
   "metadata": {},
   "source": [
    "1. C помощью библиотеки os и проверкой на правильности пути файла, загрузим данные с помощью функции read_csv()."
   ]
  },
  {
   "cell_type": "code",
   "execution_count": 2,
   "metadata": {},
   "outputs": [],
   "source": [
    "path = '/datasets/logs_exp.csv'\n",
    "\n",
    "if os.path.exists(path):\n",
    "    data = pd.read_csv(path, sep='\\t')\n",
    "else:\n",
    "    print('Something is wrong')"
   ]
  },
  {
   "cell_type": "markdown",
   "metadata": {},
   "source": [
    "2. Выведем для наглядности всю таблицу."
   ]
  },
  {
   "cell_type": "code",
   "execution_count": 3,
   "metadata": {
    "scrolled": true
   },
   "outputs": [
    {
     "data": {
      "text/html": [
       "<div>\n",
       "<style scoped>\n",
       "    .dataframe tbody tr th:only-of-type {\n",
       "        vertical-align: middle;\n",
       "    }\n",
       "\n",
       "    .dataframe tbody tr th {\n",
       "        vertical-align: top;\n",
       "    }\n",
       "\n",
       "    .dataframe thead th {\n",
       "        text-align: right;\n",
       "    }\n",
       "</style>\n",
       "<table border=\"1\" class=\"dataframe\">\n",
       "  <thead>\n",
       "    <tr style=\"text-align: right;\">\n",
       "      <th></th>\n",
       "      <th>EventName</th>\n",
       "      <th>DeviceIDHash</th>\n",
       "      <th>EventTimestamp</th>\n",
       "      <th>ExpId</th>\n",
       "    </tr>\n",
       "  </thead>\n",
       "  <tbody>\n",
       "    <tr>\n",
       "      <th>0</th>\n",
       "      <td>MainScreenAppear</td>\n",
       "      <td>4575588528974610257</td>\n",
       "      <td>1564029816</td>\n",
       "      <td>246</td>\n",
       "    </tr>\n",
       "    <tr>\n",
       "      <th>1</th>\n",
       "      <td>MainScreenAppear</td>\n",
       "      <td>7416695313311560658</td>\n",
       "      <td>1564053102</td>\n",
       "      <td>246</td>\n",
       "    </tr>\n",
       "    <tr>\n",
       "      <th>2</th>\n",
       "      <td>PaymentScreenSuccessful</td>\n",
       "      <td>3518123091307005509</td>\n",
       "      <td>1564054127</td>\n",
       "      <td>248</td>\n",
       "    </tr>\n",
       "    <tr>\n",
       "      <th>3</th>\n",
       "      <td>CartScreenAppear</td>\n",
       "      <td>3518123091307005509</td>\n",
       "      <td>1564054127</td>\n",
       "      <td>248</td>\n",
       "    </tr>\n",
       "    <tr>\n",
       "      <th>4</th>\n",
       "      <td>PaymentScreenSuccessful</td>\n",
       "      <td>6217807653094995999</td>\n",
       "      <td>1564055322</td>\n",
       "      <td>248</td>\n",
       "    </tr>\n",
       "    <tr>\n",
       "      <th>5</th>\n",
       "      <td>CartScreenAppear</td>\n",
       "      <td>6217807653094995999</td>\n",
       "      <td>1564055323</td>\n",
       "      <td>248</td>\n",
       "    </tr>\n",
       "    <tr>\n",
       "      <th>6</th>\n",
       "      <td>OffersScreenAppear</td>\n",
       "      <td>8351860793733343758</td>\n",
       "      <td>1564066242</td>\n",
       "      <td>246</td>\n",
       "    </tr>\n",
       "    <tr>\n",
       "      <th>7</th>\n",
       "      <td>MainScreenAppear</td>\n",
       "      <td>5682100281902512875</td>\n",
       "      <td>1564085677</td>\n",
       "      <td>246</td>\n",
       "    </tr>\n",
       "    <tr>\n",
       "      <th>8</th>\n",
       "      <td>MainScreenAppear</td>\n",
       "      <td>1850981295691852772</td>\n",
       "      <td>1564086702</td>\n",
       "      <td>247</td>\n",
       "    </tr>\n",
       "    <tr>\n",
       "      <th>9</th>\n",
       "      <td>MainScreenAppear</td>\n",
       "      <td>5407636962369102641</td>\n",
       "      <td>1564112112</td>\n",
       "      <td>246</td>\n",
       "    </tr>\n",
       "  </tbody>\n",
       "</table>\n",
       "</div>"
      ],
      "text/plain": [
       "                 EventName         DeviceIDHash  EventTimestamp  ExpId\n",
       "0         MainScreenAppear  4575588528974610257      1564029816    246\n",
       "1         MainScreenAppear  7416695313311560658      1564053102    246\n",
       "2  PaymentScreenSuccessful  3518123091307005509      1564054127    248\n",
       "3         CartScreenAppear  3518123091307005509      1564054127    248\n",
       "4  PaymentScreenSuccessful  6217807653094995999      1564055322    248\n",
       "5         CartScreenAppear  6217807653094995999      1564055323    248\n",
       "6       OffersScreenAppear  8351860793733343758      1564066242    246\n",
       "7         MainScreenAppear  5682100281902512875      1564085677    246\n",
       "8         MainScreenAppear  1850981295691852772      1564086702    247\n",
       "9         MainScreenAppear  5407636962369102641      1564112112    246"
      ]
     },
     "execution_count": 3,
     "metadata": {},
     "output_type": "execute_result"
    }
   ],
   "source": [
    "data.head(10)"
   ]
  },
  {
   "cell_type": "markdown",
   "metadata": {},
   "source": [
    "3. Выведем основную информацию о столбцах таблицы."
   ]
  },
  {
   "cell_type": "code",
   "execution_count": 4,
   "metadata": {},
   "outputs": [
    {
     "name": "stdout",
     "output_type": "stream",
     "text": [
      "<class 'pandas.core.frame.DataFrame'>\n",
      "RangeIndex: 244126 entries, 0 to 244125\n",
      "Data columns (total 4 columns):\n",
      " #   Column          Non-Null Count   Dtype \n",
      "---  ------          --------------   ----- \n",
      " 0   EventName       244126 non-null  object\n",
      " 1   DeviceIDHash    244126 non-null  int64 \n",
      " 2   EventTimestamp  244126 non-null  int64 \n",
      " 3   ExpId           244126 non-null  int64 \n",
      "dtypes: int64(3), object(1)\n",
      "memory usage: 7.5+ MB\n"
     ]
    }
   ],
   "source": [
    "data.info()"
   ]
  },
  {
   "cell_type": "markdown",
   "metadata": {},
   "source": [
    "**Вывод:** после выгрузки файла можем сделать вывод, что таблица состоит из четырех полей и 244126 записей. Уже можем заметить, что названия столбцов написаны неверно, столбец 'EventTimestamp' стоит привести в формат даты и времени, датафрейм стоит проверить на наличие пропусков и дубликатов."
   ]
  },
  {
   "cell_type": "markdown",
   "metadata": {},
   "source": [
    "### Предобработка данных."
   ]
  },
  {
   "cell_type": "markdown",
   "metadata": {},
   "source": [
    "1. Заменим название столбцов на правильный формат. Сделаем это с помощью метода rename()."
   ]
  },
  {
   "cell_type": "code",
   "execution_count": 5,
   "metadata": {},
   "outputs": [],
   "source": [
    "data = data.rename(columns={'EventName':'event_name', 'DeviceIDHash':'device_id_hash','EventTimestamp':'event_timestamp','ExpId':'exp_id'})"
   ]
  },
  {
   "cell_type": "code",
   "execution_count": 6,
   "metadata": {},
   "outputs": [
    {
     "data": {
      "text/html": [
       "<div>\n",
       "<style scoped>\n",
       "    .dataframe tbody tr th:only-of-type {\n",
       "        vertical-align: middle;\n",
       "    }\n",
       "\n",
       "    .dataframe tbody tr th {\n",
       "        vertical-align: top;\n",
       "    }\n",
       "\n",
       "    .dataframe thead th {\n",
       "        text-align: right;\n",
       "    }\n",
       "</style>\n",
       "<table border=\"1\" class=\"dataframe\">\n",
       "  <thead>\n",
       "    <tr style=\"text-align: right;\">\n",
       "      <th></th>\n",
       "      <th>event_name</th>\n",
       "      <th>device_id_hash</th>\n",
       "      <th>event_timestamp</th>\n",
       "      <th>exp_id</th>\n",
       "    </tr>\n",
       "  </thead>\n",
       "  <tbody>\n",
       "    <tr>\n",
       "      <th>0</th>\n",
       "      <td>MainScreenAppear</td>\n",
       "      <td>4575588528974610257</td>\n",
       "      <td>1564029816</td>\n",
       "      <td>246</td>\n",
       "    </tr>\n",
       "    <tr>\n",
       "      <th>1</th>\n",
       "      <td>MainScreenAppear</td>\n",
       "      <td>7416695313311560658</td>\n",
       "      <td>1564053102</td>\n",
       "      <td>246</td>\n",
       "    </tr>\n",
       "    <tr>\n",
       "      <th>2</th>\n",
       "      <td>PaymentScreenSuccessful</td>\n",
       "      <td>3518123091307005509</td>\n",
       "      <td>1564054127</td>\n",
       "      <td>248</td>\n",
       "    </tr>\n",
       "    <tr>\n",
       "      <th>3</th>\n",
       "      <td>CartScreenAppear</td>\n",
       "      <td>3518123091307005509</td>\n",
       "      <td>1564054127</td>\n",
       "      <td>248</td>\n",
       "    </tr>\n",
       "    <tr>\n",
       "      <th>4</th>\n",
       "      <td>PaymentScreenSuccessful</td>\n",
       "      <td>6217807653094995999</td>\n",
       "      <td>1564055322</td>\n",
       "      <td>248</td>\n",
       "    </tr>\n",
       "    <tr>\n",
       "      <th>...</th>\n",
       "      <td>...</td>\n",
       "      <td>...</td>\n",
       "      <td>...</td>\n",
       "      <td>...</td>\n",
       "    </tr>\n",
       "    <tr>\n",
       "      <th>244121</th>\n",
       "      <td>MainScreenAppear</td>\n",
       "      <td>4599628364049201812</td>\n",
       "      <td>1565212345</td>\n",
       "      <td>247</td>\n",
       "    </tr>\n",
       "    <tr>\n",
       "      <th>244122</th>\n",
       "      <td>MainScreenAppear</td>\n",
       "      <td>5849806612437486590</td>\n",
       "      <td>1565212439</td>\n",
       "      <td>246</td>\n",
       "    </tr>\n",
       "    <tr>\n",
       "      <th>244123</th>\n",
       "      <td>MainScreenAppear</td>\n",
       "      <td>5746969938801999050</td>\n",
       "      <td>1565212483</td>\n",
       "      <td>246</td>\n",
       "    </tr>\n",
       "    <tr>\n",
       "      <th>244124</th>\n",
       "      <td>MainScreenAppear</td>\n",
       "      <td>5746969938801999050</td>\n",
       "      <td>1565212498</td>\n",
       "      <td>246</td>\n",
       "    </tr>\n",
       "    <tr>\n",
       "      <th>244125</th>\n",
       "      <td>OffersScreenAppear</td>\n",
       "      <td>5746969938801999050</td>\n",
       "      <td>1565212517</td>\n",
       "      <td>246</td>\n",
       "    </tr>\n",
       "  </tbody>\n",
       "</table>\n",
       "<p>244126 rows × 4 columns</p>\n",
       "</div>"
      ],
      "text/plain": [
       "                     event_name       device_id_hash  event_timestamp  exp_id\n",
       "0              MainScreenAppear  4575588528974610257       1564029816     246\n",
       "1              MainScreenAppear  7416695313311560658       1564053102     246\n",
       "2       PaymentScreenSuccessful  3518123091307005509       1564054127     248\n",
       "3              CartScreenAppear  3518123091307005509       1564054127     248\n",
       "4       PaymentScreenSuccessful  6217807653094995999       1564055322     248\n",
       "...                         ...                  ...              ...     ...\n",
       "244121         MainScreenAppear  4599628364049201812       1565212345     247\n",
       "244122         MainScreenAppear  5849806612437486590       1565212439     246\n",
       "244123         MainScreenAppear  5746969938801999050       1565212483     246\n",
       "244124         MainScreenAppear  5746969938801999050       1565212498     246\n",
       "244125       OffersScreenAppear  5746969938801999050       1565212517     246\n",
       "\n",
       "[244126 rows x 4 columns]"
      ]
     },
     "execution_count": 6,
     "metadata": {},
     "output_type": "execute_result"
    }
   ],
   "source": [
    "data"
   ]
  },
  {
   "cell_type": "markdown",
   "metadata": {},
   "source": [
    "2. Проверим датафрейм на наличие дубликатов."
   ]
  },
  {
   "cell_type": "code",
   "execution_count": 7,
   "metadata": {},
   "outputs": [
    {
     "data": {
      "text/plain": [
       "413"
      ]
     },
     "execution_count": 7,
     "metadata": {},
     "output_type": "execute_result"
    }
   ],
   "source": [
    "data.duplicated().sum()"
   ]
  },
  {
   "cell_type": "markdown",
   "metadata": {},
   "source": [
    "**Вывод:** в датафрейме 413 дубликатов, не такое большое количество, поэтому можем их удалить."
   ]
  },
  {
   "cell_type": "markdown",
   "metadata": {},
   "source": [
    "3. С помощью функции drop_duplicates() удаляем дубликаты из датафрейма."
   ]
  },
  {
   "cell_type": "code",
   "execution_count": 8,
   "metadata": {},
   "outputs": [],
   "source": [
    "data = data.drop_duplicates()"
   ]
  },
  {
   "cell_type": "markdown",
   "metadata": {},
   "source": [
    "4. Проверим таблица на наличие пропусков."
   ]
  },
  {
   "cell_type": "code",
   "execution_count": 9,
   "metadata": {},
   "outputs": [
    {
     "data": {
      "text/plain": [
       "event_name         0\n",
       "device_id_hash     0\n",
       "event_timestamp    0\n",
       "exp_id             0\n",
       "dtype: int64"
      ]
     },
     "execution_count": 9,
     "metadata": {},
     "output_type": "execute_result"
    }
   ],
   "source": [
    "data.isna().sum()"
   ]
  },
  {
   "cell_type": "markdown",
   "metadata": {},
   "source": [
    "**Вывод:** в датафрейме пропуски отсутствуют."
   ]
  },
  {
   "cell_type": "markdown",
   "metadata": {},
   "source": [
    "### Добавление новых столбцов в таблицу."
   ]
  },
  {
   "cell_type": "markdown",
   "metadata": {},
   "source": [
    "1. Добавим новый столбец, в котором будет показана дата совершенной операции."
   ]
  },
  {
   "cell_type": "code",
   "execution_count": 10,
   "metadata": {},
   "outputs": [],
   "source": [
    "data['event_datetime'] = pd.to_datetime(data['event_timestamp'], unit='s').dt.strftime('%Y-%m-%d %H:%M:%S')"
   ]
  },
  {
   "cell_type": "code",
   "execution_count": 11,
   "metadata": {},
   "outputs": [
    {
     "data": {
      "text/html": [
       "<div>\n",
       "<style scoped>\n",
       "    .dataframe tbody tr th:only-of-type {\n",
       "        vertical-align: middle;\n",
       "    }\n",
       "\n",
       "    .dataframe tbody tr th {\n",
       "        vertical-align: top;\n",
       "    }\n",
       "\n",
       "    .dataframe thead th {\n",
       "        text-align: right;\n",
       "    }\n",
       "</style>\n",
       "<table border=\"1\" class=\"dataframe\">\n",
       "  <thead>\n",
       "    <tr style=\"text-align: right;\">\n",
       "      <th></th>\n",
       "      <th>event_name</th>\n",
       "      <th>device_id_hash</th>\n",
       "      <th>event_timestamp</th>\n",
       "      <th>exp_id</th>\n",
       "      <th>event_datetime</th>\n",
       "    </tr>\n",
       "  </thead>\n",
       "  <tbody>\n",
       "    <tr>\n",
       "      <th>0</th>\n",
       "      <td>MainScreenAppear</td>\n",
       "      <td>4575588528974610257</td>\n",
       "      <td>1564029816</td>\n",
       "      <td>246</td>\n",
       "      <td>2019-07-25 04:43:36</td>\n",
       "    </tr>\n",
       "    <tr>\n",
       "      <th>1</th>\n",
       "      <td>MainScreenAppear</td>\n",
       "      <td>7416695313311560658</td>\n",
       "      <td>1564053102</td>\n",
       "      <td>246</td>\n",
       "      <td>2019-07-25 11:11:42</td>\n",
       "    </tr>\n",
       "    <tr>\n",
       "      <th>2</th>\n",
       "      <td>PaymentScreenSuccessful</td>\n",
       "      <td>3518123091307005509</td>\n",
       "      <td>1564054127</td>\n",
       "      <td>248</td>\n",
       "      <td>2019-07-25 11:28:47</td>\n",
       "    </tr>\n",
       "    <tr>\n",
       "      <th>3</th>\n",
       "      <td>CartScreenAppear</td>\n",
       "      <td>3518123091307005509</td>\n",
       "      <td>1564054127</td>\n",
       "      <td>248</td>\n",
       "      <td>2019-07-25 11:28:47</td>\n",
       "    </tr>\n",
       "    <tr>\n",
       "      <th>4</th>\n",
       "      <td>PaymentScreenSuccessful</td>\n",
       "      <td>6217807653094995999</td>\n",
       "      <td>1564055322</td>\n",
       "      <td>248</td>\n",
       "      <td>2019-07-25 11:48:42</td>\n",
       "    </tr>\n",
       "    <tr>\n",
       "      <th>...</th>\n",
       "      <td>...</td>\n",
       "      <td>...</td>\n",
       "      <td>...</td>\n",
       "      <td>...</td>\n",
       "      <td>...</td>\n",
       "    </tr>\n",
       "    <tr>\n",
       "      <th>244121</th>\n",
       "      <td>MainScreenAppear</td>\n",
       "      <td>4599628364049201812</td>\n",
       "      <td>1565212345</td>\n",
       "      <td>247</td>\n",
       "      <td>2019-08-07 21:12:25</td>\n",
       "    </tr>\n",
       "    <tr>\n",
       "      <th>244122</th>\n",
       "      <td>MainScreenAppear</td>\n",
       "      <td>5849806612437486590</td>\n",
       "      <td>1565212439</td>\n",
       "      <td>246</td>\n",
       "      <td>2019-08-07 21:13:59</td>\n",
       "    </tr>\n",
       "    <tr>\n",
       "      <th>244123</th>\n",
       "      <td>MainScreenAppear</td>\n",
       "      <td>5746969938801999050</td>\n",
       "      <td>1565212483</td>\n",
       "      <td>246</td>\n",
       "      <td>2019-08-07 21:14:43</td>\n",
       "    </tr>\n",
       "    <tr>\n",
       "      <th>244124</th>\n",
       "      <td>MainScreenAppear</td>\n",
       "      <td>5746969938801999050</td>\n",
       "      <td>1565212498</td>\n",
       "      <td>246</td>\n",
       "      <td>2019-08-07 21:14:58</td>\n",
       "    </tr>\n",
       "    <tr>\n",
       "      <th>244125</th>\n",
       "      <td>OffersScreenAppear</td>\n",
       "      <td>5746969938801999050</td>\n",
       "      <td>1565212517</td>\n",
       "      <td>246</td>\n",
       "      <td>2019-08-07 21:15:17</td>\n",
       "    </tr>\n",
       "  </tbody>\n",
       "</table>\n",
       "<p>243713 rows × 5 columns</p>\n",
       "</div>"
      ],
      "text/plain": [
       "                     event_name       device_id_hash  event_timestamp  exp_id  \\\n",
       "0              MainScreenAppear  4575588528974610257       1564029816     246   \n",
       "1              MainScreenAppear  7416695313311560658       1564053102     246   \n",
       "2       PaymentScreenSuccessful  3518123091307005509       1564054127     248   \n",
       "3              CartScreenAppear  3518123091307005509       1564054127     248   \n",
       "4       PaymentScreenSuccessful  6217807653094995999       1564055322     248   \n",
       "...                         ...                  ...              ...     ...   \n",
       "244121         MainScreenAppear  4599628364049201812       1565212345     247   \n",
       "244122         MainScreenAppear  5849806612437486590       1565212439     246   \n",
       "244123         MainScreenAppear  5746969938801999050       1565212483     246   \n",
       "244124         MainScreenAppear  5746969938801999050       1565212498     246   \n",
       "244125       OffersScreenAppear  5746969938801999050       1565212517     246   \n",
       "\n",
       "             event_datetime  \n",
       "0       2019-07-25 04:43:36  \n",
       "1       2019-07-25 11:11:42  \n",
       "2       2019-07-25 11:28:47  \n",
       "3       2019-07-25 11:28:47  \n",
       "4       2019-07-25 11:48:42  \n",
       "...                     ...  \n",
       "244121  2019-08-07 21:12:25  \n",
       "244122  2019-08-07 21:13:59  \n",
       "244123  2019-08-07 21:14:43  \n",
       "244124  2019-08-07 21:14:58  \n",
       "244125  2019-08-07 21:15:17  \n",
       "\n",
       "[243713 rows x 5 columns]"
      ]
     },
     "execution_count": 11,
     "metadata": {},
     "output_type": "execute_result"
    }
   ],
   "source": [
    "data"
   ]
  },
  {
   "cell_type": "markdown",
   "metadata": {},
   "source": [
    "2. Добавим новый столбец, в котором будет показана дата совершенной операции."
   ]
  },
  {
   "cell_type": "code",
   "execution_count": 12,
   "metadata": {},
   "outputs": [],
   "source": [
    "data['event_date'] = pd.to_datetime(data['event_timestamp'], unit='s').dt.strftime('%Y-%m-%d')"
   ]
  },
  {
   "cell_type": "code",
   "execution_count": 13,
   "metadata": {},
   "outputs": [
    {
     "data": {
      "text/html": [
       "<div>\n",
       "<style scoped>\n",
       "    .dataframe tbody tr th:only-of-type {\n",
       "        vertical-align: middle;\n",
       "    }\n",
       "\n",
       "    .dataframe tbody tr th {\n",
       "        vertical-align: top;\n",
       "    }\n",
       "\n",
       "    .dataframe thead th {\n",
       "        text-align: right;\n",
       "    }\n",
       "</style>\n",
       "<table border=\"1\" class=\"dataframe\">\n",
       "  <thead>\n",
       "    <tr style=\"text-align: right;\">\n",
       "      <th></th>\n",
       "      <th>event_name</th>\n",
       "      <th>device_id_hash</th>\n",
       "      <th>event_timestamp</th>\n",
       "      <th>exp_id</th>\n",
       "      <th>event_datetime</th>\n",
       "      <th>event_date</th>\n",
       "    </tr>\n",
       "  </thead>\n",
       "  <tbody>\n",
       "    <tr>\n",
       "      <th>0</th>\n",
       "      <td>MainScreenAppear</td>\n",
       "      <td>4575588528974610257</td>\n",
       "      <td>1564029816</td>\n",
       "      <td>246</td>\n",
       "      <td>2019-07-25 04:43:36</td>\n",
       "      <td>2019-07-25</td>\n",
       "    </tr>\n",
       "    <tr>\n",
       "      <th>1</th>\n",
       "      <td>MainScreenAppear</td>\n",
       "      <td>7416695313311560658</td>\n",
       "      <td>1564053102</td>\n",
       "      <td>246</td>\n",
       "      <td>2019-07-25 11:11:42</td>\n",
       "      <td>2019-07-25</td>\n",
       "    </tr>\n",
       "    <tr>\n",
       "      <th>2</th>\n",
       "      <td>PaymentScreenSuccessful</td>\n",
       "      <td>3518123091307005509</td>\n",
       "      <td>1564054127</td>\n",
       "      <td>248</td>\n",
       "      <td>2019-07-25 11:28:47</td>\n",
       "      <td>2019-07-25</td>\n",
       "    </tr>\n",
       "    <tr>\n",
       "      <th>3</th>\n",
       "      <td>CartScreenAppear</td>\n",
       "      <td>3518123091307005509</td>\n",
       "      <td>1564054127</td>\n",
       "      <td>248</td>\n",
       "      <td>2019-07-25 11:28:47</td>\n",
       "      <td>2019-07-25</td>\n",
       "    </tr>\n",
       "    <tr>\n",
       "      <th>4</th>\n",
       "      <td>PaymentScreenSuccessful</td>\n",
       "      <td>6217807653094995999</td>\n",
       "      <td>1564055322</td>\n",
       "      <td>248</td>\n",
       "      <td>2019-07-25 11:48:42</td>\n",
       "      <td>2019-07-25</td>\n",
       "    </tr>\n",
       "    <tr>\n",
       "      <th>...</th>\n",
       "      <td>...</td>\n",
       "      <td>...</td>\n",
       "      <td>...</td>\n",
       "      <td>...</td>\n",
       "      <td>...</td>\n",
       "      <td>...</td>\n",
       "    </tr>\n",
       "    <tr>\n",
       "      <th>244121</th>\n",
       "      <td>MainScreenAppear</td>\n",
       "      <td>4599628364049201812</td>\n",
       "      <td>1565212345</td>\n",
       "      <td>247</td>\n",
       "      <td>2019-08-07 21:12:25</td>\n",
       "      <td>2019-08-07</td>\n",
       "    </tr>\n",
       "    <tr>\n",
       "      <th>244122</th>\n",
       "      <td>MainScreenAppear</td>\n",
       "      <td>5849806612437486590</td>\n",
       "      <td>1565212439</td>\n",
       "      <td>246</td>\n",
       "      <td>2019-08-07 21:13:59</td>\n",
       "      <td>2019-08-07</td>\n",
       "    </tr>\n",
       "    <tr>\n",
       "      <th>244123</th>\n",
       "      <td>MainScreenAppear</td>\n",
       "      <td>5746969938801999050</td>\n",
       "      <td>1565212483</td>\n",
       "      <td>246</td>\n",
       "      <td>2019-08-07 21:14:43</td>\n",
       "      <td>2019-08-07</td>\n",
       "    </tr>\n",
       "    <tr>\n",
       "      <th>244124</th>\n",
       "      <td>MainScreenAppear</td>\n",
       "      <td>5746969938801999050</td>\n",
       "      <td>1565212498</td>\n",
       "      <td>246</td>\n",
       "      <td>2019-08-07 21:14:58</td>\n",
       "      <td>2019-08-07</td>\n",
       "    </tr>\n",
       "    <tr>\n",
       "      <th>244125</th>\n",
       "      <td>OffersScreenAppear</td>\n",
       "      <td>5746969938801999050</td>\n",
       "      <td>1565212517</td>\n",
       "      <td>246</td>\n",
       "      <td>2019-08-07 21:15:17</td>\n",
       "      <td>2019-08-07</td>\n",
       "    </tr>\n",
       "  </tbody>\n",
       "</table>\n",
       "<p>243713 rows × 6 columns</p>\n",
       "</div>"
      ],
      "text/plain": [
       "                     event_name       device_id_hash  event_timestamp  exp_id  \\\n",
       "0              MainScreenAppear  4575588528974610257       1564029816     246   \n",
       "1              MainScreenAppear  7416695313311560658       1564053102     246   \n",
       "2       PaymentScreenSuccessful  3518123091307005509       1564054127     248   \n",
       "3              CartScreenAppear  3518123091307005509       1564054127     248   \n",
       "4       PaymentScreenSuccessful  6217807653094995999       1564055322     248   \n",
       "...                         ...                  ...              ...     ...   \n",
       "244121         MainScreenAppear  4599628364049201812       1565212345     247   \n",
       "244122         MainScreenAppear  5849806612437486590       1565212439     246   \n",
       "244123         MainScreenAppear  5746969938801999050       1565212483     246   \n",
       "244124         MainScreenAppear  5746969938801999050       1565212498     246   \n",
       "244125       OffersScreenAppear  5746969938801999050       1565212517     246   \n",
       "\n",
       "             event_datetime  event_date  \n",
       "0       2019-07-25 04:43:36  2019-07-25  \n",
       "1       2019-07-25 11:11:42  2019-07-25  \n",
       "2       2019-07-25 11:28:47  2019-07-25  \n",
       "3       2019-07-25 11:28:47  2019-07-25  \n",
       "4       2019-07-25 11:48:42  2019-07-25  \n",
       "...                     ...         ...  \n",
       "244121  2019-08-07 21:12:25  2019-08-07  \n",
       "244122  2019-08-07 21:13:59  2019-08-07  \n",
       "244123  2019-08-07 21:14:43  2019-08-07  \n",
       "244124  2019-08-07 21:14:58  2019-08-07  \n",
       "244125  2019-08-07 21:15:17  2019-08-07  \n",
       "\n",
       "[243713 rows x 6 columns]"
      ]
     },
     "execution_count": 13,
     "metadata": {},
     "output_type": "execute_result"
    }
   ],
   "source": [
    "data"
   ]
  },
  {
   "cell_type": "markdown",
   "metadata": {},
   "source": [
    "3. Выведем общую информацию о таблице."
   ]
  },
  {
   "cell_type": "code",
   "execution_count": 15,
   "metadata": {},
   "outputs": [
    {
     "name": "stdout",
     "output_type": "stream",
     "text": [
      "<class 'pandas.core.frame.DataFrame'>\n",
      "Int64Index: 243713 entries, 0 to 244125\n",
      "Data columns (total 6 columns):\n",
      " #   Column           Non-Null Count   Dtype \n",
      "---  ------           --------------   ----- \n",
      " 0   event_name       243713 non-null  object\n",
      " 1   device_id_hash   243713 non-null  int64 \n",
      " 2   event_timestamp  243713 non-null  int64 \n",
      " 3   exp_id           243713 non-null  int64 \n",
      " 4   event_datetime   243713 non-null  object\n",
      " 5   event_date       243713 non-null  object\n",
      "dtypes: int64(3), object(3)\n",
      "memory usage: 13.0+ MB\n"
     ]
    }
   ],
   "source": [
    "data.info()"
   ]
  },
  {
   "cell_type": "markdown",
   "metadata": {},
   "source": [
    "**Вывод:** тип данных новых столбцов с датами: 'object', необходимо их заменить в тип данных времени."
   ]
  },
  {
   "cell_type": "markdown",
   "metadata": {},
   "source": [
    "4. Воспользуемся методом astype() и изменим тип данных с 'object' на 'datetime64'."
   ]
  },
  {
   "cell_type": "code",
   "execution_count": 20,
   "metadata": {},
   "outputs": [],
   "source": [
    "data['event_datetime'] = data['event_datetime'].astype('datetime64[ns]')\n",
    "data['event_date'] = data['event_date'].astype('datetime64[ns]')"
   ]
  },
  {
   "cell_type": "code",
   "execution_count": 21,
   "metadata": {},
   "outputs": [
    {
     "name": "stdout",
     "output_type": "stream",
     "text": [
      "<class 'pandas.core.frame.DataFrame'>\n",
      "Int64Index: 243713 entries, 0 to 244125\n",
      "Data columns (total 6 columns):\n",
      " #   Column           Non-Null Count   Dtype         \n",
      "---  ------           --------------   -----         \n",
      " 0   event_name       243713 non-null  object        \n",
      " 1   device_id_hash   243713 non-null  int64         \n",
      " 2   event_timestamp  243713 non-null  int64         \n",
      " 3   exp_id           243713 non-null  int64         \n",
      " 4   event_datetime   243713 non-null  datetime64[ns]\n",
      " 5   event_date       243713 non-null  datetime64[ns]\n",
      "dtypes: datetime64[ns](2), int64(3), object(1)\n",
      "memory usage: 13.0+ MB\n"
     ]
    }
   ],
   "source": [
    "data.info()"
   ]
  },
  {
   "cell_type": "markdown",
   "metadata": {},
   "source": [
    "**Общий вывод по разделу:** в данном разделе мы загрузили основной датафрейм, предобработали его: изменили названия столбцов на правильный формат, удалили дубликаты, проверили на пропуски, которых не было. Добавили два новых столбца: с датой и временем и датой, изменили . Датасет готовы для дальнейшего анализа."
   ]
  },
  {
   "cell_type": "code",
   "execution_count": null,
   "metadata": {},
   "outputs": [],
   "source": []
  }
 ],
 "metadata": {
  "ExecuteTimeLog": [
   {
    "duration": 438,
    "start_time": "2023-08-15T09:54:41.157Z"
   },
   {
    "duration": 639,
    "start_time": "2023-08-15T09:54:51.893Z"
   },
   {
    "duration": 16,
    "start_time": "2023-08-15T09:54:56.124Z"
   },
   {
    "duration": 156,
    "start_time": "2023-08-15T09:55:07.143Z"
   },
   {
    "duration": 10,
    "start_time": "2023-08-15T09:55:07.633Z"
   },
   {
    "duration": 7,
    "start_time": "2023-08-15T09:55:21.064Z"
   },
   {
    "duration": 160,
    "start_time": "2023-08-15T09:56:05.832Z"
   },
   {
    "duration": 7,
    "start_time": "2023-08-15T09:56:06.433Z"
   },
   {
    "duration": 712,
    "start_time": "2023-08-15T09:56:31.501Z"
   },
   {
    "duration": 182,
    "start_time": "2023-08-15T09:56:32.500Z"
   },
   {
    "duration": 9,
    "start_time": "2023-08-15T09:56:32.873Z"
   },
   {
    "duration": 8,
    "start_time": "2023-08-15T09:57:14.498Z"
   },
   {
    "duration": 11,
    "start_time": "2023-08-15T09:57:15.904Z"
   },
   {
    "duration": 6,
    "start_time": "2023-08-15T09:58:11.773Z"
   },
   {
    "duration": 10,
    "start_time": "2023-08-15T09:58:12.268Z"
   },
   {
    "duration": 160,
    "start_time": "2023-08-15T09:58:23.481Z"
   },
   {
    "duration": 7,
    "start_time": "2023-08-15T09:58:23.817Z"
   },
   {
    "duration": 7,
    "start_time": "2023-08-15T09:58:24.405Z"
   },
   {
    "duration": 14,
    "start_time": "2023-08-15T09:58:24.822Z"
   },
   {
    "duration": 56,
    "start_time": "2023-08-15T09:59:19.513Z"
   },
   {
    "duration": 28,
    "start_time": "2023-08-15T09:59:32.485Z"
   },
   {
    "duration": 55,
    "start_time": "2023-08-15T09:59:52.789Z"
   },
   {
    "duration": 26,
    "start_time": "2023-08-15T09:59:57.085Z"
   },
   {
    "duration": 4,
    "start_time": "2023-08-15T10:04:55.037Z"
   },
   {
    "duration": 104,
    "start_time": "2023-08-15T10:05:25.457Z"
   },
   {
    "duration": 288,
    "start_time": "2023-08-15T10:05:36.210Z"
   },
   {
    "duration": 7,
    "start_time": "2023-08-15T10:05:37.221Z"
   },
   {
    "duration": 37,
    "start_time": "2023-08-15T10:05:40.761Z"
   },
   {
    "duration": 8,
    "start_time": "2023-08-15T10:05:41.369Z"
   },
   {
    "duration": 288,
    "start_time": "2023-08-15T10:05:44.341Z"
   },
   {
    "duration": 1129,
    "start_time": "2023-08-15T10:05:51.533Z"
   },
   {
    "duration": 38,
    "start_time": "2023-08-15T10:05:52.664Z"
   },
   {
    "duration": 99,
    "start_time": "2023-08-15T10:05:52.704Z"
   },
   {
    "duration": 0,
    "start_time": "2023-08-15T10:05:52.805Z"
   },
   {
    "duration": 0,
    "start_time": "2023-08-15T10:05:52.806Z"
   },
   {
    "duration": 0,
    "start_time": "2023-08-15T10:05:52.807Z"
   },
   {
    "duration": 0,
    "start_time": "2023-08-15T10:05:52.808Z"
   },
   {
    "duration": 290,
    "start_time": "2023-08-15T10:06:01.546Z"
   },
   {
    "duration": 12,
    "start_time": "2023-08-15T10:06:02.217Z"
   },
   {
    "duration": 154,
    "start_time": "2023-08-15T10:06:13.085Z"
   },
   {
    "duration": 9,
    "start_time": "2023-08-15T10:06:13.533Z"
   },
   {
    "duration": 6,
    "start_time": "2023-08-15T10:06:23.341Z"
   },
   {
    "duration": 20,
    "start_time": "2023-08-15T10:06:24.101Z"
   },
   {
    "duration": 71,
    "start_time": "2023-08-15T10:06:24.810Z"
   },
   {
    "duration": 15,
    "start_time": "2023-08-15T10:06:25.201Z"
   },
   {
    "duration": 1197,
    "start_time": "2023-08-15T10:06:30.941Z"
   },
   {
    "duration": 174,
    "start_time": "2023-08-15T10:06:32.140Z"
   },
   {
    "duration": 12,
    "start_time": "2023-08-15T10:06:32.315Z"
   },
   {
    "duration": 42,
    "start_time": "2023-08-15T10:06:32.329Z"
   },
   {
    "duration": 85,
    "start_time": "2023-08-15T10:06:32.373Z"
   },
   {
    "duration": 196,
    "start_time": "2023-08-15T10:06:32.460Z"
   },
   {
    "duration": 16,
    "start_time": "2023-08-15T10:06:32.657Z"
   },
   {
    "duration": 8,
    "start_time": "2023-08-15T10:06:40.537Z"
   },
   {
    "duration": 19,
    "start_time": "2023-08-15T10:06:43.598Z"
   },
   {
    "duration": 71,
    "start_time": "2023-08-15T10:06:44.082Z"
   },
   {
    "duration": 19,
    "start_time": "2023-08-15T10:06:45.309Z"
   },
   {
    "duration": 18,
    "start_time": "2023-08-15T10:07:10.770Z"
   },
   {
    "duration": 20,
    "start_time": "2023-08-15T10:09:13.517Z"
   },
   {
    "duration": 9,
    "start_time": "2023-08-15T10:13:09.198Z"
   },
   {
    "duration": 63,
    "start_time": "2023-08-15T10:13:23.193Z"
   },
   {
    "duration": 66,
    "start_time": "2023-08-15T10:13:39.187Z"
   },
   {
    "duration": 78,
    "start_time": "2023-08-15T10:15:14.918Z"
   },
   {
    "duration": 59,
    "start_time": "2023-08-15T10:15:22.506Z"
   },
   {
    "duration": 17,
    "start_time": "2023-08-15T10:16:16.882Z"
   },
   {
    "duration": 56,
    "start_time": "2023-08-15T10:17:19.385Z"
   },
   {
    "duration": 23,
    "start_time": "2023-08-15T10:17:25.517Z"
   },
   {
    "duration": 1357,
    "start_time": "2023-08-15T10:20:37.100Z"
   },
   {
    "duration": 0,
    "start_time": "2023-08-15T10:20:38.459Z"
   },
   {
    "duration": 893,
    "start_time": "2023-08-15T10:21:05.681Z"
   },
   {
    "duration": 37,
    "start_time": "2023-08-15T10:22:53.620Z"
   },
   {
    "duration": 23,
    "start_time": "2023-08-15T10:22:56.465Z"
   },
   {
    "duration": 14,
    "start_time": "2023-08-15T10:23:01.014Z"
   },
   {
    "duration": 1385,
    "start_time": "2023-08-15T10:23:17.585Z"
   },
   {
    "duration": 0,
    "start_time": "2023-08-15T10:23:18.972Z"
   },
   {
    "duration": 839,
    "start_time": "2023-08-15T10:25:32.889Z"
   },
   {
    "duration": 15,
    "start_time": "2023-08-15T10:25:39.997Z"
   },
   {
    "duration": 13,
    "start_time": "2023-08-15T10:26:30.721Z"
   },
   {
    "duration": 882,
    "start_time": "2023-08-15T10:29:06.916Z"
   },
   {
    "duration": 13,
    "start_time": "2023-08-15T10:29:10.258Z"
   },
   {
    "duration": 975,
    "start_time": "2023-08-15T10:29:34.662Z"
   },
   {
    "duration": 13,
    "start_time": "2023-08-15T10:29:38.962Z"
   },
   {
    "duration": 3,
    "start_time": "2023-08-15T10:30:31.836Z"
   },
   {
    "duration": 971,
    "start_time": "2023-08-15T10:30:35.379Z"
   },
   {
    "duration": 891,
    "start_time": "2023-08-15T10:30:36.353Z"
   },
   {
    "duration": 14,
    "start_time": "2023-08-15T10:30:37.246Z"
   },
   {
    "duration": 1009,
    "start_time": "2023-08-15T10:31:14.578Z"
   },
   {
    "duration": 887,
    "start_time": "2023-08-15T10:31:15.595Z"
   },
   {
    "duration": 15,
    "start_time": "2023-08-15T10:31:16.486Z"
   },
   {
    "duration": 14,
    "start_time": "2023-08-15T10:31:32.112Z"
   },
   {
    "duration": 940,
    "start_time": "2023-08-15T10:31:34.020Z"
   },
   {
    "duration": 34,
    "start_time": "2023-08-15T10:31:34.962Z"
   },
   {
    "duration": 24,
    "start_time": "2023-08-15T10:31:39.508Z"
   },
   {
    "duration": 37,
    "start_time": "2023-08-15T10:31:42.940Z"
   },
   {
    "duration": 1387,
    "start_time": "2023-08-15T10:32:04.176Z"
   },
   {
    "duration": 160,
    "start_time": "2023-08-15T10:32:05.565Z"
   },
   {
    "duration": 13,
    "start_time": "2023-08-15T10:32:05.726Z"
   },
   {
    "duration": 84,
    "start_time": "2023-08-15T10:32:05.742Z"
   },
   {
    "duration": 11,
    "start_time": "2023-08-15T10:32:05.829Z"
   },
   {
    "duration": 42,
    "start_time": "2023-08-15T10:32:05.842Z"
   },
   {
    "duration": 86,
    "start_time": "2023-08-15T10:32:05.886Z"
   },
   {
    "duration": 67,
    "start_time": "2023-08-15T10:32:05.974Z"
   },
   {
    "duration": 35,
    "start_time": "2023-08-15T10:32:06.043Z"
   },
   {
    "duration": 993,
    "start_time": "2023-08-15T10:32:06.080Z"
   },
   {
    "duration": 17,
    "start_time": "2023-08-15T10:32:07.075Z"
   },
   {
    "duration": 912,
    "start_time": "2023-08-15T10:32:07.094Z"
   },
   {
    "duration": 12,
    "start_time": "2023-08-15T10:32:08.007Z"
   },
   {
    "duration": 39,
    "start_time": "2023-08-15T10:32:08.022Z"
   },
   {
    "duration": 40,
    "start_time": "2023-08-15T10:33:19.884Z"
   },
   {
    "duration": 47,
    "start_time": "2023-08-15T10:35:31.120Z"
   },
   {
    "duration": 28,
    "start_time": "2023-08-15T10:35:34.508Z"
   },
   {
    "duration": 67,
    "start_time": "2023-08-15T10:36:17.459Z"
   },
   {
    "duration": 21,
    "start_time": "2023-08-15T10:36:18.388Z"
   },
   {
    "duration": 6,
    "start_time": "2023-08-15T10:37:43.136Z"
   },
   {
    "duration": 20,
    "start_time": "2023-08-15T10:37:43.604Z"
   },
   {
    "duration": 13,
    "start_time": "2023-08-15T10:37:58.263Z"
   },
   {
    "duration": 5,
    "start_time": "2023-08-15T10:38:15.612Z"
   },
   {
    "duration": 6,
    "start_time": "2023-08-15T10:38:19.776Z"
   },
   {
    "duration": 14,
    "start_time": "2023-08-15T10:38:23.200Z"
   },
   {
    "duration": 28,
    "start_time": "2023-08-15T10:38:46.401Z"
   },
   {
    "duration": 19,
    "start_time": "2023-08-15T10:38:52.092Z"
   }
  ],
  "kernelspec": {
   "display_name": "Python 3 (ipykernel)",
   "language": "python",
   "name": "python3"
  },
  "language_info": {
   "codemirror_mode": {
    "name": "ipython",
    "version": 3
   },
   "file_extension": ".py",
   "mimetype": "text/x-python",
   "name": "python",
   "nbconvert_exporter": "python",
   "pygments_lexer": "ipython3",
   "version": "3.9.5"
  },
  "toc": {
   "base_numbering": 1,
   "nav_menu": {},
   "number_sections": true,
   "sideBar": true,
   "skip_h1_title": true,
   "title_cell": "Table of Contents",
   "title_sidebar": "Contents",
   "toc_cell": false,
   "toc_position": {},
   "toc_section_display": true,
   "toc_window_display": false
  }
 },
 "nbformat": 4,
 "nbformat_minor": 2
}
